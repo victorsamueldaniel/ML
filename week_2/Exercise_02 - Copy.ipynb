{
 "cells": [
  {
   "cell_type": "markdown",
   "metadata": {
    "id": "acoustic-spouse"
   },
   "source": [
    "# Exercise 2"
   ]
  },
  {
   "cell_type": "markdown",
   "metadata": {
    "id": "sitting-soviet"
   },
   "source": [
    "## Problem 1\n",
    "In this problem we will consider the Linear Regression model. In other words, our model is a linear function of the form \n",
    "\n",
    "$$f(x_1, \\dots, x_p) = \\beta_0 + \\beta_1 x_1 +  \\dots + \\beta_p x_p.$$\n",
    "\n",
    "In Exercise 1, we saw that the regression function minimizes the **expected** square error, for any $x = (x_1, \\dots, x_p)$\n",
    "\n",
    "$$\\operatorname{E}\\left[\\left(Y - f(x_1, \\dots, x_p)\\right)^2 \\mid X = x\\right] = \n",
    "\\operatorname{E}\\left[\\left(Y - (\\beta_0 + \\beta_1 x_1 +  \\dots + \\beta_p x_p)\\right)^2 \\mid X = x\\right].\n",
    "$$\n",
    "\n",
    "In finite samples, we cannot compute the theoretical expectation, therefore, we minimize the **mean** square error \n",
    "\n",
    "$$MSE(\\beta_1, \\dots, \\beta_p) = \\frac{1}{n}\\sum_{i = 1}^{n}\\left(Y_i - (\\beta_0 + \\beta_1 x_{i1} +  \\dots + \\beta_p x_{ip})\\right)^2.$$\n",
    "\n",
    "Notice that $MSE = RSS/n$, where $RSS$ is the residual sum of squares defined in the lecture notes.\n",
    "\n",
    "Training a linear regression model means finding the set of parameters $\\beta_1, \\dots, \\beta_p$ that minimize the $MSE$. In machine learning, the function that we want to minimize is usually called **cost** function.\n",
    "\n",
    "We will consider two approaches to train a Linear Regression model.\n",
    "\n",
    "1. **Analytical solution** --- This method gives a closed-form solution to compute the optimal weights ($\\beta$'s) for the regression line.\n",
    "2. **Gradient descent** --- This method is an iterative optimization techniques that starts with some initial guess of the weights vector $\\beta$ and it updates it in order to minimize the cost function."
   ]
  },
  {
   "cell_type": "code",
   "execution_count": 1,
   "metadata": {
    "id": "opponent-moore"
   },
   "outputs": [],
   "source": [
    " %matplotlib inline\n",
    " #coucou\n",
    " #coucou en dessous de mon coucou\n",
    " #1 2 3 coucou"
   ]
  },
  {
   "cell_type": "code",
   "execution_count": 2,
   "metadata": {
    "executionInfo": {
     "elapsed": 4,
     "status": "ok",
     "timestamp": 1646855768671,
     "user": {
      "displayName": "Murielle Furibond",
      "photoUrl": "https://lh3.googleusercontent.com/a/default-user=s64",
      "userId": "08986639471398520603"
     },
     "user_tz": -60
    },
    "id": "funky-asian"
   },
   "outputs": [],
   "source": [
    "import matplotlib.pyplot as plt"
   ]
  },
  {
   "cell_type": "markdown",
   "metadata": {
    "id": "driving-rates"
   },
   "source": [
    "### 1. Generate synthetic dataset"
   ]
  },
  {
   "cell_type": "markdown",
   "metadata": {
    "id": "waiting-mexican"
   },
   "source": [
    " Let us start by generating some synthetic data set. In this problem we assume that our regression model has only one predictor and writes\n",
    " \n",
    " $$f(X_1) = \\beta_0 + \\beta_1 X_1,$$\n",
    " \n",
    "where $\\beta_0 = 4$ and $\\beta_1 = 3$. \n",
    "\n",
    "Also, we assume that:\n",
    "- the predictor $X_1$ follows a uniform distribution between 0 and 2, i.e., $X_1 \\sim U[0, 2]$,\n",
    "- the response $Y = f(X_1)+ N(0, 1) = 4 + 3 X_1 + N(0, 1)$, where $N(0, 1)$ denotes a standard normal random variable."
   ]
  },
  {
   "cell_type": "markdown",
   "metadata": {
    "id": "applicable-location"
   },
   "source": [
    "* Import `numpy` as `np`."
   ]
  },
  {
   "cell_type": "code",
   "execution_count": 3,
   "metadata": {
    "executionInfo": {
     "elapsed": 3,
     "status": "ok",
     "timestamp": 1646855768671,
     "user": {
      "displayName": "Murielle Furibond",
      "photoUrl": "https://lh3.googleusercontent.com/a/default-user=s64",
      "userId": "08986639471398520603"
     },
     "user_tz": -60
    },
    "id": "adult-ghana"
   },
   "outputs": [],
   "source": [
    "import numpy as np\n",
    "from numpy.random import RandomState"
   ]
  },
  {
   "cell_type": "markdown",
   "metadata": {
    "id": "victorian-minute"
   },
   "source": [
    "* Generate 100 observations of the predictor `X1`.\n",
    "\n",
    "_Hint_: use the function `rand` from `np.random`."
   ]
  },
  {
   "cell_type": "code",
   "execution_count": 4,
   "metadata": {
    "colab": {
     "base_uri": "https://localhost:8080/"
    },
    "executionInfo": {
     "elapsed": 3,
     "status": "ok",
     "timestamp": 1646855770715,
     "user": {
      "displayName": "Murielle Furibond",
      "photoUrl": "https://lh3.googleusercontent.com/a/default-user=s64",
      "userId": "08986639471398520603"
     },
     "user_tz": -60
    },
    "id": "backed-collar",
    "outputId": "a854682f-a589-49e8-e046-437cb311c951"
   },
   "outputs": [
    {
     "data": {
      "text/plain": [
       "array([0.30417636, 1.54524785, 1.47066165, 0.08239842, 0.04684385,\n",
       "       0.74472126, 0.75629949, 1.321088  , 1.80149829, 0.57946615,\n",
       "       0.00415426, 1.28017435, 1.78319159, 0.4325572 , 0.76487928,\n",
       "       0.1773753 , 0.23527805, 1.76773661, 0.0711355 , 0.31199725,\n",
       "       0.63380397, 1.45381714, 1.24277585, 0.16064499, 1.16884182,\n",
       "       0.76569887, 0.38180968, 0.44781123, 0.49578703, 0.12329508,\n",
       "       0.47955041, 1.53708732, 0.9247516 , 0.34560001, 1.38957868,\n",
       "       0.70690278, 1.29797741, 1.93501776, 1.43674174, 0.79586756,\n",
       "       1.45389473, 0.91060621, 0.10314836, 0.98678912, 1.30563253,\n",
       "       0.18899903, 0.16195826, 1.27680795, 0.43175328, 0.56387363,\n",
       "       1.65160277, 1.56521865, 0.50547975, 1.52119098, 1.55839714,\n",
       "       1.42307614, 1.51923634, 0.92542153, 1.76649531, 1.5831544 ,\n",
       "       0.22245914, 0.16626819, 0.6904543 , 0.38391335, 0.08029163,\n",
       "       0.36359016, 0.33587524, 0.57028105, 1.84511756, 1.16435392,\n",
       "       1.77979173, 0.66749512, 1.39510104, 0.99725596, 1.22606434,\n",
       "       1.17373612, 1.01694533, 1.44727382, 0.12197242, 1.30808733,\n",
       "       1.37422601, 1.5643979 , 0.14565654, 1.9423507 , 0.83779187,\n",
       "       0.46561245, 1.2802029 , 0.43118394, 0.434089  , 0.9065804 ,\n",
       "       1.64476379, 0.63749326, 1.11982089, 0.6609682 , 1.93161572,\n",
       "       1.95253226, 1.37957715, 0.60922805, 1.71403402, 0.25585561])"
      ]
     },
     "execution_count": 4,
     "metadata": {},
     "output_type": "execute_result"
    }
   ],
   "source": [
    "RandomState(42)\n",
    "x1=2*(np.random.rand(100))\n",
    "x1"
   ]
  },
  {
   "cell_type": "markdown",
   "metadata": {
    "id": "fitting-waterproof"
   },
   "source": [
    "* Generate 100 observations of the response `Y`.\n",
    "\n",
    "_Hint_: use the function `randn` from `np.random`."
   ]
  },
  {
   "cell_type": "code",
   "execution_count": 5,
   "metadata": {
    "executionInfo": {
     "elapsed": 760,
     "status": "ok",
     "timestamp": 1646855773201,
     "user": {
      "displayName": "Murielle Furibond",
      "photoUrl": "https://lh3.googleusercontent.com/a/default-user=s64",
      "userId": "08986639471398520603"
     },
     "user_tz": -60
    },
    "id": "controversial-presentation"
   },
   "outputs": [],
   "source": [
    "y=np.array((4+(3*x1)+(np.random.randn(100))))"
   ]
  },
  {
   "cell_type": "markdown",
   "metadata": {
    "id": "signal-cheese"
   },
   "source": [
    "* Plot the scatter of `X1` and `Y`."
   ]
  },
  {
   "cell_type": "code",
   "execution_count": 6,
   "metadata": {
    "colab": {
     "base_uri": "https://localhost:8080/",
     "height": 282
    },
    "executionInfo": {
     "elapsed": 806,
     "status": "ok",
     "timestamp": 1646855777982,
     "user": {
      "displayName": "Murielle Furibond",
      "photoUrl": "https://lh3.googleusercontent.com/a/default-user=s64",
      "userId": "08986639471398520603"
     },
     "user_tz": -60
    },
    "id": "automated-nomination",
    "outputId": "6226ab46-6729-4cdc-ceee-9846c050049b"
   },
   "outputs": [
    {
     "data": {
      "text/plain": [
       "<matplotlib.collections.PathCollection at 0x2d6cf6e8c40>"
      ]
     },
     "execution_count": 6,
     "metadata": {},
     "output_type": "execute_result"
    },
    {
     "data": {
      "image/png": "[encoded data removed]",
      "text/plain": [
       "<Figure size 432x288 with 1 Axes>"
      ]
     },
     "metadata": {
      "needs_background": "light"
     },
     "output_type": "display_data"
    }
   ],
   "source": [
    "plt.scatter(x1,y)"
   ]
  },
  {
   "cell_type": "markdown",
   "metadata": {
    "id": "individual-deployment"
   },
   "source": [
    "### 2. Train linear regression with analytical solution"
   ]
  },
  {
   "cell_type": "markdown",
   "metadata": {
    "id": "educated-message"
   },
   "source": [
    "At this point we train the linear regression with the analytical solution. \n",
    "\n",
    "Denote by $X$ the matrix containing the predictor values. In our case, the first column of $X$ contains all 1's (for the intercept) and the second column contains the predictor $X_1$.\n",
    "\n",
    "The optimal vector $\\beta^* = (\\beta_0^*, \\beta_1^*)$ that minimizes the cost function $MSE(\\beta_0, \\beta_1)$, is given by\n",
    "\n",
    "$$\\beta^* = (X^T X)^{-1} X^T Y.$$"
   ]
  },
  {
   "cell_type": "markdown",
   "metadata": {
    "id": "dimensional-latter"
   },
   "source": [
    "* Create the matrix `X`.\n",
    "\n",
    "_Hint_: Use the function `ones` from `np` to generate a column of 1's."
   ]
  },
  {
   "cell_type": "code",
   "execution_count": 7,
   "metadata": {
    "executionInfo": {
     "elapsed": 1054,
     "status": "ok",
     "timestamp": 1646855782405,
     "user": {
      "displayName": "Murielle Furibond",
      "photoUrl": "https://lh3.googleusercontent.com/a/default-user=s64",
      "userId": "08986639471398520603"
     },
     "user_tz": -60
    },
    "id": "_x57aZn07_td"
   },
   "outputs": [],
   "source": [
    "import pandas as pd"
   ]
  },
  {
   "cell_type": "code",
   "execution_count": 8,
   "metadata": {
    "colab": {
     "base_uri": "https://localhost:8080/"
    },
    "executionInfo": {
     "elapsed": 2,
     "status": "ok",
     "timestamp": 1646855784537,
     "user": {
      "displayName": "Murielle Furibond",
      "photoUrl": "https://lh3.googleusercontent.com/a/default-user=s64",
      "userId": "08986639471398520603"
     },
     "user_tz": -60
    },
    "id": "unique-worship",
    "outputId": "5bdd35f6-565e-430e-ce50-760a2835ccf4"
   },
   "outputs": [
    {
     "data": {
      "text/plain": [
       "(100, 2)"
      ]
     },
     "execution_count": 8,
     "metadata": {},
     "output_type": "execute_result"
    }
   ],
   "source": [
    "X=np.transpose(np.array([np.ones(100),x1]))\n",
    "np.shape(X)"
   ]
  },
  {
   "cell_type": "markdown",
   "metadata": {
    "id": "sacred-sapphire"
   },
   "source": [
    "* Use the formula above to compute the optimal parameter vector $\\beta^*$.\n",
    "\n",
    "_Hint_: Use the functions `dot`, `transpose` from `np`, and the function `inv` from `np.linalg`."
   ]
  },
  {
   "cell_type": "code",
   "execution_count": 9,
   "metadata": {
    "executionInfo": {
     "elapsed": 271,
     "status": "ok",
     "timestamp": 1646855791852,
     "user": {
      "displayName": "Murielle Furibond",
      "photoUrl": "https://lh3.googleusercontent.com/a/default-user=s64",
      "userId": "08986639471398520603"
     },
     "user_tz": -60
    },
    "id": "changing-vector"
   },
   "outputs": [],
   "source": [
    "X_transpose = np.transpose(X)\n"
   ]
  },
  {
   "cell_type": "code",
   "execution_count": 10,
   "metadata": {
    "id": "06dc922b"
   },
   "outputs": [],
   "source": [
    "#inv_Xtrans_X= np.linalg.inv(np.dot(X_transpose,X))\n",
    "#np.dot(np.dot(inv_Xtrans_X,X_transpose),y)\n",
    "#t(X_transpose,X))\n",
    "#np.dot(np.dot(inv_Xtrans_X,X_transpose),y)\n",
    "#beta_star=np.dot(np.dot(np.linalg.inv(np.dot(X_transpose,X)),X_transpose),y)"
   ]
  },
  {
   "cell_type": "code",
   "execution_count": 11,
   "metadata": {
    "executionInfo": {
     "elapsed": 221,
     "status": "ok",
     "timestamp": 1646855800253,
     "user": {
      "displayName": "Murielle Furibond",
      "photoUrl": "https://lh3.googleusercontent.com/a/default-user=s64",
      "userId": "08986639471398520603"
     },
     "user_tz": -60
    },
    "id": "7c11bc09"
   },
   "outputs": [],
   "source": [
    "beta_star=np.linalg.inv(X_transpose @ X) @ X_transpose @ y"
   ]
  },
  {
   "cell_type": "code",
   "execution_count": 12,
   "metadata": {
    "colab": {
     "base_uri": "https://localhost:8080/"
    },
    "executionInfo": {
     "elapsed": 240,
     "status": "ok",
     "timestamp": 1646855817558,
     "user": {
      "displayName": "Murielle Furibond",
      "photoUrl": "https://lh3.googleusercontent.com/a/default-user=s64",
      "userId": "08986639471398520603"
     },
     "user_tz": -60
    },
    "id": "3b4ed1f2",
    "outputId": "65d028e3-962b-434b-cdac-90ff83134000"
   },
   "outputs": [
    {
     "data": {
      "text/plain": [
       "array([3.93494054, 3.14343134])"
      ]
     },
     "execution_count": 12,
     "metadata": {},
     "output_type": "execute_result"
    }
   ],
   "source": [
    "beta_star"
   ]
  },
  {
   "cell_type": "markdown",
   "metadata": {
    "id": "sustained-corrections"
   },
   "source": [
    "* Using the optimal weights obtained above, compute the model predictions on the training data `X`.\n",
    "\n",
    "_Hint_: Recall that the predictions can be computed with the formula $ \\widehat Y = X \\beta^*$."
   ]
  },
  {
   "cell_type": "code",
   "execution_count": 13,
   "metadata": {
    "executionInfo": {
     "elapsed": 250,
     "status": "ok",
     "timestamp": 1646855951120,
     "user": {
      "displayName": "Murielle Furibond",
      "photoUrl": "https://lh3.googleusercontent.com/a/default-user=s64",
      "userId": "08986639471398520603"
     },
     "user_tz": -60
    },
    "id": "cognitive-picture"
   },
   "outputs": [],
   "source": [
    "y_predicted = beta_star[0] + beta_star[1]*x1 \n"
   ]
  },
  {
   "cell_type": "code",
   "execution_count": 14,
   "metadata": {
    "colab": {
     "base_uri": "https://localhost:8080/"
    },
    "executionInfo": {
     "elapsed": 211,
     "status": "ok",
     "timestamp": 1646855953100,
     "user": {
      "displayName": "Murielle Furibond",
      "photoUrl": "https://lh3.googleusercontent.com/a/default-user=s64",
      "userId": "08986639471398520603"
     },
     "user_tz": -60
    },
    "id": "ef9f9e02",
    "outputId": "4946a4a6-22c0-4770-ab7b-af0b351ca368"
   },
   "outputs": [
    {
     "name": "stdout",
     "output_type": "stream",
     "text": [
      "[ 4.89109805  8.79232108  8.55786446  4.19395432  4.08219095  6.27592068\n",
      "  6.31231606  8.08768998  9.59782672  5.7564526   3.94799918  7.95908073\n",
      "  9.54028089  5.2946544   6.33928604  4.49250763  4.67452094  9.4916992\n",
      "  4.15855011  4.91568246  5.92725982  8.5049149   7.84152109  4.43991702\n",
      "  7.60911456  6.34186236  5.13513304  5.34260438  5.49341301  4.32251016\n",
      "  5.44237432  8.76666901  6.84183369  5.02131045  8.30298571  6.1570409\n",
      "  8.01504341 10.01753603  8.45123954  6.43669559  8.50515881  6.79736863\n",
      "  4.25918031  7.03684439  8.03910674  4.52904601  4.44404522  7.94849868\n",
      "  5.29212733  5.70743857  9.12664045  8.85509789  5.52388144  8.71669995\n",
      "  8.83365495  8.40828267  8.71055566  6.84393958  9.48779726  8.91147771\n",
      "  4.63422558  4.45759319  6.10533624  5.14174581  4.18733176  5.07786125\n",
      "  4.99074128  5.72757987  9.73494092  7.59500714  9.52959365  6.03316563\n",
      "  8.32034487  7.0697462   7.78898961  7.62449945  7.13163837  8.48434641\n",
      "  4.31835248  8.04682325  8.25472564  8.85251794  4.39280189 10.0405866\n",
      "  6.56848175  5.3985613   7.95917046  5.29033767  5.29946951  6.78471379\n",
      "  9.10514259  5.93885682  7.45502063  6.0126487  10.00684195 10.07259164\n",
      "  8.27154659  5.8500071   9.32288879  4.73920508]\n"
     ]
    }
   ],
   "source": [
    "#y_predicted = X @ beta_star\n",
    "print(y_predicted)"
   ]
  },
  {
   "cell_type": "markdown",
   "metadata": {
    "id": "sweet-regulation"
   },
   "source": [
    "### 3. Plot predictions"
   ]
  },
  {
   "cell_type": "markdown",
   "metadata": {
    "id": "fifteen-roommate"
   },
   "source": [
    "* Plot the predictions obtained above, together with the scatter of `X1` and `Y`."
   ]
  },
  {
   "cell_type": "code",
   "execution_count": 15,
   "metadata": {
    "colab": {
     "base_uri": "https://localhost:8080/",
     "height": 445
    },
    "executionInfo": {
     "elapsed": 586,
     "status": "ok",
     "timestamp": 1646855991603,
     "user": {
      "displayName": "Murielle Furibond",
      "photoUrl": "https://lh3.googleusercontent.com/a/default-user=s64",
      "userId": "08986639471398520603"
     },
     "user_tz": -60
    },
    "id": "herbal-romance",
    "outputId": "419903df-a88e-4624-e771-54ef31aecb57"
   },
   "outputs": [
    {
     "data": {
      "text/plain": [
       "<matplotlib.legend.Legend at 0x2d6d0413df0>"
      ]
     },
     "execution_count": 15,
     "metadata": {},
     "output_type": "execute_result"
    },
    {
     "data": {
      "image/png": "[encoded data removed]",
      "text/plain": [
       "<Figure size 1440x504 with 1 Axes>"
      ]
     },
     "metadata": {
      "needs_background": "light"
     },
     "output_type": "display_data"
    }
   ],
   "source": [
    "x_min = x1.min()\n",
    "x_max = x1.max()\n",
    "\n",
    "# plotting a line plot after changing it's width and height\n",
    "f = plt.figure()\n",
    "f.set_figwidth(20)\n",
    "f.set_figheight(7)\n",
    "\n",
    "plt.scatter(x1,y,color='b',label='data')\n",
    "plt.scatter(x1,y_predicted,color='r',label='prediction')\n",
    "plt.legend(loc=\"upper left\")\n",
    "\n",
    "\n"
   ]
  },
  {
   "cell_type": "markdown",
   "metadata": {
    "id": "chemical-denial"
   },
   "source": [
    "### 4. Compare solutions with scikitlearn"
   ]
  },
  {
   "cell_type": "markdown",
   "metadata": {
    "id": "unknown-forge"
   },
   "source": [
    "* Fit a linear regression model using the `scikit-learn` library.\n",
    "\n",
    "_Hint_: Be careful, the `fit` method from `scikit-learn` requires the predictor matrix without the intercept."
   ]
  },
  {
   "cell_type": "code",
   "execution_count": 16,
   "metadata": {
    "colab": {
     "base_uri": "https://localhost:8080/"
    },
    "executionInfo": {
     "elapsed": 241,
     "status": "ok",
     "timestamp": 1646856272980,
     "user": {
      "displayName": "Murielle Furibond",
      "photoUrl": "https://lh3.googleusercontent.com/a/default-user=s64",
      "userId": "08986639471398520603"
     },
     "user_tz": -60
    },
    "id": "dying-demographic",
    "outputId": "3569205c-c5ea-427c-b2ef-e1dadb1e4643"
   },
   "outputs": [
    {
     "data": {
      "text/plain": [
       "LinearRegression()"
      ]
     },
     "execution_count": 16,
     "metadata": {},
     "output_type": "execute_result"
    }
   ],
   "source": [
    "from sklearn.linear_model import LinearRegression\n",
    "model = LinearRegression()\n",
    "model.fit(x1.reshape((-1, 1)),y.reshape((-1, 1)))"
   ]
  },
  {
   "cell_type": "markdown",
   "metadata": {
    "id": "international-transmission"
   },
   "source": [
    "* From the fitted object, extract the estimated intercept and slope and compare it to the ones you computed with the formula."
   ]
  },
  {
   "cell_type": "code",
   "execution_count": 17,
   "metadata": {
    "colab": {
     "base_uri": "https://localhost:8080/"
    },
    "executionInfo": {
     "elapsed": 1,
     "status": "ok",
     "timestamp": 1646856307281,
     "user": {
      "displayName": "Murielle Furibond",
      "photoUrl": "https://lh3.googleusercontent.com/a/default-user=s64",
      "userId": "08986639471398520603"
     },
     "user_tz": -60
    },
    "id": "technical-offer",
    "outputId": "9e3277c0-3efe-4498-c19a-56c0355eab57"
   },
   "outputs": [
    {
     "name": "stdout",
     "output_type": "stream",
     "text": [
      "intercept (beta,sklearn):  (3.9349405389886307, 3.9349405389886343)\n",
      "coeff (beta,sklearn):  (3.143431343450475, 3.143431343450472)\n"
     ]
    }
   ],
   "source": [
    "print('intercept (beta,sklearn): ',(beta_star[0],model.intercept_[0]))\n",
    "print('coeff (beta,sklearn): ',(beta_star[1],model.coef_[0][0]))"
   ]
  },
  {
   "cell_type": "markdown",
   "metadata": {
    "id": "d73a7c8d"
   },
   "source": [
    "*They are the same!*"
   ]
  },
  {
   "cell_type": "markdown",
   "metadata": {
    "id": "charged-recall"
   },
   "source": [
    "### 5. Train linear regression with batch gradient descent"
   ]
  },
  {
   "cell_type": "markdown",
   "metadata": {
    "id": "defined-manitoba"
   },
   "source": [
    "The general idea of gradient descent is to update the parameters iteratively to minimize the cost function.\n",
    "\n",
    "**Note**: when using gradient descent, it is always better have all features on the same scale. This can be done in the data transformation step using the `StandardScaler` class from `sklearn.preprocessing`. \n",
    "This ensures that the algorithm converges to the optimal solution much faster.\n",
    "In this example, however, we don't need to worry about it."
   ]
  },
  {
   "cell_type": "markdown",
   "metadata": {
    "id": "regulated-brisbane"
   },
   "source": [
    "Recall that in our case the cost function is\n",
    "\n",
    "$$MSE(\\beta_0, \\beta_1) = \\frac{1}{n}\\sum_{i = 1}^{n}(Y_i -\\beta_0 - \\beta_1 X_{i1})^2.$$\n",
    "\n",
    "The idea of gradient descent is to start with some initial guess of the vector $\\beta = (\\beta_0, \\beta_1)$, and iteratively update it in the direction that points \"most **downhill**\" (remember that we want to **minimize** the cost function).\n",
    "\n",
    "The **gradient vector** of the MSE is denoted as\n",
    "\n",
    "$$ \\nabla MSE(\\beta) = \\begin{bmatrix}\n",
    "           \\dfrac{\\partial MSE(\\beta)}{\\partial \\beta_0} \\\\\n",
    "           \\dfrac{\\partial MSE(\\beta)}{\\partial \\beta_1}\n",
    "         \\end{bmatrix},$$\n",
    "\n",
    "where each element is the partial derivative of the $MSE$ with respect to $\\beta_1$ and $\\beta_2$.\n",
    "\n",
    "Notice that the **gradient vector of any cost function** gives us the direction that points \"most **uphill**\". \n",
    "Since the **gradient** vector points toward the most **uphill** direction, then the **negative gradient** points toward the most **downhill** direction.\n",
    "\n",
    "In linear regression with the $MSE$ cost function, the **negative gradient** vector writes\n",
    "\n",
    "$$ -\\nabla MSE(\\beta) = -\\frac{2}{n} X^T (X\\beta - Y).$$\n",
    "\n",
    "Based on the negative gradient vector, at each iteration, we update the previous parameter value $\\beta_{\\text{old}}$, as follows\n",
    "\n",
    "$$ \\beta_{\\text{new}} = \\beta_{\\text{old}} - \\alpha\\ \\nabla MSE(\\beta_{\\text{old}}),$$\n",
    "\n",
    "where $\\alpha$ is the learning rate, a **crucial** tuning parameter for the algorithm."
   ]
  },
  {
   "cell_type": "markdown",
   "metadata": {
    "id": "homeless-nation"
   },
   "source": [
    "* We now implement the batch gradient descent algorithm. Fill in the `??`. Which value of `beta` do you obtain? What happens if you change `alpha`?"
   ]
  },
  {
   "cell_type": "code",
   "execution_count": null,
   "metadata": {
    "colab": {
     "base_uri": "https://localhost:8080/"
    },
    "executionInfo": {
     "elapsed": 303,
     "status": "ok",
     "timestamp": 1646857953232,
     "user": {
      "displayName": "Murielle Furibond",
      "photoUrl": "https://lh3.googleusercontent.com/a/default-user=s64",
      "userId": "08986639471398520603"
     },
     "user_tz": -60
    },
    "id": "zazcL2G8YObB",
    "outputId": "de092690-4839-4046-d272-f9e67e5dce2c"
   },
   "outputs": [],
   "source": []
  },
  {
   "cell_type": "code",
   "execution_count": 18,
   "metadata": {
    "colab": {
     "base_uri": "https://localhost:8080/"
    },
    "executionInfo": {
     "elapsed": 112072,
     "status": "ok",
     "timestamp": 1646859202876,
     "user": {
      "displayName": "Murielle Furibond",
      "photoUrl": "https://lh3.googleusercontent.com/a/default-user=s64",
      "userId": "08986639471398520603"
     },
     "user_tz": -60
    },
    "id": "efficient-member",
    "outputId": "7f74d623-1dd3-420e-fcb9-0ef80a561519"
   },
   "outputs": [],
   "source": [
    "alpha = 10\n",
    "n_iterations = 10000000\n",
    "\n",
    "beta = np.random.rand(2, 1) # randomly initialize the parameter vector\n",
    "\n",
    "for i in range(n_iterations):\n",
    "    gradient = -((2/n_iterations)*np.transpose(x1))@((beta[0]+beta[1]*x1)-y)  # update gradient\n",
    "    beta = beta + alpha * gradient # update beta\n",
    "\n",
    "beta"
   ]
  },
  {
   "cell_type": "markdown",
   "metadata": {
    "id": "provincial-magazine"
   },
   "source": [
    "* Fill in the `??` to code the function that plots the first 10 updates of the batch gradient descent algorithm."
   ]
  },
  {
   "cell_type": "code",
   "execution_count": null,
   "metadata": {
    "colab": {
     "base_uri": "https://localhost:8080/",
     "height": 130
    },
    "executionInfo": {
     "elapsed": 224,
     "status": "error",
     "timestamp": 1646860524588,
     "user": {
      "displayName": "Murielle Furibond",
      "photoUrl": "https://lh3.googleusercontent.com/a/default-user=s64",
      "userId": "08986639471398520603"
     },
     "user_tz": -60
    },
    "id": "considerable-legislature",
    "outputId": "d564d16e-fb87-48b1-99bb-3abb311fadbb"
   },
   "outputs": [
    {
     "ename": "SyntaxError",
     "evalue": "ignored",
     "output_type": "error",
     "traceback": [
      "\u001b[0;36m  File \u001b[0;32m\"<ipython-input-75-5c831f73900f>\"\u001b[0;36m, line \u001b[0;32m21\u001b[0m\n\u001b[0;31m    beta = beta + alpha @ gradient # update beta\u001b[0m\n\u001b[0m       ^\u001b[0m\n\u001b[0;31mSyntaxError\u001b[0m\u001b[0;31m:\u001b[0m invalid syntax\n"
     ]
    }
   ],
   "source": [
    "def plot_batch_gradient_descent(X, Y, alpha = 0.1, n_iterations = 100, seed = 42):\n",
    "    '''\n",
    "    numpy.ndarray numpy.ndarray float float float -> list\n",
    "    produces a list with the updates of the parameter vector\n",
    "    as a side effect, it plots the first 10 updates of the regression function\n",
    "    '''\n",
    "    \n",
    "    nRows, nCols = X.shape\n",
    "    \n",
    "    beta_path = []\n",
    "    \n",
    "    np.random.seed(seed)\n",
    "    beta = np.random.rand(nCols, 1) # randomly initialize the parameter vector\n",
    "    \n",
    "    beta_path.append(beta)\n",
    "    \n",
    "    plt.plot(X[:,1], Y, \"b.\")\n",
    "    \n",
    "    for i in range(n_iterations):\n",
    "        gradient = -((2/n_iterations)*np.transpose(x1))@((beta[0]+beta[1]*x1-y) # update gradient\n",
    "        beta = beta + alpha * gradient # update beta\n",
    "        beta_path.append(beta)\n",
    "    \n",
    "        if (i < 10):\n",
    "            plt.plot(X[:, 1], X @ beta, \"r-\")\n",
    "            \n",
    "    return(np.array(beta_path))\n"
   ]
  },
  {
   "cell_type": "markdown",
   "metadata": {
    "id": "durable-overhead"
   },
   "source": [
    "* Call the function `plot_batch_gradient_descent` with different values of `alpha`. What do you observe?"
   ]
  },
  {
   "cell_type": "code",
   "execution_count": null,
   "metadata": {
    "id": "8HaOvRUGdnId"
   },
   "outputs": [],
   "source": [
    "#my guess: lower the alpha, more precise the observation"
   ]
  },
  {
   "cell_type": "markdown",
   "metadata": {
    "id": "klwfTgzXdmW2"
   },
   "source": []
  },
  {
   "cell_type": "code",
   "execution_count": null,
   "metadata": {
    "id": "substantial-interval"
   },
   "outputs": [],
   "source": [
    "plot_batch_gradient_descent(alpha=)"
   ]
  },
  {
   "cell_type": "markdown",
   "metadata": {
    "id": "existing-reduction"
   },
   "source": [
    "### 6. Train linear regression with stochastic gradient descent"
   ]
  },
  {
   "cell_type": "markdown",
   "metadata": {
    "id": "brilliant-spring"
   },
   "source": [
    "The gradient descent scheme that we coded above is known as **batch** gradient descent. This is because at every step it uses **all** the training data to update the gradient vector and the parameter vector $\\beta$.\n",
    "This makes it very slow when the training dataset contains many observations.\n",
    "\n",
    "At the other end of the spectrum, we have the **stochastic** gradient descent. Here, at every step, we randomly choose one random observation (row) from the dataset, to update the gradient vector and the parameter vector $\\beta$. In other words, the updates at every step depend only on a single observation.\n",
    "\n",
    "This makes the algorithm much faster to compute each iteration, compared to the batch version. On the other hand, since our updates depend on a single observation, this algorithm is more \"erratic\" than the batch version, and it will never settles at the minimum point, unless we \"stop it\".\n",
    "\n",
    "This is why, in the stochastic gradient descent, it is important to have a learning rate $\\alpha$ that slowly decays to zero, as the number of iterations increases. \n",
    "One common choice is to define the learning rate as follows\n",
    "\n",
    "$$\\alpha(t) = \\dfrac{\\eta_0}{t^{k}},$$\n",
    "\n",
    "where $t$ denotes the number of iterations, and $\\eta_0$ and $k$ are hyperparameters. The defaults values in `scikit-learn` are $\\eta_0 = 0.01$ and $k = 0.25$ ([see link](https://scikit-learn.org/stable/modules/generated/sklearn.linear_model.SGDRegressor.html))."
   ]
  },
  {
   "cell_type": "markdown",
   "metadata": {
    "id": "completed-translation"
   },
   "source": [
    "* Import the `SGDRegressor` class from `sklearn.linear_model`."
   ]
  },
  {
   "cell_type": "code",
   "execution_count": null,
   "metadata": {
    "executionInfo": {
     "elapsed": 216,
     "status": "ok",
     "timestamp": 1646859514978,
     "user": {
      "displayName": "Murielle Furibond",
      "photoUrl": "https://lh3.googleusercontent.com/a/default-user=s64",
      "userId": "08986639471398520603"
     },
     "user_tz": -60
    },
    "id": "careful-indie"
   },
   "outputs": [],
   "source": [
    "from sklearn.linear_model import SGDRegressor"
   ]
  },
  {
   "cell_type": "markdown",
   "metadata": {
    "id": "hungarian-wound"
   },
   "source": [
    "* Create an object of class `SGDRegressor` and fill in the `??`. Also, look at the documentation of the function and explain the different arguments.\n",
    "\n",
    "**max_iter is the maximum iteration we want the algorithm to do. tol is the stopping criterion. eta0 = is the initial learning rate. Penalty is which regularizer we want to use.**"
   ]
  },
  {
   "cell_type": "code",
   "execution_count": null,
   "metadata": {
    "executionInfo": {
     "elapsed": 218,
     "status": "ok",
     "timestamp": 1646859964612,
     "user": {
      "displayName": "Murielle Furibond",
      "photoUrl": "https://lh3.googleusercontent.com/a/default-user=s64",
      "userId": "08986639471398520603"
     },
     "user_tz": -60
    },
    "id": "dominican-mills"
   },
   "outputs": [],
   "source": [
    "sgd_reg = SGDRegressor(max_iter=10000, tol=1e-3, eta0=0.01, penalty=None)"
   ]
  },
  {
   "cell_type": "markdown",
   "metadata": {
    "id": "welcome-exhaust"
   },
   "source": [
    "* Fit the stochastic gradient descent on the data. Fill in the `??`.\n",
    "\n",
    "_Hint_: Be careful, the `fit` method from `scikit-learn` requires the predictor matrix without the intercept."
   ]
  },
  {
   "cell_type": "code",
   "execution_count": null,
   "metadata": {
    "colab": {
     "base_uri": "https://localhost:8080/"
    },
    "executionInfo": {
     "elapsed": 233,
     "status": "ok",
     "timestamp": 1646860009590,
     "user": {
      "displayName": "Murielle Furibond",
      "photoUrl": "https://lh3.googleusercontent.com/a/default-user=s64",
      "userId": "08986639471398520603"
     },
     "user_tz": -60
    },
    "id": "distinct-ethics",
    "outputId": "a6666ba5-3b2a-4ce2-8a9f-4c58e6970ef6"
   },
   "outputs": [
    {
     "data": {
      "text/plain": [
       "SGDRegressor(max_iter=10000, penalty=None)"
      ]
     },
     "execution_count": 69,
     "metadata": {},
     "output_type": "execute_result"
    }
   ],
   "source": [
    "sgd_reg.fit(x1.reshape(-1,1), y.ravel())"
   ]
  },
  {
   "cell_type": "markdown",
   "metadata": {
    "id": "civil-publication"
   },
   "source": [
    "* From the fitted object, extract the estimated intercept and slope and compare it to the ones you computed with the analytical solution."
   ]
  },
  {
   "cell_type": "code",
   "execution_count": null,
   "metadata": {
    "colab": {
     "base_uri": "https://localhost:8080/"
    },
    "executionInfo": {
     "elapsed": 246,
     "status": "ok",
     "timestamp": 1646860150658,
     "user": {
      "displayName": "Murielle Furibond",
      "photoUrl": "https://lh3.googleusercontent.com/a/default-user=s64",
      "userId": "08986639471398520603"
     },
     "user_tz": -60
    },
    "id": "coated-challenge",
    "outputId": "7bc39e47-fa16-4659-ffcd-4cd66b06ec1d"
   },
   "outputs": [
    {
     "name": "stdout",
     "output_type": "stream",
     "text": [
      "intercept (beta,sdgreg):  (4.1529003550249985, 3.8104773174268813)\n",
      "coeff (beta,sdgreg):  (2.9488077039270353, 3.231446491689398)\n"
     ]
    }
   ],
   "source": [
    "print('intercept (beta,sdgreg): ',(beta_star[0],sgd_reg.intercept_[0]))\n",
    "print('coeff (beta,sdgreg): ',(beta_star[1],sgd_reg.coef_[0]))"
   ]
  },
  {
   "cell_type": "markdown",
   "metadata": {
    "id": "italic-complexity"
   },
   "source": [
    "### 7. Plot the downhill path of batch and stochastic gradient descent"
   ]
  },
  {
   "cell_type": "markdown",
   "metadata": {
    "id": "coastal-blowing"
   },
   "source": [
    "We now show the downhill path of the batch and stochastic gradient descent."
   ]
  },
  {
   "cell_type": "code",
   "execution_count": null,
   "metadata": {
    "executionInfo": {
     "elapsed": 219,
     "status": "ok",
     "timestamp": 1646860172514,
     "user": {
      "displayName": "Murielle Furibond",
      "photoUrl": "https://lh3.googleusercontent.com/a/default-user=s64",
      "userId": "08986639471398520603"
     },
     "user_tz": -60
    },
    "id": "adult-miami"
   },
   "outputs": [],
   "source": [
    "def plot_stochastic_gradient_descent(X, Y, eta0 = 0.1, n_iterations = 100, seed = 42):\n",
    "    '''\n",
    "    numpy.ndarray numpy.ndarray float float float -> list\n",
    "    produces a list with the updates of the parameter vector\n",
    "    as a side effect, it plots the first 10 updates of the regression function\n",
    "    '''\n",
    "    \n",
    "    nRows, nCols = X.shape\n",
    "    \n",
    "    beta_path = []\n",
    "    \n",
    "    np.random.seed(seed)\n",
    "    beta = np.random.rand(nCols, 1) # intialize parameter\n",
    "    \n",
    "    beta_path.append(beta)\n",
    "    \n",
    "    plt.plot(X[:,1], Y, \"b.\")\n",
    "    \n",
    "    for i in range(n_iterations):\n",
    "        for j in range(nRows):\n",
    "            \n",
    "            random_row = np.random.randint(nRows)\n",
    "            Xj = X[random_row:random_row+1]\n",
    "            Yj = Y[random_row:random_row+1]\n",
    "            \n",
    "            gradient = 2 * Xj.T @ (Xj @ beta - Yj) # update gradient\n",
    "            alpha = eta0 / (j + i * nRows + 1)**0.25 # update learning rate\n",
    "            beta = beta - alpha * gradient # update beta\n",
    "            beta_path.append(beta)\n",
    "\n",
    "            if (i == 0 and j < 10):\n",
    "                plt.plot(X[:, 1], X @ beta, \"r-\")\n",
    "            \n",
    "    return(np.array(beta_path))\n"
   ]
  },
  {
   "cell_type": "markdown",
   "metadata": {
    "id": "classified-history"
   },
   "source": [
    "* Call the functions `plot_batch_gradient_descent` and `plot_stochastic_gradient_descent` with the default arguments. Save the results into the objects `path_batch` and `path_stoch`."
   ]
  },
  {
   "cell_type": "code",
   "execution_count": null,
   "metadata": {
    "id": "exterior-healing"
   },
   "outputs": [],
   "source": [
    "path_batch = plot_batch_gradient_descent()\n",
    "path_stoch = plot_stochastic_gradient"
   ]
  },
  {
   "cell_type": "markdown",
   "metadata": {
    "id": "outside-lobby"
   },
   "source": [
    "* Fill in the `??` to plot the downhill paths of the **batch** and the **stochastic** gradient descent algorithms. Which differences do you notice between the two methods?"
   ]
  },
  {
   "cell_type": "code",
   "execution_count": null,
   "metadata": {
    "id": "sophisticated-silicon"
   },
   "outputs": [],
   "source": [
    "plt.figure(figsize=(7,4))\n",
    "plt.plot(??, ??, \"r-s\", linewidth=1, label=\"Stochastic\")\n",
    "plt.plot(??, ??, \"b-o\", linewidth=1, label=\"Batch\")\n",
    "plt.legend(loc=\"upper left\", fontsize=16)\n",
    "plt.xlabel(\"$\\\\beta_0$\", fontsize = 20)\n",
    "plt.ylabel(\"$\\\\beta_1$\", fontsize = 20);"
   ]
  },
  {
   "cell_type": "markdown",
   "metadata": {
    "id": "still-officer"
   },
   "source": [
    "## Problem 2\n",
    "Suppose our data is generated by the additive error model\n",
    "$$ Y = f(X) + \\epsilon,$$\n",
    "\n",
    "where $f:\\mathbb{R}^p \\to \\mathbb{R}$ is a (deterministic) function, and $\\epsilon$ is a noise\n",
    "variable with $\\mathrm{E}(\\epsilon)= 0$\n",
    "and $\\mathrm{V}(\\epsilon) = \\sigma^2_\\epsilon$.\n",
    "\n",
    "Define the joint distribution of the random samples\n",
    "$D = (X_1, \\dots, X_n, Y_1, \\dots, Y_n) \\sim P_D$.\n",
    "\n",
    "Let $\\hat f$ be an estimate of the regression function $f$. \n",
    "Recall that $\\hat f$ is a random variable\n",
    "since it depends on the training data  $D$ that are random. \n",
    "Therefore, the expected value of $\\hat f$ can be written as\n",
    "\\begin{align*}\n",
    "\\mathrm{E}_{P_D}[\\hat f] = \\int \\hat f \\ dP_D.\n",
    "\\end{align*}\n",
    "\n",
    "Consider a new (**fixed**) data point $X = x_0$, which is independent of the training data.\n",
    "\n",
    "Conditional on this value, we have that\n",
    "$Y = f(x_0) + \\epsilon \\sim P_{Y\\mid x_0}$, where $P_{Y|x_0}$ denotes the\n",
    "conditional distribution of $Y$ given $X = x_0$.\n",
    "Therefore, the conditional expectation of $Y$, given $X = x_0$, can be written\n",
    "as\n",
    "\\begin{align*}\n",
    "\\mathrm{E}_{P_{Y\\mid x_0}}[Y \\mid X = x_0] = \\int y \\ dP_{Y\\mid x_0}.\n",
    "\\end{align*}\n",
    "\n",
    "Show the following Bias-Variance decomposition of the expected prediction error at the new \n",
    "point $X = x_0$:\n",
    "\n",
    "\\begin{align}\n",
    "\\mathrm{E}rr_{\\hat f} (x_0) &= \\mathrm{E}_{P_D}\\mathrm{E}_{P_{Y\\mid x_0}}[ (Y-\\hat f(x_0))^2 \\mid X_0 = x_0 ]\\\\\n",
    "& = \\sigma_\\epsilon^2 + [\\mathrm{E}_{P_D} \\hat f(x_0) - f(x_0)]^2\n",
    "+ \\mathrm{E}_{P_D}[\\hat f(x_0) - \\mathrm{E}_{P_D} \\hat f(x_0) ]^2\\\\\n",
    "& = \\text{Irreducible Error} + \\text{Bias}^2 + \\text{Variance}.\n",
    "\\end{align}\n",
    "\n",
    "_Hint_: Note that \n",
    "$$ \\mathrm{E}_{P_D}\\left[ (f(x_0) - \\mathrm{E}_{P_D}\\hat f(x_0))(\\mathrm{E}_{P_D} \\hat f(x_0) - \\hat f(x_0))\\right] = 0,$$\n",
    "since $\\mathrm{E}_{P_D}\\left[\\mathrm{E}_{P_D} \\hat f(x_0) - \\hat f(x_0)\\right] = 0$.\n"
   ]
  }
 ],
 "metadata": {
  "colab": {
   "collapsed_sections": [],
   "name": "Exercise_02.ipynb",
   "provenance": []
  },
  "kernelspec": {
   "display_name": "Python 3",
   "language": "python",
   "name": "python3"
  },
  "language_info": {
   "codemirror_mode": {
    "name": "ipython",
    "version": 3
   },
   "file_extension": ".py",
   "mimetype": "text/x-python",
   "name": "python",
   "nbconvert_exporter": "python",
   "pygments_lexer": "ipython3",
   "version": "3.8.5"
  }
 },
 "nbformat": 4,
 "nbformat_minor": 5
}
