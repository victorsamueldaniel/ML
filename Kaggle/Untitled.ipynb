{
 "cells": [
  {
   "cell_type": "code",
   "execution_count": 1,
   "metadata": {},
   "outputs": [],
   "source": [
    "import pandas as pd\n",
    "import matplotlib.pyplot as plt\n",
    "import numpy as np\n",
    "from sklearn.datasets import fetch_openml\n",
    "from sklearn.model_selection import KFold, train_test_split, GridSearchCV\n",
    "\n",
    "from sklearn.base import BaseEstimator, TransformerMixin\n",
    "\n",
    "from sklearn.preprocessing import StandardScaler, PolynomialFeatures\n",
    "from sklearn.impute import SimpleImputer\n",
    "from sklearn.pipeline import Pipeline, FeatureUnion\n",
    "from sklearn.compose import ColumnTransformer\n",
    "\n",
    "from sklearn.linear_model import LogisticRegression\n",
    "from sklearn.discriminant_analysis import (\n",
    "    LinearDiscriminantAnalysis,\n",
    "    QuadraticDiscriminantAnalysis,\n",
    ")\n",
    "\n",
    "from sklearn.metrics import accuracy_score\n",
    "\n",
    "import data_cleaning_functions"
   ]
  },
  {
   "cell_type": "code",
   "execution_count": 2,
   "metadata": {},
   "outputs": [
    {
     "name": "stdout",
     "output_type": "stream",
     "text": [
      "<class 'pandas.core.frame.DataFrame'>\n",
      "RangeIndex: 54607 entries, 0 to 54606\n",
      "Data columns (total 41 columns):\n",
      " #   Column            Non-Null Count  Dtype  \n",
      "---  ------            --------------  -----  \n",
      " 0   id                54607 non-null  int64  \n",
      " 1   occ_code_level2   54607 non-null  int64  \n",
      " 2   age               29892 non-null  float64\n",
      " 3   stock_dividends   29720 non-null  float64\n",
      " 4   mig_chg_msa       26888 non-null  object \n",
      " 5   tax_filer_stat    29121 non-null  object \n",
      " 6   det_hh_summ       54607 non-null  object \n",
      " 7   mig_prev_sunbelt  26888 non-null  object \n",
      " 8   hisp_origin       54377 non-null  object \n",
      " 9   education         29786 non-null  object \n",
      " 10  wage_per_hour     29712 non-null  float64\n",
      " 11  capital_losses    29850 non-null  float64\n",
      " 12  vet_question      54607 non-null  object \n",
      " 13  own_or_self       54607 non-null  int64  \n",
      " 14  country_self      53532 non-null  object \n",
      " 15  mig_move_reg      26888 non-null  object \n",
      " 16  high_income       54607 non-null  int64  \n",
      " 17  hs_college        29771 non-null  object \n",
      " 18  class_worker      54607 non-null  object \n",
      " 19  mig_same          54607 non-null  object \n",
      " 20  unemp_reason      29642 non-null  object \n",
      " 21  state_prev_res    54423 non-null  object \n",
      " 22  ind_code_level2   54607 non-null  int64  \n",
      " 23  race              29759 non-null  object \n",
      " 24  country_mother    52818 non-null  object \n",
      " 25  capital_gains     29716 non-null  float64\n",
      " 26  sex               30073 non-null  object \n",
      " 27  ind_code_level1   54607 non-null  object \n",
      " 28  citizenship       54607 non-null  object \n",
      " 29  union_member      54607 non-null  object \n",
      " 30  fam_under_18      54607 non-null  object \n",
      " 31  marital_stat      29126 non-null  object \n",
      " 32  region_prev_res   54607 non-null  object \n",
      " 33  mig_chg_reg       26888 non-null  object \n",
      " 34  country_father    52581 non-null  object \n",
      " 35  occ_code_level1   54607 non-null  object \n",
      " 36  full_or_part_emp  54607 non-null  object \n",
      " 37  weeks_worked      30410 non-null  float64\n",
      " 38  det_hh_fam_stat   54607 non-null  object \n",
      " 39  num_emp           54607 non-null  int64  \n",
      " 40  vet_benefits      54607 non-null  int64  \n",
      "dtypes: float64(6), int64(7), object(28)\n",
      "memory usage: 17.1+ MB\n"
     ]
    }
   ],
   "source": [
    "df=pd.read_csv(\"train.csv\")\n",
    "df.info()"
   ]
  },
  {
   "cell_type": "markdown",
   "metadata": {},
   "source": [
    "checking all rows containing NaN's"
   ]
  },
  {
   "cell_type": "code",
   "execution_count": 3,
   "metadata": {},
   "outputs": [
    {
     "data": {
      "text/html": [
       "<div>\n",
       "<style scoped>\n",
       "    .dataframe tbody tr th:only-of-type {\n",
       "        vertical-align: middle;\n",
       "    }\n",
       "\n",
       "    .dataframe tbody tr th {\n",
       "        vertical-align: top;\n",
       "    }\n",
       "\n",
       "    .dataframe thead th {\n",
       "        text-align: right;\n",
       "    }\n",
       "</style>\n",
       "<table border=\"1\" class=\"dataframe\">\n",
       "  <thead>\n",
       "    <tr style=\"text-align: right;\">\n",
       "      <th></th>\n",
       "      <th>number_of_nan</th>\n",
       "    </tr>\n",
       "  </thead>\n",
       "  <tbody>\n",
       "    <tr>\n",
       "      <th>state_prev_res</th>\n",
       "      <td>184</td>\n",
       "    </tr>\n",
       "    <tr>\n",
       "      <th>hisp_origin</th>\n",
       "      <td>230</td>\n",
       "    </tr>\n",
       "    <tr>\n",
       "      <th>country_self</th>\n",
       "      <td>1075</td>\n",
       "    </tr>\n",
       "    <tr>\n",
       "      <th>country_mother</th>\n",
       "      <td>1789</td>\n",
       "    </tr>\n",
       "    <tr>\n",
       "      <th>country_father</th>\n",
       "      <td>2026</td>\n",
       "    </tr>\n",
       "    <tr>\n",
       "      <th>weeks_worked</th>\n",
       "      <td>24197</td>\n",
       "    </tr>\n",
       "    <tr>\n",
       "      <th>sex</th>\n",
       "      <td>24534</td>\n",
       "    </tr>\n",
       "    <tr>\n",
       "      <th>age</th>\n",
       "      <td>24715</td>\n",
       "    </tr>\n",
       "    <tr>\n",
       "      <th>capital_losses</th>\n",
       "      <td>24757</td>\n",
       "    </tr>\n",
       "    <tr>\n",
       "      <th>education</th>\n",
       "      <td>24821</td>\n",
       "    </tr>\n",
       "    <tr>\n",
       "      <th>hs_college</th>\n",
       "      <td>24836</td>\n",
       "    </tr>\n",
       "    <tr>\n",
       "      <th>race</th>\n",
       "      <td>24848</td>\n",
       "    </tr>\n",
       "    <tr>\n",
       "      <th>stock_dividends</th>\n",
       "      <td>24887</td>\n",
       "    </tr>\n",
       "    <tr>\n",
       "      <th>capital_gains</th>\n",
       "      <td>24891</td>\n",
       "    </tr>\n",
       "    <tr>\n",
       "      <th>wage_per_hour</th>\n",
       "      <td>24895</td>\n",
       "    </tr>\n",
       "    <tr>\n",
       "      <th>unemp_reason</th>\n",
       "      <td>24965</td>\n",
       "    </tr>\n",
       "    <tr>\n",
       "      <th>marital_stat</th>\n",
       "      <td>25481</td>\n",
       "    </tr>\n",
       "    <tr>\n",
       "      <th>tax_filer_stat</th>\n",
       "      <td>25486</td>\n",
       "    </tr>\n",
       "    <tr>\n",
       "      <th>mig_prev_sunbelt</th>\n",
       "      <td>27719</td>\n",
       "    </tr>\n",
       "    <tr>\n",
       "      <th>mig_chg_msa</th>\n",
       "      <td>27719</td>\n",
       "    </tr>\n",
       "    <tr>\n",
       "      <th>mig_chg_reg</th>\n",
       "      <td>27719</td>\n",
       "    </tr>\n",
       "    <tr>\n",
       "      <th>mig_move_reg</th>\n",
       "      <td>27719</td>\n",
       "    </tr>\n",
       "  </tbody>\n",
       "</table>\n",
       "</div>"
      ],
      "text/plain": [
       "                  number_of_nan\n",
       "state_prev_res              184\n",
       "hisp_origin                 230\n",
       "country_self               1075\n",
       "country_mother             1789\n",
       "country_father             2026\n",
       "weeks_worked              24197\n",
       "sex                       24534\n",
       "age                       24715\n",
       "capital_losses            24757\n",
       "education                 24821\n",
       "hs_college                24836\n",
       "race                      24848\n",
       "stock_dividends           24887\n",
       "capital_gains             24891\n",
       "wage_per_hour             24895\n",
       "unemp_reason              24965\n",
       "marital_stat              25481\n",
       "tax_filer_stat            25486\n",
       "mig_prev_sunbelt          27719\n",
       "mig_chg_msa               27719\n",
       "mig_chg_reg               27719\n",
       "mig_move_reg              27719"
      ]
     },
     "execution_count": 3,
     "metadata": {},
     "output_type": "execute_result"
    }
   ],
   "source": [
    "null_per_column = pd.DataFrame({ col : [df[col].isnull().sum().sum()] for col in df.columns if df[col].isnull().sum().sum()!=0}, index=['number_of_nan']).T.sort_values('number_of_nan')\n",
    "null_per_column"
   ]
  },
  {
   "cell_type": "code",
   "execution_count": 4,
   "metadata": {},
   "outputs": [
    {
     "data": {
      "text/plain": [
       "27719"
      ]
     },
     "execution_count": 4,
     "metadata": {},
     "output_type": "execute_result"
    }
   ],
   "source": [
    "df['mig_prev_sunbelt'].isnull().sum().sum()"
   ]
  },
  {
   "cell_type": "code",
   "execution_count": 5,
   "metadata": {},
   "outputs": [
    {
     "name": "stdout",
     "output_type": "stream",
     "text": [
      "id\n",
      "occ_code_level2\n",
      "age\n",
      "stock_dividends\n",
      "mig_chg_msa\n",
      "tax_filer_stat\n",
      "det_hh_summ\n",
      "mig_prev_sunbelt\n",
      "hisp_origin\n",
      "education\n",
      "wage_per_hour\n",
      "capital_losses\n",
      "vet_question\n",
      "own_or_self\n",
      "country_self\n",
      "mig_move_reg\n",
      "high_income\n",
      "hs_college\n",
      "class_worker\n",
      "mig_same\n",
      "unemp_reason\n",
      "state_prev_res\n",
      "ind_code_level2\n",
      "race\n",
      "country_mother\n",
      "capital_gains\n",
      "sex\n",
      "ind_code_level1\n",
      "citizenship\n",
      "union_member\n",
      "fam_under_18\n",
      "marital_stat\n",
      "region_prev_res\n",
      "mig_chg_reg\n",
      "country_father\n",
      "occ_code_level1\n",
      "full_or_part_emp\n",
      "weeks_worked\n",
      "det_hh_fam_stat\n",
      "num_emp\n",
      "vet_benefits\n"
     ]
    }
   ],
   "source": [
    "\n",
    "for col in df.columns:\n",
    "    print(col)"
   ]
  },
  {
   "cell_type": "code",
   "execution_count": null,
   "metadata": {},
   "outputs": [],
   "source": []
  },
  {
   "cell_type": "code",
   "execution_count": 6,
   "metadata": {},
   "outputs": [],
   "source": [
    "df_changed, categories = data_cleaning_functions.change_to_cat(df,threshold=2)"
   ]
  },
  {
   "cell_type": "code",
   "execution_count": 7,
   "metadata": {},
   "outputs": [],
   "source": [
    "very_close_categories = categories"
   ]
  },
  {
   "cell_type": "code",
   "execution_count": 9,
   "metadata": {},
   "outputs": [],
   "source": [
    "almost_duplicates = data_cleaning_functions.check_almost_duplicates(categories)"
   ]
  },
  {
   "cell_type": "code",
   "execution_count": 10,
   "metadata": {},
   "outputs": [
    {
     "data": {
      "text/html": [
       "<div>\n",
       "<style scoped>\n",
       "    .dataframe tbody tr th:only-of-type {\n",
       "        vertical-align: middle;\n",
       "    }\n",
       "\n",
       "    .dataframe tbody tr th {\n",
       "        vertical-align: top;\n",
       "    }\n",
       "\n",
       "    .dataframe thead th {\n",
       "        text-align: right;\n",
       "    }\n",
       "</style>\n",
       "<table border=\"1\" class=\"dataframe\">\n",
       "  <thead>\n",
       "    <tr style=\"text-align: right;\">\n",
       "      <th></th>\n",
       "    </tr>\n",
       "  </thead>\n",
       "  <tbody>\n",
       "  </tbody>\n",
       "</table>\n",
       "</div>"
      ],
      "text/plain": [
       "Empty DataFrame\n",
       "Columns: []\n",
       "Index: []"
      ]
     },
     "execution_count": 10,
     "metadata": {},
     "output_type": "execute_result"
    }
   ],
   "source": [
    "almost_duplicates"
   ]
  },
  {
   "cell_type": "code",
   "execution_count": null,
   "metadata": {},
   "outputs": [],
   "source": []
  }
 ],
 "metadata": {
  "kernelspec": {
   "display_name": "Python 3",
   "language": "python",
   "name": "python3"
  },
  "language_info": {
   "codemirror_mode": {
    "name": "ipython",
    "version": 3
   },
   "file_extension": ".py",
   "mimetype": "text/x-python",
   "name": "python",
   "nbconvert_exporter": "python",
   "pygments_lexer": "ipython3",
   "version": "3.9.0"
  }
 },
 "nbformat": 4,
 "nbformat_minor": 4
}
