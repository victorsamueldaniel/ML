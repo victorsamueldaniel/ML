{
 "cells": [
  {
   "cell_type": "code",
   "execution_count": 1,
   "metadata": {},
   "outputs": [],
   "source": [
    "import pandas as pd\n",
    "import matplotlib.pyplot as plt\n",
    "import numpy as np\n",
    "from sklearn.datasets import fetch_openml\n",
    "from sklearn.model_selection import KFold, train_test_split, GridSearchCV\n",
    "\n",
    "from sklearn.base import BaseEstimator, TransformerMixin\n",
    "\n",
    "from sklearn.preprocessing import StandardScaler, PolynomialFeatures\n",
    "from sklearn.impute import SimpleImputer\n",
    "from sklearn.pipeline import Pipeline, FeatureUnion\n",
    "from sklearn.compose import ColumnTransformer\n",
    "\n",
    "from sklearn.linear_model import LogisticRegression\n",
    "from sklearn.discriminant_analysis import (\n",
    "    LinearDiscriminantAnalysis,\n",
    "    QuadraticDiscriminantAnalysis,\n",
    ")\n",
    "\n",
    "from sklearn.metrics import accuracy_score"
   ]
  },
  {
   "cell_type": "code",
   "execution_count": 3,
   "metadata": {},
   "outputs": [
    {
     "name": "stdout",
     "output_type": "stream",
     "text": [
      "<class 'pandas.core.frame.DataFrame'>\n",
      "RangeIndex: 54607 entries, 0 to 54606\n",
      "Data columns (total 41 columns):\n",
      " #   Column            Non-Null Count  Dtype  \n",
      "---  ------            --------------  -----  \n",
      " 0   id                54607 non-null  int64  \n",
      " 1   occ_code_level2   54607 non-null  int64  \n",
      " 2   age               29892 non-null  float64\n",
      " 3   stock_dividends   29720 non-null  float64\n",
      " 4   mig_chg_msa       26888 non-null  object \n",
      " 5   tax_filer_stat    29121 non-null  object \n",
      " 6   det_hh_summ       54607 non-null  object \n",
      " 7   mig_prev_sunbelt  26888 non-null  object \n",
      " 8   hisp_origin       54377 non-null  object \n",
      " 9   education         29786 non-null  object \n",
      " 10  wage_per_hour     29712 non-null  float64\n",
      " 11  capital_losses    29850 non-null  float64\n",
      " 12  vet_question      54607 non-null  object \n",
      " 13  own_or_self       54607 non-null  int64  \n",
      " 14  country_self      53532 non-null  object \n",
      " 15  mig_move_reg      26888 non-null  object \n",
      " 16  high_income       54607 non-null  int64  \n",
      " 17  hs_college        29771 non-null  object \n",
      " 18  class_worker      54607 non-null  object \n",
      " 19  mig_same          54607 non-null  object \n",
      " 20  unemp_reason      29642 non-null  object \n",
      " 21  state_prev_res    54423 non-null  object \n",
      " 22  ind_code_level2   54607 non-null  int64  \n",
      " 23  race              29759 non-null  object \n",
      " 24  country_mother    52818 non-null  object \n",
      " 25  capital_gains     29716 non-null  float64\n",
      " 26  sex               30073 non-null  object \n",
      " 27  ind_code_level1   54607 non-null  object \n",
      " 28  citizenship       54607 non-null  object \n",
      " 29  union_member      54607 non-null  object \n",
      " 30  fam_under_18      54607 non-null  object \n",
      " 31  marital_stat      29126 non-null  object \n",
      " 32  region_prev_res   54607 non-null  object \n",
      " 33  mig_chg_reg       26888 non-null  object \n",
      " 34  country_father    52581 non-null  object \n",
      " 35  occ_code_level1   54607 non-null  object \n",
      " 36  full_or_part_emp  54607 non-null  object \n",
      " 37  weeks_worked      30410 non-null  float64\n",
      " 38  det_hh_fam_stat   54607 non-null  object \n",
      " 39  num_emp           54607 non-null  int64  \n",
      " 40  vet_benefits      54607 non-null  int64  \n",
      "dtypes: float64(6), int64(7), object(28)\n",
      "memory usage: 17.1+ MB\n"
     ]
    }
   ],
   "source": [
    "df=pd.read_csv(\"train.csv\")\n",
    "df.info()"
   ]
  }
 ],
 "metadata": {
  "kernelspec": {
   "display_name": "Python 3",
   "language": "python",
   "name": "python3"
  },
  "language_info": {
   "codemirror_mode": {
    "name": "ipython",
    "version": 3
   },
   "file_extension": ".py",
   "mimetype": "text/x-python",
   "name": "python",
   "nbconvert_exporter": "python",
   "pygments_lexer": "ipython3",
   "version": "3.8.5"
  }
 },
 "nbformat": 4,
 "nbformat_minor": 4
}
