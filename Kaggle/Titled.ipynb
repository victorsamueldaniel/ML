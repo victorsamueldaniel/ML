{
 "cells": [
  {
   "cell_type": "code",
   "execution_count": 1,
   "metadata": {},
   "outputs": [],
   "source": [
    "import pandas as pd\n",
    "import matplotlib.pyplot as plt\n",
    "import numpy as np\n",
    "from sklearn.datasets import fetch_openml\n",
    "from sklearn.model_selection import KFold, train_test_split, GridSearchCV\n",
    "\n",
    "from sklearn.base import BaseEstimator, TransformerMixin\n",
    "\n",
    "from sklearn.preprocessing import StandardScaler, PolynomialFeatures\n",
    "from sklearn.impute import SimpleImputer\n",
    "from sklearn.pipeline import Pipeline, FeatureUnion\n",
    "from sklearn.compose import ColumnTransformer\n",
    "\n",
    "from sklearn.linear_model import LogisticRegression\n",
    "from sklearn.discriminant_analysis import (\n",
    "    LinearDiscriminantAnalysis,\n",
    "    QuadraticDiscriminantAnalysis,\n",
    ")\n",
    "\n",
    "from sklearn.metrics import accuracy_score\n"
   ]
  },
  {
   "cell_type": "code",
   "execution_count": 2,
   "metadata": {},
   "outputs": [],
   "source": [
    "\n",
    "import os, sys\n",
    "sys.path.append(os.path.dirname(os.getcwd()) + \"\\\\general_python_scripts\") #need to add folder \"general_python_scripts\" to path to be able to import following module\n",
    "import data_cleaning_functions\n"
   ]
  },
  {
   "cell_type": "code",
   "execution_count": 3,
   "metadata": {},
   "outputs": [
    {
     "name": "stdout",
     "output_type": "stream",
     "text": [
      "<class 'pandas.core.frame.DataFrame'>\n",
      "RangeIndex: 54607 entries, 0 to 54606\n",
      "Data columns (total 41 columns):\n",
      " #   Column            Non-Null Count  Dtype  \n",
      "---  ------            --------------  -----  \n",
      " 0   id                54607 non-null  int64  \n",
      " 1   occ_code_level2   54607 non-null  int64  \n",
      " 2   age               29892 non-null  float64\n",
      " 3   stock_dividends   29720 non-null  float64\n",
      " 4   mig_chg_msa       26888 non-null  object \n",
      " 5   tax_filer_stat    29121 non-null  object \n",
      " 6   det_hh_summ       54607 non-null  object \n",
      " 7   mig_prev_sunbelt  26888 non-null  object \n",
      " 8   hisp_origin       54377 non-null  object \n",
      " 9   education         29786 non-null  object \n",
      " 10  wage_per_hour     29712 non-null  float64\n",
      " 11  capital_losses    29850 non-null  float64\n",
      " 12  vet_question      54607 non-null  object \n",
      " 13  own_or_self       54607 non-null  int64  \n",
      " 14  country_self      53532 non-null  object \n",
      " 15  mig_move_reg      26888 non-null  object \n",
      " 16  high_income       54607 non-null  int64  \n",
      " 17  hs_college        29771 non-null  object \n",
      " 18  class_worker      54607 non-null  object \n",
      " 19  mig_same          54607 non-null  object \n",
      " 20  unemp_reason      29642 non-null  object \n",
      " 21  state_prev_res    54423 non-null  object \n",
      " 22  ind_code_level2   54607 non-null  int64  \n",
      " 23  race              29759 non-null  object \n",
      " 24  country_mother    52818 non-null  object \n",
      " 25  capital_gains     29716 non-null  float64\n",
      " 26  sex               30073 non-null  object \n",
      " 27  ind_code_level1   54607 non-null  object \n",
      " 28  citizenship       54607 non-null  object \n",
      " 29  union_member      54607 non-null  object \n",
      " 30  fam_under_18      54607 non-null  object \n",
      " 31  marital_stat      29126 non-null  object \n",
      " 32  region_prev_res   54607 non-null  object \n",
      " 33  mig_chg_reg       26888 non-null  object \n",
      " 34  country_father    52581 non-null  object \n",
      " 35  occ_code_level1   54607 non-null  object \n",
      " 36  full_or_part_emp  54607 non-null  object \n",
      " 37  weeks_worked      30410 non-null  float64\n",
      " 38  det_hh_fam_stat   54607 non-null  object \n",
      " 39  num_emp           54607 non-null  int64  \n",
      " 40  vet_benefits      54607 non-null  int64  \n",
      "dtypes: float64(6), int64(7), object(28)\n",
      "memory usage: 17.1+ MB\n"
     ]
    }
   ],
   "source": [
    "df=pd.read_csv(\"train.csv\")\n",
    "df.info()"
   ]
  },
  {
   "cell_type": "markdown",
   "metadata": {},
   "source": [
    "checking all rows containing NaN's"
   ]
  },
  {
   "cell_type": "code",
   "execution_count": 4,
   "metadata": {},
   "outputs": [
    {
     "data": {
      "text/html": [
       "<div>\n",
       "<style scoped>\n",
       "    .dataframe tbody tr th:only-of-type {\n",
       "        vertical-align: middle;\n",
       "    }\n",
       "\n",
       "    .dataframe tbody tr th {\n",
       "        vertical-align: top;\n",
       "    }\n",
       "\n",
       "    .dataframe thead th {\n",
       "        text-align: right;\n",
       "    }\n",
       "</style>\n",
       "<table border=\"1\" class=\"dataframe\">\n",
       "  <thead>\n",
       "    <tr style=\"text-align: right;\">\n",
       "      <th></th>\n",
       "      <th>number_of_nan</th>\n",
       "    </tr>\n",
       "  </thead>\n",
       "  <tbody>\n",
       "    <tr>\n",
       "      <th>state_prev_res</th>\n",
       "      <td>184</td>\n",
       "    </tr>\n",
       "    <tr>\n",
       "      <th>hisp_origin</th>\n",
       "      <td>230</td>\n",
       "    </tr>\n",
       "    <tr>\n",
       "      <th>country_self</th>\n",
       "      <td>1075</td>\n",
       "    </tr>\n",
       "    <tr>\n",
       "      <th>country_mother</th>\n",
       "      <td>1789</td>\n",
       "    </tr>\n",
       "    <tr>\n",
       "      <th>country_father</th>\n",
       "      <td>2026</td>\n",
       "    </tr>\n",
       "    <tr>\n",
       "      <th>weeks_worked</th>\n",
       "      <td>24197</td>\n",
       "    </tr>\n",
       "    <tr>\n",
       "      <th>sex</th>\n",
       "      <td>24534</td>\n",
       "    </tr>\n",
       "    <tr>\n",
       "      <th>age</th>\n",
       "      <td>24715</td>\n",
       "    </tr>\n",
       "    <tr>\n",
       "      <th>capital_losses</th>\n",
       "      <td>24757</td>\n",
       "    </tr>\n",
       "    <tr>\n",
       "      <th>education</th>\n",
       "      <td>24821</td>\n",
       "    </tr>\n",
       "    <tr>\n",
       "      <th>hs_college</th>\n",
       "      <td>24836</td>\n",
       "    </tr>\n",
       "    <tr>\n",
       "      <th>race</th>\n",
       "      <td>24848</td>\n",
       "    </tr>\n",
       "    <tr>\n",
       "      <th>stock_dividends</th>\n",
       "      <td>24887</td>\n",
       "    </tr>\n",
       "    <tr>\n",
       "      <th>capital_gains</th>\n",
       "      <td>24891</td>\n",
       "    </tr>\n",
       "    <tr>\n",
       "      <th>wage_per_hour</th>\n",
       "      <td>24895</td>\n",
       "    </tr>\n",
       "    <tr>\n",
       "      <th>unemp_reason</th>\n",
       "      <td>24965</td>\n",
       "    </tr>\n",
       "    <tr>\n",
       "      <th>marital_stat</th>\n",
       "      <td>25481</td>\n",
       "    </tr>\n",
       "    <tr>\n",
       "      <th>tax_filer_stat</th>\n",
       "      <td>25486</td>\n",
       "    </tr>\n",
       "    <tr>\n",
       "      <th>mig_prev_sunbelt</th>\n",
       "      <td>27719</td>\n",
       "    </tr>\n",
       "    <tr>\n",
       "      <th>mig_chg_msa</th>\n",
       "      <td>27719</td>\n",
       "    </tr>\n",
       "    <tr>\n",
       "      <th>mig_chg_reg</th>\n",
       "      <td>27719</td>\n",
       "    </tr>\n",
       "    <tr>\n",
       "      <th>mig_move_reg</th>\n",
       "      <td>27719</td>\n",
       "    </tr>\n",
       "  </tbody>\n",
       "</table>\n",
       "</div>"
      ],
      "text/plain": [
       "                  number_of_nan\n",
       "state_prev_res              184\n",
       "hisp_origin                 230\n",
       "country_self               1075\n",
       "country_mother             1789\n",
       "country_father             2026\n",
       "weeks_worked              24197\n",
       "sex                       24534\n",
       "age                       24715\n",
       "capital_losses            24757\n",
       "education                 24821\n",
       "hs_college                24836\n",
       "race                      24848\n",
       "stock_dividends           24887\n",
       "capital_gains             24891\n",
       "wage_per_hour             24895\n",
       "unemp_reason              24965\n",
       "marital_stat              25481\n",
       "tax_filer_stat            25486\n",
       "mig_prev_sunbelt          27719\n",
       "mig_chg_msa               27719\n",
       "mig_chg_reg               27719\n",
       "mig_move_reg              27719"
      ]
     },
     "execution_count": 4,
     "metadata": {},
     "output_type": "execute_result"
    }
   ],
   "source": [
    "null_per_column = pd.DataFrame({ col : [df[col].isnull().sum().sum()] for col in df.columns if df[col].isnull().sum().sum()!=0}, index=['number_of_nan']).T.sort_values('number_of_nan')\n",
    "null_per_column"
   ]
  },
  {
   "cell_type": "code",
   "execution_count": 5,
   "metadata": {},
   "outputs": [
    {
     "data": {
      "text/plain": [
       "27719"
      ]
     },
     "execution_count": 5,
     "metadata": {},
     "output_type": "execute_result"
    }
   ],
   "source": [
    "df['mig_prev_sunbelt'].isnull().sum().sum()"
   ]
  },
  {
   "cell_type": "code",
   "execution_count": 6,
   "metadata": {},
   "outputs": [
    {
     "name": "stdout",
     "output_type": "stream",
     "text": [
      "id\n",
      "occ_code_level2\n",
      "age\n",
      "stock_dividends\n",
      "mig_chg_msa\n",
      "tax_filer_stat\n",
      "det_hh_summ\n",
      "mig_prev_sunbelt\n",
      "hisp_origin\n",
      "education\n",
      "wage_per_hour\n",
      "capital_losses\n",
      "vet_question\n",
      "own_or_self\n",
      "country_self\n",
      "mig_move_reg\n",
      "high_income\n",
      "hs_college\n",
      "class_worker\n",
      "mig_same\n",
      "unemp_reason\n",
      "state_prev_res\n",
      "ind_code_level2\n",
      "race\n",
      "country_mother\n",
      "capital_gains\n",
      "sex\n",
      "ind_code_level1\n",
      "citizenship\n",
      "union_member\n",
      "fam_under_18\n",
      "marital_stat\n",
      "region_prev_res\n",
      "mig_chg_reg\n",
      "country_father\n",
      "occ_code_level1\n",
      "full_or_part_emp\n",
      "weeks_worked\n",
      "det_hh_fam_stat\n",
      "num_emp\n",
      "vet_benefits\n"
     ]
    }
   ],
   "source": [
    "\n",
    "for col in df.columns:\n",
    "    print(col)"
   ]
  },
  {
   "cell_type": "markdown",
   "metadata": {},
   "source": []
  },
  {
   "cell_type": "code",
   "execution_count": null,
   "metadata": {},
   "outputs": [],
   "source": []
  },
  {
   "cell_type": "code",
   "execution_count": 7,
   "metadata": {},
   "outputs": [],
   "source": [
    "df_changed, categories = data_cleaning_functions.change_to_cat(df,threshold=2)"
   ]
  },
  {
   "cell_type": "code",
   "execution_count": 8,
   "metadata": {},
   "outputs": [],
   "source": [
    "very_close_categories = categories"
   ]
  },
  {
   "cell_type": "code",
   "execution_count": 9,
   "metadata": {},
   "outputs": [
    {
     "ename": "TypeError",
     "evalue": "'float' object is not iterable",
     "output_type": "error",
     "traceback": [
      "\u001b[1;31m---------------------------------------------------------------------------\u001b[0m",
      "\u001b[1;31mTypeError\u001b[0m                                 Traceback (most recent call last)",
      "\u001b[1;32mc:\\Users\\vicki_la_tombe\\Documents\\stat_drive_shared\\spring\\ML\\Kaggle\\Untitled.ipynb Cell 11'\u001b[0m in \u001b[0;36m<cell line: 1>\u001b[1;34m()\u001b[0m\n\u001b[1;32m----> <a href='vscode-notebook-cell:/c%3A/Users/vicki_la_tombe/Documents/stat_drive_shared/spring/ML/Kaggle/Untitled.ipynb#ch0000009?line=0'>1</a>\u001b[0m almost_duplicates \u001b[39m=\u001b[39m data_cleaning_functions\u001b[39m.\u001b[39;49mcheck_almost_duplicates(categories)\n",
      "File \u001b[1;32mc:\\Users\\vicki_la_tombe\\Documents\\stat_drive_shared\\spring\\ML\\general_python_scripts\\data_cleaning_functions.py:33\u001b[0m, in \u001b[0;36mcheck_almost_duplicates\u001b[1;34m(df)\u001b[0m\n\u001b[0;32m     <a href='file:///c%3A/Users/vicki_la_tombe/Documents/stat_drive_shared/spring/ML/general_python_scripts/data_cleaning_functions.py?line=30'>31</a>\u001b[0m \u001b[39mfor\u001b[39;00m iterating_line \u001b[39min\u001b[39;00m \u001b[39mrange\u001b[39m(\u001b[39mlen\u001b[39m(df)\u001b[39m-\u001b[39m\u001b[39m1\u001b[39m):\n\u001b[0;32m     <a href='file:///c%3A/Users/vicki_la_tombe/Documents/stat_drive_shared/spring/ML/general_python_scripts/data_cleaning_functions.py?line=31'>32</a>\u001b[0m     \u001b[39mfor\u001b[39;00m comparing_line \u001b[39min\u001b[39;00m \u001b[39mrange\u001b[39m(iterating_line\u001b[39m+\u001b[39m\u001b[39m1\u001b[39m,\u001b[39mlen\u001b[39m(df)):\n\u001b[1;32m---> <a href='file:///c%3A/Users/vicki_la_tombe/Documents/stat_drive_shared/spring/ML/general_python_scripts/data_cleaning_functions.py?line=32'>33</a>\u001b[0m         \u001b[39mif\u001b[39;00m SequenceMatcher(\u001b[39mNone\u001b[39;49;00m, series_of_column\u001b[39m.\u001b[39;49miloc[iterating_line],series_of_column\u001b[39m.\u001b[39;49miloc[comparing_line])\u001b[39m.\u001b[39mratio()\u001b[39m>\u001b[39m\u001b[39m0.7\u001b[39m:\n\u001b[0;32m     <a href='file:///c%3A/Users/vicki_la_tombe/Documents/stat_drive_shared/spring/ML/general_python_scripts/data_cleaning_functions.py?line=33'>34</a>\u001b[0m             boolean_series_of_column\u001b[39m.\u001b[39miloc[iterating_line]\u001b[39m=\u001b[39m\u001b[39mTrue\u001b[39;00m\n\u001b[0;32m     <a href='file:///c%3A/Users/vicki_la_tombe/Documents/stat_drive_shared/spring/ML/general_python_scripts/data_cleaning_functions.py?line=34'>35</a>\u001b[0m             boolean_series_of_column\u001b[39m.\u001b[39miloc[comparing_line]\u001b[39m=\u001b[39m\u001b[39mTrue\u001b[39;00m\n",
      "File \u001b[1;32m~\\AppData\\Local\\Programs\\Python\\Python39\\lib\\difflib.py:214\u001b[0m, in \u001b[0;36mSequenceMatcher.__init__\u001b[1;34m(self, isjunk, a, b, autojunk)\u001b[0m\n\u001b[0;32m    <a href='file:///c%3A/Users/vicki_la_tombe/AppData/Local/Programs/Python/Python39/lib/difflib.py?line=211'>212</a>\u001b[0m \u001b[39mself\u001b[39m\u001b[39m.\u001b[39ma \u001b[39m=\u001b[39m \u001b[39mself\u001b[39m\u001b[39m.\u001b[39mb \u001b[39m=\u001b[39m \u001b[39mNone\u001b[39;00m\n\u001b[0;32m    <a href='file:///c%3A/Users/vicki_la_tombe/AppData/Local/Programs/Python/Python39/lib/difflib.py?line=212'>213</a>\u001b[0m \u001b[39mself\u001b[39m\u001b[39m.\u001b[39mautojunk \u001b[39m=\u001b[39m autojunk\n\u001b[1;32m--> <a href='file:///c%3A/Users/vicki_la_tombe/AppData/Local/Programs/Python/Python39/lib/difflib.py?line=213'>214</a>\u001b[0m \u001b[39mself\u001b[39;49m\u001b[39m.\u001b[39;49mset_seqs(a, b)\n",
      "File \u001b[1;32m~\\AppData\\Local\\Programs\\Python\\Python39\\lib\\difflib.py:226\u001b[0m, in \u001b[0;36mSequenceMatcher.set_seqs\u001b[1;34m(self, a, b)\u001b[0m\n\u001b[0;32m    <a href='file:///c%3A/Users/vicki_la_tombe/AppData/Local/Programs/Python/Python39/lib/difflib.py?line=216'>217</a>\u001b[0m \u001b[39m\"\"\"Set the two sequences to be compared.\u001b[39;00m\n\u001b[0;32m    <a href='file:///c%3A/Users/vicki_la_tombe/AppData/Local/Programs/Python/Python39/lib/difflib.py?line=217'>218</a>\u001b[0m \n\u001b[0;32m    <a href='file:///c%3A/Users/vicki_la_tombe/AppData/Local/Programs/Python/Python39/lib/difflib.py?line=218'>219</a>\u001b[0m \u001b[39m>>> s = SequenceMatcher()\u001b[39;00m\n\u001b[1;32m   (...)\u001b[0m\n\u001b[0;32m    <a href='file:///c%3A/Users/vicki_la_tombe/AppData/Local/Programs/Python/Python39/lib/difflib.py?line=221'>222</a>\u001b[0m \u001b[39m0.75\u001b[39;00m\n\u001b[0;32m    <a href='file:///c%3A/Users/vicki_la_tombe/AppData/Local/Programs/Python/Python39/lib/difflib.py?line=222'>223</a>\u001b[0m \u001b[39m\"\"\"\u001b[39;00m\n\u001b[0;32m    <a href='file:///c%3A/Users/vicki_la_tombe/AppData/Local/Programs/Python/Python39/lib/difflib.py?line=224'>225</a>\u001b[0m \u001b[39mself\u001b[39m\u001b[39m.\u001b[39mset_seq1(a)\n\u001b[1;32m--> <a href='file:///c%3A/Users/vicki_la_tombe/AppData/Local/Programs/Python/Python39/lib/difflib.py?line=225'>226</a>\u001b[0m \u001b[39mself\u001b[39;49m\u001b[39m.\u001b[39;49mset_seq2(b)\n",
      "File \u001b[1;32m~\\AppData\\Local\\Programs\\Python\\Python39\\lib\\difflib.py:280\u001b[0m, in \u001b[0;36mSequenceMatcher.set_seq2\u001b[1;34m(self, b)\u001b[0m\n\u001b[0;32m    <a href='file:///c%3A/Users/vicki_la_tombe/AppData/Local/Programs/Python/Python39/lib/difflib.py?line=277'>278</a>\u001b[0m \u001b[39mself\u001b[39m\u001b[39m.\u001b[39mmatching_blocks \u001b[39m=\u001b[39m \u001b[39mself\u001b[39m\u001b[39m.\u001b[39mopcodes \u001b[39m=\u001b[39m \u001b[39mNone\u001b[39;00m\n\u001b[0;32m    <a href='file:///c%3A/Users/vicki_la_tombe/AppData/Local/Programs/Python/Python39/lib/difflib.py?line=278'>279</a>\u001b[0m \u001b[39mself\u001b[39m\u001b[39m.\u001b[39mfullbcount \u001b[39m=\u001b[39m \u001b[39mNone\u001b[39;00m\n\u001b[1;32m--> <a href='file:///c%3A/Users/vicki_la_tombe/AppData/Local/Programs/Python/Python39/lib/difflib.py?line=279'>280</a>\u001b[0m \u001b[39mself\u001b[39;49m\u001b[39m.\u001b[39;49m__chain_b()\n",
      "File \u001b[1;32m~\\AppData\\Local\\Programs\\Python\\Python39\\lib\\difflib.py:312\u001b[0m, in \u001b[0;36mSequenceMatcher.__chain_b\u001b[1;34m(self)\u001b[0m\n\u001b[0;32m    <a href='file:///c%3A/Users/vicki_la_tombe/AppData/Local/Programs/Python/Python39/lib/difflib.py?line=308'>309</a>\u001b[0m b \u001b[39m=\u001b[39m \u001b[39mself\u001b[39m\u001b[39m.\u001b[39mb\n\u001b[0;32m    <a href='file:///c%3A/Users/vicki_la_tombe/AppData/Local/Programs/Python/Python39/lib/difflib.py?line=309'>310</a>\u001b[0m \u001b[39mself\u001b[39m\u001b[39m.\u001b[39mb2j \u001b[39m=\u001b[39m b2j \u001b[39m=\u001b[39m {}\n\u001b[1;32m--> <a href='file:///c%3A/Users/vicki_la_tombe/AppData/Local/Programs/Python/Python39/lib/difflib.py?line=311'>312</a>\u001b[0m \u001b[39mfor\u001b[39;00m i, elt \u001b[39min\u001b[39;00m \u001b[39menumerate\u001b[39;49m(b):\n\u001b[0;32m    <a href='file:///c%3A/Users/vicki_la_tombe/AppData/Local/Programs/Python/Python39/lib/difflib.py?line=312'>313</a>\u001b[0m     indices \u001b[39m=\u001b[39m b2j\u001b[39m.\u001b[39msetdefault(elt, [])\n\u001b[0;32m    <a href='file:///c%3A/Users/vicki_la_tombe/AppData/Local/Programs/Python/Python39/lib/difflib.py?line=313'>314</a>\u001b[0m     indices\u001b[39m.\u001b[39mappend(i)\n",
      "\u001b[1;31mTypeError\u001b[0m: 'float' object is not iterable"
     ]
    }
   ],
   "source": [
    "almost_duplicates = data_cleaning_functions.check_almost_duplicates(categories)"
   ]
  },
  {
   "cell_type": "code",
   "execution_count": null,
   "metadata": {},
   "outputs": [
    {
     "data": {
      "text/html": [
       "<div>\n",
       "<style scoped>\n",
       "    .dataframe tbody tr th:only-of-type {\n",
       "        vertical-align: middle;\n",
       "    }\n",
       "\n",
       "    .dataframe tbody tr th {\n",
       "        vertical-align: top;\n",
       "    }\n",
       "\n",
       "    .dataframe thead th {\n",
       "        text-align: right;\n",
       "    }\n",
       "</style>\n",
       "<table border=\"1\" class=\"dataframe\">\n",
       "  <thead>\n",
       "    <tr style=\"text-align: right;\">\n",
       "      <th></th>\n",
       "    </tr>\n",
       "  </thead>\n",
       "  <tbody>\n",
       "  </tbody>\n",
       "</table>\n",
       "</div>"
      ],
      "text/plain": [
       "Empty DataFrame\n",
       "Columns: []\n",
       "Index: []"
      ]
     },
     "execution_count": 10,
     "metadata": {},
     "output_type": "execute_result"
    }
   ],
   "source": [
    "almost_duplicates"
   ]
  },
  {
   "cell_type": "code",
   "execution_count": null,
   "metadata": {},
   "outputs": [],
   "source": []
  }
 ],
 "metadata": {
  "kernelspec": {
   "display_name": "Python 3",
   "language": "python",
   "name": "python3"
  },
  "language_info": {
   "codemirror_mode": {
    "name": "ipython",
    "version": 3
   },
   "file_extension": ".py",
   "mimetype": "text/x-python",
   "name": "python",
   "nbconvert_exporter": "python",
   "pygments_lexer": "ipython3",
   "version": "3.9.0"
  }
 },
 "nbformat": 4,
 "nbformat_minor": 4
}
