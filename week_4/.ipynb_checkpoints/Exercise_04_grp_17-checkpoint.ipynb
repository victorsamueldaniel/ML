{
 "cells": [
  {
   "cell_type": "markdown",
   "metadata": {},
   "source": [
    "# Machine Learning: Exercise session 04"
   ]
  },
  {
   "cell_type": "markdown",
   "metadata": {},
   "source": [
    "In this exercise session we will focus on Ridge and Lasso regression. You will learn how to fit, predict, and cross-validate these models.\n",
    "\n",
    "In the first problem, we will continue using the housing dataset where we added several interaction terms, and one additional variable named `X1`. You can download the data from Moodle in this week's section.\n",
    "\n",
    "The second problem is theoretical and not due for hand-in. There, we will derive the closed-form solution for the Ridge regression (notice that Lasso regression has no closed-form solution)."
   ]
  },
  {
   "cell_type": "markdown",
   "metadata": {},
   "source": [
    "## Problem 1"
   ]
  },
  {
   "cell_type": "markdown",
   "metadata": {},
   "source": [
    "### 0. Load data and create a test set"
   ]
  },
  {
   "cell_type": "code",
   "execution_count": 2,
   "metadata": {},
   "outputs": [],
   "source": [
    "import matplotlib.pyplot as plt\n",
    "%matplotlib inline\n",
    "import numpy as np\n",
    "import pandas as pd"
   ]
  },
  {
   "cell_type": "markdown",
   "metadata": {},
   "source": [
    "* Import the clean housing dataset with `pd.read_csv` and take a quick look at it, to verify that it is in the desired shape (display the dataframe, check its \"infos\")."
   ]
  },
  {
   "cell_type": "code",
   "execution_count": 3,
   "metadata": {
    "ExecuteTime": {
     "end_time": "2021-03-11T17:40:07.020276Z",
     "start_time": "2021-03-11T17:40:05.837658Z"
    }
   },
   "outputs": [],
   "source": [
    "df=pd.read_csv(\"housing_interactions.csv\")"
   ]
  },
  {
   "cell_type": "code",
   "execution_count": 4,
   "metadata": {},
   "outputs": [
    {
     "name": "stdout",
     "output_type": "stream",
     "text": [
      "<class 'pandas.core.frame.DataFrame'>\n",
      "RangeIndex: 20417 entries, 0 to 20416\n",
      "Data columns (total 38 columns):\n",
      " #   Column                                    Non-Null Count  Dtype  \n",
      "---  ------                                    --------------  -----  \n",
      " 0   median_house_value                        20417 non-null  int64  \n",
      " 1   ocean_proximity_enc                       20417 non-null  int64  \n",
      " 2   longitude                                 20417 non-null  float64\n",
      " 3   latitude                                  20417 non-null  float64\n",
      " 4   housing_median_age                        20417 non-null  float64\n",
      " 5   median_income                             20417 non-null  float64\n",
      " 6   rooms_per_bedroom                         20417 non-null  float64\n",
      " 7   rooms_per_household                       20417 non-null  float64\n",
      " 8   people_per_household                      20417 non-null  float64\n",
      " 9   X1                                        20417 non-null  float64\n",
      " 10  longitude:latitude                        20417 non-null  float64\n",
      " 11  longitude:housing_median_age              20417 non-null  float64\n",
      " 12  longitude:median_income                   20417 non-null  float64\n",
      " 13  longitude:rooms_per_bedroom               20417 non-null  float64\n",
      " 14  longitude:rooms_per_household             20417 non-null  float64\n",
      " 15  longitude:people_per_household            20417 non-null  float64\n",
      " 16  longitude:X1                              20417 non-null  float64\n",
      " 17  latitude:housing_median_age               20417 non-null  float64\n",
      " 18  latitude:median_income                    20417 non-null  float64\n",
      " 19  latitude:rooms_per_bedroom                20417 non-null  float64\n",
      " 20  latitude:rooms_per_household              20417 non-null  float64\n",
      " 21  latitude:people_per_household             20417 non-null  float64\n",
      " 22  latitude:X1                               20417 non-null  float64\n",
      " 23  housing_median_age:median_income          20417 non-null  float64\n",
      " 24  housing_median_age:rooms_per_bedroom      20417 non-null  float64\n",
      " 25  housing_median_age:rooms_per_household    20417 non-null  float64\n",
      " 26  housing_median_age:people_per_household   20417 non-null  float64\n",
      " 27  housing_median_age:X1                     20417 non-null  float64\n",
      " 28  median_income:rooms_per_bedroom           20417 non-null  float64\n",
      " 29  median_income:rooms_per_household         20417 non-null  float64\n",
      " 30  median_income:people_per_household        20417 non-null  float64\n",
      " 31  median_income:X1                          20417 non-null  float64\n",
      " 32  rooms_per_bedroom:rooms_per_household     20417 non-null  float64\n",
      " 33  rooms_per_bedroom:people_per_household    20417 non-null  float64\n",
      " 34  rooms_per_bedroom:X1                      20417 non-null  float64\n",
      " 35  rooms_per_household:people_per_household  20417 non-null  float64\n",
      " 36  rooms_per_household:X1                    20417 non-null  float64\n",
      " 37  people_per_household:X1                   20417 non-null  float64\n",
      "dtypes: float64(36), int64(2)\n",
      "memory usage: 5.9 MB\n"
     ]
    }
   ],
   "source": [
    "df\n",
    "df.info()"
   ]
  },
  {
   "cell_type": "markdown",
   "metadata": {},
   "source": [
    "* Separate the dataframe into the features `X` and the target variable `y`: (remember, we want to predict the median house value, given the other variables)"
   ]
  },
  {
   "cell_type": "code",
   "execution_count": 5,
   "metadata": {},
   "outputs": [],
   "source": [
    "X = df[[\"longitude\",\"latitude\", \"housing_median_age\",\"median_income\",\"rooms_per_bedroom\",\"rooms_per_household\",\"people_per_household\",\"ocean_proximity_enc\"]]\n",
    "Y = df[[\"median_house_value\"]]"
   ]
  },
  {
   "cell_type": "markdown",
   "metadata": {},
   "source": [
    "* Using the function `train_test_split`, split the dataset into training and test set. Set `test_size = 0.95` and `random_state = 12`. \n",
    "\n",
    "*Notice that we choose a very large fraction of test data because we want to see whether the Ridge and Lasso regression can handle the high-dimensional setting.*"
   ]
  },
  {
   "cell_type": "code",
   "execution_count": 6,
   "metadata": {
    "ExecuteTime": {
     "end_time": "2021-03-11T17:40:07.132428Z",
     "start_time": "2021-03-11T17:40:07.023280Z"
    }
   },
   "outputs": [],
   "source": [
    "from sklearn.model_selection import train_test_split\n",
    "x_train,x_test, y_train, y_test = train_test_split(X,Y, test_size=.95, random_state=12)"
   ]
  },
  {
   "cell_type": "markdown",
   "metadata": {},
   "source": [
    "### 1. Define models"
   ]
  },
  {
   "cell_type": "markdown",
   "metadata": {},
   "source": [
    "* Using the class `Ridge` from `sklearn.linear_model`, instantiate a ridge regression object with penalty parameter equal to 0.1. Furthermore, set `fit_intercept=True`, and `normalize=True`. Call this object `ridge_reg`."
   ]
  },
  {
   "cell_type": "code",
   "execution_count": 7,
   "metadata": {},
   "outputs": [],
   "source": [
    "from sklearn.linear_model import Ridge\n",
    "ridge_reg = Ridge(alpha=0.1, fit_intercept=True, normalize= True)\n"
   ]
  },
  {
   "cell_type": "markdown",
   "metadata": {},
   "source": [
    "* Using the class `Lasso` from `sklearn.linear_model`, instantiate a ridge regression object with penalty parameter equal to 0.1. Furthermore, set `fit_intercept=True`, `normalize=True`, and `max_iter=1e5`. Call this object `lasso_reg`."
   ]
  },
  {
   "cell_type": "code",
   "execution_count": 8,
   "metadata": {},
   "outputs": [],
   "source": [
    "from sklearn.linear_model import Lasso\n",
    "lasso_reg=Lasso(alpha=0.1, fit_intercept= True, normalize = True, max_iter=1e5)"
   ]
  },
  {
   "cell_type": "markdown",
   "metadata": {},
   "source": [
    "What is the role of the option `fit_intercept`?\n",
    "*The idea is too ask lasso to add the beta0 (the intercept) to its penality term*."
   ]
  },
  {
   "cell_type": "markdown",
   "metadata": {},
   "source": [
    "### 2. Fit Ridge regression"
   ]
  },
  {
   "cell_type": "markdown",
   "metadata": {},
   "source": [
    "* Fit the ridge regression on the training data previously created."
   ]
  },
  {
   "cell_type": "code",
   "execution_count": 9,
   "metadata": {},
   "outputs": [
    {
     "data": {
      "text/plain": [
       "Ridge(alpha=0.1, normalize=True)"
      ]
     },
     "execution_count": 9,
     "metadata": {},
     "output_type": "execute_result"
    }
   ],
   "source": [
    "ridge_reg.fit(x_train, y_train)"
   ]
  },
  {
   "cell_type": "markdown",
   "metadata": {},
   "source": [
    "* Compute the root mean square error of the fitted model on both the training and test set. What do you observe?\n",
    "Plus grand erreur de prédiction sur le testing data set que le training. Mais pas égal à 0 pour le training, car ridge empêche overfitting."
   ]
  },
  {
   "cell_type": "code",
   "execution_count": 10,
   "metadata": {},
   "outputs": [
    {
     "data": {
      "text/plain": [
       "70865.05984229532"
      ]
     },
     "execution_count": 10,
     "metadata": {},
     "output_type": "execute_result"
    }
   ],
   "source": [
    "from sklearn.metrics import mean_squared_error\n",
    "mse_train_ridge=mean_squared_error(y_train, ridge_reg.predict(x_train), squared=False)\n",
    "mse_train_ridge"
   ]
  },
  {
   "cell_type": "code",
   "execution_count": 11,
   "metadata": {},
   "outputs": [
    {
     "data": {
      "text/plain": [
       "72644.02908765641"
      ]
     },
     "execution_count": 11,
     "metadata": {},
     "output_type": "execute_result"
    }
   ],
   "source": [
    "mse_test_ridge=mean_squared_error(y_test, ridge_reg.predict(x_test), squared=False)\n",
    "mse_test_ridge"
   ]
  },
  {
   "cell_type": "code",
   "execution_count": 12,
   "metadata": {},
   "outputs": [
    {
     "data": {
      "text/plain": [
       "median_house_value    0.603663\n",
       "dtype: float64"
      ]
     },
     "execution_count": 12,
     "metadata": {},
     "output_type": "execute_result"
    }
   ],
   "source": [
    "# R^2: 1 - E[(Y - Y_hat)^2]/E[(Y - E[Y])^2] \n",
    "# (proportion of variability of Y explained by fitted model)\n",
    "1 - mean_squared_error(y_test, ridge_reg.predict(x_test)) / np.var(y_test)"
   ]
  },
  {
   "cell_type": "markdown",
   "metadata": {},
   "source": [
    "### 4. Plot Ridge regression coefficients"
   ]
  },
  {
   "cell_type": "markdown",
   "metadata": {},
   "source": [
    "We now want to plot the coefficients of the ridge regression for different values of the penalty parameter."
   ]
  },
  {
   "cell_type": "markdown",
   "metadata": {},
   "source": [
    "* Create a grid, named `grid`, of penalty values ranging from `1e-4` to `1e4`."
   ]
  },
  {
   "cell_type": "code",
   "execution_count": 13,
   "metadata": {},
   "outputs": [],
   "source": [
    "from sklearn.model_selection import GridSearchCV, KFold\n",
    "# grid = np.arange(1e-4, 1e4, 100)\n",
    "grid=np.array([1e-4*10**k for k in range(9)]) #why like this ?\n"
   ]
  },
  {
   "cell_type": "markdown",
   "metadata": {},
   "source": [
    "* Fill in the `??` below."
   ]
  },
  {
   "cell_type": "code",
   "execution_count": 14,
   "metadata": {},
   "outputs": [],
   "source": [
    "coefs_ridge = []\n",
    "for alph in grid:\n",
    "    ridge_reg.set_params(alpha= alph)\n",
    "    ridge_reg.fit(x_train, y_train) #train ou test? train ! Choisir l'hyperparameter fait partie du training.\n",
    "    coefs_ridge.append(ridge_reg.coef_[0])"
   ]
  },
  {
   "cell_type": "code",
   "execution_count": 15,
   "metadata": {},
   "outputs": [
    {
     "data": {
      "text/plain": [
       "<matplotlib.legend.Legend at 0x19d05f7b310>"
      ]
     },
     "execution_count": 15,
     "metadata": {},
     "output_type": "execute_result"
    },
    {
     "data": {
      "image/png": "[encoded data removed]",
      "text/plain": [
       "<Figure size 1224x648 with 1 Axes>"
      ]
     },
     "metadata": {
      "needs_background": "light"
     },
     "output_type": "display_data"
    }
   ],
   "source": [
    "plt.figure(figsize=(17,9))\n",
    "plt.plot(np.log10(grid), coefs_ridge)\n",
    "plt.legend(X.columns)"
   ]
  },
  {
   "cell_type": "markdown",
   "metadata": {},
   "source": [
    "### 5. Fit Lasso regression"
   ]
  },
  {
   "cell_type": "markdown",
   "metadata": {},
   "source": [
    "* Fit the lasso regression on the training data previously created."
   ]
  },
  {
   "cell_type": "code",
   "execution_count": 113,
   "metadata": {
    "ExecuteTime": {
     "end_time": "2021-03-11T17:40:09.034119Z",
     "start_time": "2021-03-11T17:40:07.202128Z"
    }
   },
   "outputs": [
    {
     "data": {
      "text/plain": [
       "Lasso(alpha=0.1, max_iter=100000.0, normalize=True)"
      ]
     },
     "execution_count": 113,
     "metadata": {},
     "output_type": "execute_result"
    }
   ],
   "source": [
    "lasso_reg.fit(x_train, y_train)"
   ]
  },
  {
   "cell_type": "markdown",
   "metadata": {},
   "source": [
    "* Compute the root mean square error of the fitted model on both the training and test set. What do you observe?"
   ]
  },
  {
   "cell_type": "code",
   "execution_count": 114,
   "metadata": {},
   "outputs": [
    {
     "data": {
      "text/plain": [
       "68001.22400069666"
      ]
     },
     "execution_count": 114,
     "metadata": {},
     "output_type": "execute_result"
    }
   ],
   "source": [
    "mse_train_lasso=mean_squared_error(y_train, lasso_reg.predict(x_train), squared=False)\n",
    "mse_train_lasso"
   ]
  },
  {
   "cell_type": "code",
   "execution_count": 115,
   "metadata": {},
   "outputs": [
    {
     "data": {
      "text/plain": [
       "95.7908916856538"
      ]
     },
     "execution_count": 115,
     "metadata": {},
     "output_type": "execute_result"
    }
   ],
   "source": [
    "mse_train_lasso/mse_train_ridge*100"
   ]
  },
  {
   "cell_type": "markdown",
   "metadata": {},
   "source": [
    "*mse on train with lasso is $96\\%$ of the ridge mse. So they are fairly similar*"
   ]
  },
  {
   "cell_type": "code",
   "execution_count": 116,
   "metadata": {},
   "outputs": [
    {
     "data": {
      "text/plain": [
       "109783.18230244677"
      ]
     },
     "execution_count": 116,
     "metadata": {},
     "output_type": "execute_result"
    }
   ],
   "source": [
    "mse_test_lasso=mean_squared_error(y_test, lasso_reg.predict(x_test), squared=False)\n",
    "mse_test_lasso"
   ]
  },
  {
   "cell_type": "code",
   "execution_count": 117,
   "metadata": {},
   "outputs": [
    {
     "data": {
      "text/plain": [
       "103.50522339079265"
      ]
     },
     "execution_count": 117,
     "metadata": {},
     "output_type": "execute_result"
    }
   ],
   "source": [
    "mse_test_lasso/mse_test_ridge*100"
   ]
  },
  {
   "cell_type": "markdown",
   "metadata": {},
   "source": [
    "*mse on test with lasso is $104\\%$ of the ridge mse. So they are fairly similar*"
   ]
  },
  {
   "cell_type": "markdown",
   "metadata": {},
   "source": [
    "### 6. Plot Lasso coefficients"
   ]
  },
  {
   "cell_type": "markdown",
   "metadata": {},
   "source": [
    "As above, we want to plot the coefficients of the lasso regression for different values of the penalty parameter."
   ]
  },
  {
   "cell_type": "markdown",
   "metadata": {},
   "source": [
    "* Fill in the `??` below."
   ]
  },
  {
   "cell_type": "code",
   "execution_count": 118,
   "metadata": {},
   "outputs": [],
   "source": [
    "coefs_lasso = []\n",
    "for alph in grid:\n",
    "    lasso_reg.set_params(alpha=alph)\n",
    "    lasso_reg.fit(x_train, y_train) #train or test?\n",
    "    coefs_lasso.append(lasso_reg.coef_)"
   ]
  },
  {
   "cell_type": "code",
   "execution_count": 119,
   "metadata": {},
   "outputs": [
    {
     "data": {
      "text/plain": [
       "<matplotlib.legend.Legend at 0x1691e154ee0>"
      ]
     },
     "execution_count": 119,
     "metadata": {},
     "output_type": "execute_result"
    },
    {
     "data": {
      "image/png": "[encoded data removed]",
      "text/plain": [
       "<Figure size 1224x648 with 1 Axes>"
      ]
     },
     "metadata": {
      "needs_background": "light"
     },
     "output_type": "display_data"
    }
   ],
   "source": [
    "plt.figure(figsize=(17,9))\n",
    "plt.plot(np.log10(grid), coefs_lasso)\n",
    "plt.legend(X.columns)"
   ]
  },
  {
   "cell_type": "markdown",
   "metadata": {},
   "source": [
    "### 7. Prepare CV"
   ]
  },
  {
   "cell_type": "markdown",
   "metadata": {},
   "source": [
    "At this point, we want to find the optimal penalty parameter for our models.\n",
    "We will use 10-fold cross-validation."
   ]
  },
  {
   "cell_type": "markdown",
   "metadata": {},
   "source": [
    "* Using the `KFold` class from `sklearn.model_selection` and instatiate an object named `folds`. Set the number of splits equal to 10, the random seed equal to 42, and make sure to shuffle the rows."
   ]
  },
  {
   "cell_type": "code",
   "execution_count": 120,
   "metadata": {},
   "outputs": [],
   "source": [
    "from sklearn.model_selection import KFold\n",
    "folds=KFold(n_splits=10, shuffle=True, random_state=42)\n"
   ]
  },
  {
   "cell_type": "markdown",
   "metadata": {},
   "source": [
    "### 8. CV for Ridge"
   ]
  },
  {
   "cell_type": "markdown",
   "metadata": {},
   "source": [
    "* Define a grid of penalty parameters for the ridge regression. You can use the same values used for the grid above. Name the object `ridge_grid`."
   ]
  },
  {
   "cell_type": "code",
   "execution_count": 121,
   "metadata": {},
   "outputs": [],
   "source": [
    "ridge_grid=grid"
   ]
  },
  {
   "cell_type": "markdown",
   "metadata": {},
   "source": [
    "* Create a dictionary with the key-value pair `\"alpha\"`, `ridge_grid`. What is the use of this object?"
   ]
  },
  {
   "cell_type": "code",
   "execution_count": 122,
   "metadata": {},
   "outputs": [],
   "source": [
    "hyper_parameters={\"alpha\" : ridge_grid}"
   ]
  },
  {
   "cell_type": "markdown",
   "metadata": {},
   "source": [
    "*It will be used to test different alpha values of the ridge fit.*"
   ]
  },
  {
   "cell_type": "markdown",
   "metadata": {},
   "source": [
    "* Import the class `GridSearchCV` from `sklearn.model_selection` and use it to instantiate a **cross-validation object** for the ridge regression. Make sure to include the following parameters: `estimator`, `param_grid`, `scoring`, `cv`."
   ]
  },
  {
   "cell_type": "code",
   "execution_count": 123,
   "metadata": {},
   "outputs": [],
   "source": [
    "from sklearn.model_selection import GridSearchCV\n",
    "ridge_cv=GridSearchCV(estimator=ridge_reg, param_grid=hyper_parameters, scoring=\"neg_mean_squared_error\",\n",
    "                       cv=folds)"
   ]
  },
  {
   "cell_type": "markdown",
   "metadata": {},
   "source": [
    "* Run the cross-validation by calling the `fit` method of the **cross-validation object** that you created at the point before."
   ]
  },
  {
   "cell_type": "code",
   "execution_count": 124,
   "metadata": {},
   "outputs": [
    {
     "data": {
      "text/plain": [
       "GridSearchCV(cv=KFold(n_splits=10, random_state=42, shuffle=True),\n",
       "             estimator=Ridge(alpha=10000.0, normalize=True),\n",
       "             param_grid={'alpha': array([1.e-04, 1.e-03, 1.e-02, 1.e-01, 1.e+00, 1.e+01, 1.e+02, 1.e+03,\n",
       "       1.e+04])},\n",
       "             scoring='neg_mean_squared_error')"
      ]
     },
     "execution_count": 124,
     "metadata": {},
     "output_type": "execute_result"
    }
   ],
   "source": [
    "ridge_cv.fit(x_train,y_train)"
   ]
  },
  {
   "cell_type": "markdown",
   "metadata": {},
   "source": [
    "* We want to plot the cross-validation error against different values of the penalty parameter. Fill in the `??`."
   ]
  },
  {
   "cell_type": "code",
   "execution_count": 125,
   "metadata": {},
   "outputs": [
    {
     "name": "stdout",
     "output_type": "stream",
     "text": [
      "Minimum alpha: 0.01\n"
     ]
    }
   ],
   "source": [
    "mean_scores = -ridge_cv.cv_results_[\"mean_test_score\"]\n",
    "std_scores = ridge_cv.cv_results_[\"std_test_score\"]\n",
    "alphas = np.array([k for k in ridge_cv.cv_results_[\"param_alpha\"].data]) \n",
    "\n",
    "best_index = np.argmin(mean_scores) # index of the alpha with the lowest MSE estimate\n",
    "min_alpha_ridge = ridge_grid[best_index]\n",
    "print(\"Minimum alpha:\", min_alpha_ridge)\n",
    "\n"
   ]
  },
  {
   "cell_type": "code",
   "execution_count": 126,
   "metadata": {},
   "outputs": [
    {
     "data": {
      "text/plain": [
       "{'mean_fit_time': array([0.00199947, 0.00219951, 0.00209992, 0.0020998 , 0.00220015,\n",
       "        0.00200002, 0.0019994 , 0.00209982, 0.00214431]),\n",
       " 'std_fit_time': array([9.48893964e-07, 4.00078797e-04, 2.99955153e-04, 3.00233840e-04,\n",
       "        4.00114361e-04, 7.91104318e-07, 8.22112067e-07, 2.99907451e-04,\n",
       "        3.14467299e-04]),\n",
       " 'mean_score_time': array([0.00150046, 0.00140052, 0.00160007, 0.00150015, 0.00149984,\n",
       "        0.00159991, 0.00150063, 0.00140009, 0.00145566]),\n",
       " 'std_score_time': array([0.00049963, 0.00049023, 0.00049016, 0.00050037, 0.00049987,\n",
       "        0.00049037, 0.0004998 , 0.00048995, 0.00047288]),\n",
       " 'param_alpha': masked_array(data=[0.0001, 0.001, 0.01, 0.1, 1.0, 10.0, 100.0, 1000.0,\n",
       "                    10000.0],\n",
       "              mask=[False, False, False, False, False, False, False, False,\n",
       "                    False],\n",
       "        fill_value='?',\n",
       "             dtype=object),\n",
       " 'params': [{'alpha': 0.0001},\n",
       "  {'alpha': 0.001},\n",
       "  {'alpha': 0.01},\n",
       "  {'alpha': 0.1},\n",
       "  {'alpha': 1.0},\n",
       "  {'alpha': 10.0},\n",
       "  {'alpha': 100.0},\n",
       "  {'alpha': 1000.0},\n",
       "  {'alpha': 10000.0}],\n",
       " 'split0_test_score': array([-5.14783319e+09, -5.14998041e+09, -5.18796879e+09, -5.87981209e+09,\n",
       "        -9.56827378e+09, -1.48830975e+10, -1.66098634e+10, -1.68255769e+10,\n",
       "        -1.68476916e+10]),\n",
       " 'split1_test_score': array([-3.21320838e+09, -3.20422102e+09, -3.13511679e+09, -3.10463370e+09,\n",
       "        -5.05770508e+09, -8.66981453e+09, -9.92666614e+09, -1.00865325e+10,\n",
       "        -1.01029575e+10]),\n",
       " 'split2_test_score': array([-2.98935491e+09, -2.98962711e+09, -3.00303050e+09, -3.36807441e+09,\n",
       "        -5.49235589e+09, -8.46427061e+09, -9.43632574e+09, -9.55923045e+09,\n",
       "        -9.57185170e+09]),\n",
       " 'split3_test_score': array([-5.34585100e+09, -5.34725371e+09, -5.37018702e+09, -5.84564717e+09,\n",
       "        -9.67565590e+09, -1.60413724e+10, -1.80795731e+10, -1.83331312e+10,\n",
       "        -1.83591148e+10]),\n",
       " 'split4_test_score': array([-1.97703118e+10, -1.97001479e+10, -1.91017379e+10, -1.64281349e+10,\n",
       "        -1.05960458e+10, -1.06526715e+10, -1.17961166e+10, -1.19569210e+10,\n",
       "        -1.19735924e+10]),\n",
       " 'split5_test_score': array([-4.96193379e+09, -4.96327156e+09, -4.98692524e+09, -5.40098979e+09,\n",
       "        -7.64600836e+09, -1.11511848e+10, -1.23754001e+10, -1.25307774e+10,\n",
       "        -1.25467355e+10]),\n",
       " 'split6_test_score': array([-7.21238696e+09, -7.22166301e+09, -7.30934081e+09, -7.89605386e+09,\n",
       "        -1.08303267e+10, -1.62169542e+10, -1.80439848e+10, -1.82726204e+10,\n",
       "        -1.82960615e+10]),\n",
       " 'split7_test_score': array([-5.67907237e+09, -5.68263148e+09, -5.72540122e+09, -6.20639261e+09,\n",
       "        -9.14491941e+09, -1.43657721e+10, -1.61369173e+10, -1.63592027e+10,\n",
       "        -1.63820018e+10]),\n",
       " 'split8_test_score': array([-3.05822188e+09, -3.05870512e+09, -3.07295275e+09, -3.48261468e+09,\n",
       "        -6.23196285e+09, -1.00075160e+10, -1.12545027e+10, -1.14118576e+10,\n",
       "        -1.14280098e+10]),\n",
       " 'split9_test_score': array([-3.78247738e+09, -3.77172064e+09, -3.70098095e+09, -3.90277812e+09,\n",
       "        -6.17016664e+09, -9.29189184e+09, -1.02272171e+10, -1.03447293e+10,\n",
       "        -1.03567940e+10]),\n",
       " 'mean_test_score': array([-6.11606517e+09, -6.10892219e+09, -6.05936420e+09, -6.15151314e+09,\n",
       "        -8.04134204e+09, -1.19744546e+10, -1.33886567e+10, -1.35680579e+10,\n",
       "        -1.35864811e+10]),\n",
       " 'std_test_score': array([4.72961933e+09, 4.71049022e+09, 4.54461142e+09, 3.72286025e+09,\n",
       "        2.07017369e+09, 2.92316846e+09, 3.27603984e+09, 3.31878332e+09,\n",
       "        3.32314842e+09]),\n",
       " 'rank_test_score': array([3, 2, 1, 4, 5, 6, 7, 8, 9])}"
      ]
     },
     "execution_count": 126,
     "metadata": {},
     "output_type": "execute_result"
    }
   ],
   "source": [
    "ridge_cv.cv_results_"
   ]
  },
  {
   "cell_type": "code",
   "execution_count": 127,
   "metadata": {},
   "outputs": [
    {
     "data": {
      "image/png": "[encoded data removed]",
      "text/plain": [
       "<Figure size 432x288 with 1 Axes>"
      ]
     },
     "metadata": {
      "needs_background": "light"
     },
     "output_type": "display_data"
    }
   ],
   "source": [
    "plt.errorbar(x = np.log10(alphas), y = mean_scores, yerr = std_scores, fmt='o', capsize=3)\n",
    "\n",
    "plt.axvline(np.log10(min_alpha_ridge), ls='dotted', color=\"grey\")#vertical line at the k yielding minimum CV MSE\n",
    "\n",
    "plt.title(\"Ridge regressor CV error\")\n",
    "plt.xlabel('log(lambda)')\n",
    "plt.ylabel('Mean Squared Error')\n",
    "plt.show()"
   ]
  },
  {
   "cell_type": "markdown",
   "metadata": {},
   "source": [
    "### 9. CV for Lasso"
   ]
  },
  {
   "cell_type": "markdown",
   "metadata": {},
   "source": [
    "* Define a grid of penalty parameters for the lasso regression. You can use the same values used for the grid above. Name the object `lasso_grid`."
   ]
  },
  {
   "cell_type": "code",
   "execution_count": 128,
   "metadata": {},
   "outputs": [],
   "source": [
    "lasso_grid=ridge_grid"
   ]
  },
  {
   "cell_type": "markdown",
   "metadata": {},
   "source": [
    "* Create a dictionary with the key-value pair `\"alpha\"`, `lasso_grid`. What is the use of this object?"
   ]
  },
  {
   "cell_type": "code",
   "execution_count": 129,
   "metadata": {},
   "outputs": [],
   "source": [
    "hyper_parameters_lasso = {\"alpha\": lasso_grid}"
   ]
  },
  {
   "cell_type": "markdown",
   "metadata": {},
   "source": [
    "* Import the class `GridSearchCV` from `sklearn.model_selection` and use it to create a **cross-validation object** for the lasso regression. Make sure to include the following parameters: `estimator`, `param_grid`, `scoring`, `cv`."
   ]
  },
  {
   "cell_type": "code",
   "execution_count": 130,
   "metadata": {},
   "outputs": [],
   "source": [
    "from sklearn.model_selection import GridSearchCV\n",
    "lasso_cv=GridSearchCV(estimator=lasso_reg, param_grid=hyper_parameters_lasso, scoring = \"neg_mean_squared_error\", cv = folds)\n"
   ]
  },
  {
   "cell_type": "markdown",
   "metadata": {},
   "source": [
    "* Run the cross-validation by calling the `fit` method of the **cross-validation object** that you created at the point before."
   ]
  },
  {
   "cell_type": "code",
   "execution_count": 131,
   "metadata": {},
   "outputs": [
    {
     "data": {
      "text/plain": [
       "GridSearchCV(cv=KFold(n_splits=10, random_state=42, shuffle=True),\n",
       "             estimator=Lasso(alpha=10000.0, max_iter=100000.0, normalize=True),\n",
       "             param_grid={'alpha': array([1.e-04, 1.e-03, 1.e-02, 1.e-01, 1.e+00, 1.e+01, 1.e+02, 1.e+03,\n",
       "       1.e+04])},\n",
       "             scoring='neg_mean_squared_error')"
      ]
     },
     "execution_count": 131,
     "metadata": {},
     "output_type": "execute_result"
    }
   ],
   "source": [
    "lasso_cv.fit(x_train,y_train)"
   ]
  },
  {
   "cell_type": "markdown",
   "metadata": {},
   "source": [
    "* We want to plot the cross-validation error against different values of the penalty parameter. Fill in the `??`."
   ]
  },
  {
   "cell_type": "code",
   "execution_count": 132,
   "metadata": {},
   "outputs": [
    {
     "name": "stdout",
     "output_type": "stream",
     "text": [
      "Minimum alpha: 100.0\n"
     ]
    }
   ],
   "source": [
    "# Choose best model according to 1-se rule\n",
    "mean_scores = -lasso_cv.cv_results_[\"mean_test_score\"]\n",
    "std_scores = lasso_cv.cv_results_[\"std_test_score\"]\n",
    "alphas = lasso_cv.cv_results_[\"param_alpha\"].data\n",
    "alphas = pd.to_numeric(alphas)\n",
    "\n",
    "best_index = np.argmin(mean_scores)\n",
    "min_alpha_lasso = alphas[best_index]\n",
    "print(\"Minimum alpha:\", min_alpha_lasso)"
   ]
  },
  {
   "cell_type": "code",
   "execution_count": 133,
   "metadata": {},
   "outputs": [
    {
     "data": {
      "image/png": "[encoded data removed]",
      "text/plain": [
       "<Figure size 432x288 with 1 Axes>"
      ]
     },
     "metadata": {
      "needs_background": "light"
     },
     "output_type": "display_data"
    }
   ],
   "source": [
    "plt.errorbar(x=np.log10(alphas),  y=-ridge_cv.cv_results_[\"mean_test_score\"], yerr = ridge_cv.cv_results_[\"std_test_score\"], fmt='o', capsize=3)\n",
    "\n",
    "plt.axvline(np.log10(min_alpha_lasso), ls='dotted', color=\"grey\")#vertical line at the k yielding minimum CV MSE\n",
    "\n",
    "plt.title(\"Lasso regressor CV error\")\n",
    "plt.xlabel('log(lambda)')\n",
    "plt.ylabel('Mean Squared Error')\n",
    "plt.show()"
   ]
  },
  {
   "cell_type": "markdown",
   "metadata": {},
   "source": [
    "### 10. Compute performance of the two best models"
   ]
  },
  {
   "cell_type": "markdown",
   "metadata": {},
   "source": [
    "* Given the optimal tuning parameter of the ridge and lasso regression, refit both models on the entire training data set. Furthermore, compute their root mean square error on the test set. How do they compare to the errors obtained before performing the cross-validation?\n",
    "\n",
    "_Hint_: As optimal tuning parameter, choose the one that minimizes the Mean Squared Error and not the one according to the 1-standard error rule."
   ]
  },
  {
   "cell_type": "code",
   "execution_count": 137,
   "metadata": {},
   "outputs": [
    {
     "name": "stdout",
     "output_type": "stream",
     "text": [
      "the score of the ridge regression with the best hyperparameter is: 109111.5796958265 while when not choosing the best hyperparameter, its score was 106065.35468065333\n"
     ]
    }
   ],
   "source": [
    "# Refit ridge on training and evaluate on test\n",
    "best_ridge_reg=Ridge(alpha=min_alpha_ridge, fit_intercept= True, normalize = True, max_iter=1e5)\n",
    "best_ridge_reg.fit(x_train,y_train)\n",
    "\n",
    "final_mse_test_ridge=mean_squared_error(y_test, best_ridge_reg.predict(x_test), squared=False)\n",
    "print(\"the score of the ridge regression with the best hyperparameter is:\", final_mse_test_ridge, \"while when not choosing the best hyperparameter, its score was\",mse_test_ridge)"
   ]
  },
  {
   "cell_type": "code",
   "execution_count": 136,
   "metadata": {},
   "outputs": [
    {
     "name": "stdout",
     "output_type": "stream",
     "text": [
      "the score of the lasso regression with the best hyperparameter is: 98450.78499163415 while when not choosing the best hyperparameter, its score was 109783.18230244677\n"
     ]
    }
   ],
   "source": [
    "# Refit lasso on training and evaluate on test\n",
    "best_lasso_reg=Lasso(alpha=min_alpha_lasso, fit_intercept= True, normalize = True, max_iter=1e5)\n",
    "best_lasso_reg.fit(x_train,y_train)\n",
    "\n",
    "final_mse_test_lasso=mean_squared_error(y_test, best_lasso_reg.predict(x_test), squared=False)\n",
    "print(\"the score of the lasso regression with the best hyperparameter is:\", final_mse_test_lasso, \"while when not choosing the best hyperparameter, its score was\",mse_test_lasso)"
   ]
  },
  {
   "cell_type": "markdown",
   "metadata": {},
   "source": [
    "## Problem 2"
   ]
  },
  {
   "cell_type": "markdown",
   "metadata": {},
   "source": [
    "In this problem, you are asked to derive the closed-form solution for the ridge regression coefficients.\n",
    "\n",
    "Let $\\mathbf{X}\\in\\mathbb{R}^{n\\times p}$ denote the matrix of predictors, and let $\\mathbf{y}\\in\\mathbb{R}^n$ denote the target vector.\n",
    "\n",
    "The optimal ridge regression coefficient vector $\\beta^*$, with parameter $\\lambda > 0$, is defined as\n",
    "\n",
    "$$\\beta^* := \\arg\\min_{\\beta\\in\\mathbb{R}^p} \\ (\\mathbf{y} - \\mathbf{X}\\beta)^T(\\mathbf{y} - \\mathbf{X}\\beta) + \\lambda \\beta ^T\\beta.$$\n",
    "\n",
    "Show that \n",
    "\n",
    "\n",
    "$$\\beta^*  = (\\mathbf{X}^T\\mathbf{X} + \\lambda \\mathbf{I}_p)^{-1} \\mathbf{X}^T \\mathbf{y},$$\n",
    "\n",
    "where $\\mathbf{I}_p$ denote the identity matrix of size $p\\times p$."
   ]
  },
  {
   "cell_type": "markdown",
   "metadata": {},
   "source": [
    "$\\newcommand{\\mby}{\\mathbf{y}}$\n",
    "We want to find the $β^*$ such that $(\\mathbf{y} - \\mathbf{X}\\beta)^T(\\mathbf{y} - \\mathbf{X}\\beta) + \\lambda \\beta ^T\\beta.$ is minimized. For this, we first compute $\\frac{\\partial}{\\partial β}\\left((\\mathbf{y} - \\mathbf{X}\\beta)^T(\\mathbf{y} - \\mathbf{X}\\beta) + \\lambda \\beta ^T\\beta\\right)$:\n",
    "\n",
    "$\\begin{align*}\n",
    "\\frac{\\partial}{\\partial β}\\left((\\mathbf{y} - \\mathbf{X}\\beta)^T(\\mathbf{y} - \\mathbf{X}\\beta) + \\lambda \\beta ^T\\beta\\right) &= \\frac{\\partial}{\\partial β}\\left(\\mathbf{y}^T\\mathbf{y}-\\mathbf{y}^T\\mathbf{X}β-β^T\\mathbf{X}^T\\mathbf{y}+β^T\\mathbf{X}^T\\mathbf{X}β+λβ^Tβ\\right)\\\\\n",
    "&=-\\mathbf{y}^T\\mathbf{X}-\\underbrace{\\mathbf{y}^T\\mathbf{X}}_{\\frac{\\partial}{\\partial β}(β^tA)=A^T}+\\underbrace{2\\mathbf{X}^T\\mathbf{X}β}_{\\frac{\\partial}{\\partial β}((Aβ)^TAβ)=2Aβ} +2λβ\\\\\n",
    "&=-2\\mathbf{y}^T\\mathbf{X}+2\\mathbf{X}^T\\mathbf{X}β +2λ\n",
    "\\end{align*}$\n",
    "Now we equate it to $0$:\n",
    "$\\begin{align*}\n",
    "-2\\mathbf{y}^T\\mathbf{X}+2\\mathbf{X}^T\\mathbf{X}β +2λβ&=0\\\\\n",
    "\\Leftrightarrow-\\mathbf{y}^T\\mathbf{X}+\\mathbf{X}^T\\mathbf{X}β +λβ&=0\\\\\n",
    "\\Leftrightarrow \\left(\\mathbf{X}^T\\mathbf{X}+λId_{p}\\right)β=\\mathbf{y}^T\\mathbf{X}\\\\\n",
    "\\Leftrightarrow β=\\left(\\mathbf{X}^T\\mathbf{X}+λId_{p}\\right)^{-1}\\mathbf{y}^T\\mathbf{X}\n",
    "\\end{align*}$\n",
    "\n",
    "We then check that $\\frac{\\partial}{\\partial β^T}\\left(-2\\mathbf{y}^T\\mathbf{X}+2\\mathbf{X}^T\\mathbf{X}β +2λβ\\right)$ is positive definite:\n",
    "$$\\frac{\\partial}{\\partial β^T}\\left(-2\\mathbf{y}^T\\mathbf{X}+2\\mathbf{X}^T\\mathbf{X}β +2λβ\\right)=2\\mathbf{X}\\mathbf{X}^T +2λId_{p}$$\n",
    "\n",
    "And so\n",
    "$$\\mathbf{v}^T\\left(2\\mathbf{X}\\mathbf{X}^T +2λId_{p}\\right)\\mathbf{v}=2\\underbrace{\\mathbf{v}^T\\mathbf{X}\\mathbf{X}^T\\mathbf{v}}_{=||\\mathbf{X}^Tv||^2>0}+2\\underbrace{λ}_{>0}\\overbrace{v^Tv}^{=||v||^2>0}>0$$"
   ]
  }
 ],
 "metadata": {
  "kernelspec": {
   "display_name": "Python 3",
   "language": "python",
   "name": "python3"
  },
  "language_info": {
   "codemirror_mode": {
    "name": "ipython",
    "version": 3
   },
   "file_extension": ".py",
   "mimetype": "text/x-python",
   "name": "python",
   "nbconvert_exporter": "python",
   "pygments_lexer": "ipython3",
   "version": "3.8.5"
  },
  "toc": {
   "base_numbering": 1,
   "nav_menu": {},
   "number_sections": false,
   "sideBar": true,
   "skip_h1_title": true,
   "title_cell": "Table of Contents",
   "title_sidebar": "Contents",
   "toc_cell": false,
   "toc_position": {
    "height": "calc(100% - 180px)",
    "left": "10px",
    "top": "150px",
    "width": "216px"
   },
   "toc_section_display": true,
   "toc_window_display": true
  },
  "varInspector": {
   "cols": {
    "lenName": 16,
    "lenType": 16,
    "lenVar": 40
   },
   "kernels_config": {
    "python": {
     "delete_cmd_postfix": "",
     "delete_cmd_prefix": "del ",
     "library": "var_list.py",
     "varRefreshCmd": "print(var_dic_list())"
    },
    "r": {
     "delete_cmd_postfix": ") ",
     "delete_cmd_prefix": "rm(",
     "library": "var_list.r",
     "varRefreshCmd": "cat(var_dic_list()) "
    }
   },
   "types_to_exclude": [
    "module",
    "function",
    "builtin_function_or_method",
    "instance",
    "_Feature"
   ],
   "window_display": false
  }
 },
 "nbformat": 4,
 "nbformat_minor": 4
}
