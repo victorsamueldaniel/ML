{
 "cells": [
  {
   "cell_type": "markdown",
   "metadata": {},
   "source": [
    "# Machine Learning: Exercise session 03"
   ]
  },
  {
   "cell_type": "markdown",
   "metadata": {},
   "source": [
    "In this exercise session we will focus mainly on model assessment. You will learn how to use and apply some of the error estimation techniques seen in class, using scikit-learn (parts 1 and 2).\n",
    "\n",
    "To illustrate these techniques in context, we will continue where we left out in exercise session 01, with the housing dataset. You can export and use your resulting, cleaned, dataframe from the first session, or you can download it on moodle in this week's section (with the cleaning and feature engineering from the first session already performed).\n",
    "\n",
    "The third part of this notebook will introduce scikit-learn's Pipelines, which are a very useful tool that can be used, among other things, to avoid validation overfitting during cross-validation.\n",
    "\n",
    "Due to this last part making the practical part a bit longer, there will be no \"theoretical\" exercise this week."
   ]
  },
  {
   "cell_type": "markdown",
   "metadata": {},
   "source": [
    "## 0. Introduction and Setup"
   ]
  },
  {
   "cell_type": "code",
   "execution_count": 72,
   "metadata": {
    "ExecuteTime": {
     "end_time": "2021-03-12T00:24:23.289286Z",
     "start_time": "2021-03-12T00:24:21.956375Z"
    }
   },
   "outputs": [],
   "source": [
    "import matplotlib.pyplot as plt\n",
    "%matplotlib inline\n",
    "import numpy as np\n",
    "import pandas as pd"
   ]
  },
  {
   "cell_type": "markdown",
   "metadata": {},
   "source": [
    "Import the clean housing dataset with `pd.read_csv` and take a quick look at it, to verify that it is in the desired shape (display the dataframe, check its \"infos\")."
   ]
  },
  {
   "cell_type": "code",
   "execution_count": 73,
   "metadata": {
    "ExecuteTime": {
     "end_time": "2021-03-12T00:24:23.401737Z",
     "start_time": "2021-03-12T00:24:23.291437Z"
    }
   },
   "outputs": [
    {
     "data": {
      "text/html": [
       "<div>\n",
       "<style scoped>\n",
       "    .dataframe tbody tr th:only-of-type {\n",
       "        vertical-align: middle;\n",
       "    }\n",
       "\n",
       "    .dataframe tbody tr th {\n",
       "        vertical-align: top;\n",
       "    }\n",
       "\n",
       "    .dataframe thead th {\n",
       "        text-align: right;\n",
       "    }\n",
       "</style>\n",
       "<table border=\"1\" class=\"dataframe\">\n",
       "  <thead>\n",
       "    <tr style=\"text-align: right;\">\n",
       "      <th></th>\n",
       "      <th>longitude</th>\n",
       "      <th>latitude</th>\n",
       "      <th>housing_median_age</th>\n",
       "      <th>median_income</th>\n",
       "      <th>median_house_value</th>\n",
       "      <th>rooms_per_bedroom</th>\n",
       "      <th>rooms_per_household</th>\n",
       "      <th>people_per_household</th>\n",
       "      <th>ocean_proximity_enc</th>\n",
       "    </tr>\n",
       "  </thead>\n",
       "  <tbody>\n",
       "    <tr>\n",
       "      <th>0</th>\n",
       "      <td>-122.23</td>\n",
       "      <td>37.88</td>\n",
       "      <td>41.0</td>\n",
       "      <td>8.3252</td>\n",
       "      <td>452600.0</td>\n",
       "      <td>6.821705</td>\n",
       "      <td>6.984127</td>\n",
       "      <td>2.555556</td>\n",
       "      <td>3.0</td>\n",
       "    </tr>\n",
       "    <tr>\n",
       "      <th>1</th>\n",
       "      <td>-122.22</td>\n",
       "      <td>37.86</td>\n",
       "      <td>21.0</td>\n",
       "      <td>8.3014</td>\n",
       "      <td>358500.0</td>\n",
       "      <td>6.418626</td>\n",
       "      <td>6.238137</td>\n",
       "      <td>2.109842</td>\n",
       "      <td>3.0</td>\n",
       "    </tr>\n",
       "    <tr>\n",
       "      <th>2</th>\n",
       "      <td>-122.24</td>\n",
       "      <td>37.85</td>\n",
       "      <td>52.0</td>\n",
       "      <td>7.2574</td>\n",
       "      <td>352100.0</td>\n",
       "      <td>7.721053</td>\n",
       "      <td>8.288136</td>\n",
       "      <td>2.802260</td>\n",
       "      <td>3.0</td>\n",
       "    </tr>\n",
       "    <tr>\n",
       "      <th>3</th>\n",
       "      <td>-122.25</td>\n",
       "      <td>37.85</td>\n",
       "      <td>52.0</td>\n",
       "      <td>5.6431</td>\n",
       "      <td>341300.0</td>\n",
       "      <td>5.421277</td>\n",
       "      <td>5.817352</td>\n",
       "      <td>2.547945</td>\n",
       "      <td>3.0</td>\n",
       "    </tr>\n",
       "    <tr>\n",
       "      <th>4</th>\n",
       "      <td>-122.25</td>\n",
       "      <td>37.85</td>\n",
       "      <td>52.0</td>\n",
       "      <td>3.8462</td>\n",
       "      <td>342200.0</td>\n",
       "      <td>5.810714</td>\n",
       "      <td>6.281853</td>\n",
       "      <td>2.181467</td>\n",
       "      <td>3.0</td>\n",
       "    </tr>\n",
       "    <tr>\n",
       "      <th>5</th>\n",
       "      <td>-122.25</td>\n",
       "      <td>37.85</td>\n",
       "      <td>52.0</td>\n",
       "      <td>4.0368</td>\n",
       "      <td>269700.0</td>\n",
       "      <td>4.314554</td>\n",
       "      <td>4.761658</td>\n",
       "      <td>2.139896</td>\n",
       "      <td>3.0</td>\n",
       "    </tr>\n",
       "    <tr>\n",
       "      <th>6</th>\n",
       "      <td>-122.25</td>\n",
       "      <td>37.84</td>\n",
       "      <td>52.0</td>\n",
       "      <td>3.6591</td>\n",
       "      <td>299200.0</td>\n",
       "      <td>5.184049</td>\n",
       "      <td>4.931907</td>\n",
       "      <td>2.128405</td>\n",
       "      <td>3.0</td>\n",
       "    </tr>\n",
       "    <tr>\n",
       "      <th>7</th>\n",
       "      <td>-122.25</td>\n",
       "      <td>37.84</td>\n",
       "      <td>52.0</td>\n",
       "      <td>3.1200</td>\n",
       "      <td>241400.0</td>\n",
       "      <td>4.518195</td>\n",
       "      <td>4.797527</td>\n",
       "      <td>1.788253</td>\n",
       "      <td>3.0</td>\n",
       "    </tr>\n",
       "    <tr>\n",
       "      <th>8</th>\n",
       "      <td>-122.26</td>\n",
       "      <td>37.84</td>\n",
       "      <td>42.0</td>\n",
       "      <td>2.0804</td>\n",
       "      <td>226700.0</td>\n",
       "      <td>3.842105</td>\n",
       "      <td>4.294118</td>\n",
       "      <td>2.026891</td>\n",
       "      <td>3.0</td>\n",
       "    </tr>\n",
       "    <tr>\n",
       "      <th>9</th>\n",
       "      <td>-122.25</td>\n",
       "      <td>37.84</td>\n",
       "      <td>52.0</td>\n",
       "      <td>3.6912</td>\n",
       "      <td>261100.0</td>\n",
       "      <td>5.019802</td>\n",
       "      <td>4.970588</td>\n",
       "      <td>2.172269</td>\n",
       "      <td>3.0</td>\n",
       "    </tr>\n",
       "    <tr>\n",
       "      <th>10</th>\n",
       "      <td>-122.26</td>\n",
       "      <td>37.85</td>\n",
       "      <td>52.0</td>\n",
       "      <td>3.2031</td>\n",
       "      <td>281500.0</td>\n",
       "      <td>5.073733</td>\n",
       "      <td>5.477612</td>\n",
       "      <td>2.263682</td>\n",
       "      <td>3.0</td>\n",
       "    </tr>\n",
       "    <tr>\n",
       "      <th>11</th>\n",
       "      <td>-122.26</td>\n",
       "      <td>37.85</td>\n",
       "      <td>52.0</td>\n",
       "      <td>3.2705</td>\n",
       "      <td>241800.0</td>\n",
       "      <td>4.658245</td>\n",
       "      <td>4.772480</td>\n",
       "      <td>2.049046</td>\n",
       "      <td>3.0</td>\n",
       "    </tr>\n",
       "    <tr>\n",
       "      <th>12</th>\n",
       "      <td>-122.26</td>\n",
       "      <td>37.85</td>\n",
       "      <td>52.0</td>\n",
       "      <td>3.0750</td>\n",
       "      <td>213500.0</td>\n",
       "      <td>5.255274</td>\n",
       "      <td>5.322650</td>\n",
       "      <td>2.346154</td>\n",
       "      <td>3.0</td>\n",
       "    </tr>\n",
       "    <tr>\n",
       "      <th>13</th>\n",
       "      <td>-122.26</td>\n",
       "      <td>37.84</td>\n",
       "      <td>52.0</td>\n",
       "      <td>2.6736</td>\n",
       "      <td>191300.0</td>\n",
       "      <td>3.643979</td>\n",
       "      <td>4.000000</td>\n",
       "      <td>1.982759</td>\n",
       "      <td>3.0</td>\n",
       "    </tr>\n",
       "    <tr>\n",
       "      <th>14</th>\n",
       "      <td>-122.26</td>\n",
       "      <td>37.85</td>\n",
       "      <td>52.0</td>\n",
       "      <td>1.9167</td>\n",
       "      <td>159200.0</td>\n",
       "      <td>4.222045</td>\n",
       "      <td>4.262903</td>\n",
       "      <td>1.954839</td>\n",
       "      <td>3.0</td>\n",
       "    </tr>\n",
       "    <tr>\n",
       "      <th>15</th>\n",
       "      <td>-122.26</td>\n",
       "      <td>37.85</td>\n",
       "      <td>50.0</td>\n",
       "      <td>2.1250</td>\n",
       "      <td>140000.0</td>\n",
       "      <td>3.957597</td>\n",
       "      <td>4.242424</td>\n",
       "      <td>2.640152</td>\n",
       "      <td>3.0</td>\n",
       "    </tr>\n",
       "    <tr>\n",
       "      <th>16</th>\n",
       "      <td>-122.27</td>\n",
       "      <td>37.85</td>\n",
       "      <td>52.0</td>\n",
       "      <td>2.7750</td>\n",
       "      <td>152500.0</td>\n",
       "      <td>5.665706</td>\n",
       "      <td>5.939577</td>\n",
       "      <td>2.395770</td>\n",
       "      <td>3.0</td>\n",
       "    </tr>\n",
       "    <tr>\n",
       "      <th>17</th>\n",
       "      <td>-122.27</td>\n",
       "      <td>37.85</td>\n",
       "      <td>52.0</td>\n",
       "      <td>2.1202</td>\n",
       "      <td>155500.0</td>\n",
       "      <td>4.191126</td>\n",
       "      <td>4.052805</td>\n",
       "      <td>2.138614</td>\n",
       "      <td>3.0</td>\n",
       "    </tr>\n",
       "    <tr>\n",
       "      <th>18</th>\n",
       "      <td>-122.26</td>\n",
       "      <td>37.84</td>\n",
       "      <td>50.0</td>\n",
       "      <td>1.9911</td>\n",
       "      <td>158700.0</td>\n",
       "      <td>4.920879</td>\n",
       "      <td>5.343675</td>\n",
       "      <td>2.362768</td>\n",
       "      <td>3.0</td>\n",
       "    </tr>\n",
       "    <tr>\n",
       "      <th>19</th>\n",
       "      <td>-122.27</td>\n",
       "      <td>37.84</td>\n",
       "      <td>52.0</td>\n",
       "      <td>2.6033</td>\n",
       "      <td>162900.0</td>\n",
       "      <td>5.043624</td>\n",
       "      <td>5.465455</td>\n",
       "      <td>2.509091</td>\n",
       "      <td>3.0</td>\n",
       "    </tr>\n",
       "    <tr>\n",
       "      <th>20</th>\n",
       "      <td>-122.27</td>\n",
       "      <td>37.85</td>\n",
       "      <td>40.0</td>\n",
       "      <td>1.3578</td>\n",
       "      <td>147500.0</td>\n",
       "      <td>4.081522</td>\n",
       "      <td>4.524096</td>\n",
       "      <td>2.463855</td>\n",
       "      <td>3.0</td>\n",
       "    </tr>\n",
       "    <tr>\n",
       "      <th>21</th>\n",
       "      <td>-122.27</td>\n",
       "      <td>37.85</td>\n",
       "      <td>42.0</td>\n",
       "      <td>1.7135</td>\n",
       "      <td>159800.0</td>\n",
       "      <td>4.465940</td>\n",
       "      <td>4.478142</td>\n",
       "      <td>2.538251</td>\n",
       "      <td>3.0</td>\n",
       "    </tr>\n",
       "    <tr>\n",
       "      <th>22</th>\n",
       "      <td>-122.27</td>\n",
       "      <td>37.84</td>\n",
       "      <td>52.0</td>\n",
       "      <td>1.7250</td>\n",
       "      <td>113900.0</td>\n",
       "      <td>4.502773</td>\n",
       "      <td>5.096234</td>\n",
       "      <td>2.123431</td>\n",
       "      <td>3.0</td>\n",
       "    </tr>\n",
       "    <tr>\n",
       "      <th>23</th>\n",
       "      <td>-122.27</td>\n",
       "      <td>37.84</td>\n",
       "      <td>52.0</td>\n",
       "      <td>2.1806</td>\n",
       "      <td>99700.0</td>\n",
       "      <td>5.008902</td>\n",
       "      <td>5.193846</td>\n",
       "      <td>2.624615</td>\n",
       "      <td>3.0</td>\n",
       "    </tr>\n",
       "    <tr>\n",
       "      <th>24</th>\n",
       "      <td>-122.27</td>\n",
       "      <td>37.84</td>\n",
       "      <td>52.0</td>\n",
       "      <td>2.6000</td>\n",
       "      <td>132600.0</td>\n",
       "      <td>5.089245</td>\n",
       "      <td>5.270142</td>\n",
       "      <td>2.383886</td>\n",
       "      <td>3.0</td>\n",
       "    </tr>\n",
       "    <tr>\n",
       "      <th>25</th>\n",
       "      <td>-122.28</td>\n",
       "      <td>37.85</td>\n",
       "      <td>41.0</td>\n",
       "      <td>2.4038</td>\n",
       "      <td>107500.0</td>\n",
       "      <td>4.349593</td>\n",
       "      <td>4.495798</td>\n",
       "      <td>2.663866</td>\n",
       "      <td>3.0</td>\n",
       "    </tr>\n",
       "    <tr>\n",
       "      <th>26</th>\n",
       "      <td>-122.28</td>\n",
       "      <td>37.85</td>\n",
       "      <td>49.0</td>\n",
       "      <td>2.4597</td>\n",
       "      <td>93800.0</td>\n",
       "      <td>4.631148</td>\n",
       "      <td>4.728033</td>\n",
       "      <td>2.539749</td>\n",
       "      <td>3.0</td>\n",
       "    </tr>\n",
       "    <tr>\n",
       "      <th>27</th>\n",
       "      <td>-122.28</td>\n",
       "      <td>37.85</td>\n",
       "      <td>52.0</td>\n",
       "      <td>1.8080</td>\n",
       "      <td>105500.0</td>\n",
       "      <td>4.508314</td>\n",
       "      <td>4.780856</td>\n",
       "      <td>2.775819</td>\n",
       "      <td>3.0</td>\n",
       "    </tr>\n",
       "    <tr>\n",
       "      <th>28</th>\n",
       "      <td>-122.28</td>\n",
       "      <td>37.84</td>\n",
       "      <td>50.0</td>\n",
       "      <td>1.6424</td>\n",
       "      <td>108900.0</td>\n",
       "      <td>4.231707</td>\n",
       "      <td>4.401691</td>\n",
       "      <td>2.391121</td>\n",
       "      <td>3.0</td>\n",
       "    </tr>\n",
       "    <tr>\n",
       "      <th>29</th>\n",
       "      <td>-122.28</td>\n",
       "      <td>37.84</td>\n",
       "      <td>52.0</td>\n",
       "      <td>1.6875</td>\n",
       "      <td>132000.0</td>\n",
       "      <td>4.556250</td>\n",
       "      <td>4.703226</td>\n",
       "      <td>2.548387</td>\n",
       "      <td>3.0</td>\n",
       "    </tr>\n",
       "  </tbody>\n",
       "</table>\n",
       "</div>"
      ],
      "text/plain": [
       "    longitude  latitude  housing_median_age  median_income  \\\n",
       "0     -122.23     37.88                41.0         8.3252   \n",
       "1     -122.22     37.86                21.0         8.3014   \n",
       "2     -122.24     37.85                52.0         7.2574   \n",
       "3     -122.25     37.85                52.0         5.6431   \n",
       "4     -122.25     37.85                52.0         3.8462   \n",
       "5     -122.25     37.85                52.0         4.0368   \n",
       "6     -122.25     37.84                52.0         3.6591   \n",
       "7     -122.25     37.84                52.0         3.1200   \n",
       "8     -122.26     37.84                42.0         2.0804   \n",
       "9     -122.25     37.84                52.0         3.6912   \n",
       "10    -122.26     37.85                52.0         3.2031   \n",
       "11    -122.26     37.85                52.0         3.2705   \n",
       "12    -122.26     37.85                52.0         3.0750   \n",
       "13    -122.26     37.84                52.0         2.6736   \n",
       "14    -122.26     37.85                52.0         1.9167   \n",
       "15    -122.26     37.85                50.0         2.1250   \n",
       "16    -122.27     37.85                52.0         2.7750   \n",
       "17    -122.27     37.85                52.0         2.1202   \n",
       "18    -122.26     37.84                50.0         1.9911   \n",
       "19    -122.27     37.84                52.0         2.6033   \n",
       "20    -122.27     37.85                40.0         1.3578   \n",
       "21    -122.27     37.85                42.0         1.7135   \n",
       "22    -122.27     37.84                52.0         1.7250   \n",
       "23    -122.27     37.84                52.0         2.1806   \n",
       "24    -122.27     37.84                52.0         2.6000   \n",
       "25    -122.28     37.85                41.0         2.4038   \n",
       "26    -122.28     37.85                49.0         2.4597   \n",
       "27    -122.28     37.85                52.0         1.8080   \n",
       "28    -122.28     37.84                50.0         1.6424   \n",
       "29    -122.28     37.84                52.0         1.6875   \n",
       "\n",
       "    median_house_value  rooms_per_bedroom  rooms_per_household  \\\n",
       "0             452600.0           6.821705             6.984127   \n",
       "1             358500.0           6.418626             6.238137   \n",
       "2             352100.0           7.721053             8.288136   \n",
       "3             341300.0           5.421277             5.817352   \n",
       "4             342200.0           5.810714             6.281853   \n",
       "5             269700.0           4.314554             4.761658   \n",
       "6             299200.0           5.184049             4.931907   \n",
       "7             241400.0           4.518195             4.797527   \n",
       "8             226700.0           3.842105             4.294118   \n",
       "9             261100.0           5.019802             4.970588   \n",
       "10            281500.0           5.073733             5.477612   \n",
       "11            241800.0           4.658245             4.772480   \n",
       "12            213500.0           5.255274             5.322650   \n",
       "13            191300.0           3.643979             4.000000   \n",
       "14            159200.0           4.222045             4.262903   \n",
       "15            140000.0           3.957597             4.242424   \n",
       "16            152500.0           5.665706             5.939577   \n",
       "17            155500.0           4.191126             4.052805   \n",
       "18            158700.0           4.920879             5.343675   \n",
       "19            162900.0           5.043624             5.465455   \n",
       "20            147500.0           4.081522             4.524096   \n",
       "21            159800.0           4.465940             4.478142   \n",
       "22            113900.0           4.502773             5.096234   \n",
       "23             99700.0           5.008902             5.193846   \n",
       "24            132600.0           5.089245             5.270142   \n",
       "25            107500.0           4.349593             4.495798   \n",
       "26             93800.0           4.631148             4.728033   \n",
       "27            105500.0           4.508314             4.780856   \n",
       "28            108900.0           4.231707             4.401691   \n",
       "29            132000.0           4.556250             4.703226   \n",
       "\n",
       "    people_per_household  ocean_proximity_enc  \n",
       "0               2.555556                  3.0  \n",
       "1               2.109842                  3.0  \n",
       "2               2.802260                  3.0  \n",
       "3               2.547945                  3.0  \n",
       "4               2.181467                  3.0  \n",
       "5               2.139896                  3.0  \n",
       "6               2.128405                  3.0  \n",
       "7               1.788253                  3.0  \n",
       "8               2.026891                  3.0  \n",
       "9               2.172269                  3.0  \n",
       "10              2.263682                  3.0  \n",
       "11              2.049046                  3.0  \n",
       "12              2.346154                  3.0  \n",
       "13              1.982759                  3.0  \n",
       "14              1.954839                  3.0  \n",
       "15              2.640152                  3.0  \n",
       "16              2.395770                  3.0  \n",
       "17              2.138614                  3.0  \n",
       "18              2.362768                  3.0  \n",
       "19              2.509091                  3.0  \n",
       "20              2.463855                  3.0  \n",
       "21              2.538251                  3.0  \n",
       "22              2.123431                  3.0  \n",
       "23              2.624615                  3.0  \n",
       "24              2.383886                  3.0  \n",
       "25              2.663866                  3.0  \n",
       "26              2.539749                  3.0  \n",
       "27              2.775819                  3.0  \n",
       "28              2.391121                  3.0  \n",
       "29              2.548387                  3.0  "
      ]
     },
     "execution_count": 73,
     "metadata": {},
     "output_type": "execute_result"
    }
   ],
   "source": [
    "housing = pd.read_csv(\"housing_clean.csv\")\n",
    "housing.shape\n",
    "housing.head(30)"
   ]
  },
  {
   "cell_type": "code",
   "execution_count": 74,
   "metadata": {
    "ExecuteTime": {
     "end_time": "2021-03-12T00:24:23.458392Z",
     "start_time": "2021-03-12T00:24:23.412255Z"
    }
   },
   "outputs": [
    {
     "name": "stdout",
     "output_type": "stream",
     "text": [
      "<class 'pandas.core.frame.DataFrame'>\n",
      "RangeIndex: 20433 entries, 0 to 20432\n",
      "Data columns (total 9 columns):\n",
      " #   Column                Non-Null Count  Dtype  \n",
      "---  ------                --------------  -----  \n",
      " 0   longitude             20433 non-null  float64\n",
      " 1   latitude              20433 non-null  float64\n",
      " 2   housing_median_age    20433 non-null  float64\n",
      " 3   median_income         20433 non-null  float64\n",
      " 4   median_house_value    20433 non-null  float64\n",
      " 5   rooms_per_bedroom     20433 non-null  float64\n",
      " 6   rooms_per_household   20433 non-null  float64\n",
      " 7   people_per_household  20433 non-null  float64\n",
      " 8   ocean_proximity_enc   20433 non-null  float64\n",
      "dtypes: float64(9)\n",
      "memory usage: 1.4 MB\n"
     ]
    }
   ],
   "source": [
    "housing.info()"
   ]
  },
  {
   "cell_type": "markdown",
   "metadata": {},
   "source": [
    "Separate the dataframe into the features `X` and the target variable `y`: (remember, we want to predict the median house value, given the other variables)"
   ]
  },
  {
   "cell_type": "code",
   "execution_count": 75,
   "metadata": {
    "ExecuteTime": {
     "end_time": "2021-03-12T00:24:23.473874Z",
     "start_time": "2021-03-12T00:24:23.460385Z"
    }
   },
   "outputs": [],
   "source": [
    "X = housing.drop([\"median_house_value\"], axis = 1).copy()\n",
    "y = housing[[\"median_house_value\"]].copy()"
   ]
  },
  {
   "cell_type": "markdown",
   "metadata": {},
   "source": [
    "## 1. Fitting KNN and expected error"
   ]
  },
  {
   "cell_type": "code",
   "execution_count": 76,
   "metadata": {
    "ExecuteTime": {
     "end_time": "2021-03-12T00:24:25.340839Z",
     "start_time": "2021-03-12T00:24:23.478147Z"
    }
   },
   "outputs": [],
   "source": [
    "from sklearn.neighbors import KNeighborsRegressor"
   ]
  },
  {
   "cell_type": "markdown",
   "metadata": {},
   "source": [
    "The goal of the following sections will not only be to use a k-Nearest neighbors regression model in order to predict the expected median household values, based on the other features, but also to assess how our model is performing, that is, its expected prediction error."
   ]
  },
  {
   "cell_type": "markdown",
   "metadata": {},
   "source": [
    "To begin with, import the same KNN regression model that you briefly used in the first exercise session, and fit it on the whole dataset for the desired prediction task. Use as a hyper-parameter `k=1` neighbors."
   ]
  },
  {
   "cell_type": "code",
   "execution_count": 77,
   "metadata": {
    "ExecuteTime": {
     "end_time": "2021-03-12T00:24:25.514806Z",
     "start_time": "2021-03-12T00:24:25.344447Z"
    }
   },
   "outputs": [
    {
     "data": {
      "text/plain": [
       "KNeighborsRegressor(n_neighbors=1)"
      ]
     },
     "execution_count": 77,
     "metadata": {},
     "output_type": "execute_result"
    }
   ],
   "source": [
    "knn1 = KNeighborsRegressor(n_neighbors=1)\n",
    "knn1.fit(X, y)"
   ]
  },
  {
   "cell_type": "markdown",
   "metadata": {},
   "source": [
    "Now, evaluate its root mean squared error using `X` and `y`."
   ]
  },
  {
   "cell_type": "code",
   "execution_count": 78,
   "metadata": {
    "ExecuteTime": {
     "end_time": "2021-03-12T00:24:25.530085Z",
     "start_time": "2021-03-12T00:24:25.520579Z"
    }
   },
   "outputs": [],
   "source": [
    "from sklearn.metrics import mean_squared_error"
   ]
  },
  {
   "cell_type": "code",
   "execution_count": 79,
   "metadata": {
    "ExecuteTime": {
     "end_time": "2021-03-12T00:24:25.715520Z",
     "start_time": "2021-03-12T00:24:25.535123Z"
    }
   },
   "outputs": [
    {
     "data": {
      "text/plain": [
       "0.0"
      ]
     },
     "execution_count": 79,
     "metadata": {},
     "output_type": "execute_result"
    }
   ],
   "source": [
    "y_hat = knn1.predict(X)\n",
    "np.sqrt(mean_squared_error(y, y_hat))"
   ]
  },
  {
   "cell_type": "markdown",
   "metadata": {},
   "source": [
    "What do you observe? What does that say probably say about the model? Does that mean that the model is performing well, you think?"
   ]
  },
  {
   "cell_type": "markdown",
   "metadata": {},
   "source": [
    "### 1.1. Train-test split"
   ]
  },
  {
   "cell_type": "markdown",
   "metadata": {},
   "source": [
    "Now, separate the data into `X_train` `y_train` and `X_test` `y_test`, and fit a KNN regressor on the training set"
   ]
  },
  {
   "cell_type": "code",
   "execution_count": 80,
   "metadata": {
    "ExecuteTime": {
     "end_time": "2021-03-12T00:24:25.731596Z",
     "start_time": "2021-03-12T00:24:25.718513Z"
    }
   },
   "outputs": [],
   "source": [
    "from sklearn.model_selection import train_test_split"
   ]
  },
  {
   "cell_type": "code",
   "execution_count": 81,
   "metadata": {
    "ExecuteTime": {
     "end_time": "2021-03-12T00:24:25.765203Z",
     "start_time": "2021-03-12T00:24:25.735894Z"
    }
   },
   "outputs": [],
   "source": [
    "# fill out the ??\n",
    "X_train, X_test, y_train, y_test = train_test_split(X, y, test_size = .2, random_state = 42)"
   ]
  },
  {
   "cell_type": "code",
   "execution_count": 82,
   "metadata": {
    "ExecuteTime": {
     "end_time": "2021-03-12T00:24:25.893342Z",
     "start_time": "2021-03-12T00:24:25.767198Z"
    }
   },
   "outputs": [
    {
     "data": {
      "text/plain": [
       "KNeighborsRegressor(n_neighbors=1)"
      ]
     },
     "execution_count": 82,
     "metadata": {},
     "output_type": "execute_result"
    }
   ],
   "source": [
    "knn2 = KNeighborsRegressor(n_neighbors=1)\n",
    "knn2.fit(X_train, y_train)"
   ]
  },
  {
   "cell_type": "markdown",
   "metadata": {},
   "source": [
    "Check its RMSE both on the training and on the test set, do you observe something that you expected?"
   ]
  },
  {
   "cell_type": "code",
   "execution_count": 83,
   "metadata": {
    "ExecuteTime": {
     "end_time": "2021-03-12T00:24:26.048695Z",
     "start_time": "2021-03-12T00:24:25.896297Z"
    }
   },
   "outputs": [
    {
     "data": {
      "text/plain": [
       "0.0"
      ]
     },
     "execution_count": 83,
     "metadata": {},
     "output_type": "execute_result"
    }
   ],
   "source": [
    "y_hat = knn2.predict(X_train)\n",
    "mean_squared_error(y_train, y_hat, squared=False)"
   ]
  },
  {
   "cell_type": "code",
   "execution_count": 92,
   "metadata": {
    "ExecuteTime": {
     "end_time": "2021-03-12T00:24:26.261185Z",
     "start_time": "2021-03-12T00:24:26.050697Z"
    }
   },
   "outputs": [
    {
     "data": {
      "text/plain": [
       "76810.40920964915"
      ]
     },
     "execution_count": 92,
     "metadata": {},
     "output_type": "execute_result"
    }
   ],
   "source": [
    "y_hat = knn2.predict(X_test)\n",
    "np.sqrt(mean_squared_error(y_test, y_hat))\n",
    "mean_squared_error(y_test, y_hat, squared=False)"
   ]
  },
  {
   "cell_type": "code",
   "execution_count": 93,
   "metadata": {},
   "outputs": [
    {
     "data": {
      "text/plain": [
       "median_house_value    0.568573\n",
       "dtype: float64"
      ]
     },
     "execution_count": 93,
     "metadata": {},
     "output_type": "execute_result"
    }
   ],
   "source": [
    "# R^2: 1 - E[(Y - Y_hat)^2]/E[(Y - E[Y])^2] \n",
    "# (proportion of variability of Y explained by fitted model)\n",
    "1 - mean_squared_error(y_test, y_hat) / np.var(y_test)"
   ]
  },
  {
   "cell_type": "markdown",
   "metadata": {},
   "source": [
    "You've learned about the Bias-Variance tradeoff during the last lecture. Does the model suffer from too much bias or too much variance? Does that mean that it is too \"flexible\", or not enough?"
   ]
  },
  {
   "cell_type": "markdown",
   "metadata": {},
   "source": [
    "### 1.2. Cross-validation"
   ]
  },
  {
   "cell_type": "markdown",
   "metadata": {},
   "source": [
    "When fitting a model, we are interested in its expected generalization error (the expected error on unseen data).\n",
    "In order to estimate this expected error, a more stable way to estimate it than with a train-test split is to use cross-validation."
   ]
  },
  {
   "cell_type": "markdown",
   "metadata": {},
   "source": [
    "Declare a new KNN regressor instance with the same hyper-parameter as before, and estimate its expected generalization error with 10 folds cross-validation on `X` and `y`.\n",
    "\n",
    "Print the average generalization RMSE for each fold as well as the cross-validation error estimate.\n",
    "\n",
    "\n",
    "_Remark:_ during fitting sklearn maximizes \"scores\" instead of minimizing losses, that is why we specify `scoring=\"neg_mean_squared_error\"` below, as we maximize the negative MSE instead of minimizing the MSE."
   ]
  },
  {
   "cell_type": "code",
   "execution_count": 94,
   "metadata": {
    "ExecuteTime": {
     "end_time": "2021-03-12T00:24:26.277246Z",
     "start_time": "2021-03-12T00:24:26.262186Z"
    }
   },
   "outputs": [],
   "source": [
    "from sklearn.model_selection import cross_val_score"
   ]
  },
  {
   "cell_type": "code",
   "execution_count": 95,
   "metadata": {
    "ExecuteTime": {
     "end_time": "2021-03-12T00:24:28.761255Z",
     "start_time": "2021-03-12T00:24:26.280751Z"
    }
   },
   "outputs": [],
   "source": [
    "knn = KNeighborsRegressor(n_neighbors=1)\n",
    "# this does not shuffle rows before splitting into 10 folds\n",
    "CVscores = cross_val_score(knn, X, y, scoring=\"neg_mean_squared_error\", cv=10)"
   ]
  },
  {
   "cell_type": "code",
   "execution_count": 98,
   "metadata": {
    "ExecuteTime": {
     "end_time": "2021-03-12T00:24:28.794444Z",
     "start_time": "2021-03-12T00:24:28.766172Z"
    }
   },
   "outputs": [
    {
     "data": {
      "text/plain": [
       "array([104480.66974676,  66369.5243191 ,  93458.07390098,  77588.22076765,\n",
       "        90390.84227067,  78780.06342346,  69545.55210605, 106472.22899056,\n",
       "       103528.41733778,  67949.94753683])"
      ]
     },
     "execution_count": 98,
     "metadata": {},
     "output_type": "execute_result"
    }
   ],
   "source": [
    "np.sqrt(-CVscores)"
   ]
  },
  {
   "cell_type": "code",
   "execution_count": 99,
   "metadata": {
    "ExecuteTime": {
     "end_time": "2021-03-12T00:24:28.809739Z",
     "start_time": "2021-03-12T00:24:28.798836Z"
    }
   },
   "outputs": [
    {
     "data": {
      "text/plain": [
       "87155.33166612717"
      ]
     },
     "execution_count": 99,
     "metadata": {},
     "output_type": "execute_result"
    }
   ],
   "source": [
    "np.sqrt(np.mean(-CVscores))"
   ]
  },
  {
   "cell_type": "markdown",
   "metadata": {},
   "source": [
    "Note in `cross_val_score` you can simply specify the number of folds with the argument `cv=10`. By default, sklearn splits the data equally into the specified number of folds without shuffling it first. This behaviour might be useful when, for example, some time dependence between observations needs to be kept for specific models. However, if we assume that the observations are independent, it might be a better idea to shuffle observations (rows) before splitting, to avoid imbalances within folds, created by any kind of prior implicit sorting of the observations.\n",
    "\n",
    "You can control the splitting method and, in particular, shuffle the data prior to splitting in folds, by specifying a [KFold object](https://scikit-learn.org/stable/modules/cross_validation.html#cross-validation-iterators) instead of a simple number for the `cv` argument.\n",
    "\n",
    "Repeat the cross-validation estimation by, this time, shuffling the data for the folds split. Do you notice any difference with the estimated RMSEs for each fold? If yes, why do you think (speculate) it might be?"
   ]
  },
  {
   "cell_type": "code",
   "execution_count": 100,
   "metadata": {
    "ExecuteTime": {
     "end_time": "2021-03-12T00:24:28.825118Z",
     "start_time": "2021-03-12T00:24:28.813728Z"
    }
   },
   "outputs": [],
   "source": [
    "from sklearn.model_selection import KFold\n",
    "folds = KFold(n_splits=10 , shuffle=True, random_state=1)"
   ]
  },
  {
   "cell_type": "code",
   "execution_count": 101,
   "metadata": {
    "ExecuteTime": {
     "end_time": "2021-03-12T00:24:31.091519Z",
     "start_time": "2021-03-12T00:24:28.830120Z"
    }
   },
   "outputs": [],
   "source": [
    "knn = KNeighborsRegressor(n_neighbors=1)\n",
    "CVscores = cross_val_score(knn, X, y, scoring=\"neg_mean_squared_error\", cv=folds)"
   ]
  },
  {
   "cell_type": "code",
   "execution_count": 102,
   "metadata": {
    "ExecuteTime": {
     "end_time": "2021-03-12T00:24:31.133713Z",
     "start_time": "2021-03-12T00:24:31.093464Z"
    }
   },
   "outputs": [
    {
     "data": {
      "text/plain": [
       "array([78585.94587634, 72394.50006574, 75994.14778718, 73496.19034179,\n",
       "       71849.72275143, 73340.30799662, 76709.16939874, 75250.51486997,\n",
       "       71392.88400655, 75299.24288066])"
      ]
     },
     "execution_count": 102,
     "metadata": {},
     "output_type": "execute_result"
    }
   ],
   "source": [
    "np.sqrt(-CVscores)"
   ]
  },
  {
   "cell_type": "code",
   "execution_count": 103,
   "metadata": {
    "ExecuteTime": {
     "end_time": "2021-03-12T00:24:31.149098Z",
     "start_time": "2021-03-12T00:24:31.133713Z"
    }
   },
   "outputs": [
    {
     "data": {
      "text/plain": [
       "74463.78648807327"
      ]
     },
     "execution_count": 103,
     "metadata": {},
     "output_type": "execute_result"
    }
   ],
   "source": [
    "np.sqrt(np.mean(-CVscores))"
   ]
  },
  {
   "cell_type": "code",
   "execution_count": 104,
   "metadata": {},
   "outputs": [
    {
     "data": {
      "text/html": [
       "<div>\n",
       "<style scoped>\n",
       "    .dataframe tbody tr th:only-of-type {\n",
       "        vertical-align: middle;\n",
       "    }\n",
       "\n",
       "    .dataframe tbody tr th {\n",
       "        vertical-align: top;\n",
       "    }\n",
       "\n",
       "    .dataframe thead th {\n",
       "        text-align: right;\n",
       "    }\n",
       "</style>\n",
       "<table border=\"1\" class=\"dataframe\">\n",
       "  <thead>\n",
       "    <tr style=\"text-align: right;\">\n",
       "      <th></th>\n",
       "      <th>longitude</th>\n",
       "      <th>latitude</th>\n",
       "      <th>housing_median_age</th>\n",
       "      <th>median_income</th>\n",
       "      <th>median_house_value</th>\n",
       "      <th>rooms_per_bedroom</th>\n",
       "      <th>rooms_per_household</th>\n",
       "      <th>people_per_household</th>\n",
       "      <th>ocean_proximity_enc</th>\n",
       "    </tr>\n",
       "  </thead>\n",
       "  <tbody>\n",
       "    <tr>\n",
       "      <th>0</th>\n",
       "      <td>-122.23</td>\n",
       "      <td>37.88</td>\n",
       "      <td>41.0</td>\n",
       "      <td>8.3252</td>\n",
       "      <td>452600.0</td>\n",
       "      <td>6.821705</td>\n",
       "      <td>6.984127</td>\n",
       "      <td>2.555556</td>\n",
       "      <td>3.0</td>\n",
       "    </tr>\n",
       "    <tr>\n",
       "      <th>1</th>\n",
       "      <td>-122.22</td>\n",
       "      <td>37.86</td>\n",
       "      <td>21.0</td>\n",
       "      <td>8.3014</td>\n",
       "      <td>358500.0</td>\n",
       "      <td>6.418626</td>\n",
       "      <td>6.238137</td>\n",
       "      <td>2.109842</td>\n",
       "      <td>3.0</td>\n",
       "    </tr>\n",
       "    <tr>\n",
       "      <th>2</th>\n",
       "      <td>-122.24</td>\n",
       "      <td>37.85</td>\n",
       "      <td>52.0</td>\n",
       "      <td>7.2574</td>\n",
       "      <td>352100.0</td>\n",
       "      <td>7.721053</td>\n",
       "      <td>8.288136</td>\n",
       "      <td>2.802260</td>\n",
       "      <td>3.0</td>\n",
       "    </tr>\n",
       "    <tr>\n",
       "      <th>3</th>\n",
       "      <td>-122.25</td>\n",
       "      <td>37.85</td>\n",
       "      <td>52.0</td>\n",
       "      <td>5.6431</td>\n",
       "      <td>341300.0</td>\n",
       "      <td>5.421277</td>\n",
       "      <td>5.817352</td>\n",
       "      <td>2.547945</td>\n",
       "      <td>3.0</td>\n",
       "    </tr>\n",
       "    <tr>\n",
       "      <th>4</th>\n",
       "      <td>-122.25</td>\n",
       "      <td>37.85</td>\n",
       "      <td>52.0</td>\n",
       "      <td>3.8462</td>\n",
       "      <td>342200.0</td>\n",
       "      <td>5.810714</td>\n",
       "      <td>6.281853</td>\n",
       "      <td>2.181467</td>\n",
       "      <td>3.0</td>\n",
       "    </tr>\n",
       "    <tr>\n",
       "      <th>...</th>\n",
       "      <td>...</td>\n",
       "      <td>...</td>\n",
       "      <td>...</td>\n",
       "      <td>...</td>\n",
       "      <td>...</td>\n",
       "      <td>...</td>\n",
       "      <td>...</td>\n",
       "      <td>...</td>\n",
       "      <td>...</td>\n",
       "    </tr>\n",
       "    <tr>\n",
       "      <th>20428</th>\n",
       "      <td>-121.09</td>\n",
       "      <td>39.48</td>\n",
       "      <td>25.0</td>\n",
       "      <td>1.5603</td>\n",
       "      <td>78100.0</td>\n",
       "      <td>4.451872</td>\n",
       "      <td>5.045455</td>\n",
       "      <td>2.560606</td>\n",
       "      <td>1.0</td>\n",
       "    </tr>\n",
       "    <tr>\n",
       "      <th>20429</th>\n",
       "      <td>-121.21</td>\n",
       "      <td>39.49</td>\n",
       "      <td>18.0</td>\n",
       "      <td>2.5568</td>\n",
       "      <td>77100.0</td>\n",
       "      <td>4.646667</td>\n",
       "      <td>6.114035</td>\n",
       "      <td>3.122807</td>\n",
       "      <td>1.0</td>\n",
       "    </tr>\n",
       "    <tr>\n",
       "      <th>20430</th>\n",
       "      <td>-121.22</td>\n",
       "      <td>39.43</td>\n",
       "      <td>17.0</td>\n",
       "      <td>1.7000</td>\n",
       "      <td>92300.0</td>\n",
       "      <td>4.647423</td>\n",
       "      <td>5.205543</td>\n",
       "      <td>2.325635</td>\n",
       "      <td>1.0</td>\n",
       "    </tr>\n",
       "    <tr>\n",
       "      <th>20431</th>\n",
       "      <td>-121.32</td>\n",
       "      <td>39.43</td>\n",
       "      <td>18.0</td>\n",
       "      <td>1.8672</td>\n",
       "      <td>84700.0</td>\n",
       "      <td>4.547677</td>\n",
       "      <td>5.329513</td>\n",
       "      <td>2.123209</td>\n",
       "      <td>1.0</td>\n",
       "    </tr>\n",
       "    <tr>\n",
       "      <th>20432</th>\n",
       "      <td>-121.24</td>\n",
       "      <td>39.37</td>\n",
       "      <td>16.0</td>\n",
       "      <td>2.3886</td>\n",
       "      <td>89400.0</td>\n",
       "      <td>4.521104</td>\n",
       "      <td>5.254717</td>\n",
       "      <td>2.616981</td>\n",
       "      <td>1.0</td>\n",
       "    </tr>\n",
       "  </tbody>\n",
       "</table>\n",
       "<p>20433 rows × 9 columns</p>\n",
       "</div>"
      ],
      "text/plain": [
       "       longitude  latitude  housing_median_age  median_income  \\\n",
       "0        -122.23     37.88                41.0         8.3252   \n",
       "1        -122.22     37.86                21.0         8.3014   \n",
       "2        -122.24     37.85                52.0         7.2574   \n",
       "3        -122.25     37.85                52.0         5.6431   \n",
       "4        -122.25     37.85                52.0         3.8462   \n",
       "...          ...       ...                 ...            ...   \n",
       "20428    -121.09     39.48                25.0         1.5603   \n",
       "20429    -121.21     39.49                18.0         2.5568   \n",
       "20430    -121.22     39.43                17.0         1.7000   \n",
       "20431    -121.32     39.43                18.0         1.8672   \n",
       "20432    -121.24     39.37                16.0         2.3886   \n",
       "\n",
       "       median_house_value  rooms_per_bedroom  rooms_per_household  \\\n",
       "0                452600.0           6.821705             6.984127   \n",
       "1                358500.0           6.418626             6.238137   \n",
       "2                352100.0           7.721053             8.288136   \n",
       "3                341300.0           5.421277             5.817352   \n",
       "4                342200.0           5.810714             6.281853   \n",
       "...                   ...                ...                  ...   \n",
       "20428             78100.0           4.451872             5.045455   \n",
       "20429             77100.0           4.646667             6.114035   \n",
       "20430             92300.0           4.647423             5.205543   \n",
       "20431             84700.0           4.547677             5.329513   \n",
       "20432             89400.0           4.521104             5.254717   \n",
       "\n",
       "       people_per_household  ocean_proximity_enc  \n",
       "0                  2.555556                  3.0  \n",
       "1                  2.109842                  3.0  \n",
       "2                  2.802260                  3.0  \n",
       "3                  2.547945                  3.0  \n",
       "4                  2.181467                  3.0  \n",
       "...                     ...                  ...  \n",
       "20428              2.560606                  1.0  \n",
       "20429              3.122807                  1.0  \n",
       "20430              2.325635                  1.0  \n",
       "20431              2.123209                  1.0  \n",
       "20432              2.616981                  1.0  \n",
       "\n",
       "[20433 rows x 9 columns]"
      ]
     },
     "execution_count": 104,
     "metadata": {},
     "output_type": "execute_result"
    }
   ],
   "source": [
    "housing"
   ]
  },
  {
   "cell_type": "code",
   "execution_count": 105,
   "metadata": {},
   "outputs": [
    {
     "data": {
      "image/png": "[encoded data removed]",
      "text/plain": [
       "<Figure size 720x720 with 1 Axes>"
      ]
     },
     "metadata": {
      "needs_background": "light"
     },
     "output_type": "display_data"
    }
   ],
   "source": [
    "import seaborn as sns\n",
    "plt.figure(figsize=(10, 10))\n",
    "sns.scatterplot(x = \"longitude\", y = \"latitude\", data = housing, hue = housing.index);"
   ]
  },
  {
   "cell_type": "code",
   "execution_count": 106,
   "metadata": {},
   "outputs": [
    {
     "data": {
      "image/png": "[encoded data removed]",
      "text/plain": [
       "<Figure size 720x720 with 1 Axes>"
      ]
     },
     "metadata": {
      "needs_background": "light"
     },
     "output_type": "display_data"
    }
   ],
   "source": [
    "from sklearn.utils import shuffle\n",
    "housing_shuffled = shuffle(housing)\n",
    "\n",
    "plt.figure(figsize=(10, 10))\n",
    "sns.scatterplot(x = \"longitude\", y = \"latitude\", data = housing_shuffled,\n",
    "                hue = housing.index);"
   ]
  },
  {
   "cell_type": "markdown",
   "metadata": {},
   "source": [
    "## 2. Hyper-Parameter tuning and Cross-validation"
   ]
  },
  {
   "cell_type": "markdown",
   "metadata": {},
   "source": [
    "In the first part, we \"arbitrarily\" chose a hyper-parameter value for our model. However, this value might not be optimal. Usually, we want to compare the model's expected error for a range of different possible hyper-parameters, in order to choose the best one for the task at hand. (Remember the optimal value depends on the specific data we try to model, and there cannot be a \"best\" hyper-parameter value overall, this is often called the *no free lunch theorem*.)"
   ]
  },
  {
   "cell_type": "markdown",
   "metadata": {},
   "source": [
    "In sklearn, [GridSearchCV](https://scikit-learn.org/stable/modules/generated/sklearn.model_selection.GridSearchCV.html) performs a grid-search over the given range of hyper-parameter values, by estimating the cross-validation error for each value in the given grid."
   ]
  },
  {
   "cell_type": "code",
   "execution_count": 107,
   "metadata": {
    "ExecuteTime": {
     "end_time": "2021-03-12T00:24:31.164544Z",
     "start_time": "2021-03-12T00:24:31.152132Z"
    }
   },
   "outputs": [],
   "source": [
    "from sklearn.model_selection import GridSearchCV, KFold\n",
    "folds = KFold(n_splits=10 , shuffle=True, random_state=1)"
   ]
  },
  {
   "cell_type": "markdown",
   "metadata": {},
   "source": [
    "First, instantiate a new kNN regressor (no need to specify a k value), and specify the grid of hyper-parameter values in a dictionary of the form `{\"hyper_param_name\" : values_to_try}`.\n",
    "\n",
    "Choose equally spaced values between $1$ and $49$, with an increment of $2$ as a grid of values to try."
   ]
  },
  {
   "cell_type": "code",
   "execution_count": 109,
   "metadata": {
    "ExecuteTime": {
     "end_time": "2021-03-12T00:24:31.180654Z",
     "start_time": "2021-03-12T00:24:31.170633Z"
    }
   },
   "outputs": [
    {
     "data": {
      "text/plain": [
       "array([ 1,  3,  5,  7,  9, 11, 13, 15, 17, 19, 21, 23, 25, 27, 29, 31, 33,\n",
       "       35, 37, 39, 41, 43, 45, 47, 49])"
      ]
     },
     "execution_count": 109,
     "metadata": {},
     "output_type": "execute_result"
    }
   ],
   "source": [
    "knn = KNeighborsRegressor()\n",
    "\n",
    "# hyper_parameters = {\"hyper_param_name_1\" : values_param_1, \"hyper_param_name_2\" : value_param_2}\n",
    "hyper_parameters = {\"n_neighbors\" : np.arange(1, 50, 2)}\n",
    "hyper_parameters['n_neighbors']"
   ]
  },
  {
   "cell_type": "markdown",
   "metadata": {},
   "source": [
    "Now perform the Grid-search with 10-fold cross-validation, to estimate the model's generalization error for the chosen grid of k values. Don't forget to shuffle the data for the fold split.\n",
    "\n",
    "_Hint:_ `GridSearchCV` is an object, you need to instanciate it and fit it (like a ML model)."
   ]
  },
  {
   "cell_type": "code",
   "execution_count": 110,
   "metadata": {
    "ExecuteTime": {
     "end_time": "2021-03-12T00:26:09.232406Z",
     "start_time": "2021-03-12T00:24:31.184414Z"
    }
   },
   "outputs": [
    {
     "data": {
      "text/plain": [
       "GridSearchCV(cv=KFold(n_splits=10, random_state=1, shuffle=True),\n",
       "             estimator=KNeighborsRegressor(),\n",
       "             param_grid={'n_neighbors': array([ 1,  3,  5,  7,  9, 11, 13, 15, 17, 19, 21, 23, 25, 27, 29, 31, 33,\n",
       "       35, 37, 39, 41, 43, 45, 47, 49])},\n",
       "             scoring='neg_mean_squared_error')"
      ]
     },
     "execution_count": 110,
     "metadata": {},
     "output_type": "execute_result"
    }
   ],
   "source": [
    "knnCV = GridSearchCV(estimator=knn, param_grid=hyper_parameters, scoring=\"neg_mean_squared_error\",\n",
    "                       cv=folds)\n",
    "knnCV.fit(X, y)"
   ]
  },
  {
   "cell_type": "markdown",
   "metadata": {},
   "source": [
    "The fitted grid-search object has an attribute `cv_results_` containing the grid search results as a dictionary. Inspect its contents and try to understand what each variable means. (It might be easier to visualize if you convert the dictionary into a DataFrame.)"
   ]
  },
  {
   "cell_type": "code",
   "execution_count": 112,
   "metadata": {
    "ExecuteTime": {
     "end_time": "2021-03-12T00:26:09.342135Z",
     "start_time": "2021-03-12T00:26:09.237174Z"
    }
   },
   "outputs": [
    {
     "data": {
      "text/html": [
       "<div>\n",
       "<style scoped>\n",
       "    .dataframe tbody tr th:only-of-type {\n",
       "        vertical-align: middle;\n",
       "    }\n",
       "\n",
       "    .dataframe tbody tr th {\n",
       "        vertical-align: top;\n",
       "    }\n",
       "\n",
       "    .dataframe thead th {\n",
       "        text-align: right;\n",
       "    }\n",
       "</style>\n",
       "<table border=\"1\" class=\"dataframe\">\n",
       "  <thead>\n",
       "    <tr style=\"text-align: right;\">\n",
       "      <th></th>\n",
       "      <th>mean_fit_time</th>\n",
       "      <th>std_fit_time</th>\n",
       "      <th>mean_score_time</th>\n",
       "      <th>std_score_time</th>\n",
       "      <th>param_n_neighbors</th>\n",
       "      <th>params</th>\n",
       "      <th>split0_test_score</th>\n",
       "      <th>split1_test_score</th>\n",
       "      <th>split2_test_score</th>\n",
       "      <th>split3_test_score</th>\n",
       "      <th>split4_test_score</th>\n",
       "      <th>split5_test_score</th>\n",
       "      <th>split6_test_score</th>\n",
       "      <th>split7_test_score</th>\n",
       "      <th>split8_test_score</th>\n",
       "      <th>split9_test_score</th>\n",
       "      <th>mean_test_score</th>\n",
       "      <th>std_test_score</th>\n",
       "      <th>rank_test_score</th>\n",
       "    </tr>\n",
       "  </thead>\n",
       "  <tbody>\n",
       "    <tr>\n",
       "      <th>0</th>\n",
       "      <td>0.014251</td>\n",
       "      <td>0.002342</td>\n",
       "      <td>0.033936</td>\n",
       "      <td>0.005544</td>\n",
       "      <td>1</td>\n",
       "      <td>{'n_neighbors': 1}</td>\n",
       "      <td>-6.175751e+09</td>\n",
       "      <td>-5.240964e+09</td>\n",
       "      <td>-5.775110e+09</td>\n",
       "      <td>-5.401690e+09</td>\n",
       "      <td>-5.162383e+09</td>\n",
       "      <td>-5.378801e+09</td>\n",
       "      <td>-5.884297e+09</td>\n",
       "      <td>-5.662640e+09</td>\n",
       "      <td>-5.096944e+09</td>\n",
       "      <td>-5.669976e+09</td>\n",
       "      <td>-5.544855e+09</td>\n",
       "      <td>3.291088e+08</td>\n",
       "      <td>25</td>\n",
       "    </tr>\n",
       "    <tr>\n",
       "      <th>1</th>\n",
       "      <td>0.013703</td>\n",
       "      <td>0.001043</td>\n",
       "      <td>0.048264</td>\n",
       "      <td>0.004421</td>\n",
       "      <td>3</td>\n",
       "      <td>{'n_neighbors': 3}</td>\n",
       "      <td>-4.325947e+09</td>\n",
       "      <td>-3.820784e+09</td>\n",
       "      <td>-3.964031e+09</td>\n",
       "      <td>-3.894911e+09</td>\n",
       "      <td>-3.630470e+09</td>\n",
       "      <td>-3.872248e+09</td>\n",
       "      <td>-3.947912e+09</td>\n",
       "      <td>-4.027228e+09</td>\n",
       "      <td>-3.872587e+09</td>\n",
       "      <td>-4.014835e+09</td>\n",
       "      <td>-3.937095e+09</td>\n",
       "      <td>1.684960e+08</td>\n",
       "      <td>15</td>\n",
       "    </tr>\n",
       "    <tr>\n",
       "      <th>2</th>\n",
       "      <td>0.013186</td>\n",
       "      <td>0.000847</td>\n",
       "      <td>0.052670</td>\n",
       "      <td>0.001566</td>\n",
       "      <td>5</td>\n",
       "      <td>{'n_neighbors': 5}</td>\n",
       "      <td>-3.964956e+09</td>\n",
       "      <td>-3.556480e+09</td>\n",
       "      <td>-3.773395e+09</td>\n",
       "      <td>-3.760478e+09</td>\n",
       "      <td>-3.508595e+09</td>\n",
       "      <td>-3.682438e+09</td>\n",
       "      <td>-3.637236e+09</td>\n",
       "      <td>-3.721224e+09</td>\n",
       "      <td>-3.628033e+09</td>\n",
       "      <td>-3.774272e+09</td>\n",
       "      <td>-3.700711e+09</td>\n",
       "      <td>1.232349e+08</td>\n",
       "      <td>8</td>\n",
       "    </tr>\n",
       "    <tr>\n",
       "      <th>3</th>\n",
       "      <td>0.013642</td>\n",
       "      <td>0.001038</td>\n",
       "      <td>0.060530</td>\n",
       "      <td>0.003182</td>\n",
       "      <td>7</td>\n",
       "      <td>{'n_neighbors': 7}</td>\n",
       "      <td>-3.831930e+09</td>\n",
       "      <td>-3.547958e+09</td>\n",
       "      <td>-3.740490e+09</td>\n",
       "      <td>-3.686686e+09</td>\n",
       "      <td>-3.386807e+09</td>\n",
       "      <td>-3.600239e+09</td>\n",
       "      <td>-3.560442e+09</td>\n",
       "      <td>-3.557343e+09</td>\n",
       "      <td>-3.584099e+09</td>\n",
       "      <td>-3.671923e+09</td>\n",
       "      <td>-3.616792e+09</td>\n",
       "      <td>1.162727e+08</td>\n",
       "      <td>4</td>\n",
       "    </tr>\n",
       "    <tr>\n",
       "      <th>4</th>\n",
       "      <td>0.014058</td>\n",
       "      <td>0.001252</td>\n",
       "      <td>0.068091</td>\n",
       "      <td>0.004334</td>\n",
       "      <td>9</td>\n",
       "      <td>{'n_neighbors': 9}</td>\n",
       "      <td>-3.812144e+09</td>\n",
       "      <td>-3.470539e+09</td>\n",
       "      <td>-3.679595e+09</td>\n",
       "      <td>-3.709353e+09</td>\n",
       "      <td>-3.368768e+09</td>\n",
       "      <td>-3.539268e+09</td>\n",
       "      <td>-3.509008e+09</td>\n",
       "      <td>-3.536181e+09</td>\n",
       "      <td>-3.506499e+09</td>\n",
       "      <td>-3.665617e+09</td>\n",
       "      <td>-3.579697e+09</td>\n",
       "      <td>1.258944e+08</td>\n",
       "      <td>2</td>\n",
       "    </tr>\n",
       "    <tr>\n",
       "      <th>5</th>\n",
       "      <td>0.013782</td>\n",
       "      <td>0.001458</td>\n",
       "      <td>0.069603</td>\n",
       "      <td>0.005173</td>\n",
       "      <td>11</td>\n",
       "      <td>{'n_neighbors': 11}</td>\n",
       "      <td>-3.785910e+09</td>\n",
       "      <td>-3.503122e+09</td>\n",
       "      <td>-3.682039e+09</td>\n",
       "      <td>-3.736812e+09</td>\n",
       "      <td>-3.399524e+09</td>\n",
       "      <td>-3.542233e+09</td>\n",
       "      <td>-3.476496e+09</td>\n",
       "      <td>-3.501911e+09</td>\n",
       "      <td>-3.476573e+09</td>\n",
       "      <td>-3.683549e+09</td>\n",
       "      <td>-3.578817e+09</td>\n",
       "      <td>1.247099e+08</td>\n",
       "      <td>1</td>\n",
       "    </tr>\n",
       "    <tr>\n",
       "      <th>6</th>\n",
       "      <td>0.013337</td>\n",
       "      <td>0.001201</td>\n",
       "      <td>0.072109</td>\n",
       "      <td>0.003551</td>\n",
       "      <td>13</td>\n",
       "      <td>{'n_neighbors': 13}</td>\n",
       "      <td>-3.776929e+09</td>\n",
       "      <td>-3.486868e+09</td>\n",
       "      <td>-3.769671e+09</td>\n",
       "      <td>-3.789067e+09</td>\n",
       "      <td>-3.400299e+09</td>\n",
       "      <td>-3.557978e+09</td>\n",
       "      <td>-3.478715e+09</td>\n",
       "      <td>-3.513785e+09</td>\n",
       "      <td>-3.508899e+09</td>\n",
       "      <td>-3.738310e+09</td>\n",
       "      <td>-3.602052e+09</td>\n",
       "      <td>1.413555e+08</td>\n",
       "      <td>3</td>\n",
       "    </tr>\n",
       "    <tr>\n",
       "      <th>7</th>\n",
       "      <td>0.013089</td>\n",
       "      <td>0.000616</td>\n",
       "      <td>0.073157</td>\n",
       "      <td>0.001624</td>\n",
       "      <td>15</td>\n",
       "      <td>{'n_neighbors': 15}</td>\n",
       "      <td>-3.772219e+09</td>\n",
       "      <td>-3.519089e+09</td>\n",
       "      <td>-3.829182e+09</td>\n",
       "      <td>-3.800806e+09</td>\n",
       "      <td>-3.427087e+09</td>\n",
       "      <td>-3.587035e+09</td>\n",
       "      <td>-3.513024e+09</td>\n",
       "      <td>-3.544318e+09</td>\n",
       "      <td>-3.532970e+09</td>\n",
       "      <td>-3.754432e+09</td>\n",
       "      <td>-3.628016e+09</td>\n",
       "      <td>1.379416e+08</td>\n",
       "      <td>5</td>\n",
       "    </tr>\n",
       "    <tr>\n",
       "      <th>8</th>\n",
       "      <td>0.013253</td>\n",
       "      <td>0.000819</td>\n",
       "      <td>0.076339</td>\n",
       "      <td>0.001707</td>\n",
       "      <td>17</td>\n",
       "      <td>{'n_neighbors': 17}</td>\n",
       "      <td>-3.785569e+09</td>\n",
       "      <td>-3.501959e+09</td>\n",
       "      <td>-3.870745e+09</td>\n",
       "      <td>-3.874755e+09</td>\n",
       "      <td>-3.451127e+09</td>\n",
       "      <td>-3.642758e+09</td>\n",
       "      <td>-3.596308e+09</td>\n",
       "      <td>-3.580266e+09</td>\n",
       "      <td>-3.569616e+09</td>\n",
       "      <td>-3.794802e+09</td>\n",
       "      <td>-3.666790e+09</td>\n",
       "      <td>1.454294e+08</td>\n",
       "      <td>6</td>\n",
       "    </tr>\n",
       "    <tr>\n",
       "      <th>9</th>\n",
       "      <td>0.013228</td>\n",
       "      <td>0.000680</td>\n",
       "      <td>0.078994</td>\n",
       "      <td>0.001281</td>\n",
       "      <td>19</td>\n",
       "      <td>{'n_neighbors': 19}</td>\n",
       "      <td>-3.807598e+09</td>\n",
       "      <td>-3.521683e+09</td>\n",
       "      <td>-3.899603e+09</td>\n",
       "      <td>-3.870906e+09</td>\n",
       "      <td>-3.485283e+09</td>\n",
       "      <td>-3.713504e+09</td>\n",
       "      <td>-3.618268e+09</td>\n",
       "      <td>-3.604661e+09</td>\n",
       "      <td>-3.565690e+09</td>\n",
       "      <td>-3.824570e+09</td>\n",
       "      <td>-3.691177e+09</td>\n",
       "      <td>1.439646e+08</td>\n",
       "      <td>7</td>\n",
       "    </tr>\n",
       "    <tr>\n",
       "      <th>10</th>\n",
       "      <td>0.013688</td>\n",
       "      <td>0.001381</td>\n",
       "      <td>0.085888</td>\n",
       "      <td>0.006538</td>\n",
       "      <td>21</td>\n",
       "      <td>{'n_neighbors': 21}</td>\n",
       "      <td>-3.836369e+09</td>\n",
       "      <td>-3.554110e+09</td>\n",
       "      <td>-3.956994e+09</td>\n",
       "      <td>-3.914888e+09</td>\n",
       "      <td>-3.518735e+09</td>\n",
       "      <td>-3.770169e+09</td>\n",
       "      <td>-3.678687e+09</td>\n",
       "      <td>-3.617164e+09</td>\n",
       "      <td>-3.627471e+09</td>\n",
       "      <td>-3.860755e+09</td>\n",
       "      <td>-3.733534e+09</td>\n",
       "      <td>1.473286e+08</td>\n",
       "      <td>9</td>\n",
       "    </tr>\n",
       "    <tr>\n",
       "      <th>11</th>\n",
       "      <td>0.014176</td>\n",
       "      <td>0.001915</td>\n",
       "      <td>0.092535</td>\n",
       "      <td>0.004907</td>\n",
       "      <td>23</td>\n",
       "      <td>{'n_neighbors': 23}</td>\n",
       "      <td>-3.860589e+09</td>\n",
       "      <td>-3.547892e+09</td>\n",
       "      <td>-4.003715e+09</td>\n",
       "      <td>-3.957010e+09</td>\n",
       "      <td>-3.570810e+09</td>\n",
       "      <td>-3.834193e+09</td>\n",
       "      <td>-3.713066e+09</td>\n",
       "      <td>-3.636640e+09</td>\n",
       "      <td>-3.691794e+09</td>\n",
       "      <td>-3.887538e+09</td>\n",
       "      <td>-3.770325e+09</td>\n",
       "      <td>1.522786e+08</td>\n",
       "      <td>10</td>\n",
       "    </tr>\n",
       "    <tr>\n",
       "      <th>12</th>\n",
       "      <td>0.013376</td>\n",
       "      <td>0.000773</td>\n",
       "      <td>0.089207</td>\n",
       "      <td>0.003214</td>\n",
       "      <td>25</td>\n",
       "      <td>{'n_neighbors': 25}</td>\n",
       "      <td>-3.906198e+09</td>\n",
       "      <td>-3.612494e+09</td>\n",
       "      <td>-4.065705e+09</td>\n",
       "      <td>-4.001297e+09</td>\n",
       "      <td>-3.596936e+09</td>\n",
       "      <td>-3.847908e+09</td>\n",
       "      <td>-3.725751e+09</td>\n",
       "      <td>-3.693533e+09</td>\n",
       "      <td>-3.730128e+09</td>\n",
       "      <td>-3.953172e+09</td>\n",
       "      <td>-3.813312e+09</td>\n",
       "      <td>1.563669e+08</td>\n",
       "      <td>11</td>\n",
       "    </tr>\n",
       "    <tr>\n",
       "      <th>13</th>\n",
       "      <td>0.013442</td>\n",
       "      <td>0.000868</td>\n",
       "      <td>0.094503</td>\n",
       "      <td>0.002453</td>\n",
       "      <td>27</td>\n",
       "      <td>{'n_neighbors': 27}</td>\n",
       "      <td>-3.916628e+09</td>\n",
       "      <td>-3.634073e+09</td>\n",
       "      <td>-4.121875e+09</td>\n",
       "      <td>-4.052240e+09</td>\n",
       "      <td>-3.628877e+09</td>\n",
       "      <td>-3.894267e+09</td>\n",
       "      <td>-3.798240e+09</td>\n",
       "      <td>-3.721894e+09</td>\n",
       "      <td>-3.786654e+09</td>\n",
       "      <td>-3.977894e+09</td>\n",
       "      <td>-3.853264e+09</td>\n",
       "      <td>1.600279e+08</td>\n",
       "      <td>12</td>\n",
       "    </tr>\n",
       "    <tr>\n",
       "      <th>14</th>\n",
       "      <td>0.013951</td>\n",
       "      <td>0.000894</td>\n",
       "      <td>0.101804</td>\n",
       "      <td>0.004206</td>\n",
       "      <td>29</td>\n",
       "      <td>{'n_neighbors': 29}</td>\n",
       "      <td>-3.934760e+09</td>\n",
       "      <td>-3.669050e+09</td>\n",
       "      <td>-4.160532e+09</td>\n",
       "      <td>-4.064761e+09</td>\n",
       "      <td>-3.668998e+09</td>\n",
       "      <td>-3.940840e+09</td>\n",
       "      <td>-3.819578e+09</td>\n",
       "      <td>-3.756590e+09</td>\n",
       "      <td>-3.806505e+09</td>\n",
       "      <td>-3.987017e+09</td>\n",
       "      <td>-3.880863e+09</td>\n",
       "      <td>1.562960e+08</td>\n",
       "      <td>13</td>\n",
       "    </tr>\n",
       "    <tr>\n",
       "      <th>15</th>\n",
       "      <td>0.013875</td>\n",
       "      <td>0.001566</td>\n",
       "      <td>0.103190</td>\n",
       "      <td>0.007759</td>\n",
       "      <td>31</td>\n",
       "      <td>{'n_neighbors': 31}</td>\n",
       "      <td>-3.966720e+09</td>\n",
       "      <td>-3.690898e+09</td>\n",
       "      <td>-4.210185e+09</td>\n",
       "      <td>-4.116568e+09</td>\n",
       "      <td>-3.706535e+09</td>\n",
       "      <td>-3.958906e+09</td>\n",
       "      <td>-3.871022e+09</td>\n",
       "      <td>-3.792818e+09</td>\n",
       "      <td>-3.838708e+09</td>\n",
       "      <td>-4.025650e+09</td>\n",
       "      <td>-3.917801e+09</td>\n",
       "      <td>1.615219e+08</td>\n",
       "      <td>14</td>\n",
       "    </tr>\n",
       "    <tr>\n",
       "      <th>16</th>\n",
       "      <td>0.013639</td>\n",
       "      <td>0.000527</td>\n",
       "      <td>0.102932</td>\n",
       "      <td>0.006506</td>\n",
       "      <td>33</td>\n",
       "      <td>{'n_neighbors': 33}</td>\n",
       "      <td>-3.982405e+09</td>\n",
       "      <td>-3.713699e+09</td>\n",
       "      <td>-4.235301e+09</td>\n",
       "      <td>-4.154954e+09</td>\n",
       "      <td>-3.745409e+09</td>\n",
       "      <td>-4.000943e+09</td>\n",
       "      <td>-3.904378e+09</td>\n",
       "      <td>-3.823591e+09</td>\n",
       "      <td>-3.866034e+09</td>\n",
       "      <td>-4.069814e+09</td>\n",
       "      <td>-3.949653e+09</td>\n",
       "      <td>1.625451e+08</td>\n",
       "      <td>16</td>\n",
       "    </tr>\n",
       "    <tr>\n",
       "      <th>17</th>\n",
       "      <td>0.013289</td>\n",
       "      <td>0.000775</td>\n",
       "      <td>0.101805</td>\n",
       "      <td>0.005295</td>\n",
       "      <td>35</td>\n",
       "      <td>{'n_neighbors': 35}</td>\n",
       "      <td>-4.007361e+09</td>\n",
       "      <td>-3.738933e+09</td>\n",
       "      <td>-4.272872e+09</td>\n",
       "      <td>-4.183573e+09</td>\n",
       "      <td>-3.784509e+09</td>\n",
       "      <td>-4.037381e+09</td>\n",
       "      <td>-3.940488e+09</td>\n",
       "      <td>-3.857075e+09</td>\n",
       "      <td>-3.905444e+09</td>\n",
       "      <td>-4.093551e+09</td>\n",
       "      <td>-3.982119e+09</td>\n",
       "      <td>1.620700e+08</td>\n",
       "      <td>17</td>\n",
       "    </tr>\n",
       "    <tr>\n",
       "      <th>18</th>\n",
       "      <td>0.014156</td>\n",
       "      <td>0.001024</td>\n",
       "      <td>0.110802</td>\n",
       "      <td>0.006753</td>\n",
       "      <td>37</td>\n",
       "      <td>{'n_neighbors': 37}</td>\n",
       "      <td>-4.018794e+09</td>\n",
       "      <td>-3.773637e+09</td>\n",
       "      <td>-4.312326e+09</td>\n",
       "      <td>-4.215074e+09</td>\n",
       "      <td>-3.812865e+09</td>\n",
       "      <td>-4.070518e+09</td>\n",
       "      <td>-3.962320e+09</td>\n",
       "      <td>-3.889471e+09</td>\n",
       "      <td>-3.930719e+09</td>\n",
       "      <td>-4.135054e+09</td>\n",
       "      <td>-4.012078e+09</td>\n",
       "      <td>1.645013e+08</td>\n",
       "      <td>18</td>\n",
       "    </tr>\n",
       "    <tr>\n",
       "      <th>19</th>\n",
       "      <td>0.013804</td>\n",
       "      <td>0.001064</td>\n",
       "      <td>0.111235</td>\n",
       "      <td>0.005106</td>\n",
       "      <td>39</td>\n",
       "      <td>{'n_neighbors': 39}</td>\n",
       "      <td>-4.027690e+09</td>\n",
       "      <td>-3.814357e+09</td>\n",
       "      <td>-4.349183e+09</td>\n",
       "      <td>-4.252425e+09</td>\n",
       "      <td>-3.850178e+09</td>\n",
       "      <td>-4.099170e+09</td>\n",
       "      <td>-4.009475e+09</td>\n",
       "      <td>-3.913109e+09</td>\n",
       "      <td>-3.948967e+09</td>\n",
       "      <td>-4.142949e+09</td>\n",
       "      <td>-4.040750e+09</td>\n",
       "      <td>1.634721e+08</td>\n",
       "      <td>19</td>\n",
       "    </tr>\n",
       "    <tr>\n",
       "      <th>20</th>\n",
       "      <td>0.013408</td>\n",
       "      <td>0.001015</td>\n",
       "      <td>0.108345</td>\n",
       "      <td>0.005482</td>\n",
       "      <td>41</td>\n",
       "      <td>{'n_neighbors': 41}</td>\n",
       "      <td>-4.064410e+09</td>\n",
       "      <td>-3.836049e+09</td>\n",
       "      <td>-4.378240e+09</td>\n",
       "      <td>-4.273786e+09</td>\n",
       "      <td>-3.870497e+09</td>\n",
       "      <td>-4.141219e+09</td>\n",
       "      <td>-4.047705e+09</td>\n",
       "      <td>-3.937373e+09</td>\n",
       "      <td>-3.969638e+09</td>\n",
       "      <td>-4.166185e+09</td>\n",
       "      <td>-4.068510e+09</td>\n",
       "      <td>1.653986e+08</td>\n",
       "      <td>20</td>\n",
       "    </tr>\n",
       "    <tr>\n",
       "      <th>21</th>\n",
       "      <td>0.013913</td>\n",
       "      <td>0.001057</td>\n",
       "      <td>0.115597</td>\n",
       "      <td>0.007181</td>\n",
       "      <td>43</td>\n",
       "      <td>{'n_neighbors': 43}</td>\n",
       "      <td>-4.098935e+09</td>\n",
       "      <td>-3.867182e+09</td>\n",
       "      <td>-4.414267e+09</td>\n",
       "      <td>-4.290226e+09</td>\n",
       "      <td>-3.896795e+09</td>\n",
       "      <td>-4.171147e+09</td>\n",
       "      <td>-4.090123e+09</td>\n",
       "      <td>-3.964743e+09</td>\n",
       "      <td>-4.004621e+09</td>\n",
       "      <td>-4.194363e+09</td>\n",
       "      <td>-4.099240e+09</td>\n",
       "      <td>1.648930e+08</td>\n",
       "      <td>21</td>\n",
       "    </tr>\n",
       "    <tr>\n",
       "      <th>22</th>\n",
       "      <td>0.013314</td>\n",
       "      <td>0.000922</td>\n",
       "      <td>0.110412</td>\n",
       "      <td>0.001974</td>\n",
       "      <td>45</td>\n",
       "      <td>{'n_neighbors': 45}</td>\n",
       "      <td>-4.131743e+09</td>\n",
       "      <td>-3.885307e+09</td>\n",
       "      <td>-4.447221e+09</td>\n",
       "      <td>-4.328881e+09</td>\n",
       "      <td>-3.919714e+09</td>\n",
       "      <td>-4.203082e+09</td>\n",
       "      <td>-4.119479e+09</td>\n",
       "      <td>-3.999927e+09</td>\n",
       "      <td>-4.032322e+09</td>\n",
       "      <td>-4.224783e+09</td>\n",
       "      <td>-4.129246e+09</td>\n",
       "      <td>1.688700e+08</td>\n",
       "      <td>22</td>\n",
       "    </tr>\n",
       "    <tr>\n",
       "      <th>23</th>\n",
       "      <td>0.013148</td>\n",
       "      <td>0.000615</td>\n",
       "      <td>0.112693</td>\n",
       "      <td>0.002633</td>\n",
       "      <td>47</td>\n",
       "      <td>{'n_neighbors': 47}</td>\n",
       "      <td>-4.157827e+09</td>\n",
       "      <td>-3.912977e+09</td>\n",
       "      <td>-4.479342e+09</td>\n",
       "      <td>-4.354648e+09</td>\n",
       "      <td>-3.944267e+09</td>\n",
       "      <td>-4.234785e+09</td>\n",
       "      <td>-4.146743e+09</td>\n",
       "      <td>-4.040600e+09</td>\n",
       "      <td>-4.053673e+09</td>\n",
       "      <td>-4.263424e+09</td>\n",
       "      <td>-4.158829e+09</td>\n",
       "      <td>1.701310e+08</td>\n",
       "      <td>23</td>\n",
       "    </tr>\n",
       "    <tr>\n",
       "      <th>24</th>\n",
       "      <td>0.013127</td>\n",
       "      <td>0.000695</td>\n",
       "      <td>0.116600</td>\n",
       "      <td>0.006506</td>\n",
       "      <td>49</td>\n",
       "      <td>{'n_neighbors': 49}</td>\n",
       "      <td>-4.186566e+09</td>\n",
       "      <td>-3.946210e+09</td>\n",
       "      <td>-4.517273e+09</td>\n",
       "      <td>-4.378273e+09</td>\n",
       "      <td>-3.967413e+09</td>\n",
       "      <td>-4.263385e+09</td>\n",
       "      <td>-4.179893e+09</td>\n",
       "      <td>-4.067788e+09</td>\n",
       "      <td>-4.086318e+09</td>\n",
       "      <td>-4.292523e+09</td>\n",
       "      <td>-4.188564e+09</td>\n",
       "      <td>1.712331e+08</td>\n",
       "      <td>24</td>\n",
       "    </tr>\n",
       "  </tbody>\n",
       "</table>\n",
       "</div>"
      ],
      "text/plain": [
       "    mean_fit_time  std_fit_time  mean_score_time  std_score_time  \\\n",
       "0        0.014251      0.002342         0.033936        0.005544   \n",
       "1        0.013703      0.001043         0.048264        0.004421   \n",
       "2        0.013186      0.000847         0.052670        0.001566   \n",
       "3        0.013642      0.001038         0.060530        0.003182   \n",
       "4        0.014058      0.001252         0.068091        0.004334   \n",
       "5        0.013782      0.001458         0.069603        0.005173   \n",
       "6        0.013337      0.001201         0.072109        0.003551   \n",
       "7        0.013089      0.000616         0.073157        0.001624   \n",
       "8        0.013253      0.000819         0.076339        0.001707   \n",
       "9        0.013228      0.000680         0.078994        0.001281   \n",
       "10       0.013688      0.001381         0.085888        0.006538   \n",
       "11       0.014176      0.001915         0.092535        0.004907   \n",
       "12       0.013376      0.000773         0.089207        0.003214   \n",
       "13       0.013442      0.000868         0.094503        0.002453   \n",
       "14       0.013951      0.000894         0.101804        0.004206   \n",
       "15       0.013875      0.001566         0.103190        0.007759   \n",
       "16       0.013639      0.000527         0.102932        0.006506   \n",
       "17       0.013289      0.000775         0.101805        0.005295   \n",
       "18       0.014156      0.001024         0.110802        0.006753   \n",
       "19       0.013804      0.001064         0.111235        0.005106   \n",
       "20       0.013408      0.001015         0.108345        0.005482   \n",
       "21       0.013913      0.001057         0.115597        0.007181   \n",
       "22       0.013314      0.000922         0.110412        0.001974   \n",
       "23       0.013148      0.000615         0.112693        0.002633   \n",
       "24       0.013127      0.000695         0.116600        0.006506   \n",
       "\n",
       "   param_n_neighbors               params  split0_test_score  \\\n",
       "0                  1   {'n_neighbors': 1}      -6.175751e+09   \n",
       "1                  3   {'n_neighbors': 3}      -4.325947e+09   \n",
       "2                  5   {'n_neighbors': 5}      -3.964956e+09   \n",
       "3                  7   {'n_neighbors': 7}      -3.831930e+09   \n",
       "4                  9   {'n_neighbors': 9}      -3.812144e+09   \n",
       "5                 11  {'n_neighbors': 11}      -3.785910e+09   \n",
       "6                 13  {'n_neighbors': 13}      -3.776929e+09   \n",
       "7                 15  {'n_neighbors': 15}      -3.772219e+09   \n",
       "8                 17  {'n_neighbors': 17}      -3.785569e+09   \n",
       "9                 19  {'n_neighbors': 19}      -3.807598e+09   \n",
       "10                21  {'n_neighbors': 21}      -3.836369e+09   \n",
       "11                23  {'n_neighbors': 23}      -3.860589e+09   \n",
       "12                25  {'n_neighbors': 25}      -3.906198e+09   \n",
       "13                27  {'n_neighbors': 27}      -3.916628e+09   \n",
       "14                29  {'n_neighbors': 29}      -3.934760e+09   \n",
       "15                31  {'n_neighbors': 31}      -3.966720e+09   \n",
       "16                33  {'n_neighbors': 33}      -3.982405e+09   \n",
       "17                35  {'n_neighbors': 35}      -4.007361e+09   \n",
       "18                37  {'n_neighbors': 37}      -4.018794e+09   \n",
       "19                39  {'n_neighbors': 39}      -4.027690e+09   \n",
       "20                41  {'n_neighbors': 41}      -4.064410e+09   \n",
       "21                43  {'n_neighbors': 43}      -4.098935e+09   \n",
       "22                45  {'n_neighbors': 45}      -4.131743e+09   \n",
       "23                47  {'n_neighbors': 47}      -4.157827e+09   \n",
       "24                49  {'n_neighbors': 49}      -4.186566e+09   \n",
       "\n",
       "    split1_test_score  split2_test_score  split3_test_score  \\\n",
       "0       -5.240964e+09      -5.775110e+09      -5.401690e+09   \n",
       "1       -3.820784e+09      -3.964031e+09      -3.894911e+09   \n",
       "2       -3.556480e+09      -3.773395e+09      -3.760478e+09   \n",
       "3       -3.547958e+09      -3.740490e+09      -3.686686e+09   \n",
       "4       -3.470539e+09      -3.679595e+09      -3.709353e+09   \n",
       "5       -3.503122e+09      -3.682039e+09      -3.736812e+09   \n",
       "6       -3.486868e+09      -3.769671e+09      -3.789067e+09   \n",
       "7       -3.519089e+09      -3.829182e+09      -3.800806e+09   \n",
       "8       -3.501959e+09      -3.870745e+09      -3.874755e+09   \n",
       "9       -3.521683e+09      -3.899603e+09      -3.870906e+09   \n",
       "10      -3.554110e+09      -3.956994e+09      -3.914888e+09   \n",
       "11      -3.547892e+09      -4.003715e+09      -3.957010e+09   \n",
       "12      -3.612494e+09      -4.065705e+09      -4.001297e+09   \n",
       "13      -3.634073e+09      -4.121875e+09      -4.052240e+09   \n",
       "14      -3.669050e+09      -4.160532e+09      -4.064761e+09   \n",
       "15      -3.690898e+09      -4.210185e+09      -4.116568e+09   \n",
       "16      -3.713699e+09      -4.235301e+09      -4.154954e+09   \n",
       "17      -3.738933e+09      -4.272872e+09      -4.183573e+09   \n",
       "18      -3.773637e+09      -4.312326e+09      -4.215074e+09   \n",
       "19      -3.814357e+09      -4.349183e+09      -4.252425e+09   \n",
       "20      -3.836049e+09      -4.378240e+09      -4.273786e+09   \n",
       "21      -3.867182e+09      -4.414267e+09      -4.290226e+09   \n",
       "22      -3.885307e+09      -4.447221e+09      -4.328881e+09   \n",
       "23      -3.912977e+09      -4.479342e+09      -4.354648e+09   \n",
       "24      -3.946210e+09      -4.517273e+09      -4.378273e+09   \n",
       "\n",
       "    split4_test_score  split5_test_score  split6_test_score  \\\n",
       "0       -5.162383e+09      -5.378801e+09      -5.884297e+09   \n",
       "1       -3.630470e+09      -3.872248e+09      -3.947912e+09   \n",
       "2       -3.508595e+09      -3.682438e+09      -3.637236e+09   \n",
       "3       -3.386807e+09      -3.600239e+09      -3.560442e+09   \n",
       "4       -3.368768e+09      -3.539268e+09      -3.509008e+09   \n",
       "5       -3.399524e+09      -3.542233e+09      -3.476496e+09   \n",
       "6       -3.400299e+09      -3.557978e+09      -3.478715e+09   \n",
       "7       -3.427087e+09      -3.587035e+09      -3.513024e+09   \n",
       "8       -3.451127e+09      -3.642758e+09      -3.596308e+09   \n",
       "9       -3.485283e+09      -3.713504e+09      -3.618268e+09   \n",
       "10      -3.518735e+09      -3.770169e+09      -3.678687e+09   \n",
       "11      -3.570810e+09      -3.834193e+09      -3.713066e+09   \n",
       "12      -3.596936e+09      -3.847908e+09      -3.725751e+09   \n",
       "13      -3.628877e+09      -3.894267e+09      -3.798240e+09   \n",
       "14      -3.668998e+09      -3.940840e+09      -3.819578e+09   \n",
       "15      -3.706535e+09      -3.958906e+09      -3.871022e+09   \n",
       "16      -3.745409e+09      -4.000943e+09      -3.904378e+09   \n",
       "17      -3.784509e+09      -4.037381e+09      -3.940488e+09   \n",
       "18      -3.812865e+09      -4.070518e+09      -3.962320e+09   \n",
       "19      -3.850178e+09      -4.099170e+09      -4.009475e+09   \n",
       "20      -3.870497e+09      -4.141219e+09      -4.047705e+09   \n",
       "21      -3.896795e+09      -4.171147e+09      -4.090123e+09   \n",
       "22      -3.919714e+09      -4.203082e+09      -4.119479e+09   \n",
       "23      -3.944267e+09      -4.234785e+09      -4.146743e+09   \n",
       "24      -3.967413e+09      -4.263385e+09      -4.179893e+09   \n",
       "\n",
       "    split7_test_score  split8_test_score  split9_test_score  mean_test_score  \\\n",
       "0       -5.662640e+09      -5.096944e+09      -5.669976e+09    -5.544855e+09   \n",
       "1       -4.027228e+09      -3.872587e+09      -4.014835e+09    -3.937095e+09   \n",
       "2       -3.721224e+09      -3.628033e+09      -3.774272e+09    -3.700711e+09   \n",
       "3       -3.557343e+09      -3.584099e+09      -3.671923e+09    -3.616792e+09   \n",
       "4       -3.536181e+09      -3.506499e+09      -3.665617e+09    -3.579697e+09   \n",
       "5       -3.501911e+09      -3.476573e+09      -3.683549e+09    -3.578817e+09   \n",
       "6       -3.513785e+09      -3.508899e+09      -3.738310e+09    -3.602052e+09   \n",
       "7       -3.544318e+09      -3.532970e+09      -3.754432e+09    -3.628016e+09   \n",
       "8       -3.580266e+09      -3.569616e+09      -3.794802e+09    -3.666790e+09   \n",
       "9       -3.604661e+09      -3.565690e+09      -3.824570e+09    -3.691177e+09   \n",
       "10      -3.617164e+09      -3.627471e+09      -3.860755e+09    -3.733534e+09   \n",
       "11      -3.636640e+09      -3.691794e+09      -3.887538e+09    -3.770325e+09   \n",
       "12      -3.693533e+09      -3.730128e+09      -3.953172e+09    -3.813312e+09   \n",
       "13      -3.721894e+09      -3.786654e+09      -3.977894e+09    -3.853264e+09   \n",
       "14      -3.756590e+09      -3.806505e+09      -3.987017e+09    -3.880863e+09   \n",
       "15      -3.792818e+09      -3.838708e+09      -4.025650e+09    -3.917801e+09   \n",
       "16      -3.823591e+09      -3.866034e+09      -4.069814e+09    -3.949653e+09   \n",
       "17      -3.857075e+09      -3.905444e+09      -4.093551e+09    -3.982119e+09   \n",
       "18      -3.889471e+09      -3.930719e+09      -4.135054e+09    -4.012078e+09   \n",
       "19      -3.913109e+09      -3.948967e+09      -4.142949e+09    -4.040750e+09   \n",
       "20      -3.937373e+09      -3.969638e+09      -4.166185e+09    -4.068510e+09   \n",
       "21      -3.964743e+09      -4.004621e+09      -4.194363e+09    -4.099240e+09   \n",
       "22      -3.999927e+09      -4.032322e+09      -4.224783e+09    -4.129246e+09   \n",
       "23      -4.040600e+09      -4.053673e+09      -4.263424e+09    -4.158829e+09   \n",
       "24      -4.067788e+09      -4.086318e+09      -4.292523e+09    -4.188564e+09   \n",
       "\n",
       "    std_test_score  rank_test_score  \n",
       "0     3.291088e+08               25  \n",
       "1     1.684960e+08               15  \n",
       "2     1.232349e+08                8  \n",
       "3     1.162727e+08                4  \n",
       "4     1.258944e+08                2  \n",
       "5     1.247099e+08                1  \n",
       "6     1.413555e+08                3  \n",
       "7     1.379416e+08                5  \n",
       "8     1.454294e+08                6  \n",
       "9     1.439646e+08                7  \n",
       "10    1.473286e+08                9  \n",
       "11    1.522786e+08               10  \n",
       "12    1.563669e+08               11  \n",
       "13    1.600279e+08               12  \n",
       "14    1.562960e+08               13  \n",
       "15    1.615219e+08               14  \n",
       "16    1.625451e+08               16  \n",
       "17    1.620700e+08               17  \n",
       "18    1.645013e+08               18  \n",
       "19    1.634721e+08               19  \n",
       "20    1.653986e+08               20  \n",
       "21    1.648930e+08               21  \n",
       "22    1.688700e+08               22  \n",
       "23    1.701310e+08               23  \n",
       "24    1.712331e+08               24  "
      ]
     },
     "execution_count": 112,
     "metadata": {},
     "output_type": "execute_result"
    }
   ],
   "source": [
    "pd.DataFrame(knnCV.cv_results_)"
   ]
  },
  {
   "cell_type": "markdown",
   "metadata": {},
   "source": [
    "Now, using the `GridSearchCV` results that you inspected, extract the k value yielding the \"best\" (lowest) MSE estimate\n",
    "\n",
    "(Again fill out the `??` below)"
   ]
  },
  {
   "cell_type": "code",
   "execution_count": 119,
   "metadata": {
    "ExecuteTime": {
     "end_time": "2021-03-12T00:26:09.357659Z",
     "start_time": "2021-03-12T00:26:09.346307Z"
    }
   },
   "outputs": [
    {
     "data": {
      "text/plain": [
       "11"
      ]
     },
     "execution_count": 119,
     "metadata": {},
     "output_type": "execute_result"
    }
   ],
   "source": [
    "resCV = knnCV.cv_results_\n",
    "\n",
    "test_MSEs = -resCV[\"mean_test_score\"]\n",
    "std_test_MSEs = resCV[\"std_test_score\"] / np.sqrt(10)\n",
    "k_grid = resCV[\"param_n_neighbors\"].data\n",
    "\n",
    "index_best = np.argmin(test_MSEs) # index of the k value with the lowest MSE estimate\n",
    "best_k = k_grid[index_best]\n",
    "best_k"
   ]
  },
  {
   "cell_type": "markdown",
   "metadata": {},
   "source": [
    "Now extract the more parsimonious k value obtained by the \"one standard error rule\" seen in class.\n",
    "\n",
    "_Hint_: You might first need to answer this question: *Are larger or smaller k values yielding a more parsimonious model (low \"flexibility\" and variance)?*"
   ]
  },
  {
   "cell_type": "code",
   "execution_count": 120,
   "metadata": {
    "ExecuteTime": {
     "end_time": "2021-03-12T00:26:09.372876Z",
     "start_time": "2021-03-12T00:26:09.361276Z"
    }
   },
   "outputs": [],
   "source": [
    "one_std_rule_best_k = np.max(k_grid[test_MSEs <= test_MSEs[index_best] + std_test_MSEs[index_best]])"
   ]
  },
  {
   "cell_type": "markdown",
   "metadata": {},
   "source": [
    "To better visualize how the expected error varies as a function of the hyper-parameter k, we can construct a MSE plot with standard deviations from the `GridSearchCV`. It is also nice to highlight the two important k values discussed just above (with vertical lines for example)."
   ]
  },
  {
   "cell_type": "code",
   "execution_count": 121,
   "metadata": {
    "ExecuteTime": {
     "end_time": "2021-03-12T00:26:09.747961Z",
     "start_time": "2021-03-12T00:26:09.376589Z"
    }
   },
   "outputs": [
    {
     "data": {
      "image/png": "[encoded data removed]",
      "text/plain": [
       "<Figure size 504x432 with 1 Axes>"
      ]
     },
     "metadata": {
      "needs_background": "light"
     },
     "output_type": "display_data"
    }
   ],
   "source": [
    "plt.figure(figsize=(7,6))\n",
    "plt.errorbar(x=k_grid, y=test_MSEs, yerr=std_test_MSEs, fmt='o', capsize=3)\n",
    "\n",
    "plt.axvline(best_k, ls='dotted', color=\"grey\")#vertical line at the k yielding minimum CV MSE\n",
    "plt.axvline(one_std_rule_best_k, ls='dotted', color=\"green\")#vertical line at best k value according to 1 std err rule\n",
    "plt.axhline(test_MSEs[index_best] + std_test_MSEs[index_best], ls='dotted', color=\"grey\")\n",
    "\n",
    "plt.title(\"kNN regressor CV error\")\n",
    "plt.xlabel('k (nb neighbors)')\n",
    "plt.ylabel('Mean Squared Error')\n",
    "plt.show()"
   ]
  },
  {
   "cell_type": "markdown",
   "metadata": {},
   "source": [
    "To conclude, how does the expected generalization error of the model with the newly selected k value compare to our initial k choice, prior to cross-validation based selection?\n",
    "\n",
    "And for the other k values, how to you think the training error compares to the CV error. You can compare them by adding the training error as a function of the hyper-parameter value to the plot above. (*Hint: [GridSearchCV](https://scikit-learn.org/stable/modules/generated/sklearn.model_selection.GridSearchCV.html) can return the training scores, but it is more expensive computationally. You can also compute them yourself easily on X and y by iterating over the k_grid.*)"
   ]
  },
  {
   "cell_type": "code",
   "execution_count": 122,
   "metadata": {
    "ExecuteTime": {
     "end_time": "2021-03-12T00:27:16.273744Z",
     "start_time": "2021-03-12T00:26:09.751158Z"
    }
   },
   "outputs": [],
   "source": [
    "train_MSEs = []\n",
    "for k in k_grid:\n",
    "    knn = KNeighborsRegressor(n_neighbors=k)\n",
    "    knn.fit(X, y)\n",
    "    train_MSEs.append(mean_squared_error(knn.predict(X), y))"
   ]
  },
  {
   "cell_type": "code",
   "execution_count": 124,
   "metadata": {
    "ExecuteTime": {
     "end_time": "2021-03-12T00:27:16.663018Z",
     "start_time": "2021-03-12T00:27:16.275894Z"
    }
   },
   "outputs": [
    {
     "data": {
      "image/png": "[encoded data removed]",
      "text/plain": [
       "<Figure size 504x432 with 1 Axes>"
      ]
     },
     "metadata": {
      "needs_background": "light"
     },
     "output_type": "display_data"
    }
   ],
   "source": [
    "plt.figure(figsize=(7,6))\n",
    "plt.errorbar(x=k_grid, y=test_MSEs, yerr=std_test_MSEs, fmt='o', capsize=3, \n",
    "             label = \"Test error\")\n",
    "\n",
    "plt.axvline(best_k, ls='dotted', color=\"grey\")#vertical line at the k yielding minimum CV MSE\n",
    "plt.axvline(one_std_rule_best_k, ls='dotted', color=\"grey\")#vertical line at best k value according to 1 std err rule\n",
    "\n",
    "plt.plot(k_grid, train_MSEs, label = \"Train error\")\n",
    "plt.legend(loc = \"upper right\")\n",
    "\n",
    "plt.title(\"kNN regressor CV and train error\")\n",
    "plt.xlabel('k (nb neighbors)')\n",
    "plt.ylabel('Mean Squared Error')\n",
    "plt.show()"
   ]
  },
  {
   "cell_type": "markdown",
   "metadata": {},
   "source": [
    "You can now fit the model, with the newly selected k value to the whole dataset. This will be the final kNN model, chosen based on empirical evidence :)"
   ]
  },
  {
   "cell_type": "code",
   "execution_count": 125,
   "metadata": {
    "ExecuteTime": {
     "end_time": "2021-03-12T00:27:16.816599Z",
     "start_time": "2021-03-12T00:27:16.667272Z"
    }
   },
   "outputs": [
    {
     "data": {
      "text/plain": [
       "KNeighborsRegressor(n_neighbors=13)"
      ]
     },
     "execution_count": 125,
     "metadata": {},
     "output_type": "execute_result"
    }
   ],
   "source": [
    "knn_final = KNeighborsRegressor(n_neighbors=one_std_rule_best_k)\n",
    "knn_final.fit(X, y)"
   ]
  },
  {
   "cell_type": "markdown",
   "metadata": {},
   "source": [
    "_Remark:_ KNN was used as an example in this session, but we could also do the same with any other machine learning model."
   ]
  },
  {
   "cell_type": "markdown",
   "metadata": {},
   "source": [
    "## 3. Pipelines and cross-validation"
   ]
  },
  {
   "cell_type": "markdown",
   "metadata": {},
   "source": [
    "***This third part is not mandatory for the hand-in***"
   ]
  },
  {
   "cell_type": "markdown",
   "metadata": {},
   "source": [
    "### 3.1 Motivation"
   ]
  },
  {
   "cell_type": "markdown",
   "metadata": {},
   "source": [
    "There is one essential detail that has been left-out in the first two parts of this notebook.\n",
    "As kNN relies on euclidean distance to select the nearest points, it is always better to work with standardized data (each variable rescaled to be centered at 0 and have unit variance). That way the same distance along each feature axis is proportional for each variable.\n",
    "\n",
    "As you've seen in the first week's tutorial, you can use [StandardScaler](https://scikit-learn.org/stable/modules/generated/sklearn.preprocessing.StandardScaler.html) to rescale the variables.\n",
    "\n",
    "When you leave some validation/test data out to evaluate your model, it is best practice to **not use it for any type of estimation**, to avoid having a biased error estimate (as, otherwise, you already \"took\" some information from the validation data). This also holds for estimating the mean and standard deviation of variables, with the `StandardScaler`.\n",
    "\n",
    "Here is an example of how to scale the data properly, in case of a train-test split, without overfitting the test set:"
   ]
  },
  {
   "cell_type": "code",
   "execution_count": 127,
   "metadata": {
    "ExecuteTime": {
     "end_time": "2021-03-12T00:27:16.857318Z",
     "start_time": "2021-03-12T00:27:16.818595Z"
    }
   },
   "outputs": [
    {
     "name": "stdout",
     "output_type": "stream",
     "text": [
      "Original means: [-119.58051328   35.64056895   28.61501285    3.87069684    4.98214201\n",
      "    5.42498593    3.10022784    1.17117338]\n",
      "Original Variances: [  4.02337913   4.56298874 158.175595     3.60151825   1.37041922\n",
      "   5.56867348 135.72595174   2.02796139]\n"
     ]
    }
   ],
   "source": [
    "from sklearn.preprocessing import StandardScaler\n",
    "\n",
    "#Create the scaler:\n",
    "scaler = StandardScaler()\n",
    "\n",
    "#Estimate the mean and variances for each variable on the training set only:\n",
    "scaler.fit(X_train)\n",
    "\n",
    "print(\"Original means:\", scaler.mean_)\n",
    "print(\"Original Variances:\", scaler.var_)\n",
    "\n",
    "#Scale the training and test features, using the previously estimated means and variances\n",
    "X_train_std = scaler.transform(X_train)\n",
    "X_test_std = scaler.transform(X_test)"
   ]
  },
  {
   "cell_type": "markdown",
   "metadata": {},
   "source": [
    "We could then fit our kNN model on the scaled training set and evaluate it on the test set, without having \"cheated\", by using information from the test set in our estimations.\n",
    "\n",
    "If you now think about estimating the error using cross-validation, you'll quickly realize that not overfitting with the scaler gets a bit more complicated, as we need to perform the above procedure separately for each fold, before fitting the model. That is when Pipelines come into play."
   ]
  },
  {
   "cell_type": "markdown",
   "metadata": {},
   "source": [
    "### 3.2. Cross-validation with Pipelines"
   ]
  },
  {
   "cell_type": "markdown",
   "metadata": {},
   "source": [
    "In a [Pipeline](https://scikit-learn.org/stable/modules/generated/sklearn.pipeline.Pipeline.html) you can define sequentially, all the steps of your transformation + fitting process. For example standard scaling + kNN. The syntax is the following (complete the ??): "
   ]
  },
  {
   "cell_type": "markdown",
   "metadata": {},
   "source": [
    "_Hint_: each step in the pipeline is defines as a tuple: `(\"desired_step_name\", Transformer_or_predictor_object)`"
   ]
  },
  {
   "cell_type": "code",
   "execution_count": 63,
   "metadata": {
    "ExecuteTime": {
     "end_time": "2021-03-12T00:27:16.872751Z",
     "start_time": "2021-03-12T00:27:16.857318Z"
    }
   },
   "outputs": [],
   "source": [
    "from sklearn.pipeline import Pipeline"
   ]
  },
  {
   "cell_type": "code",
   "execution_count": 128,
   "metadata": {
    "ExecuteTime": {
     "end_time": "2021-03-12T00:27:16.888723Z",
     "start_time": "2021-03-12T00:27:16.874748Z"
    }
   },
   "outputs": [],
   "source": [
    "knn_pipe = Pipeline([(\"scaler\", StandardScaler()), # each step is tuple\n",
    "                     (\"kNN\", KNeighborsRegressor())])"
   ]
  },
  {
   "cell_type": "markdown",
   "metadata": {},
   "source": [
    "You can then fit the entire Pipeline on the training set, and predict on the test set, as if it was a single model:"
   ]
  },
  {
   "cell_type": "code",
   "execution_count": 129,
   "metadata": {
    "ExecuteTime": {
     "end_time": "2021-03-12T00:27:17.631666Z",
     "start_time": "2021-03-12T00:27:16.891101Z"
    }
   },
   "outputs": [],
   "source": [
    "knn_pipe.fit(X_train, y_train)\n",
    "pipe_predictions = knn_pipe.predict(X_test)"
   ]
  },
  {
   "cell_type": "markdown",
   "metadata": {},
   "source": [
    "Now repeat the grid-search (section 2, except the training error question) by using the new Pipeline instead of the simple kNN as a model.\n",
    "\n",
    "_Hint 1:_ There shouldn't be too many changes in the code.\n",
    "\n",
    "_Hint 2:_ You'll need to add the pipeline step name before the parameter name for the grid in `GridSearchCV`. (i.e. replace `\"n_estimators\"` by `\"kNN__n_estimators\"`)."
   ]
  },
  {
   "cell_type": "code",
   "execution_count": 165,
   "metadata": {
    "ExecuteTime": {
     "end_time": "2021-03-12T00:27:17.647130Z",
     "start_time": "2021-03-12T00:27:17.633730Z"
    }
   },
   "outputs": [],
   "source": [
    "#Declare Pipe and grid:\n",
    "knn_pipe = Pipeline([(\"scaler\", StandardScaler()),\n",
    "                     (\"kNN\", KNeighborsRegressor())])\n",
    "\n",
    "hyper_parameters = {\"kNN__n_neighbors\" : np.arange(1,49,2)}"
   ]
  },
  {
   "cell_type": "code",
   "execution_count": 166,
   "metadata": {
    "ExecuteTime": {
     "end_time": "2021-03-12T00:29:39.610073Z",
     "start_time": "2021-03-12T00:27:17.650550Z"
    }
   },
   "outputs": [
    {
     "data": {
      "text/plain": [
       "GridSearchCV(cv=KFold(n_splits=10, random_state=1, shuffle=True),\n",
       "             estimator=Pipeline(steps=[('scaler', StandardScaler()),\n",
       "                                       ('kNN', KNeighborsRegressor())]),\n",
       "             param_grid={'kNN__n_neighbors': array([ 1,  3,  5,  7,  9, 11, 13, 15, 17, 19, 21, 23, 25, 27, 29, 31, 33,\n",
       "       35, 37, 39, 41, 43, 45, 47])},\n",
       "             scoring='neg_mean_squared_error')"
      ]
     },
     "execution_count": 166,
     "metadata": {},
     "output_type": "execute_result"
    }
   ],
   "source": [
    "#Declare and fit the grid search:\n",
    "knn_pipeCV = GridSearchCV(estimator=knn_pipe, param_grid=hyper_parameters, scoring=\"neg_mean_squared_error\",\n",
    "                       cv=KFold(n_splits=10 , shuffle=True, random_state=1))\n",
    "knn_pipeCV.fit(X, y)"
   ]
  },
  {
   "cell_type": "code",
   "execution_count": 167,
   "metadata": {
    "ExecuteTime": {
     "end_time": "2021-03-12T00:29:39.625695Z",
     "start_time": "2021-03-12T00:29:39.612021Z"
    }
   },
   "outputs": [],
   "source": [
    "#Compute \"best\" k value and its index:\n",
    "resCV = knn_pipeCV.cv_results_\n",
    "\n",
    "test_MSEs = -resCV[\"mean_test_score\"]\n",
    "std_test_MSEs = resCV[\"std_test_score\"] / np.sqrt(10)\n",
    "k_grid = resCV[\"param_kNN__n_neighbors\"].data\n",
    "\n",
    "index_best = np.argmin(test_MSEs) # index of the k value with the lowest MSE estimate\n",
    "best_k = k_grid[index_best]"
   ]
  },
  {
   "cell_type": "code",
   "execution_count": 168,
   "metadata": {},
   "outputs": [
    {
     "data": {
      "text/html": [
       "<div>\n",
       "<style scoped>\n",
       "    .dataframe tbody tr th:only-of-type {\n",
       "        vertical-align: middle;\n",
       "    }\n",
       "\n",
       "    .dataframe tbody tr th {\n",
       "        vertical-align: top;\n",
       "    }\n",
       "\n",
       "    .dataframe thead th {\n",
       "        text-align: right;\n",
       "    }\n",
       "</style>\n",
       "<table border=\"1\" class=\"dataframe\">\n",
       "  <thead>\n",
       "    <tr style=\"text-align: right;\">\n",
       "      <th></th>\n",
       "      <th>mean_fit_time</th>\n",
       "      <th>std_fit_time</th>\n",
       "      <th>mean_score_time</th>\n",
       "      <th>std_score_time</th>\n",
       "      <th>param_kNN__n_neighbors</th>\n",
       "      <th>params</th>\n",
       "      <th>split0_test_score</th>\n",
       "      <th>split1_test_score</th>\n",
       "      <th>split2_test_score</th>\n",
       "      <th>split3_test_score</th>\n",
       "      <th>split4_test_score</th>\n",
       "      <th>split5_test_score</th>\n",
       "      <th>split6_test_score</th>\n",
       "      <th>split7_test_score</th>\n",
       "      <th>split8_test_score</th>\n",
       "      <th>split9_test_score</th>\n",
       "      <th>mean_test_score</th>\n",
       "      <th>std_test_score</th>\n",
       "      <th>rank_test_score</th>\n",
       "    </tr>\n",
       "  </thead>\n",
       "  <tbody>\n",
       "    <tr>\n",
       "      <th>0</th>\n",
       "      <td>0.017217</td>\n",
       "      <td>0.005394</td>\n",
       "      <td>0.056533</td>\n",
       "      <td>0.003100</td>\n",
       "      <td>1</td>\n",
       "      <td>{'kNN__n_neighbors': 1}</td>\n",
       "      <td>-5.867118e+09</td>\n",
       "      <td>-5.393009e+09</td>\n",
       "      <td>-5.964867e+09</td>\n",
       "      <td>-6.433410e+09</td>\n",
       "      <td>-5.472311e+09</td>\n",
       "      <td>-5.486419e+09</td>\n",
       "      <td>-5.665255e+09</td>\n",
       "      <td>-5.146922e+09</td>\n",
       "      <td>-6.060335e+09</td>\n",
       "      <td>-5.771927e+09</td>\n",
       "      <td>-5.726157e+09</td>\n",
       "      <td>3.553802e+08</td>\n",
       "      <td>24</td>\n",
       "    </tr>\n",
       "    <tr>\n",
       "      <th>1</th>\n",
       "      <td>0.017490</td>\n",
       "      <td>0.001910</td>\n",
       "      <td>0.078739</td>\n",
       "      <td>0.006139</td>\n",
       "      <td>3</td>\n",
       "      <td>{'kNN__n_neighbors': 3}</td>\n",
       "      <td>-4.190561e+09</td>\n",
       "      <td>-3.962058e+09</td>\n",
       "      <td>-4.218548e+09</td>\n",
       "      <td>-4.178971e+09</td>\n",
       "      <td>-4.147111e+09</td>\n",
       "      <td>-3.934364e+09</td>\n",
       "      <td>-4.047449e+09</td>\n",
       "      <td>-3.811258e+09</td>\n",
       "      <td>-4.016145e+09</td>\n",
       "      <td>-4.162982e+09</td>\n",
       "      <td>-4.066945e+09</td>\n",
       "      <td>1.278198e+08</td>\n",
       "      <td>23</td>\n",
       "    </tr>\n",
       "    <tr>\n",
       "      <th>2</th>\n",
       "      <td>0.016994</td>\n",
       "      <td>0.001474</td>\n",
       "      <td>0.094425</td>\n",
       "      <td>0.007836</td>\n",
       "      <td>5</td>\n",
       "      <td>{'kNN__n_neighbors': 5}</td>\n",
       "      <td>-3.829049e+09</td>\n",
       "      <td>-3.631132e+09</td>\n",
       "      <td>-3.957117e+09</td>\n",
       "      <td>-3.962824e+09</td>\n",
       "      <td>-3.847953e+09</td>\n",
       "      <td>-3.676656e+09</td>\n",
       "      <td>-3.832066e+09</td>\n",
       "      <td>-3.563683e+09</td>\n",
       "      <td>-3.682728e+09</td>\n",
       "      <td>-3.843569e+09</td>\n",
       "      <td>-3.782678e+09</td>\n",
       "      <td>1.294585e+08</td>\n",
       "      <td>13</td>\n",
       "    </tr>\n",
       "    <tr>\n",
       "      <th>3</th>\n",
       "      <td>0.017679</td>\n",
       "      <td>0.004480</td>\n",
       "      <td>0.097896</td>\n",
       "      <td>0.004486</td>\n",
       "      <td>7</td>\n",
       "      <td>{'kNN__n_neighbors': 7}</td>\n",
       "      <td>-3.789373e+09</td>\n",
       "      <td>-3.530546e+09</td>\n",
       "      <td>-3.848485e+09</td>\n",
       "      <td>-3.841699e+09</td>\n",
       "      <td>-3.763143e+09</td>\n",
       "      <td>-3.656992e+09</td>\n",
       "      <td>-3.706978e+09</td>\n",
       "      <td>-3.478151e+09</td>\n",
       "      <td>-3.647897e+09</td>\n",
       "      <td>-3.764427e+09</td>\n",
       "      <td>-3.702769e+09</td>\n",
       "      <td>1.186254e+08</td>\n",
       "      <td>5</td>\n",
       "    </tr>\n",
       "    <tr>\n",
       "      <th>4</th>\n",
       "      <td>0.015455</td>\n",
       "      <td>0.001145</td>\n",
       "      <td>0.098872</td>\n",
       "      <td>0.003943</td>\n",
       "      <td>9</td>\n",
       "      <td>{'kNN__n_neighbors': 9}</td>\n",
       "      <td>-3.733033e+09</td>\n",
       "      <td>-3.482355e+09</td>\n",
       "      <td>-3.836875e+09</td>\n",
       "      <td>-3.826706e+09</td>\n",
       "      <td>-3.712384e+09</td>\n",
       "      <td>-3.623981e+09</td>\n",
       "      <td>-3.678720e+09</td>\n",
       "      <td>-3.450836e+09</td>\n",
       "      <td>-3.640092e+09</td>\n",
       "      <td>-3.766023e+09</td>\n",
       "      <td>-3.675101e+09</td>\n",
       "      <td>1.238812e+08</td>\n",
       "      <td>1</td>\n",
       "    </tr>\n",
       "    <tr>\n",
       "      <th>5</th>\n",
       "      <td>0.015557</td>\n",
       "      <td>0.000760</td>\n",
       "      <td>0.106186</td>\n",
       "      <td>0.003049</td>\n",
       "      <td>11</td>\n",
       "      <td>{'kNN__n_neighbors': 11}</td>\n",
       "      <td>-3.734255e+09</td>\n",
       "      <td>-3.480820e+09</td>\n",
       "      <td>-3.877832e+09</td>\n",
       "      <td>-3.842398e+09</td>\n",
       "      <td>-3.728839e+09</td>\n",
       "      <td>-3.612781e+09</td>\n",
       "      <td>-3.676319e+09</td>\n",
       "      <td>-3.424723e+09</td>\n",
       "      <td>-3.638664e+09</td>\n",
       "      <td>-3.807548e+09</td>\n",
       "      <td>-3.682418e+09</td>\n",
       "      <td>1.407583e+08</td>\n",
       "      <td>2</td>\n",
       "    </tr>\n",
       "    <tr>\n",
       "      <th>6</th>\n",
       "      <td>0.015864</td>\n",
       "      <td>0.001076</td>\n",
       "      <td>0.112617</td>\n",
       "      <td>0.004654</td>\n",
       "      <td>13</td>\n",
       "      <td>{'kNN__n_neighbors': 13}</td>\n",
       "      <td>-3.738204e+09</td>\n",
       "      <td>-3.483995e+09</td>\n",
       "      <td>-3.874774e+09</td>\n",
       "      <td>-3.840426e+09</td>\n",
       "      <td>-3.719008e+09</td>\n",
       "      <td>-3.596485e+09</td>\n",
       "      <td>-3.685959e+09</td>\n",
       "      <td>-3.470852e+09</td>\n",
       "      <td>-3.620689e+09</td>\n",
       "      <td>-3.834593e+09</td>\n",
       "      <td>-3.686499e+09</td>\n",
       "      <td>1.359221e+08</td>\n",
       "      <td>3</td>\n",
       "    </tr>\n",
       "    <tr>\n",
       "      <th>7</th>\n",
       "      <td>0.016784</td>\n",
       "      <td>0.001399</td>\n",
       "      <td>0.126200</td>\n",
       "      <td>0.012441</td>\n",
       "      <td>15</td>\n",
       "      <td>{'kNN__n_neighbors': 15}</td>\n",
       "      <td>-3.736233e+09</td>\n",
       "      <td>-3.452941e+09</td>\n",
       "      <td>-3.883904e+09</td>\n",
       "      <td>-3.844169e+09</td>\n",
       "      <td>-3.743345e+09</td>\n",
       "      <td>-3.625596e+09</td>\n",
       "      <td>-3.661183e+09</td>\n",
       "      <td>-3.491728e+09</td>\n",
       "      <td>-3.638024e+09</td>\n",
       "      <td>-3.862512e+09</td>\n",
       "      <td>-3.693963e+09</td>\n",
       "      <td>1.411176e+08</td>\n",
       "      <td>4</td>\n",
       "    </tr>\n",
       "    <tr>\n",
       "      <th>8</th>\n",
       "      <td>0.017680</td>\n",
       "      <td>0.003290</td>\n",
       "      <td>0.128298</td>\n",
       "      <td>0.008841</td>\n",
       "      <td>17</td>\n",
       "      <td>{'kNN__n_neighbors': 17}</td>\n",
       "      <td>-3.754528e+09</td>\n",
       "      <td>-3.447835e+09</td>\n",
       "      <td>-3.906119e+09</td>\n",
       "      <td>-3.873811e+09</td>\n",
       "      <td>-3.758294e+09</td>\n",
       "      <td>-3.655998e+09</td>\n",
       "      <td>-3.674959e+09</td>\n",
       "      <td>-3.479758e+09</td>\n",
       "      <td>-3.663547e+09</td>\n",
       "      <td>-3.876297e+09</td>\n",
       "      <td>-3.709115e+09</td>\n",
       "      <td>1.501008e+08</td>\n",
       "      <td>6</td>\n",
       "    </tr>\n",
       "    <tr>\n",
       "      <th>9</th>\n",
       "      <td>0.015533</td>\n",
       "      <td>0.000856</td>\n",
       "      <td>0.124661</td>\n",
       "      <td>0.006309</td>\n",
       "      <td>19</td>\n",
       "      <td>{'kNN__n_neighbors': 19}</td>\n",
       "      <td>-3.780239e+09</td>\n",
       "      <td>-3.483090e+09</td>\n",
       "      <td>-3.937000e+09</td>\n",
       "      <td>-3.883691e+09</td>\n",
       "      <td>-3.750376e+09</td>\n",
       "      <td>-3.668015e+09</td>\n",
       "      <td>-3.668185e+09</td>\n",
       "      <td>-3.474520e+09</td>\n",
       "      <td>-3.695451e+09</td>\n",
       "      <td>-3.856384e+09</td>\n",
       "      <td>-3.719695e+09</td>\n",
       "      <td>1.481256e+08</td>\n",
       "      <td>7</td>\n",
       "    </tr>\n",
       "    <tr>\n",
       "      <th>10</th>\n",
       "      <td>0.015928</td>\n",
       "      <td>0.000586</td>\n",
       "      <td>0.130379</td>\n",
       "      <td>0.002705</td>\n",
       "      <td>21</td>\n",
       "      <td>{'kNN__n_neighbors': 21}</td>\n",
       "      <td>-3.811535e+09</td>\n",
       "      <td>-3.487525e+09</td>\n",
       "      <td>-3.927873e+09</td>\n",
       "      <td>-3.896388e+09</td>\n",
       "      <td>-3.762893e+09</td>\n",
       "      <td>-3.659563e+09</td>\n",
       "      <td>-3.706480e+09</td>\n",
       "      <td>-3.480807e+09</td>\n",
       "      <td>-3.694691e+09</td>\n",
       "      <td>-3.863153e+09</td>\n",
       "      <td>-3.729091e+09</td>\n",
       "      <td>1.483046e+08</td>\n",
       "      <td>8</td>\n",
       "    </tr>\n",
       "    <tr>\n",
       "      <th>11</th>\n",
       "      <td>0.015914</td>\n",
       "      <td>0.000731</td>\n",
       "      <td>0.133191</td>\n",
       "      <td>0.001965</td>\n",
       "      <td>23</td>\n",
       "      <td>{'kNN__n_neighbors': 23}</td>\n",
       "      <td>-3.822516e+09</td>\n",
       "      <td>-3.499951e+09</td>\n",
       "      <td>-3.948116e+09</td>\n",
       "      <td>-3.919258e+09</td>\n",
       "      <td>-3.745151e+09</td>\n",
       "      <td>-3.670571e+09</td>\n",
       "      <td>-3.702712e+09</td>\n",
       "      <td>-3.515418e+09</td>\n",
       "      <td>-3.709512e+09</td>\n",
       "      <td>-3.893960e+09</td>\n",
       "      <td>-3.742716e+09</td>\n",
       "      <td>1.486984e+08</td>\n",
       "      <td>9</td>\n",
       "    </tr>\n",
       "    <tr>\n",
       "      <th>12</th>\n",
       "      <td>0.015693</td>\n",
       "      <td>0.000744</td>\n",
       "      <td>0.137241</td>\n",
       "      <td>0.002008</td>\n",
       "      <td>25</td>\n",
       "      <td>{'kNN__n_neighbors': 25}</td>\n",
       "      <td>-3.821264e+09</td>\n",
       "      <td>-3.517003e+09</td>\n",
       "      <td>-3.979082e+09</td>\n",
       "      <td>-3.927355e+09</td>\n",
       "      <td>-3.757223e+09</td>\n",
       "      <td>-3.665158e+09</td>\n",
       "      <td>-3.720298e+09</td>\n",
       "      <td>-3.549575e+09</td>\n",
       "      <td>-3.726293e+09</td>\n",
       "      <td>-3.898996e+09</td>\n",
       "      <td>-3.756225e+09</td>\n",
       "      <td>1.462794e+08</td>\n",
       "      <td>10</td>\n",
       "    </tr>\n",
       "    <tr>\n",
       "      <th>13</th>\n",
       "      <td>0.015300</td>\n",
       "      <td>0.000636</td>\n",
       "      <td>0.138155</td>\n",
       "      <td>0.001729</td>\n",
       "      <td>27</td>\n",
       "      <td>{'kNN__n_neighbors': 27}</td>\n",
       "      <td>-3.814075e+09</td>\n",
       "      <td>-3.514835e+09</td>\n",
       "      <td>-4.006647e+09</td>\n",
       "      <td>-3.952612e+09</td>\n",
       "      <td>-3.763814e+09</td>\n",
       "      <td>-3.676985e+09</td>\n",
       "      <td>-3.739013e+09</td>\n",
       "      <td>-3.573838e+09</td>\n",
       "      <td>-3.721322e+09</td>\n",
       "      <td>-3.926830e+09</td>\n",
       "      <td>-3.768997e+09</td>\n",
       "      <td>1.521467e+08</td>\n",
       "      <td>11</td>\n",
       "    </tr>\n",
       "    <tr>\n",
       "      <th>14</th>\n",
       "      <td>0.015405</td>\n",
       "      <td>0.000833</td>\n",
       "      <td>0.141402</td>\n",
       "      <td>0.001629</td>\n",
       "      <td>29</td>\n",
       "      <td>{'kNN__n_neighbors': 29}</td>\n",
       "      <td>-3.829592e+09</td>\n",
       "      <td>-3.518355e+09</td>\n",
       "      <td>-4.029256e+09</td>\n",
       "      <td>-3.954244e+09</td>\n",
       "      <td>-3.793314e+09</td>\n",
       "      <td>-3.677816e+09</td>\n",
       "      <td>-3.749268e+09</td>\n",
       "      <td>-3.594867e+09</td>\n",
       "      <td>-3.727671e+09</td>\n",
       "      <td>-3.939316e+09</td>\n",
       "      <td>-3.781370e+09</td>\n",
       "      <td>1.540602e+08</td>\n",
       "      <td>12</td>\n",
       "    </tr>\n",
       "    <tr>\n",
       "      <th>15</th>\n",
       "      <td>0.015343</td>\n",
       "      <td>0.000663</td>\n",
       "      <td>0.144959</td>\n",
       "      <td>0.001824</td>\n",
       "      <td>31</td>\n",
       "      <td>{'kNN__n_neighbors': 31}</td>\n",
       "      <td>-3.827329e+09</td>\n",
       "      <td>-3.539055e+09</td>\n",
       "      <td>-4.041301e+09</td>\n",
       "      <td>-3.963357e+09</td>\n",
       "      <td>-3.789692e+09</td>\n",
       "      <td>-3.681641e+09</td>\n",
       "      <td>-3.759428e+09</td>\n",
       "      <td>-3.607718e+09</td>\n",
       "      <td>-3.751903e+09</td>\n",
       "      <td>-3.952958e+09</td>\n",
       "      <td>-3.791438e+09</td>\n",
       "      <td>1.521384e+08</td>\n",
       "      <td>14</td>\n",
       "    </tr>\n",
       "    <tr>\n",
       "      <th>16</th>\n",
       "      <td>0.015318</td>\n",
       "      <td>0.000594</td>\n",
       "      <td>0.148281</td>\n",
       "      <td>0.001202</td>\n",
       "      <td>33</td>\n",
       "      <td>{'kNN__n_neighbors': 33}</td>\n",
       "      <td>-3.848395e+09</td>\n",
       "      <td>-3.539261e+09</td>\n",
       "      <td>-4.061646e+09</td>\n",
       "      <td>-3.972883e+09</td>\n",
       "      <td>-3.812567e+09</td>\n",
       "      <td>-3.712496e+09</td>\n",
       "      <td>-3.767645e+09</td>\n",
       "      <td>-3.626299e+09</td>\n",
       "      <td>-3.771544e+09</td>\n",
       "      <td>-3.963927e+09</td>\n",
       "      <td>-3.807666e+09</td>\n",
       "      <td>1.532324e+08</td>\n",
       "      <td>15</td>\n",
       "    </tr>\n",
       "    <tr>\n",
       "      <th>17</th>\n",
       "      <td>0.015301</td>\n",
       "      <td>0.000741</td>\n",
       "      <td>0.152372</td>\n",
       "      <td>0.002333</td>\n",
       "      <td>35</td>\n",
       "      <td>{'kNN__n_neighbors': 35}</td>\n",
       "      <td>-3.859107e+09</td>\n",
       "      <td>-3.557184e+09</td>\n",
       "      <td>-4.058716e+09</td>\n",
       "      <td>-3.990260e+09</td>\n",
       "      <td>-3.828396e+09</td>\n",
       "      <td>-3.734090e+09</td>\n",
       "      <td>-3.776356e+09</td>\n",
       "      <td>-3.651558e+09</td>\n",
       "      <td>-3.776172e+09</td>\n",
       "      <td>-3.963811e+09</td>\n",
       "      <td>-3.819565e+09</td>\n",
       "      <td>1.472767e+08</td>\n",
       "      <td>16</td>\n",
       "    </tr>\n",
       "    <tr>\n",
       "      <th>18</th>\n",
       "      <td>0.015246</td>\n",
       "      <td>0.000656</td>\n",
       "      <td>0.154926</td>\n",
       "      <td>0.002252</td>\n",
       "      <td>37</td>\n",
       "      <td>{'kNN__n_neighbors': 37}</td>\n",
       "      <td>-3.872821e+09</td>\n",
       "      <td>-3.572458e+09</td>\n",
       "      <td>-4.077862e+09</td>\n",
       "      <td>-4.008018e+09</td>\n",
       "      <td>-3.845908e+09</td>\n",
       "      <td>-3.754856e+09</td>\n",
       "      <td>-3.790140e+09</td>\n",
       "      <td>-3.645062e+09</td>\n",
       "      <td>-3.789359e+09</td>\n",
       "      <td>-3.983347e+09</td>\n",
       "      <td>-3.833983e+09</td>\n",
       "      <td>1.509922e+08</td>\n",
       "      <td>17</td>\n",
       "    </tr>\n",
       "    <tr>\n",
       "      <th>19</th>\n",
       "      <td>0.015312</td>\n",
       "      <td>0.000704</td>\n",
       "      <td>0.158284</td>\n",
       "      <td>0.003060</td>\n",
       "      <td>39</td>\n",
       "      <td>{'kNN__n_neighbors': 39}</td>\n",
       "      <td>-3.904504e+09</td>\n",
       "      <td>-3.604067e+09</td>\n",
       "      <td>-4.083593e+09</td>\n",
       "      <td>-4.031735e+09</td>\n",
       "      <td>-3.850445e+09</td>\n",
       "      <td>-3.757993e+09</td>\n",
       "      <td>-3.791675e+09</td>\n",
       "      <td>-3.665275e+09</td>\n",
       "      <td>-3.816504e+09</td>\n",
       "      <td>-4.012536e+09</td>\n",
       "      <td>-3.851833e+09</td>\n",
       "      <td>1.498480e+08</td>\n",
       "      <td>18</td>\n",
       "    </tr>\n",
       "    <tr>\n",
       "      <th>20</th>\n",
       "      <td>0.015156</td>\n",
       "      <td>0.000780</td>\n",
       "      <td>0.160901</td>\n",
       "      <td>0.002322</td>\n",
       "      <td>41</td>\n",
       "      <td>{'kNN__n_neighbors': 41}</td>\n",
       "      <td>-3.913062e+09</td>\n",
       "      <td>-3.614474e+09</td>\n",
       "      <td>-4.096338e+09</td>\n",
       "      <td>-4.044099e+09</td>\n",
       "      <td>-3.853510e+09</td>\n",
       "      <td>-3.780163e+09</td>\n",
       "      <td>-3.805088e+09</td>\n",
       "      <td>-3.677655e+09</td>\n",
       "      <td>-3.830879e+09</td>\n",
       "      <td>-4.028404e+09</td>\n",
       "      <td>-3.864367e+09</td>\n",
       "      <td>1.498484e+08</td>\n",
       "      <td>19</td>\n",
       "    </tr>\n",
       "    <tr>\n",
       "      <th>21</th>\n",
       "      <td>0.015544</td>\n",
       "      <td>0.000821</td>\n",
       "      <td>0.163624</td>\n",
       "      <td>0.002224</td>\n",
       "      <td>43</td>\n",
       "      <td>{'kNN__n_neighbors': 43}</td>\n",
       "      <td>-3.929254e+09</td>\n",
       "      <td>-3.628965e+09</td>\n",
       "      <td>-4.113051e+09</td>\n",
       "      <td>-4.057895e+09</td>\n",
       "      <td>-3.872528e+09</td>\n",
       "      <td>-3.785906e+09</td>\n",
       "      <td>-3.806014e+09</td>\n",
       "      <td>-3.696740e+09</td>\n",
       "      <td>-3.863462e+09</td>\n",
       "      <td>-4.045267e+09</td>\n",
       "      <td>-3.879908e+09</td>\n",
       "      <td>1.506515e+08</td>\n",
       "      <td>20</td>\n",
       "    </tr>\n",
       "    <tr>\n",
       "      <th>22</th>\n",
       "      <td>0.015253</td>\n",
       "      <td>0.000812</td>\n",
       "      <td>0.167416</td>\n",
       "      <td>0.001956</td>\n",
       "      <td>45</td>\n",
       "      <td>{'kNN__n_neighbors': 45}</td>\n",
       "      <td>-3.939336e+09</td>\n",
       "      <td>-3.637417e+09</td>\n",
       "      <td>-4.137081e+09</td>\n",
       "      <td>-4.077656e+09</td>\n",
       "      <td>-3.880022e+09</td>\n",
       "      <td>-3.796352e+09</td>\n",
       "      <td>-3.820749e+09</td>\n",
       "      <td>-3.708930e+09</td>\n",
       "      <td>-3.880788e+09</td>\n",
       "      <td>-4.057736e+09</td>\n",
       "      <td>-3.893607e+09</td>\n",
       "      <td>1.539602e+08</td>\n",
       "      <td>21</td>\n",
       "    </tr>\n",
       "    <tr>\n",
       "      <th>23</th>\n",
       "      <td>0.015270</td>\n",
       "      <td>0.000724</td>\n",
       "      <td>0.170022</td>\n",
       "      <td>0.003151</td>\n",
       "      <td>47</td>\n",
       "      <td>{'kNN__n_neighbors': 47}</td>\n",
       "      <td>-3.955663e+09</td>\n",
       "      <td>-3.642613e+09</td>\n",
       "      <td>-4.161677e+09</td>\n",
       "      <td>-4.079527e+09</td>\n",
       "      <td>-3.887759e+09</td>\n",
       "      <td>-3.799436e+09</td>\n",
       "      <td>-3.841067e+09</td>\n",
       "      <td>-3.718205e+09</td>\n",
       "      <td>-3.906839e+09</td>\n",
       "      <td>-4.066175e+09</td>\n",
       "      <td>-3.905896e+09</td>\n",
       "      <td>1.562530e+08</td>\n",
       "      <td>22</td>\n",
       "    </tr>\n",
       "  </tbody>\n",
       "</table>\n",
       "</div>"
      ],
      "text/plain": [
       "    mean_fit_time  std_fit_time  mean_score_time  std_score_time  \\\n",
       "0        0.017217      0.005394         0.056533        0.003100   \n",
       "1        0.017490      0.001910         0.078739        0.006139   \n",
       "2        0.016994      0.001474         0.094425        0.007836   \n",
       "3        0.017679      0.004480         0.097896        0.004486   \n",
       "4        0.015455      0.001145         0.098872        0.003943   \n",
       "5        0.015557      0.000760         0.106186        0.003049   \n",
       "6        0.015864      0.001076         0.112617        0.004654   \n",
       "7        0.016784      0.001399         0.126200        0.012441   \n",
       "8        0.017680      0.003290         0.128298        0.008841   \n",
       "9        0.015533      0.000856         0.124661        0.006309   \n",
       "10       0.015928      0.000586         0.130379        0.002705   \n",
       "11       0.015914      0.000731         0.133191        0.001965   \n",
       "12       0.015693      0.000744         0.137241        0.002008   \n",
       "13       0.015300      0.000636         0.138155        0.001729   \n",
       "14       0.015405      0.000833         0.141402        0.001629   \n",
       "15       0.015343      0.000663         0.144959        0.001824   \n",
       "16       0.015318      0.000594         0.148281        0.001202   \n",
       "17       0.015301      0.000741         0.152372        0.002333   \n",
       "18       0.015246      0.000656         0.154926        0.002252   \n",
       "19       0.015312      0.000704         0.158284        0.003060   \n",
       "20       0.015156      0.000780         0.160901        0.002322   \n",
       "21       0.015544      0.000821         0.163624        0.002224   \n",
       "22       0.015253      0.000812         0.167416        0.001956   \n",
       "23       0.015270      0.000724         0.170022        0.003151   \n",
       "\n",
       "   param_kNN__n_neighbors                    params  split0_test_score  \\\n",
       "0                       1   {'kNN__n_neighbors': 1}      -5.867118e+09   \n",
       "1                       3   {'kNN__n_neighbors': 3}      -4.190561e+09   \n",
       "2                       5   {'kNN__n_neighbors': 5}      -3.829049e+09   \n",
       "3                       7   {'kNN__n_neighbors': 7}      -3.789373e+09   \n",
       "4                       9   {'kNN__n_neighbors': 9}      -3.733033e+09   \n",
       "5                      11  {'kNN__n_neighbors': 11}      -3.734255e+09   \n",
       "6                      13  {'kNN__n_neighbors': 13}      -3.738204e+09   \n",
       "7                      15  {'kNN__n_neighbors': 15}      -3.736233e+09   \n",
       "8                      17  {'kNN__n_neighbors': 17}      -3.754528e+09   \n",
       "9                      19  {'kNN__n_neighbors': 19}      -3.780239e+09   \n",
       "10                     21  {'kNN__n_neighbors': 21}      -3.811535e+09   \n",
       "11                     23  {'kNN__n_neighbors': 23}      -3.822516e+09   \n",
       "12                     25  {'kNN__n_neighbors': 25}      -3.821264e+09   \n",
       "13                     27  {'kNN__n_neighbors': 27}      -3.814075e+09   \n",
       "14                     29  {'kNN__n_neighbors': 29}      -3.829592e+09   \n",
       "15                     31  {'kNN__n_neighbors': 31}      -3.827329e+09   \n",
       "16                     33  {'kNN__n_neighbors': 33}      -3.848395e+09   \n",
       "17                     35  {'kNN__n_neighbors': 35}      -3.859107e+09   \n",
       "18                     37  {'kNN__n_neighbors': 37}      -3.872821e+09   \n",
       "19                     39  {'kNN__n_neighbors': 39}      -3.904504e+09   \n",
       "20                     41  {'kNN__n_neighbors': 41}      -3.913062e+09   \n",
       "21                     43  {'kNN__n_neighbors': 43}      -3.929254e+09   \n",
       "22                     45  {'kNN__n_neighbors': 45}      -3.939336e+09   \n",
       "23                     47  {'kNN__n_neighbors': 47}      -3.955663e+09   \n",
       "\n",
       "    split1_test_score  split2_test_score  split3_test_score  \\\n",
       "0       -5.393009e+09      -5.964867e+09      -6.433410e+09   \n",
       "1       -3.962058e+09      -4.218548e+09      -4.178971e+09   \n",
       "2       -3.631132e+09      -3.957117e+09      -3.962824e+09   \n",
       "3       -3.530546e+09      -3.848485e+09      -3.841699e+09   \n",
       "4       -3.482355e+09      -3.836875e+09      -3.826706e+09   \n",
       "5       -3.480820e+09      -3.877832e+09      -3.842398e+09   \n",
       "6       -3.483995e+09      -3.874774e+09      -3.840426e+09   \n",
       "7       -3.452941e+09      -3.883904e+09      -3.844169e+09   \n",
       "8       -3.447835e+09      -3.906119e+09      -3.873811e+09   \n",
       "9       -3.483090e+09      -3.937000e+09      -3.883691e+09   \n",
       "10      -3.487525e+09      -3.927873e+09      -3.896388e+09   \n",
       "11      -3.499951e+09      -3.948116e+09      -3.919258e+09   \n",
       "12      -3.517003e+09      -3.979082e+09      -3.927355e+09   \n",
       "13      -3.514835e+09      -4.006647e+09      -3.952612e+09   \n",
       "14      -3.518355e+09      -4.029256e+09      -3.954244e+09   \n",
       "15      -3.539055e+09      -4.041301e+09      -3.963357e+09   \n",
       "16      -3.539261e+09      -4.061646e+09      -3.972883e+09   \n",
       "17      -3.557184e+09      -4.058716e+09      -3.990260e+09   \n",
       "18      -3.572458e+09      -4.077862e+09      -4.008018e+09   \n",
       "19      -3.604067e+09      -4.083593e+09      -4.031735e+09   \n",
       "20      -3.614474e+09      -4.096338e+09      -4.044099e+09   \n",
       "21      -3.628965e+09      -4.113051e+09      -4.057895e+09   \n",
       "22      -3.637417e+09      -4.137081e+09      -4.077656e+09   \n",
       "23      -3.642613e+09      -4.161677e+09      -4.079527e+09   \n",
       "\n",
       "    split4_test_score  split5_test_score  split6_test_score  \\\n",
       "0       -5.472311e+09      -5.486419e+09      -5.665255e+09   \n",
       "1       -4.147111e+09      -3.934364e+09      -4.047449e+09   \n",
       "2       -3.847953e+09      -3.676656e+09      -3.832066e+09   \n",
       "3       -3.763143e+09      -3.656992e+09      -3.706978e+09   \n",
       "4       -3.712384e+09      -3.623981e+09      -3.678720e+09   \n",
       "5       -3.728839e+09      -3.612781e+09      -3.676319e+09   \n",
       "6       -3.719008e+09      -3.596485e+09      -3.685959e+09   \n",
       "7       -3.743345e+09      -3.625596e+09      -3.661183e+09   \n",
       "8       -3.758294e+09      -3.655998e+09      -3.674959e+09   \n",
       "9       -3.750376e+09      -3.668015e+09      -3.668185e+09   \n",
       "10      -3.762893e+09      -3.659563e+09      -3.706480e+09   \n",
       "11      -3.745151e+09      -3.670571e+09      -3.702712e+09   \n",
       "12      -3.757223e+09      -3.665158e+09      -3.720298e+09   \n",
       "13      -3.763814e+09      -3.676985e+09      -3.739013e+09   \n",
       "14      -3.793314e+09      -3.677816e+09      -3.749268e+09   \n",
       "15      -3.789692e+09      -3.681641e+09      -3.759428e+09   \n",
       "16      -3.812567e+09      -3.712496e+09      -3.767645e+09   \n",
       "17      -3.828396e+09      -3.734090e+09      -3.776356e+09   \n",
       "18      -3.845908e+09      -3.754856e+09      -3.790140e+09   \n",
       "19      -3.850445e+09      -3.757993e+09      -3.791675e+09   \n",
       "20      -3.853510e+09      -3.780163e+09      -3.805088e+09   \n",
       "21      -3.872528e+09      -3.785906e+09      -3.806014e+09   \n",
       "22      -3.880022e+09      -3.796352e+09      -3.820749e+09   \n",
       "23      -3.887759e+09      -3.799436e+09      -3.841067e+09   \n",
       "\n",
       "    split7_test_score  split8_test_score  split9_test_score  mean_test_score  \\\n",
       "0       -5.146922e+09      -6.060335e+09      -5.771927e+09    -5.726157e+09   \n",
       "1       -3.811258e+09      -4.016145e+09      -4.162982e+09    -4.066945e+09   \n",
       "2       -3.563683e+09      -3.682728e+09      -3.843569e+09    -3.782678e+09   \n",
       "3       -3.478151e+09      -3.647897e+09      -3.764427e+09    -3.702769e+09   \n",
       "4       -3.450836e+09      -3.640092e+09      -3.766023e+09    -3.675101e+09   \n",
       "5       -3.424723e+09      -3.638664e+09      -3.807548e+09    -3.682418e+09   \n",
       "6       -3.470852e+09      -3.620689e+09      -3.834593e+09    -3.686499e+09   \n",
       "7       -3.491728e+09      -3.638024e+09      -3.862512e+09    -3.693963e+09   \n",
       "8       -3.479758e+09      -3.663547e+09      -3.876297e+09    -3.709115e+09   \n",
       "9       -3.474520e+09      -3.695451e+09      -3.856384e+09    -3.719695e+09   \n",
       "10      -3.480807e+09      -3.694691e+09      -3.863153e+09    -3.729091e+09   \n",
       "11      -3.515418e+09      -3.709512e+09      -3.893960e+09    -3.742716e+09   \n",
       "12      -3.549575e+09      -3.726293e+09      -3.898996e+09    -3.756225e+09   \n",
       "13      -3.573838e+09      -3.721322e+09      -3.926830e+09    -3.768997e+09   \n",
       "14      -3.594867e+09      -3.727671e+09      -3.939316e+09    -3.781370e+09   \n",
       "15      -3.607718e+09      -3.751903e+09      -3.952958e+09    -3.791438e+09   \n",
       "16      -3.626299e+09      -3.771544e+09      -3.963927e+09    -3.807666e+09   \n",
       "17      -3.651558e+09      -3.776172e+09      -3.963811e+09    -3.819565e+09   \n",
       "18      -3.645062e+09      -3.789359e+09      -3.983347e+09    -3.833983e+09   \n",
       "19      -3.665275e+09      -3.816504e+09      -4.012536e+09    -3.851833e+09   \n",
       "20      -3.677655e+09      -3.830879e+09      -4.028404e+09    -3.864367e+09   \n",
       "21      -3.696740e+09      -3.863462e+09      -4.045267e+09    -3.879908e+09   \n",
       "22      -3.708930e+09      -3.880788e+09      -4.057736e+09    -3.893607e+09   \n",
       "23      -3.718205e+09      -3.906839e+09      -4.066175e+09    -3.905896e+09   \n",
       "\n",
       "    std_test_score  rank_test_score  \n",
       "0     3.553802e+08               24  \n",
       "1     1.278198e+08               23  \n",
       "2     1.294585e+08               13  \n",
       "3     1.186254e+08                5  \n",
       "4     1.238812e+08                1  \n",
       "5     1.407583e+08                2  \n",
       "6     1.359221e+08                3  \n",
       "7     1.411176e+08                4  \n",
       "8     1.501008e+08                6  \n",
       "9     1.481256e+08                7  \n",
       "10    1.483046e+08                8  \n",
       "11    1.486984e+08                9  \n",
       "12    1.462794e+08               10  \n",
       "13    1.521467e+08               11  \n",
       "14    1.540602e+08               12  \n",
       "15    1.521384e+08               14  \n",
       "16    1.532324e+08               15  \n",
       "17    1.472767e+08               16  \n",
       "18    1.509922e+08               17  \n",
       "19    1.498480e+08               18  \n",
       "20    1.498484e+08               19  \n",
       "21    1.506515e+08               20  \n",
       "22    1.539602e+08               21  \n",
       "23    1.562530e+08               22  "
      ]
     },
     "execution_count": 168,
     "metadata": {},
     "output_type": "execute_result"
    }
   ],
   "source": [
    "pd.DataFrame(resCV)"
   ]
  },
  {
   "cell_type": "code",
   "execution_count": 169,
   "metadata": {
    "ExecuteTime": {
     "end_time": "2021-03-12T00:29:39.641348Z",
     "start_time": "2021-03-12T00:29:39.630679Z"
    }
   },
   "outputs": [],
   "source": [
    "#compute best k based on one std error rule:\n",
    "one_std_rule_best_k = np.max(k_grid[test_MSEs <= test_MSEs[index_best] + std_test_MSEs[index_best]])"
   ]
  },
  {
   "cell_type": "code",
   "execution_count": 170,
   "metadata": {
    "ExecuteTime": {
     "end_time": "2021-03-12T00:29:40.003625Z",
     "start_time": "2021-03-12T00:29:39.645340Z"
    }
   },
   "outputs": [
    {
     "data": {
      "image/png": "[encoded data removed]",
      "text/plain": [
       "<Figure size 504x432 with 1 Axes>"
      ]
     },
     "metadata": {
      "needs_background": "light"
     },
     "output_type": "display_data"
    }
   ],
   "source": [
    "#Plot the grid-search results:\n",
    "plt.figure(figsize=(7,6))\n",
    "plt.errorbar(x=k_grid, y=test_MSEs, yerr=std_test_MSEs, fmt='o', capsize=3)\n",
    "\n",
    "plt.axvline(best_k, ls='dotted', color=\"grey\")#vertical line at the k yielding minimum CV MSE\n",
    "plt.axvline(one_std_rule_best_k, ls='dotted', color=\"grey\")#vertical line at best k value according to 1 std err rule\n",
    "\n",
    "plt.title(\"kNN regressor CV error\")\n",
    "plt.xlabel('k (nb neighbors)')\n",
    "plt.ylabel('Mean Squared Error')\n",
    "plt.show()"
   ]
  },
  {
   "cell_type": "code",
   "execution_count": 171,
   "metadata": {
    "ExecuteTime": {
     "end_time": "2021-03-12T00:29:40.174509Z",
     "start_time": "2021-03-12T00:29:40.003625Z"
    }
   },
   "outputs": [
    {
     "data": {
      "text/plain": [
       "KNeighborsRegressor(n_neighbors=17)"
      ]
     },
     "execution_count": 171,
     "metadata": {},
     "output_type": "execute_result"
    }
   ],
   "source": [
    "#Fit the final model:\n",
    "pipe_knn_final = KNeighborsRegressor(n_neighbors=one_std_rule_best_k)\n",
    "pipe_knn_final.fit(X, y)"
   ]
  }
 ],
 "metadata": {
  "kernelspec": {
   "display_name": "Python 3",
   "language": "python",
   "name": "python3"
  },
  "language_info": {
   "codemirror_mode": {
    "name": "ipython",
    "version": 3
   },
   "file_extension": ".py",
   "mimetype": "text/x-python",
   "name": "python",
   "nbconvert_exporter": "python",
   "pygments_lexer": "ipython3",
   "version": "3.8.5"
  },
  "toc": {
   "base_numbering": 1,
   "nav_menu": {},
   "number_sections": false,
   "sideBar": true,
   "skip_h1_title": true,
   "title_cell": "Table of Contents",
   "title_sidebar": "Contents",
   "toc_cell": false,
   "toc_position": {
    "height": "calc(100% - 180px)",
    "left": "10px",
    "top": "150px",
    "width": "216px"
   },
   "toc_section_display": true,
   "toc_window_display": true
  },
  "varInspector": {
   "cols": {
    "lenName": 16,
    "lenType": 16,
    "lenVar": 40
   },
   "kernels_config": {
    "python": {
     "delete_cmd_postfix": "",
     "delete_cmd_prefix": "del ",
     "library": "var_list.py",
     "varRefreshCmd": "print(var_dic_list())"
    },
    "r": {
     "delete_cmd_postfix": ") ",
     "delete_cmd_prefix": "rm(",
     "library": "var_list.r",
     "varRefreshCmd": "cat(var_dic_list()) "
    }
   },
   "types_to_exclude": [
    "module",
    "function",
    "builtin_function_or_method",
    "instance",
    "_Feature"
   ],
   "window_display": false
  }
 },
 "nbformat": 4,
 "nbformat_minor": 4
}
