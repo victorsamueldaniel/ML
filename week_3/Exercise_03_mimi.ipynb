{
 "cells": [
  {
   "cell_type": "markdown",
   "metadata": {},
   "source": [
    "# Machine Learning: Exercise session 03"
   ]
  },
  {
   "cell_type": "markdown",
   "metadata": {},
   "source": [
    "In this exercise session we will focus mainly on model assessment. You will learn how to use and apply some of the error estimation techniques seen in class, using scikit-learn (parts 1 and 2).\n",
    "\n",
    "To illustrate these techniques in context, we will continue where we left out in exercise session 01, with the housing dataset. You can export and use your resulting, cleaned, dataframe from the first session, or you can download it on moodle in this week's section (with the cleaning and feature engineering from the first session already performed).\n",
    "\n",
    "The third part of this notebook will introduce scikit-learn's Pipelines, which are a very useful tool that can be used, among other things, to avoid validation overfitting during cross-validation.\n",
    "\n",
    "Due to this last part making the practical part a bit longer, there will be no \"theoretical\" exercise this week."
   ]
  },
  {
   "cell_type": "markdown",
   "metadata": {},
   "source": [
    "## 0. Introduction and Setup"
   ]
  },
  {
   "cell_type": "code",
   "execution_count": 48,
   "metadata": {
    "ExecuteTime": {
     "end_time": "2021-03-11T17:40:07.020276Z",
     "start_time": "2021-03-11T17:40:05.837658Z"
    }
   },
   "outputs": [],
   "source": [
    "import matplotlib.pyplot as plt\n",
    "%matplotlib inline\n",
    "import numpy as np\n",
    "import pandas as pd"
   ]
  },
  {
   "cell_type": "markdown",
   "metadata": {},
   "source": [
    "Import the clean housing dataset with `pd.read_csv` and take a quick look at it, to verify that it is in the desired shape (display the dataframe, check its \"infos\")."
   ]
  },
  {
   "cell_type": "code",
   "execution_count": 49,
   "metadata": {
    "ExecuteTime": {
     "end_time": "2021-03-11T17:40:07.132428Z",
     "start_time": "2021-03-11T17:40:07.023280Z"
    }
   },
   "outputs": [],
   "source": [
    "df=pd.read_csv(\"housing_clean.csv\")"
   ]
  },
  {
   "cell_type": "code",
   "execution_count": 50,
   "metadata": {
    "ExecuteTime": {
     "end_time": "2021-03-11T17:40:07.182414Z",
     "start_time": "2021-03-11T17:40:07.141866Z"
    }
   },
   "outputs": [
    {
     "name": "stdout",
     "output_type": "stream",
     "text": [
      "<class 'pandas.core.frame.DataFrame'>\n",
      "RangeIndex: 20433 entries, 0 to 20432\n",
      "Data columns (total 9 columns):\n",
      " #   Column                Non-Null Count  Dtype  \n",
      "---  ------                --------------  -----  \n",
      " 0   longitude             20433 non-null  float64\n",
      " 1   latitude              20433 non-null  float64\n",
      " 2   housing_median_age    20433 non-null  float64\n",
      " 3   median_income         20433 non-null  float64\n",
      " 4   median_house_value    20433 non-null  float64\n",
      " 5   rooms_per_bedroom     20433 non-null  float64\n",
      " 6   rooms_per_household   20433 non-null  float64\n",
      " 7   people_per_household  20433 non-null  float64\n",
      " 8   ocean_proximity_enc   20433 non-null  float64\n",
      "dtypes: float64(9)\n",
      "memory usage: 1.4 MB\n"
     ]
    }
   ],
   "source": [
    "df.info()"
   ]
  },
  {
   "cell_type": "markdown",
   "metadata": {},
   "source": [
    "Separate the dataframe into the features `X` and the target variable `y`: (remember, we want to predict the median house value, given the other variables)"
   ]
  },
  {
   "cell_type": "code",
   "execution_count": 51,
   "metadata": {
    "ExecuteTime": {
     "end_time": "2021-03-11T17:40:07.198142Z",
     "start_time": "2021-03-11T17:40:07.184411Z"
    }
   },
   "outputs": [],
   "source": [
    "X = df[[\"longitude\",\"latitude\", \"housing_median_age\",\"median_income\",\"rooms_per_bedroom\",\"rooms_per_household\",\"people_per_household\",\"ocean_proximity_enc\"]]\n",
    "Y = df[[\"median_house_value\"]]"
   ]
  },
  {
   "cell_type": "markdown",
   "metadata": {},
   "source": [
    "## 1. Fitting KNN and expected error"
   ]
  },
  {
   "cell_type": "code",
   "execution_count": 52,
   "metadata": {
    "ExecuteTime": {
     "end_time": "2021-03-11T17:40:09.034119Z",
     "start_time": "2021-03-11T17:40:07.202128Z"
    }
   },
   "outputs": [],
   "source": [
    "from sklearn.neighbors import KNeighborsRegressor"
   ]
  },
  {
   "cell_type": "markdown",
   "metadata": {},
   "source": [
    "The goal of the following sections will not only be to use a k-Nearest neighbors regression model in order to predict the expected median household values, based on the other features, but also to assess how our model is performing, that is, its expected prediction error."
   ]
  },
  {
   "cell_type": "markdown",
   "metadata": {},
   "source": [
    "To begin with, import the same KNN regression model that you briefly used in the first exercise session, and fit it on the whole dataset for the desired prediction task. Use as a hyper-parameter `k=1` neighbors."
   ]
  },
  {
   "cell_type": "code",
   "execution_count": 53,
   "metadata": {
    "ExecuteTime": {
     "end_time": "2021-03-11T17:40:09.192001Z",
     "start_time": "2021-03-11T17:40:09.036197Z"
    }
   },
   "outputs": [],
   "source": [
    "knn = KNeighborsRegressor(n_neighbors=1)\n"
   ]
  },
  {
   "cell_type": "code",
   "execution_count": 54,
   "metadata": {},
   "outputs": [
    {
     "data": {
      "text/plain": [
       "KNeighborsRegressor(n_neighbors=1)"
      ]
     },
     "execution_count": 54,
     "metadata": {},
     "output_type": "execute_result"
    }
   ],
   "source": [
    "knn.fit(X,Y)"
   ]
  },
  {
   "cell_type": "code",
   "execution_count": 55,
   "metadata": {},
   "outputs": [],
   "source": [
    "predicted=knn.predict(X)"
   ]
  },
  {
   "cell_type": "markdown",
   "metadata": {},
   "source": [
    "Now, evaluate its root mean squared error using `X` and `y`."
   ]
  },
  {
   "cell_type": "code",
   "execution_count": 56,
   "metadata": {
    "ExecuteTime": {
     "end_time": "2021-03-11T17:40:09.208151Z",
     "start_time": "2021-03-11T17:40:09.196240Z"
    }
   },
   "outputs": [],
   "source": [
    "from sklearn.metrics import mean_squared_error"
   ]
  },
  {
   "cell_type": "code",
   "execution_count": 57,
   "metadata": {
    "ExecuteTime": {
     "end_time": "2021-03-11T17:40:09.390467Z",
     "start_time": "2021-03-11T17:40:09.212215Z"
    }
   },
   "outputs": [
    {
     "data": {
      "text/plain": [
       "0.0"
      ]
     },
     "execution_count": 57,
     "metadata": {},
     "output_type": "execute_result"
    }
   ],
   "source": [
    "mean_squared_error(Y,predicted)"
   ]
  },
  {
   "cell_type": "markdown",
   "metadata": {},
   "source": [
    "What do you observe? What does that say probably say about the model? Does that mean that the model is performing well, you think?\n",
    "*There's absolutely no difference between the true value and the predicted one. Indeed, we didn't split the data between training data and testing data. Moreover, we chose k=1, which fit each datapoint depending on its own value.The model is therefore overfitting. The model do not perform well.*"
   ]
  },
  {
   "cell_type": "markdown",
   "metadata": {},
   "source": [
    "### 1.1. Train-test split"
   ]
  },
  {
   "cell_type": "markdown",
   "metadata": {},
   "source": [
    "Now, separate the data into `X_train` `y_train` and `X_test` `y_test`, and fit a KNN regressor on the training set"
   ]
  },
  {
   "cell_type": "code",
   "execution_count": 58,
   "metadata": {
    "ExecuteTime": {
     "end_time": "2021-03-11T17:40:09.408531Z",
     "start_time": "2021-03-11T17:40:09.393695Z"
    }
   },
   "outputs": [],
   "source": [
    "from sklearn.model_selection import train_test_split"
   ]
  },
  {
   "cell_type": "code",
   "execution_count": 59,
   "metadata": {
    "ExecuteTime": {
     "end_time": "2021-03-11T17:40:09.441855Z",
     "start_time": "2021-03-11T17:40:09.411962Z"
    }
   },
   "outputs": [],
   "source": [
    "# fill out the ??\n",
    "X_train, X_test, y_train, y_test = train_test_split(X, Y, test_size = .2, random_state = 42)"
   ]
  },
  {
   "cell_type": "code",
   "execution_count": 60,
   "metadata": {
    "ExecuteTime": {
     "end_time": "2021-03-11T17:40:09.558366Z",
     "start_time": "2021-03-11T17:40:09.443853Z"
    }
   },
   "outputs": [
    {
     "data": {
      "text/plain": [
       "KNeighborsRegressor(n_neighbors=1)"
      ]
     },
     "execution_count": 60,
     "metadata": {},
     "output_type": "execute_result"
    }
   ],
   "source": [
    "knn.fit(X_train,y_train)"
   ]
  },
  {
   "cell_type": "markdown",
   "metadata": {},
   "source": [
    "Check its RMSE both on the training and on the test set, do you observe something that you expected?\n",
    "\n",
    "*Yes, the prediction on the testing data set has a bigger RMSE, as it's a prediction done on unseen data.*"
   ]
  },
  {
   "cell_type": "code",
   "execution_count": 61,
   "metadata": {
    "ExecuteTime": {
     "end_time": "2021-03-11T17:40:09.741617Z",
     "start_time": "2021-03-11T17:40:09.562045Z"
    }
   },
   "outputs": [
    {
     "data": {
      "text/plain": [
       "0.0"
      ]
     },
     "execution_count": 61,
     "metadata": {},
     "output_type": "execute_result"
    }
   ],
   "source": [
    "mean_squared_error(y_train,knn.predict(X_train))"
   ]
  },
  {
   "cell_type": "code",
   "execution_count": 62,
   "metadata": {
    "ExecuteTime": {
     "end_time": "2021-03-11T17:40:09.956833Z",
     "start_time": "2021-03-11T17:40:09.744099Z"
    }
   },
   "outputs": [
    {
     "data": {
      "text/plain": [
       "5899838962.953755"
      ]
     },
     "execution_count": 62,
     "metadata": {},
     "output_type": "execute_result"
    }
   ],
   "source": [
    "mean_squared_error(y_test,knn.predict(X_test))"
   ]
  },
  {
   "cell_type": "markdown",
   "metadata": {},
   "source": [
    "You've learned about the Bias-Variance tradeoff during the last lecture. Does the model suffer from too much bias or too much variance? Does that mean that it is too \"flexible\", or not enough?\n",
    "\n",
    "*The model has too much variance, not enough bias. It means it is too flexible*"
   ]
  },
  {
   "cell_type": "markdown",
   "metadata": {},
   "source": [
    "### 1.2. Cross-validation"
   ]
  },
  {
   "cell_type": "markdown",
   "metadata": {},
   "source": [
    "When fitting a model, we are interested in its expected generalization error (the expected error on unseen data).\n",
    "In order to estimate this expected error, a more stable way to estimate it than with a train-test split is to use cross-validation."
   ]
  },
  {
   "cell_type": "markdown",
   "metadata": {},
   "source": [
    "Declare a new KNN regressor instance with the same hyper-parameter as before, and estimate its expected generalization error with 10 folds cross-validation on `X` and `y`.\n",
    "\n",
    "Print the average generalization RMSE for each fold as well as the cross-validation error estimate.\n",
    "\n",
    "\n",
    "_Remark:_ during fitting sklearn maximizes \"scores\" instead of minimizing losses, that is why we specify `scoring=\"neg_mean_squared_error\"` below, as we maximize the negative MSE instead of minimizing the MSE."
   ]
  },
  {
   "cell_type": "code",
   "execution_count": 63,
   "metadata": {
    "ExecuteTime": {
     "end_time": "2021-03-11T17:40:09.972225Z",
     "start_time": "2021-03-11T17:40:09.959527Z"
    }
   },
   "outputs": [],
   "source": [
    "from sklearn.model_selection import cross_val_score"
   ]
  },
  {
   "cell_type": "code",
   "execution_count": 64,
   "metadata": {
    "ExecuteTime": {
     "end_time": "2021-03-11T17:40:12.261659Z",
     "start_time": "2021-03-11T17:40:09.978240Z"
    }
   },
   "outputs": [],
   "source": [
    "knn = KNeighborsRegressor(n_neighbors=1)\n",
    "CVscores = cross_val_score(knn, X_train, y_train, scoring=\"neg_mean_squared_error\", cv=10)"
   ]
  },
  {
   "cell_type": "code",
   "execution_count": 65,
   "metadata": {
    "ExecuteTime": {
     "end_time": "2021-03-11T17:40:12.276853Z",
     "start_time": "2021-03-11T17:40:12.261659Z"
    }
   },
   "outputs": [
    {
     "name": "stdout",
     "output_type": "stream",
     "text": [
      "[-5.57453479e+09 -4.97277254e+09 -5.75870225e+09 -5.92715403e+09\n",
      " -5.17651373e+09 -5.47327643e+09 -5.61825365e+09 -5.51132078e+09\n",
      " -4.85600524e+09 -5.52123409e+09]\n"
     ]
    }
   ],
   "source": [
    "print(CVscores)"
   ]
  },
  {
   "cell_type": "code",
   "execution_count": 66,
   "metadata": {
    "ExecuteTime": {
     "end_time": "2021-03-11T17:40:12.292393Z",
     "start_time": "2021-03-11T17:40:12.281184Z"
    }
   },
   "outputs": [
    {
     "data": {
      "text/plain": [
       "-5438976752.699072"
      ]
     },
     "execution_count": 66,
     "metadata": {},
     "output_type": "execute_result"
    }
   ],
   "source": [
    "np.mean(CVscores)"
   ]
  },
  {
   "cell_type": "markdown",
   "metadata": {},
   "source": [
    "Note in `cross_val_score` you can simply specify the number of folds with the argument `cv=10`. By default, sklearn splits the data equally into the specified number of folds without shuffling it first. This behaviour might be useful when, for example, some time dependence between observations needs to be kept for specific models. However, if we assume that the observations are independent, it might be a better idea to shuffle observations (rows) before splitting, to avoid imbalances within folds, created by any kind of prior implicit sorting of the observations.\n",
    "\n",
    "You can control the splitting method and, in particular, shuffle the data prior to splitting in folds, by specifying a [KFold object](https://scikit-learn.org/stable/modules/cross_validation.html#cross-validation-iterators) instead of a simple number for the `cv` argument.\n",
    "\n",
    "Repeat the cross-validation estimation by, this time, shuffling the data for the folds split. Do you notice any difference with the estimated RMSEs for each fold? If yes, why do you think (speculate) it might be?\n"
   ]
  },
  {
   "cell_type": "code",
   "execution_count": 67,
   "metadata": {
    "ExecuteTime": {
     "end_time": "2021-03-11T17:40:12.308229Z",
     "start_time": "2021-03-11T17:40:12.295903Z"
    }
   },
   "outputs": [],
   "source": [
    "from sklearn.model_selection import KFold"
   ]
  },
  {
   "cell_type": "code",
   "execution_count": 68,
   "metadata": {
    "ExecuteTime": {
     "end_time": "2021-03-11T17:40:14.558951Z",
     "start_time": "2021-03-11T17:40:12.309266Z"
    }
   },
   "outputs": [],
   "source": [
    "knn = KNeighborsRegressor(n_neighbors=1)\n",
    "folds = KFold(n_splits=10 , shuffle=True, random_state=1)\n",
    "CVscores = cross_val_score(knn, X_train, y_train, scoring=\"neg_mean_squared_error\", cv=10)"
   ]
  },
  {
   "cell_type": "code",
   "execution_count": 69,
   "metadata": {},
   "outputs": [
    {
     "name": "stdout",
     "output_type": "stream",
     "text": [
      "[-5.57453479e+09 -4.97277254e+09 -5.75870225e+09 -5.92715403e+09\n",
      " -5.17651373e+09 -5.47327643e+09 -5.61825365e+09 -5.51132078e+09\n",
      " -4.85600524e+09 -5.52123409e+09]\n"
     ]
    }
   ],
   "source": [
    "print(CVscores)"
   ]
  },
  {
   "cell_type": "code",
   "execution_count": 70,
   "metadata": {
    "ExecuteTime": {
     "end_time": "2021-03-11T17:40:14.574865Z",
     "start_time": "2021-03-11T17:40:14.560945Z"
    }
   },
   "outputs": [
    {
     "data": {
      "text/plain": [
       "-5438976752.699072"
      ]
     },
     "execution_count": 70,
     "metadata": {},
     "output_type": "execute_result"
    }
   ],
   "source": [
    "np.mean(CVscores)"
   ]
  },
  {
   "cell_type": "markdown",
   "metadata": {},
   "source": [
    "*There seems to be no difference. This indicates that there was no specific sorting during data collecting.*"
   ]
  },
  {
   "cell_type": "markdown",
   "metadata": {},
   "source": [
    "## 2. Hyper-Parameter tuning and Cross-validation"
   ]
  },
  {
   "cell_type": "markdown",
   "metadata": {},
   "source": [
    "In the first part, we \"arbitrarily\" chose a hyper-parameter value for our model. However, this value might not be optimal. Usually, we want to compare the model's expected error for a range of different possible hyper-parameters, in order to choose the best one for the task at hand. (Remember the optimal value depends on the specific data we try to model, and there cannot be a \"best\" hyper-parameter value overall, this is often called the *no free lunch theorem*.)"
   ]
  },
  {
   "cell_type": "markdown",
   "metadata": {},
   "source": [
    "In sklearn, [GridSearchCV](https://scikit-learn.org/stable/modules/generated/sklearn.model_selection.GridSearchCV.html) performs a grid-search over the given range of hyper-parameter values, by estimating the cross-validation error for each value in the given grid."
   ]
  },
  {
   "cell_type": "code",
   "execution_count": 71,
   "metadata": {
    "ExecuteTime": {
     "end_time": "2021-03-11T17:40:14.590383Z",
     "start_time": "2021-03-11T17:40:14.576833Z"
    }
   },
   "outputs": [],
   "source": [
    "from sklearn.model_selection import GridSearchCV, KFold"
   ]
  },
  {
   "cell_type": "markdown",
   "metadata": {},
   "source": [
    "First, instanciate a new kNN regressor (no need to specify a k value), and specify the grid of hyper-parameter values in a dictionary of the form `{\"hyper_param_name\" : values_to_try}`.\n",
    "\n",
    "Choose equally spaced values between $1$ and $49$, with an increment of $2$ as a grid of values to try."
   ]
  },
  {
   "cell_type": "code",
   "execution_count": 84,
   "metadata": {
    "ExecuteTime": {
     "end_time": "2021-03-11T17:40:14.606147Z",
     "start_time": "2021-03-11T17:40:14.600065Z"
    }
   },
   "outputs": [],
   "source": [
    "knn = KNeighborsRegressor()\n",
    "\n",
    "hyper_parameters = {\"n_neighbors\" : [int(k) for k in np.linspace(1,49,25)]}"
   ]
  },
  {
   "cell_type": "markdown",
   "metadata": {},
   "source": [
    "Now perform the Grid-search with 10-fold cross-validation, to estimate the model's generalization error for the chosen grid of k values. Don't forget to shuffle the data for the fold split.\n",
    "\n",
    "_Hint:_ `GridSearchCV` is an object, you need to instanciate it and fit it (like a ML model)."
   ]
  },
  {
   "cell_type": "code",
   "execution_count": 79,
   "metadata": {},
   "outputs": [
    {
     "data": {
      "text/plain": [
       "dict_keys(['algorithm', 'leaf_size', 'metric', 'metric_params', 'n_jobs', 'n_neighbors', 'p', 'weights'])"
      ]
     },
     "execution_count": 79,
     "metadata": {},
     "output_type": "execute_result"
    }
   ],
   "source": [
    "knn.get_params().keys()"
   ]
  },
  {
   "cell_type": "code",
   "execution_count": 85,
   "metadata": {
    "ExecuteTime": {
     "end_time": "2021-03-11T17:41:50.501157Z",
     "start_time": "2021-03-11T17:41:50.400219Z"
    }
   },
   "outputs": [
    {
     "data": {
      "text/plain": [
       "GridSearchCV(cv=KFold(n_splits=10, random_state=1, shuffle=True),\n",
       "             estimator=KNeighborsRegressor(),\n",
       "             param_grid={'n_neighbors': [1, 3, 5, 7, 9, 11, 13, 15, 17, 19, 21,\n",
       "                                         23, 25, 27, 29, 31, 33, 35, 37, 39, 41,\n",
       "                                         43, 45, 47, 49]},\n",
       "             scoring='neg_mean_squared_error')"
      ]
     },
     "execution_count": 85,
     "metadata": {},
     "output_type": "execute_result"
    }
   ],
   "source": [
    "knnCV = GridSearchCV(estimator=knn, param_grid=hyper_parameters, scoring=\"neg_mean_squared_error\",\n",
    "                       cv=KFold(n_splits=10, shuffle=True, random_state=1))\n",
    "\n",
    "knnCV.fit(X,Y)"
   ]
  },
  {
   "cell_type": "code",
   "execution_count": 88,
   "metadata": {},
   "outputs": [
    {
     "data": {
      "text/plain": [
       "{'mean_fit_time': array([0.06682136, 0.0662147 , 0.0723985 , 0.06464229, 0.06323411,\n",
       "        0.06363385, 0.07193286, 0.06434839, 0.07014589, 0.06555479,\n",
       "        0.07264125, 0.06116204, 0.06642797, 0.06821699, 0.06363013,\n",
       "        0.06412535, 0.06253593, 0.06375151, 0.06692545, 0.0625416 ,\n",
       "        0.06166499, 0.06643288, 0.06366205, 0.06383064, 0.06382537]),\n",
       " 'std_fit_time': array([0.00915406, 0.00506718, 0.00811899, 0.00595648, 0.00135734,\n",
       "        0.00273972, 0.00780623, 0.00222924, 0.01296033, 0.01713852,\n",
       "        0.02194152, 0.00148549, 0.00865112, 0.00720792, 0.00306745,\n",
       "        0.00428663, 0.00299957, 0.00238581, 0.00660402, 0.00277193,\n",
       "        0.00141775, 0.00539819, 0.00246838, 0.00393905, 0.00325306]),\n",
       " 'mean_score_time': array([0.05516224, 0.07880034, 0.10831292, 0.09732742, 0.10900695,\n",
       "        0.11669595, 0.15234559, 0.12743998, 0.14814522, 0.16304486,\n",
       "        0.17573009, 0.14239872, 0.16744721, 0.17236338, 0.15659919,\n",
       "        0.16377399, 0.16500278, 0.17490606, 0.18600583, 0.17822099,\n",
       "        0.18160479, 0.20214801, 0.18958879, 0.19359984, 0.19548059]),\n",
       " 'std_score_time': array([0.00639029, 0.00743604, 0.02117135, 0.00620227, 0.00856323,\n",
       "        0.01047129, 0.04024257, 0.00326815, 0.03399771, 0.09191111,\n",
       "        0.1121537 , 0.00377257, 0.02114517, 0.02044225, 0.0049242 ,\n",
       "        0.00305913, 0.00869209, 0.00558225, 0.02062571, 0.0044865 ,\n",
       "        0.00463016, 0.02660918, 0.00342854, 0.00560211, 0.00671446]),\n",
       " 'param_n_neighbors': masked_array(data=[1, 3, 5, 7, 9, 11, 13, 15, 17, 19, 21, 23, 25, 27, 29,\n",
       "                    31, 33, 35, 37, 39, 41, 43, 45, 47, 49],\n",
       "              mask=[False, False, False, False, False, False, False, False,\n",
       "                    False, False, False, False, False, False, False, False,\n",
       "                    False, False, False, False, False, False, False, False,\n",
       "                    False],\n",
       "        fill_value='?',\n",
       "             dtype=object),\n",
       " 'params': [{'n_neighbors': 1},\n",
       "  {'n_neighbors': 3},\n",
       "  {'n_neighbors': 5},\n",
       "  {'n_neighbors': 7},\n",
       "  {'n_neighbors': 9},\n",
       "  {'n_neighbors': 11},\n",
       "  {'n_neighbors': 13},\n",
       "  {'n_neighbors': 15},\n",
       "  {'n_neighbors': 17},\n",
       "  {'n_neighbors': 19},\n",
       "  {'n_neighbors': 21},\n",
       "  {'n_neighbors': 23},\n",
       "  {'n_neighbors': 25},\n",
       "  {'n_neighbors': 27},\n",
       "  {'n_neighbors': 29},\n",
       "  {'n_neighbors': 31},\n",
       "  {'n_neighbors': 33},\n",
       "  {'n_neighbors': 35},\n",
       "  {'n_neighbors': 37},\n",
       "  {'n_neighbors': 39},\n",
       "  {'n_neighbors': 41},\n",
       "  {'n_neighbors': 43},\n",
       "  {'n_neighbors': 45},\n",
       "  {'n_neighbors': 47},\n",
       "  {'n_neighbors': 49}],\n",
       " 'split0_test_score': array([-6.17575089e+09, -4.32594713e+09, -3.96495557e+09, -3.83192981e+09,\n",
       "        -3.81214410e+09, -3.78591028e+09, -3.77692927e+09, -3.77221894e+09,\n",
       "        -3.78556882e+09, -3.80759770e+09, -3.83636949e+09, -3.86058896e+09,\n",
       "        -3.90619796e+09, -3.91662785e+09, -3.93475970e+09, -3.96671979e+09,\n",
       "        -3.98240535e+09, -4.00736125e+09, -4.01879400e+09, -4.02768951e+09,\n",
       "        -4.06441037e+09, -4.09893470e+09, -4.13174277e+09, -4.15782718e+09,\n",
       "        -4.18656569e+09]),\n",
       " 'split1_test_score': array([-5.24096364e+09, -3.82078413e+09, -3.55648037e+09, -3.54795812e+09,\n",
       "        -3.47053859e+09, -3.50312199e+09, -3.48686841e+09, -3.51908934e+09,\n",
       "        -3.50195905e+09, -3.52168320e+09, -3.55410995e+09, -3.54789206e+09,\n",
       "        -3.61249370e+09, -3.63407299e+09, -3.66904964e+09, -3.69089842e+09,\n",
       "        -3.71369869e+09, -3.73893276e+09, -3.77363714e+09, -3.81435663e+09,\n",
       "        -3.83604942e+09, -3.86718236e+09, -3.88530672e+09, -3.91297746e+09,\n",
       "        -3.94621047e+09]),\n",
       " 'split2_test_score': array([-5.77511050e+09, -3.96403088e+09, -3.77339548e+09, -3.74048963e+09,\n",
       "        -3.67959474e+09, -3.68203924e+09, -3.76967067e+09, -3.82918214e+09,\n",
       "        -3.87074522e+09, -3.89960279e+09, -3.95699391e+09, -4.00371520e+09,\n",
       "        -4.06570462e+09, -4.12187514e+09, -4.16053249e+09, -4.21018459e+09,\n",
       "        -4.23530135e+09, -4.27287203e+09, -4.31232583e+09, -4.34918260e+09,\n",
       "        -4.37823956e+09, -4.41426735e+09, -4.44722138e+09, -4.47934161e+09,\n",
       "        -4.51727268e+09]),\n",
       " 'split3_test_score': array([-5.40168999e+09, -3.89491125e+09, -3.76047766e+09, -3.68668557e+09,\n",
       "        -3.70935291e+09, -3.73681183e+09, -3.78906693e+09, -3.80080637e+09,\n",
       "        -3.87475518e+09, -3.87090650e+09, -3.91488814e+09, -3.95701000e+09,\n",
       "        -4.00129727e+09, -4.05224014e+09, -4.06476078e+09, -4.11656828e+09,\n",
       "        -4.15495386e+09, -4.18357334e+09, -4.21507390e+09, -4.25242530e+09,\n",
       "        -4.27378646e+09, -4.29022632e+09, -4.32888110e+09, -4.35464791e+09,\n",
       "        -4.37827293e+09]),\n",
       " 'split4_test_score': array([-5.16238266e+09, -3.63047009e+09, -3.50859510e+09, -3.38680716e+09,\n",
       "        -3.36876760e+09, -3.39952424e+09, -3.40029851e+09, -3.42708735e+09,\n",
       "        -3.45112706e+09, -3.48528321e+09, -3.51873530e+09, -3.57081013e+09,\n",
       "        -3.59693618e+09, -3.62887665e+09, -3.66899848e+09, -3.70653488e+09,\n",
       "        -3.74540911e+09, -3.78450854e+09, -3.81286548e+09, -3.85017752e+09,\n",
       "        -3.87049678e+09, -3.89679502e+09, -3.91971392e+09, -3.94426667e+09,\n",
       "        -3.96741294e+09]),\n",
       " 'split5_test_score': array([-5.37880078e+09, -3.87224810e+09, -3.68243824e+09, -3.60023903e+09,\n",
       "        -3.53926834e+09, -3.54223258e+09, -3.55797786e+09, -3.58703496e+09,\n",
       "        -3.64275798e+09, -3.71350395e+09, -3.77016880e+09, -3.83419347e+09,\n",
       "        -3.84790771e+09, -3.89426733e+09, -3.94084004e+09, -3.95890560e+09,\n",
       "        -4.00094262e+09, -4.03738070e+09, -4.07051768e+09, -4.09916990e+09,\n",
       "        -4.14121870e+09, -4.17114705e+09, -4.20308216e+09, -4.23478499e+09,\n",
       "        -4.26338451e+09]),\n",
       " 'split6_test_score': array([-5.88429667e+09, -3.94791237e+09, -3.63723589e+09, -3.56044158e+09,\n",
       "        -3.50900823e+09, -3.47649639e+09, -3.47871452e+09, -3.51302404e+09,\n",
       "        -3.59630760e+09, -3.61826799e+09, -3.67868672e+09, -3.71306611e+09,\n",
       "        -3.72575063e+09, -3.79823998e+09, -3.81957780e+09, -3.87102226e+09,\n",
       "        -3.90437770e+09, -3.94048844e+09, -3.96231955e+09, -4.00947516e+09,\n",
       "        -4.04770461e+09, -4.09012312e+09, -4.11947865e+09, -4.14674257e+09,\n",
       "        -4.17989264e+09]),\n",
       " 'split7_test_score': array([-5.66263999e+09, -4.02722839e+09, -3.72122369e+09, -3.55734274e+09,\n",
       "        -3.53618096e+09, -3.50191066e+09, -3.51378461e+09, -3.54431837e+09,\n",
       "        -3.58026584e+09, -3.60466147e+09, -3.61716400e+09, -3.63664048e+09,\n",
       "        -3.69353269e+09, -3.72189363e+09, -3.75659038e+09, -3.79281848e+09,\n",
       "        -3.82359095e+09, -3.85707508e+09, -3.88947096e+09, -3.91310947e+09,\n",
       "        -3.93737347e+09, -3.96474326e+09, -3.99992730e+09, -4.04060046e+09,\n",
       "        -4.06778789e+09]),\n",
       " 'split8_test_score': array([-5.09694389e+09, -3.87258696e+09, -3.62803266e+09, -3.58409950e+09,\n",
       "        -3.50649861e+09, -3.47657325e+09, -3.50889867e+09, -3.53297027e+09,\n",
       "        -3.56961609e+09, -3.56569002e+09, -3.62747089e+09, -3.69179412e+09,\n",
       "        -3.73012782e+09, -3.78665428e+09, -3.80650523e+09, -3.83870777e+09,\n",
       "        -3.86603396e+09, -3.90544384e+09, -3.93071857e+09, -3.94896671e+09,\n",
       "        -3.96963815e+09, -4.00462133e+09, -4.03232239e+09, -4.05367338e+09,\n",
       "        -4.08631828e+09]),\n",
       " 'split9_test_score': array([-5.66997598e+09, -4.01483527e+09, -3.77427193e+09, -3.67192278e+09,\n",
       "        -3.66561704e+09, -3.68354944e+09, -3.73830973e+09, -3.75443244e+09,\n",
       "        -3.79480204e+09, -3.82457040e+09, -3.86075464e+09, -3.88753764e+09,\n",
       "        -3.95317207e+09, -3.97789379e+09, -3.98701678e+09, -4.02564954e+09,\n",
       "        -4.06981438e+09, -4.09355124e+09, -4.13505371e+09, -4.14294866e+09,\n",
       "        -4.16618494e+09, -4.19436312e+09, -4.22478285e+09, -4.26342394e+09,\n",
       "        -4.29252253e+09]),\n",
       " 'mean_test_score': array([-5.54485550e+09, -3.93709546e+09, -3.70071066e+09, -3.61679159e+09,\n",
       "        -3.57969711e+09, -3.57881699e+09, -3.60205192e+09, -3.62801642e+09,\n",
       "        -3.66679049e+09, -3.69117672e+09, -3.73353418e+09, -3.77032482e+09,\n",
       "        -3.81331207e+09, -3.85326418e+09, -3.88086313e+09, -3.91780096e+09,\n",
       "        -3.94965280e+09, -3.98211872e+09, -4.01207768e+09, -4.04075015e+09,\n",
       "        -4.06851025e+09, -4.09924036e+09, -4.12924592e+09, -4.15882862e+09,\n",
       "        -4.18856406e+09]),\n",
       " 'std_test_score': array([3.29108807e+08, 1.68496008e+08, 1.23234888e+08, 1.16272699e+08,\n",
       "        1.25894367e+08, 1.24709917e+08, 1.41355544e+08, 1.37941603e+08,\n",
       "        1.45429361e+08, 1.43964620e+08, 1.47328559e+08, 1.52278583e+08,\n",
       "        1.56366930e+08, 1.60027914e+08, 1.56295954e+08, 1.61521924e+08,\n",
       "        1.62545120e+08, 1.62070031e+08, 1.64501319e+08, 1.63472123e+08,\n",
       "        1.65398622e+08, 1.64893005e+08, 1.68870007e+08, 1.70130992e+08,\n",
       "        1.71233065e+08]),\n",
       " 'rank_test_score': array([25, 15,  8,  4,  2,  1,  3,  5,  6,  7,  9, 10, 11, 12, 13, 14, 16,\n",
       "        17, 18, 19, 20, 21, 22, 23, 24])}"
      ]
     },
     "execution_count": 88,
     "metadata": {},
     "output_type": "execute_result"
    }
   ],
   "source": [
    "knnCV.cv_results_"
   ]
  },
  {
   "cell_type": "markdown",
   "metadata": {},
   "source": [
    "Now, using the `GridSearchCV` results that you inspected, extract the k value yielding the \"best\" (lowest) MSE estimate\n",
    "\n",
    "(Again fill out the `??` below)"
   ]
  },
  {
   "cell_type": "code",
   "execution_count": 106,
   "metadata": {
    "ExecuteTime": {
     "end_time": "2021-03-11T17:41:50.516404Z",
     "start_time": "2021-03-11T17:41:50.505732Z"
    }
   },
   "outputs": [],
   "source": [
    "resCV = knnCV.cv_results_\n",
    "\n",
    "test_MSEs = -resCV['mean_test_score']\n",
    "std_test_MSEs = resCV['std_test_score']\n",
    "# k_grid = resCV[??].data\n",
    "\n",
    "index_best = np.argmin(resCV['rank_test_score']) # index of the k value with the lowest MSE estimate\n",
    "best_k = index_best*2+1"
   ]
  },
  {
   "cell_type": "code",
   "execution_count": 113,
   "metadata": {},
   "outputs": [
    {
     "data": {
      "text/plain": [
       "1"
      ]
     },
     "execution_count": 113,
     "metadata": {},
     "output_type": "execute_result"
    }
   ],
   "source": [
    "resCV['param_n_neighbors'][0]"
   ]
  },
  {
   "cell_type": "code",
   "execution_count": 104,
   "metadata": {},
   "outputs": [
    {
     "data": {
      "text/plain": [
       "124709916.75532416"
      ]
     },
     "execution_count": 104,
     "metadata": {},
     "output_type": "execute_result"
    }
   ],
   "source": [
    "std_test_MSEs[index_best]"
   ]
  },
  {
   "cell_type": "markdown",
   "metadata": {},
   "source": [
    "Now extract the more parsimonious k value obtained by the \"one standard error rule\" seen in class.\n",
    "\n",
    "_Hint_: You might first need to answer this question: *Are larger or smaller k values yielding a more parsimonious model (low \"flexibility\" and variance)?*"
   ]
  },
  {
   "cell_type": "code",
   "execution_count": 110,
   "metadata": {
    "ExecuteTime": {
     "end_time": "2021-03-11T17:41:50.531648Z",
     "start_time": "2021-03-11T17:41:50.520108Z"
    }
   },
   "outputs": [],
   "source": [
    "max_distance_to_best= test_MSEs[index_best]+std_test_MSEs[index_best]\n",
    "smaller_than_one_std_to_best=[k for k in range(index_best,25) if test_MSEs[k]<max_distance_to_best]\n",
    "\n",
    "one_std_rule_best_k = smaller_than_one_std_to_best[-1]*2+1"
   ]
  },
  {
   "cell_type": "code",
   "execution_count": 111,
   "metadata": {},
   "outputs": [
    {
     "data": {
      "text/plain": [
       "19"
      ]
     },
     "execution_count": 111,
     "metadata": {},
     "output_type": "execute_result"
    }
   ],
   "source": [
    "one_std_rule_best_k"
   ]
  },
  {
   "cell_type": "markdown",
   "metadata": {},
   "source": [
    "To better visualize how the expected error varies as a function of the hyper-parameter k, we can construct a MSE plot with standard deviations from the `GridSearchCV`. It is also nice to highlight the two important k values discussed just above (with vertical lines for example)."
   ]
  },
  {
   "cell_type": "code",
   "execution_count": 123,
   "metadata": {
    "ExecuteTime": {
     "end_time": "2021-03-11T17:41:50.943235Z",
     "start_time": "2021-03-11T17:41:50.534583Z"
    }
   },
   "outputs": [
    {
     "data": {
      "image/png": "[encoded data removed]",
      "text/plain": [
       "<Figure size 504x432 with 1 Axes>"
      ]
     },
     "metadata": {
      "needs_background": "light"
     },
     "output_type": "display_data"
    }
   ],
   "source": [
    "plt.figure(figsize=(7,6))\n",
    "plt.errorbar(x=[int(k) for k in np.linspace(1,49,25)], y=test_MSEs, yerr=std_test_MSEs, fmt='o', capsize=3)\n",
    "\n",
    "plt.axvline(best_k, color=\"blue\",label=\"best_k\")#vertical line at the k yielding minimum CV MSE\n",
    "plt.axhline(max_distance_to_best, ls='dotted', color=\"grey\",label='one_std_rule')#horizontal line for the upper limit\n",
    "plt.axvline(one_std_rule_best_k, color=\"green\",label=\"one_std_rule_best\")#vertical line at best k value according to 1 std err rule\n",
    "\n",
    "\n",
    "plt.title(\"kNN regressor CV error\")\n",
    "plt.xlabel('k (nb neighbors)')\n",
    "plt.ylabel('Mean Squared Error')\n",
    "plt.legend(('best k','one std rule','one std rule best'))\n",
    "plt.show()"
   ]
  },
  {
   "cell_type": "markdown",
   "metadata": {},
   "source": [
    "To conclude, how does the expected generalization error of the model with the newly selected k value compare to our initial k choice, prior to cross-validation based selection?\n",
    "\n",
    "And for the other k values, how to you think the training error compares to the CV error. You can compare them by adding the training error as a function of the hyper-parameter value to the plot above. (*Hint: [GridSearchCV](https://scikit-learn.org/stable/modules/generated/sklearn.model_selection.GridSearchCV.html) can return the training scores, but it is more expensive computationally. You can also compute them yourself easily on X and y by iterating over the k_grid.*)"
   ]
  },
  {
   "cell_type": "markdown",
   "metadata": {},
   "source": [
    "*Our initial $k$ value was by far the worst one, as displayed on the plot*"
   ]
  },
  {
   "cell_type": "markdown",
   "metadata": {},
   "source": [
    "You can now fit the model, with the newly selected k value to the whole dataset. This will be the final kNN model, chosen based on empirical evidence :)"
   ]
  },
  {
   "cell_type": "code",
   "execution_count": 119,
   "metadata": {
    "ExecuteTime": {
     "end_time": "2021-03-11T17:41:51.116382Z",
     "start_time": "2021-03-11T17:41:50.949202Z"
    }
   },
   "outputs": [
    {
     "data": {
      "text/plain": [
       "KNeighborsRegressor(n_neighbors=19)"
      ]
     },
     "execution_count": 119,
     "metadata": {},
     "output_type": "execute_result"
    }
   ],
   "source": [
    "knn_final = one_std_rule_best_k\n",
    "knn = KNeighborsRegressor(n_neighbors=knn_final)\n",
    "knn.fit(X,Y)"
   ]
  },
  {
   "cell_type": "markdown",
   "metadata": {},
   "source": [
    "_Remark:_ KNN was used as an example in this session, but we could also do the same with any other machine learning model."
   ]
  },
  {
   "cell_type": "markdown",
   "metadata": {},
   "source": [
    "## 3. Pipelines and cross-validation"
   ]
  },
  {
   "cell_type": "markdown",
   "metadata": {},
   "source": [
    "***This third part is not mandatory for the hand-in***"
   ]
  },
  {
   "cell_type": "markdown",
   "metadata": {},
   "source": [
    "### 3.1 Motivation"
   ]
  },
  {
   "cell_type": "markdown",
   "metadata": {},
   "source": [
    "There is one essential detail that has been left-out in the first two parts of this notebook.\n",
    "As kNN relies on euclidean distance to select the nearest points, it is always better to work with standardized data (each variable rescaled to be centered at 0 and have unit variance). That way the same distance along each feature axis is proportional for each variable.\n",
    "\n",
    "As you've seen in the first week's tutorial, you can use [StandardScaler](https://scikit-learn.org/stable/modules/generated/sklearn.preprocessing.StandardScaler.html) to rescale the variables.\n",
    "\n",
    "When you leave some validation/test data out to evaluate your model, it is best practice to **not use it for any type of estimation**, to avoid having a biased error estimate (as, otherwise, you already \"took\" some information from the validation data). This also holds for estimating the mean and standard deviation of variables, with the `StandardScaler`.\n",
    "\n",
    "Here is an example of how to scale the data properly, in case of a train-test split, without overfitting the test set:"
   ]
  },
  {
   "cell_type": "code",
   "execution_count": 45,
   "metadata": {
    "ExecuteTime": {
     "end_time": "2021-03-11T17:41:51.154661Z",
     "start_time": "2021-03-11T17:41:51.117379Z"
    }
   },
   "outputs": [
    {
     "name": "stdout",
     "output_type": "stream",
     "text": [
      "Original means: [-119.58051328   35.64056895   28.61501285    3.87069684    4.98214201\n",
      "    5.42498593    3.10022784    1.17117338]\n",
      "Original Variances: [  4.02337913   4.56298874 158.175595     3.60151825   1.37041922\n",
      "   5.56867348 135.72595174   2.02796139]\n"
     ]
    }
   ],
   "source": [
    "from sklearn.preprocessing import StandardScaler\n",
    "\n",
    "#Create the scaler:\n",
    "scaler = StandardScaler()\n",
    "\n",
    "#Estimate the mean and variances for each variable on the training set only:\n",
    "scaler.fit(X_train)\n",
    "\n",
    "print(\"Original means:\", scaler.mean_)\n",
    "print(\"Original Variances:\", scaler.var_)\n",
    "\n",
    "#Scale the training and test features, using the previously estimated means and variances\n",
    "X_train_std = scaler.transform(X_train)\n",
    "X_test_std = scaler.transform(X_test)"
   ]
  },
  {
   "cell_type": "markdown",
   "metadata": {},
   "source": [
    "We could then fit our kNN model on the scaled training set and evaluate it on the test set, without having \"cheated\", by using information from the test set in our estimations.\n",
    "\n",
    "If you now think about estimating the error using cross-validation, you'll quickly realize that not overfitting with the scaler gets a bit more complicated, as we need to perform the above procedure separately for each fold, before fitting the model. That is when Pipelines come into play."
   ]
  },
  {
   "cell_type": "markdown",
   "metadata": {},
   "source": [
    "### 3.2. Cross-validation with Pipelines"
   ]
  },
  {
   "cell_type": "markdown",
   "metadata": {},
   "source": [
    "In a [Pipeline](https://scikit-learn.org/stable/modules/generated/sklearn.pipeline.Pipeline.html) you can define sequentially, all the steps of your transformation + fitting process. For example standard scaling + kNN. The syntax is the following (complete the ??): "
   ]
  },
  {
   "cell_type": "markdown",
   "metadata": {},
   "source": [
    "_Hint_: each step in the pipeline is defines as a tuple: `(\"desired_step_name\", Transformer_or_predictor_object)`"
   ]
  },
  {
   "cell_type": "code",
   "execution_count": 44,
   "metadata": {
    "ExecuteTime": {
     "end_time": "2021-03-11T17:41:51.170375Z",
     "start_time": "2021-03-11T17:41:51.154661Z"
    }
   },
   "outputs": [],
   "source": [
    "from sklearn.pipeline import Pipeline"
   ]
  },
  {
   "cell_type": "code",
   "execution_count": 46,
   "metadata": {
    "ExecuteTime": {
     "end_time": "2021-03-11T17:41:51.186193Z",
     "start_time": "2021-03-11T17:41:51.174604Z"
    }
   },
   "outputs": [],
   "source": [
    "knn_pipe = Pipeline([(\"scaler\", scaler),\n",
    "                     (\"kNN\", knn)])"
   ]
  },
  {
   "cell_type": "markdown",
   "metadata": {},
   "source": [
    "You can then fit the entire Pipeline on the training set, and predict on the test set, as if it was a single model:"
   ]
  },
  {
   "cell_type": "code",
   "execution_count": 47,
   "metadata": {
    "ExecuteTime": {
     "end_time": "2021-03-11T17:41:51.983856Z",
     "start_time": "2021-03-11T17:41:51.189631Z"
    }
   },
   "outputs": [
    {
     "data": {
      "text/plain": [
       "<bound method Pipeline.fit of Pipeline(steps=[('scaler', StandardScaler()), ('kNN', KNeighborsRegressor())])>"
      ]
     },
     "execution_count": 47,
     "metadata": {},
     "output_type": "execute_result"
    }
   ],
   "source": [
    "knn_pipe.fit"
   ]
  },
  {
   "cell_type": "markdown",
   "metadata": {},
   "source": [
    "Now repeat the grid-search (section 2, except the training error question) by using the new Pipeline instead of the simple kNN as a model.\n",
    "\n",
    "_Hint 1:_ There shouldn't be too many changes in the code.\n",
    "\n",
    "_Hint 2:_ You'll need to add the pipeline step name before the parameter name for the grid in `GridSearchCV`. (i.e. replace `\"n_estimators\"` by `\"kNN__n_estimators\"`)."
   ]
  },
  {
   "cell_type": "code",
   "execution_count": null,
   "metadata": {
    "ExecuteTime": {
     "end_time": "2021-03-11T17:41:51.999638Z",
     "start_time": "2021-03-11T17:41:51.986389Z"
    }
   },
   "outputs": [],
   "source": [
    "#Declare Pipe and grid:\n"
   ]
  },
  {
   "cell_type": "code",
   "execution_count": null,
   "metadata": {
    "ExecuteTime": {
     "end_time": "2021-03-11T17:44:16.754487Z",
     "start_time": "2021-03-11T17:41:52.001769Z"
    }
   },
   "outputs": [],
   "source": [
    "#Declare and fit the grid search:\n"
   ]
  },
  {
   "cell_type": "code",
   "execution_count": null,
   "metadata": {
    "ExecuteTime": {
     "end_time": "2021-03-11T17:44:16.769914Z",
     "start_time": "2021-03-11T17:44:16.756406Z"
    }
   },
   "outputs": [],
   "source": [
    "#Compute \"best\" k value and its index:\n"
   ]
  },
  {
   "cell_type": "code",
   "execution_count": null,
   "metadata": {
    "ExecuteTime": {
     "end_time": "2021-03-11T17:44:16.786264Z",
     "start_time": "2021-03-11T17:44:16.773155Z"
    }
   },
   "outputs": [],
   "source": [
    "#compute best k based on one std error rule:\n"
   ]
  },
  {
   "cell_type": "code",
   "execution_count": null,
   "metadata": {
    "ExecuteTime": {
     "end_time": "2021-03-11T17:44:17.180534Z",
     "start_time": "2021-03-11T17:44:16.789396Z"
    }
   },
   "outputs": [],
   "source": [
    "#Plot the grid-search results:\n"
   ]
  },
  {
   "cell_type": "code",
   "execution_count": null,
   "metadata": {
    "ExecuteTime": {
     "end_time": "2021-03-11T17:44:17.352097Z",
     "start_time": "2021-03-11T17:44:17.183787Z"
    }
   },
   "outputs": [],
   "source": [
    "#Fit the final model:\n"
   ]
  }
 ],
 "metadata": {
  "kernelspec": {
   "display_name": "Python 3",
   "language": "python",
   "name": "python3"
  },
  "language_info": {
   "codemirror_mode": {
    "name": "ipython",
    "version": 3
   },
   "file_extension": ".py",
   "mimetype": "text/x-python",
   "name": "python",
   "nbconvert_exporter": "python",
   "pygments_lexer": "ipython3",
   "version": "3.9.0"
  },
  "toc": {
   "base_numbering": 1,
   "nav_menu": {},
   "number_sections": false,
   "sideBar": true,
   "skip_h1_title": true,
   "title_cell": "Table of Contents",
   "title_sidebar": "Contents",
   "toc_cell": false,
   "toc_position": {
    "height": "calc(100% - 180px)",
    "left": "10px",
    "top": "150px",
    "width": "216px"
   },
   "toc_section_display": true,
   "toc_window_display": true
  },
  "varInspector": {
   "cols": {
    "lenName": 16,
    "lenType": 16,
    "lenVar": 40
   },
   "kernels_config": {
    "python": {
     "delete_cmd_postfix": "",
     "delete_cmd_prefix": "del ",
     "library": "var_list.py",
     "varRefreshCmd": "print(var_dic_list())"
    },
    "r": {
     "delete_cmd_postfix": ") ",
     "delete_cmd_prefix": "rm(",
     "library": "var_list.r",
     "varRefreshCmd": "cat(var_dic_list()) "
    }
   },
   "types_to_exclude": [
    "module",
    "function",
    "builtin_function_or_method",
    "instance",
    "_Feature"
   ],
   "window_display": false
  }
 },
 "nbformat": 4,
 "nbformat_minor": 4
}
