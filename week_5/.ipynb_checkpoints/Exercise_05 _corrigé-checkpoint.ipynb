{
 "cells": [
  {
   "cell_type": "markdown",
   "metadata": {
    "id": "m5VZda3I74SC"
   },
   "source": [
    "# Machine Learning: Exercise session 05"
   ]
  },
  {
   "cell_type": "markdown",
   "metadata": {
    "id": "ilvse2AE74SK"
   },
   "source": [
    "In this exercise session we will focus on LDA and QDA.\n",
    "\n",
    "In the first problem, we will use the [MNIST dataset](https://en.wikipedia.org/wiki/MNIST_database) and fit LDA and QDA models.\n",
    "\n",
    "In the second problem, we show analytically that the QDA classifier is a quadratic function of the predictor values.\n",
    "\n",
    "**Note:** the second problem is theoretical and __not__ needed for the hand in."
   ]
  },
  {
   "cell_type": "markdown",
   "metadata": {
    "id": "zIjWdxiv74SM"
   },
   "source": [
    "## Problem 1"
   ]
  },
  {
   "cell_type": "code",
   "execution_count": 2,
   "metadata": {
    "executionInfo": {
     "elapsed": 12,
     "status": "ok",
     "timestamp": 1648732797061,
     "user": {
      "displayName": "Murielle Furibond",
      "userId": "08986639471398520603"
     },
     "user_tz": -120
    },
    "id": "Qjaapvop74SO"
   },
   "outputs": [],
   "source": [
    "# Import package/module for data\n",
    "import matplotlib.pyplot as plt\n",
    "%matplotlib inline\n",
    "import numpy as np\n",
    "import pandas as pd"
   ]
  },
  {
   "cell_type": "code",
   "execution_count": 2,
   "metadata": {
    "ExecuteTime": {
     "end_time": "2021-03-11T17:40:07.020276Z",
     "start_time": "2021-03-11T17:40:05.837658Z"
    },
    "executionInfo": {
     "elapsed": 257,
     "status": "ok",
     "timestamp": 1648732797311,
     "user": {
      "displayName": "Murielle Furibond",
      "userId": "08986639471398520603"
     },
     "user_tz": -120
    },
    "id": "gzVgVuGJ74SR"
   },
   "outputs": [],
   "source": [
    "# Import modules for feature engineering and modelling\n",
    "from sklearn.datasets import fetch_openml\n",
    "from sklearn.model_selection import KFold, train_test_split, GridSearchCV\n",
    "\n",
    "from sklearn.base import BaseEstimator, TransformerMixin\n",
    "\n",
    "from sklearn.preprocessing import StandardScaler, PolynomialFeatures\n",
    "from sklearn.impute import SimpleImputer\n",
    "from sklearn.pipeline import Pipeline, FeatureUnion\n",
    "from sklearn.compose import ColumnTransformer\n",
    "\n",
    "from sklearn.linear_model import LogisticRegression\n",
    "from sklearn.discriminant_analysis import (\n",
    "    LinearDiscriminantAnalysis,\n",
    "    QuadraticDiscriminantAnalysis,\n",
    ")\n",
    "\n",
    "from sklearn.metrics import accuracy_score"
   ]
  },
  {
   "cell_type": "markdown",
   "metadata": {
    "id": "mnMJ8MEs74ST"
   },
   "source": [
    "* Import the dataset `digits.csv`, separate the predictors and the target variable and split it into training and test set. When you perform the splitting, set `random_state=40` and `test_size=50`."
   ]
  },
  {
   "cell_type": "code",
   "execution_count": 5,
   "metadata": {
    "colab": {
     "base_uri": "https://localhost:8080/",
     "height": 346
    },
    "executionInfo": {
     "elapsed": 26,
     "status": "error",
     "timestamp": 1648732797317,
     "user": {
      "displayName": "Murielle Furibond",
      "userId": "08986639471398520603"
     },
     "user_tz": -120
    },
    "id": "TRVwVRAF74SU",
    "outputId": "9934d3fc-bd8f-404c-984e-ecaa7f0924f3"
   },
   "outputs": [
    {
     "data": {
      "text/html": [
       "<div>\n",
       "<style scoped>\n",
       "    .dataframe tbody tr th:only-of-type {\n",
       "        vertical-align: middle;\n",
       "    }\n",
       "\n",
       "    .dataframe tbody tr th {\n",
       "        vertical-align: top;\n",
       "    }\n",
       "\n",
       "    .dataframe thead th {\n",
       "        text-align: right;\n",
       "    }\n",
       "</style>\n",
       "<table border=\"1\" class=\"dataframe\">\n",
       "  <thead>\n",
       "    <tr style=\"text-align: right;\">\n",
       "      <th></th>\n",
       "      <th>Y</th>\n",
       "      <th>X1</th>\n",
       "      <th>X2</th>\n",
       "      <th>X3</th>\n",
       "      <th>X4</th>\n",
       "      <th>X5</th>\n",
       "      <th>X6</th>\n",
       "      <th>X7</th>\n",
       "      <th>X8</th>\n",
       "      <th>X9</th>\n",
       "      <th>...</th>\n",
       "      <th>X247</th>\n",
       "      <th>X248</th>\n",
       "      <th>X249</th>\n",
       "      <th>X250</th>\n",
       "      <th>X251</th>\n",
       "      <th>X252</th>\n",
       "      <th>X253</th>\n",
       "      <th>X254</th>\n",
       "      <th>X255</th>\n",
       "      <th>X256</th>\n",
       "    </tr>\n",
       "  </thead>\n",
       "  <tbody>\n",
       "    <tr>\n",
       "      <th>0</th>\n",
       "      <td>6</td>\n",
       "      <td>-1.0</td>\n",
       "      <td>-1.0</td>\n",
       "      <td>-1.0</td>\n",
       "      <td>-1.000</td>\n",
       "      <td>-1.000</td>\n",
       "      <td>-1.000</td>\n",
       "      <td>-1.000</td>\n",
       "      <td>-0.631</td>\n",
       "      <td>0.862</td>\n",
       "      <td>...</td>\n",
       "      <td>0.304</td>\n",
       "      <td>0.823</td>\n",
       "      <td>1.000</td>\n",
       "      <td>0.482</td>\n",
       "      <td>-0.474</td>\n",
       "      <td>-0.991</td>\n",
       "      <td>-1.000</td>\n",
       "      <td>-1.000</td>\n",
       "      <td>-1.000</td>\n",
       "      <td>-1.0</td>\n",
       "    </tr>\n",
       "    <tr>\n",
       "      <th>1</th>\n",
       "      <td>5</td>\n",
       "      <td>-1.0</td>\n",
       "      <td>-1.0</td>\n",
       "      <td>-1.0</td>\n",
       "      <td>-0.813</td>\n",
       "      <td>-0.671</td>\n",
       "      <td>-0.809</td>\n",
       "      <td>-0.887</td>\n",
       "      <td>-0.671</td>\n",
       "      <td>-0.853</td>\n",
       "      <td>...</td>\n",
       "      <td>-0.671</td>\n",
       "      <td>-0.671</td>\n",
       "      <td>-0.033</td>\n",
       "      <td>0.761</td>\n",
       "      <td>0.762</td>\n",
       "      <td>0.126</td>\n",
       "      <td>-0.095</td>\n",
       "      <td>-0.671</td>\n",
       "      <td>-0.828</td>\n",
       "      <td>-1.0</td>\n",
       "    </tr>\n",
       "    <tr>\n",
       "      <th>2</th>\n",
       "      <td>4</td>\n",
       "      <td>-1.0</td>\n",
       "      <td>-1.0</td>\n",
       "      <td>-1.0</td>\n",
       "      <td>-1.000</td>\n",
       "      <td>-1.000</td>\n",
       "      <td>-1.000</td>\n",
       "      <td>-1.000</td>\n",
       "      <td>-1.000</td>\n",
       "      <td>-1.000</td>\n",
       "      <td>...</td>\n",
       "      <td>-1.000</td>\n",
       "      <td>-1.000</td>\n",
       "      <td>-1.000</td>\n",
       "      <td>-0.109</td>\n",
       "      <td>1.000</td>\n",
       "      <td>-0.179</td>\n",
       "      <td>-1.000</td>\n",
       "      <td>-1.000</td>\n",
       "      <td>-1.000</td>\n",
       "      <td>-1.0</td>\n",
       "    </tr>\n",
       "    <tr>\n",
       "      <th>3</th>\n",
       "      <td>7</td>\n",
       "      <td>-1.0</td>\n",
       "      <td>-1.0</td>\n",
       "      <td>-1.0</td>\n",
       "      <td>-1.000</td>\n",
       "      <td>-1.000</td>\n",
       "      <td>-0.273</td>\n",
       "      <td>0.684</td>\n",
       "      <td>0.960</td>\n",
       "      <td>0.450</td>\n",
       "      <td>...</td>\n",
       "      <td>-0.318</td>\n",
       "      <td>1.000</td>\n",
       "      <td>0.536</td>\n",
       "      <td>-0.987</td>\n",
       "      <td>-1.000</td>\n",
       "      <td>-1.000</td>\n",
       "      <td>-1.000</td>\n",
       "      <td>-1.000</td>\n",
       "      <td>-1.000</td>\n",
       "      <td>-1.0</td>\n",
       "    </tr>\n",
       "    <tr>\n",
       "      <th>4</th>\n",
       "      <td>3</td>\n",
       "      <td>-1.0</td>\n",
       "      <td>-1.0</td>\n",
       "      <td>-1.0</td>\n",
       "      <td>-1.000</td>\n",
       "      <td>-1.000</td>\n",
       "      <td>-0.928</td>\n",
       "      <td>-0.204</td>\n",
       "      <td>0.751</td>\n",
       "      <td>0.466</td>\n",
       "      <td>...</td>\n",
       "      <td>0.466</td>\n",
       "      <td>0.639</td>\n",
       "      <td>1.000</td>\n",
       "      <td>1.000</td>\n",
       "      <td>0.791</td>\n",
       "      <td>0.439</td>\n",
       "      <td>-0.199</td>\n",
       "      <td>-0.883</td>\n",
       "      <td>-1.000</td>\n",
       "      <td>-1.0</td>\n",
       "    </tr>\n",
       "    <tr>\n",
       "      <th>...</th>\n",
       "      <td>...</td>\n",
       "      <td>...</td>\n",
       "      <td>...</td>\n",
       "      <td>...</td>\n",
       "      <td>...</td>\n",
       "      <td>...</td>\n",
       "      <td>...</td>\n",
       "      <td>...</td>\n",
       "      <td>...</td>\n",
       "      <td>...</td>\n",
       "      <td>...</td>\n",
       "      <td>...</td>\n",
       "      <td>...</td>\n",
       "      <td>...</td>\n",
       "      <td>...</td>\n",
       "      <td>...</td>\n",
       "      <td>...</td>\n",
       "      <td>...</td>\n",
       "      <td>...</td>\n",
       "      <td>...</td>\n",
       "      <td>...</td>\n",
       "    </tr>\n",
       "    <tr>\n",
       "      <th>7286</th>\n",
       "      <td>3</td>\n",
       "      <td>-1.0</td>\n",
       "      <td>-1.0</td>\n",
       "      <td>-1.0</td>\n",
       "      <td>-0.988</td>\n",
       "      <td>-0.527</td>\n",
       "      <td>-0.208</td>\n",
       "      <td>0.620</td>\n",
       "      <td>1.000</td>\n",
       "      <td>0.467</td>\n",
       "      <td>...</td>\n",
       "      <td>-0.116</td>\n",
       "      <td>0.899</td>\n",
       "      <td>0.416</td>\n",
       "      <td>-0.510</td>\n",
       "      <td>-1.000</td>\n",
       "      <td>-1.000</td>\n",
       "      <td>-1.000</td>\n",
       "      <td>-1.000</td>\n",
       "      <td>-1.000</td>\n",
       "      <td>-1.0</td>\n",
       "    </tr>\n",
       "    <tr>\n",
       "      <th>7287</th>\n",
       "      <td>3</td>\n",
       "      <td>-1.0</td>\n",
       "      <td>-1.0</td>\n",
       "      <td>-1.0</td>\n",
       "      <td>-0.990</td>\n",
       "      <td>0.708</td>\n",
       "      <td>0.557</td>\n",
       "      <td>0.347</td>\n",
       "      <td>-0.107</td>\n",
       "      <td>-0.758</td>\n",
       "      <td>...</td>\n",
       "      <td>0.697</td>\n",
       "      <td>0.636</td>\n",
       "      <td>0.167</td>\n",
       "      <td>-0.968</td>\n",
       "      <td>-1.000</td>\n",
       "      <td>-1.000</td>\n",
       "      <td>-1.000</td>\n",
       "      <td>-1.000</td>\n",
       "      <td>-1.000</td>\n",
       "      <td>-1.0</td>\n",
       "    </tr>\n",
       "    <tr>\n",
       "      <th>7288</th>\n",
       "      <td>3</td>\n",
       "      <td>-1.0</td>\n",
       "      <td>-1.0</td>\n",
       "      <td>-1.0</td>\n",
       "      <td>-0.783</td>\n",
       "      <td>-0.984</td>\n",
       "      <td>-0.827</td>\n",
       "      <td>0.068</td>\n",
       "      <td>1.000</td>\n",
       "      <td>1.000</td>\n",
       "      <td>...</td>\n",
       "      <td>0.805</td>\n",
       "      <td>1.000</td>\n",
       "      <td>1.000</td>\n",
       "      <td>0.727</td>\n",
       "      <td>-0.342</td>\n",
       "      <td>-0.933</td>\n",
       "      <td>-1.000</td>\n",
       "      <td>-1.000</td>\n",
       "      <td>-1.000</td>\n",
       "      <td>-1.0</td>\n",
       "    </tr>\n",
       "    <tr>\n",
       "      <th>7289</th>\n",
       "      <td>0</td>\n",
       "      <td>-1.0</td>\n",
       "      <td>-1.0</td>\n",
       "      <td>-1.0</td>\n",
       "      <td>-1.000</td>\n",
       "      <td>-1.000</td>\n",
       "      <td>-0.549</td>\n",
       "      <td>0.463</td>\n",
       "      <td>0.999</td>\n",
       "      <td>0.999</td>\n",
       "      <td>...</td>\n",
       "      <td>-0.231</td>\n",
       "      <td>0.621</td>\n",
       "      <td>0.999</td>\n",
       "      <td>-0.042</td>\n",
       "      <td>-0.231</td>\n",
       "      <td>-0.687</td>\n",
       "      <td>-1.000</td>\n",
       "      <td>-1.000</td>\n",
       "      <td>-1.000</td>\n",
       "      <td>-1.0</td>\n",
       "    </tr>\n",
       "    <tr>\n",
       "      <th>7290</th>\n",
       "      <td>1</td>\n",
       "      <td>-1.0</td>\n",
       "      <td>-1.0</td>\n",
       "      <td>-1.0</td>\n",
       "      <td>-1.000</td>\n",
       "      <td>-1.000</td>\n",
       "      <td>-0.108</td>\n",
       "      <td>1.000</td>\n",
       "      <td>0.616</td>\n",
       "      <td>-0.867</td>\n",
       "      <td>...</td>\n",
       "      <td>-0.634</td>\n",
       "      <td>0.803</td>\n",
       "      <td>0.589</td>\n",
       "      <td>-0.907</td>\n",
       "      <td>-1.000</td>\n",
       "      <td>-1.000</td>\n",
       "      <td>-1.000</td>\n",
       "      <td>-1.000</td>\n",
       "      <td>-1.000</td>\n",
       "      <td>-1.0</td>\n",
       "    </tr>\n",
       "  </tbody>\n",
       "</table>\n",
       "<p>7291 rows × 257 columns</p>\n",
       "</div>"
      ],
      "text/plain": [
       "      Y   X1   X2   X3     X4     X5     X6     X7     X8     X9  ...   X247  \\\n",
       "0     6 -1.0 -1.0 -1.0 -1.000 -1.000 -1.000 -1.000 -0.631  0.862  ...  0.304   \n",
       "1     5 -1.0 -1.0 -1.0 -0.813 -0.671 -0.809 -0.887 -0.671 -0.853  ... -0.671   \n",
       "2     4 -1.0 -1.0 -1.0 -1.000 -1.000 -1.000 -1.000 -1.000 -1.000  ... -1.000   \n",
       "3     7 -1.0 -1.0 -1.0 -1.000 -1.000 -0.273  0.684  0.960  0.450  ... -0.318   \n",
       "4     3 -1.0 -1.0 -1.0 -1.000 -1.000 -0.928 -0.204  0.751  0.466  ...  0.466   \n",
       "...  ..  ...  ...  ...    ...    ...    ...    ...    ...    ...  ...    ...   \n",
       "7286  3 -1.0 -1.0 -1.0 -0.988 -0.527 -0.208  0.620  1.000  0.467  ... -0.116   \n",
       "7287  3 -1.0 -1.0 -1.0 -0.990  0.708  0.557  0.347 -0.107 -0.758  ...  0.697   \n",
       "7288  3 -1.0 -1.0 -1.0 -0.783 -0.984 -0.827  0.068  1.000  1.000  ...  0.805   \n",
       "7289  0 -1.0 -1.0 -1.0 -1.000 -1.000 -0.549  0.463  0.999  0.999  ... -0.231   \n",
       "7290  1 -1.0 -1.0 -1.0 -1.000 -1.000 -0.108  1.000  0.616 -0.867  ... -0.634   \n",
       "\n",
       "       X248   X249   X250   X251   X252   X253   X254   X255  X256  \n",
       "0     0.823  1.000  0.482 -0.474 -0.991 -1.000 -1.000 -1.000  -1.0  \n",
       "1    -0.671 -0.033  0.761  0.762  0.126 -0.095 -0.671 -0.828  -1.0  \n",
       "2    -1.000 -1.000 -0.109  1.000 -0.179 -1.000 -1.000 -1.000  -1.0  \n",
       "3     1.000  0.536 -0.987 -1.000 -1.000 -1.000 -1.000 -1.000  -1.0  \n",
       "4     0.639  1.000  1.000  0.791  0.439 -0.199 -0.883 -1.000  -1.0  \n",
       "...     ...    ...    ...    ...    ...    ...    ...    ...   ...  \n",
       "7286  0.899  0.416 -0.510 -1.000 -1.000 -1.000 -1.000 -1.000  -1.0  \n",
       "7287  0.636  0.167 -0.968 -1.000 -1.000 -1.000 -1.000 -1.000  -1.0  \n",
       "7288  1.000  1.000  0.727 -0.342 -0.933 -1.000 -1.000 -1.000  -1.0  \n",
       "7289  0.621  0.999 -0.042 -0.231 -0.687 -1.000 -1.000 -1.000  -1.0  \n",
       "7290  0.803  0.589 -0.907 -1.000 -1.000 -1.000 -1.000 -1.000  -1.0  \n",
       "\n",
       "[7291 rows x 257 columns]"
      ]
     },
     "execution_count": 5,
     "metadata": {},
     "output_type": "execute_result"
    }
   ],
   "source": [
    "df=pd.read_csv(\"digits.csv\")\n",
    "df"
   ]
  },
  {
   "cell_type": "code",
   "execution_count": null,
   "metadata": {
    "executionInfo": {
     "elapsed": 14,
     "status": "aborted",
     "timestamp": 1648732797312,
     "user": {
      "displayName": "Murielle Furibond",
      "userId": "08986639471398520603"
     },
     "user_tz": -120
    },
    "id": "rYF4nm5Y74SX"
   },
   "outputs": [],
   "source": [
    "df[df.isna().any(axis=1)]\n",
    "#no missing values"
   ]
  },
  {
   "cell_type": "code",
   "execution_count": null,
   "metadata": {
    "executionInfo": {
     "elapsed": 15,
     "status": "aborted",
     "timestamp": 1648732797314,
     "user": {
      "displayName": "Murielle Furibond",
      "userId": "08986639471398520603"
     },
     "user_tz": -120
    },
    "id": "42OJz4v974SZ"
   },
   "outputs": [],
   "source": [
    "X=df.drop('Y',axis=1).copy()\n",
    "Y=df['Y']"
   ]
  },
  {
   "cell_type": "code",
   "execution_count": null,
   "metadata": {
    "executionInfo": {
     "elapsed": 17,
     "status": "aborted",
     "timestamp": 1648732797316,
     "user": {
      "displayName": "Murielle Furibond",
      "userId": "08986639471398520603"
     },
     "user_tz": -120
    },
    "id": "rimidQe574Sb"
   },
   "outputs": [],
   "source": [
    "X_train,X_test, Y_train, Y_test = train_test_split(X,Y, test_size=50, random_state=40)"
   ]
  },
  {
   "cell_type": "markdown",
   "metadata": {
    "id": "mU2_gJVn74Sc"
   },
   "source": [
    "* We now want to plot some of the observations of the dataset. Each row of the predictor matrix is 256 vector corresponding to a 16 x 16 image. Fill in the `??`."
   ]
  },
  {
   "cell_type": "code",
   "execution_count": null,
   "metadata": {
    "executionInfo": {
     "elapsed": 16,
     "status": "aborted",
     "timestamp": 1648732797316,
     "user": {
      "displayName": "Murielle Furibond",
      "userId": "08986639471398520603"
     },
     "user_tz": -120
    },
    "id": "vmYp5FMe74Sd"
   },
   "outputs": [],
   "source": [
    "# Plot some figures\n",
    "fig, ax = plt.subplots(4, 4, figsize=(8, 8))\n",
    "for i in range(4):\n",
    "    for j in range(4):\n",
    "        ax[i, j].imshow(\n",
    "            X_train.sample(random_state=2 * i + 10 * j).to_numpy().reshape(16, 16), \n",
    "            cmap=\"gray\",\n",
    "        )\n",
    "        ax[i, j].set_title(\n",
    "            \"Class = %s\" % (Y_train.sample(random_state=2 * i + 10 * j).iloc[0])\n",
    "        )\n",
    "        ax[i, j].set_xticks([])\n",
    "        ax[i, j].set_yticks([])\n",
    "plt.show()"
   ]
  },
  {
   "cell_type": "markdown",
   "metadata": {
    "id": "iFiZEPFY74Sf"
   },
   "source": [
    "* We now try to fit an LDA model. Before doing so, we need to rescale the data. Fill in the `??`."
   ]
  },
  {
   "cell_type": "code",
   "execution_count": 4,
   "metadata": {
    "colab": {
     "base_uri": "https://localhost:8080/",
     "height": 234
    },
    "executionInfo": {
     "elapsed": 958,
     "status": "error",
     "timestamp": 1648732802596,
     "user": {
      "displayName": "Murielle Furibond",
      "userId": "08986639471398520603"
     },
     "user_tz": -120
    },
    "id": "hRRcNDJ674Sg",
    "outputId": "01d97611-b885-4b4c-91f4-dacc15d64ac9"
   },
   "outputs": [
    {
     "ename": "NameError",
     "evalue": "ignored",
     "output_type": "error",
     "traceback": [
      "\u001b[0;31m---------------------------------------------------------------------------\u001b[0m",
      "\u001b[0;31mNameError\u001b[0m                                 Traceback (most recent call last)",
      "\u001b[0;32m<ipython-input-4-733a4078db44>\u001b[0m in \u001b[0;36m<module>\u001b[0;34m()\u001b[0m\n\u001b[1;32m      2\u001b[0m \u001b[0;31m# Scale predictors\u001b[0m\u001b[0;34m\u001b[0m\u001b[0;34m\u001b[0m\u001b[0;34m\u001b[0m\u001b[0m\n\u001b[1;32m      3\u001b[0m \u001b[0mscaler\u001b[0m \u001b[0;34m=\u001b[0m \u001b[0mStandardScaler\u001b[0m\u001b[0;34m(\u001b[0m\u001b[0;34m)\u001b[0m\u001b[0;34m\u001b[0m\u001b[0;34m\u001b[0m\u001b[0m\n\u001b[0;32m----> 4\u001b[0;31m \u001b[0mscaler\u001b[0m\u001b[0;34m.\u001b[0m\u001b[0mfit\u001b[0m\u001b[0;34m(\u001b[0m\u001b[0mX_train\u001b[0m\u001b[0;34m)\u001b[0m\u001b[0;34m\u001b[0m\u001b[0;34m\u001b[0m\u001b[0m\n\u001b[0m\u001b[1;32m      5\u001b[0m \u001b[0mX_train_scaled\u001b[0m \u001b[0;34m=\u001b[0m \u001b[0mscaler\u001b[0m\u001b[0;34m.\u001b[0m\u001b[0mtransform\u001b[0m\u001b[0;34m(\u001b[0m\u001b[0mX_train\u001b[0m\u001b[0;34m)\u001b[0m\u001b[0;34m\u001b[0m\u001b[0;34m\u001b[0m\u001b[0m\n\u001b[1;32m      6\u001b[0m \u001b[0;34m\u001b[0m\u001b[0m\n",
      "\u001b[0;31mNameError\u001b[0m: name 'X_train' is not defined"
     ]
    }
   ],
   "source": [
    "# --- LDA ---\n",
    "# Scale predictors\n",
    "scaler = StandardScaler()\n",
    "scaler.fit(X_train)\n",
    "X_train_scaled = scaler.transform(X_train) \n",
    "\n",
    "\n",
    "# Fit lda\n",
    "lda_class = LinearDiscriminantAnalysis()\n",
    "lda_class.fit(X_train_scaled, Y_train) \n",
    "\n",
    "# Predict on training data\n",
    "Y_train_pred = lda_class.predict(X_train_scaled)\n",
    "acc = accuracy_score(Y_train, Y_train_pred)\n",
    "print(\"LDA --- Accuracy on training data:\", np.round(acc, 3))\n",
    "\n",
    "# Predict on test data\n",
    "X_test_scaled = scaler.transform(X_test)\n",
    "Y_test_pred = lda_class.predict(X_test_scaled)\n",
    "acc = accuracy_score(Y_test, Y_test_pred)\n",
    "print(\"LDA --- Accuracy on test data:\", np.round(acc, 3))"
   ]
  },
  {
   "cell_type": "markdown",
   "metadata": {
    "id": "rwZ4CwCU74Sh"
   },
   "source": [
    "* What we did above works. However, you might have noticed that the code is quite repetitive. In fact, we need to rescale _both_ the training and the test dataset, and create intermediate variables. For this reason, we now introduce the `Pipeline` from `sklearn.pipeline`. This is a very convenient functionality that allows to chain several steps one after the other. Fill in the `??`."
   ]
  },
  {
   "cell_type": "code",
   "execution_count": null,
   "metadata": {
    "id": "0ZmaczaH74Si",
    "outputId": "832e7170-e7c3-4883-f130-32b111bb482b"
   },
   "outputs": [
    {
     "name": "stdout",
     "output_type": "stream",
     "text": [
      "LDA --- Accuracy on training data: 0.939\n",
      "LDA --- Accuracy on test data: 0.92\n"
     ]
    }
   ],
   "source": [
    "# With the pipeline ...\n",
    "# Define pipeline\n",
    "pipe_lda = Pipeline(\n",
    "    [(\"scaler\", scaler), (\"lda\", lda_class)]\n",
    ")\n",
    "\n",
    "# Fit pipeline\n",
    "pipe_lda.fit(X_train, Y_train)\n",
    "\n",
    "\n",
    "# Predict on training data\n",
    "Y_train_pred = pipe_lda.predict(X_train)\n",
    "acc = accuracy_score(Y_train, Y_train_pred)\n",
    "print(\"LDA --- Accuracy on training data:\", np.round(acc, 3))\n",
    "\n",
    "# Predict on test data\n",
    "Y_test_pred = pipe_lda.predict(X_test)\n",
    "acc = accuracy_score(Y_test, Y_test_pred)\n",
    "print(\"LDA --- Accuracy on test data:\", np.round(acc, 3))\n",
    "\n",
    "\n"
   ]
  },
  {
   "cell_type": "markdown",
   "metadata": {
    "id": "bbIUwaf774Sj"
   },
   "source": [
    "* Since LDA estimates the class-conditional means, it is useful to try to understand qualitatively how these look like. Fill in the `??`. What do these mean correspond to?"
   ]
  },
  {
   "cell_type": "code",
   "execution_count": null,
   "metadata": {
    "id": "xw1fDpYW74Sk"
   },
   "outputs": [],
   "source": [
    "means = pipe_lda[\"lda\"].means_.copy() + pipe_lda[\"scaler\"].mean_.reshape(1, 256)"
   ]
  },
  {
   "cell_type": "code",
   "execution_count": null,
   "metadata": {
    "id": "jjazT9m374Sk",
    "outputId": "37e67a5e-6d26-4a12-b958-aea91f286682"
   },
   "outputs": [
    {
     "data": {
      "text/plain": [
       "(256,)"
      ]
     },
     "execution_count": 35,
     "metadata": {},
     "output_type": "execute_result"
    }
   ],
   "source": [
    "means[3].shape"
   ]
  },
  {
   "cell_type": "code",
   "execution_count": null,
   "metadata": {
    "id": "ufbSR5SN74Sl",
    "outputId": "60ff2374-81b5-49d9-b4a8-c59e8b0344ec"
   },
   "outputs": [
    {
     "data": {
      "text/plain": [
       "(10, 256)"
      ]
     },
     "execution_count": 36,
     "metadata": {},
     "output_type": "execute_result"
    }
   ],
   "source": [
    "pipe_lda[\"lda\"].means_.copy().shape"
   ]
  },
  {
   "cell_type": "code",
   "execution_count": null,
   "metadata": {
    "id": "JsKcGjMK74Sm",
    "outputId": "7d1a6950-d733-4118-ec0f-6a665067b7d8"
   },
   "outputs": [
    {
     "data": {
      "text/plain": [
       "array([[ 0,  2,  4,  6,  8, 10, 12, 14],\n",
       "       [ 8, 10, 12, 14, 16, 18, 20, 22],\n",
       "       [16, 18, 20, 22, 24, 26, 28, 30]])"
      ]
     },
     "execution_count": 37,
     "metadata": {},
     "output_type": "execute_result"
    }
   ],
   "source": [
    " np.array(np.arange(24)).reshape(3,8) + np.array(np.arange(8)).reshape(1,8)"
   ]
  },
  {
   "cell_type": "code",
   "execution_count": null,
   "metadata": {
    "id": "PjH6iO-A74Sm",
    "outputId": "54f2941f-f593-4b75-98e6-cfc46c03aa4f"
   },
   "outputs": [
    {
     "data": {
      "image/png": "[encoded data removed]",
      "text/plain": [
       "<Figure size 720x360 with 10 Axes>"
      ]
     },
     "metadata": {},
     "output_type": "display_data"
    }
   ],
   "source": [
    "# Plot means\n",
    "means = pipe_lda[\"lda\"].means_.copy() + pipe_lda[\"scaler\"].mean_.reshape(1, 256)\n",
    "plt.figure(figsize=(10, 5))\n",
    "scale = np.abs(means).max()\n",
    "for i in range(10):\n",
    "    l1_plot = plt.subplot(2, 5, i + 1)\n",
    "    l1_plot.imshow(means[i].reshape(16, 16), cmap=\"gray\")\n",
    "    l1_plot.set_xticks(())\n",
    "    l1_plot.set_yticks(())\n",
    "    l1_plot.set_xlabel(\"Class %i\" % i)\n",
    "plt.suptitle(\"Means estimated by LDA\", color=\"orange\")\n",
    "plt.show()"
   ]
  },
  {
   "cell_type": "markdown",
   "metadata": {
    "id": "f6pQXJYB74Sn"
   },
   "source": [
    "*The LDA method predicts a category (here: the drawing of figures 0 to 9) for each element of ``X_train``. The means correspond to the mean value of each pixel (each pixel on the ``X_train`` has a brightness) in their category:*\n",
    "$$means[i,j]=\\frac{\\Sigma_j x_j\\cdot1_{y_j=i}}{\\Sigma_j 1_{y_j=i} }$$"
   ]
  },
  {
   "cell_type": "markdown",
   "metadata": {
    "id": "cqUFkokq74So"
   },
   "source": [
    "* Repeat the same analysis as above but now using QDA. Fill in the `??`."
   ]
  },
  {
   "cell_type": "code",
   "execution_count": null,
   "metadata": {
    "id": "WmvOGUIf74Sp",
    "outputId": "09972e03-d271-46df-8163-490bc052dba3",
    "scrolled": true
   },
   "outputs": [
    {
     "name": "stderr",
     "output_type": "stream",
     "text": [
      "C:\\Users\\myria\\anaconda3\\lib\\site-packages\\sklearn\\discriminant_analysis.py:715: UserWarning: Variables are collinear\n",
      "  warnings.warn(\"Variables are collinear\")\n"
     ]
    },
    {
     "data": {
      "text/plain": [
       "Pipeline(steps=[('scaler', StandardScaler()),\n",
       "                ('qda', QuadraticDiscriminantAnalysis())])"
      ]
     },
     "execution_count": 39,
     "metadata": {},
     "output_type": "execute_result"
    }
   ],
   "source": [
    "# QDA\n",
    "qda_class = QuadraticDiscriminantAnalysis()\n",
    "# Define pipeline\n",
    "pipe_qda = Pipeline(\n",
    "    [(\"scaler\", scaler), (\"qda\",qda_class )]\n",
    ")\n",
    "\n",
    "# Fit pipeline\n",
    "pipe_qda.fit(X_train, Y_train)"
   ]
  },
  {
   "cell_type": "markdown",
   "metadata": {
    "id": "bxEoK2wL74Sp"
   },
   "source": [
    "* Which warning did you get? Why do you think this happened?\n",
    "I got a warning about colinearity. It seems that some data are colinear. Indeed, two neighbooring pixel should have a high colinearity with each other, the independant assumption is violated."
   ]
  },
  {
   "cell_type": "markdown",
   "metadata": {
    "id": "mcrbPUH174Sq"
   },
   "source": [
    "* To solve this, we need to add to each column of the training predictors some random noise. Why does this help? Fill in the `??`. By adding noise, we resolve the problem of colinearity."
   ]
  },
  {
   "cell_type": "code",
   "execution_count": null,
   "metadata": {
    "id": "N0yh3j3k74Sq",
    "outputId": "7785d11d-6250-476d-8976-60e535eed64f"
   },
   "outputs": [
    {
     "data": {
      "text/plain": [
       "Pipeline(steps=[('scaler', StandardScaler()),\n",
       "                ('qda', QuadraticDiscriminantAnalysis())])"
      ]
     },
     "execution_count": 40,
     "metadata": {},
     "output_type": "execute_result"
    }
   ],
   "source": [
    "# Add noise before fitting again\n",
    "def add_noise(X, scale):\n",
    "    \"\"\"\n",
    "    DataFrame double -> ndarray\n",
    "    produce DataFrame adding Gaussian with standard deviation = `scale` to each column of `X`.\n",
    "    \"\"\"\n",
    "    # transform to ndarray\n",
    "    X_arr = X.to_numpy()\n",
    "\n",
    "    # get shape\n",
    "    n, d = X_arr.shape\n",
    "\n",
    "    # add Gaussian noise\n",
    "    X_arr = X_arr + np.random.normal(scale=scale, size=(n, d))\n",
    "\n",
    "    # back to DataFrame\n",
    "    df = pd.DataFrame(X_arr, columns=[\"X\" + str(i) for i in range(1, d + 1)])\n",
    "\n",
    "    # return df\n",
    "    return df\n",
    "\n",
    "\n",
    "X_train_noise = add_noise(X_train, scale=0.1)\n",
    "pipe_qda.fit(X_train_noise, Y_train)"
   ]
  },
  {
   "cell_type": "markdown",
   "metadata": {
    "id": "LDmmEyc_74Sr"
   },
   "source": [
    "* As we did for QDA, compute the training and test accuracy."
   ]
  },
  {
   "cell_type": "code",
   "execution_count": null,
   "metadata": {
    "id": "xgNdIH7K74Ss",
    "outputId": "489269f4-9ce6-4c56-97b8-3ace0d2de23d"
   },
   "outputs": [
    {
     "name": "stdout",
     "output_type": "stream",
     "text": [
      "QDA --- Accuracy on training data: 0.999\n",
      "QDA --- Accuracy on test data: 0.94\n"
     ]
    }
   ],
   "source": [
    "# Predict on training data\n",
    "Y_train_pred = pipe_qda.predict(X_train_noise)\n",
    "aycc = accuracy_score(Y_train, Y_train_pred)\n",
    "print(\"QDA --- Accuracy on training data:\", np.round(aycc, 3))\n",
    "\n",
    "# Predict on test data\n",
    "X_test_noise = add_noise(X_test, scale=0.1)\n",
    "Y_test_pred = pipe_qda.predict(X_test_noise)\n",
    "acc = accuracy_score(Y_test, Y_test_pred)\n",
    "print(\"QDA --- Accuracy on test data:\", np.round(acc, 3))"
   ]
  },
  {
   "cell_type": "markdown",
   "metadata": {
    "id": "JjSAC2A274Ss"
   },
   "source": [
    "* As we did for QDA, plot the means estimated by QDA. Instead of copy-paste the code from above, write a function that takes as inputs the matrix with the estimated __means__ and produces the desired plot."
   ]
  },
  {
   "cell_type": "code",
   "execution_count": null,
   "metadata": {
    "id": "lYBlr4PX74St"
   },
   "outputs": [],
   "source": [
    "def plot_mean (mean):\n",
    "  \n",
    "    plt.figure(figsize=(10, 5))\n",
    "    scale = np.abs(mean).max()\n",
    "    for i in range(10):\n",
    "        l1_plot = plt.subplot(2, 5, i + 1)\n",
    "        l1_plot.imshow(mean[i].reshape(16, 16), cmap=\"gray\")\n",
    "        l1_plot.set_xticks(())\n",
    "        l1_plot.set_yticks(())\n",
    "        l1_plot.set_xlabel(\"Class %i\" % i)\n",
    "    plt.suptitle(\"Means estimated by QDA\", color=\"orange\")\n",
    "    \n",
    "    return plt.show()  \n",
    "    \n",
    "\n"
   ]
  },
  {
   "cell_type": "markdown",
   "metadata": {
    "id": "NeTbnOam74St"
   },
   "source": [
    "* Call the function by passing as an argument the matrix with the estimated means."
   ]
  },
  {
   "cell_type": "code",
   "execution_count": null,
   "metadata": {
    "id": "g0t7Gs-A74Su",
    "outputId": "d5d3befb-1839-472f-eced-b6070a46db09"
   },
   "outputs": [
    {
     "data": {
      "image/png": "[encoded data removed]",
      "text/plain": [
       "<Figure size 720x360 with 10 Axes>"
      ]
     },
     "metadata": {},
     "output_type": "display_data"
    }
   ],
   "source": [
    "means = pipe_qda[\"qda\"].means_.copy() + pipe_lda[\"scaler\"].mean_.reshape(1, 256)\n",
    "plot_mean(means)"
   ]
  },
  {
   "cell_type": "markdown",
   "metadata": {
    "id": "Qs_RDFWn74Su"
   },
   "source": [
    "## Problem 2 (not to hand in)"
   ]
  },
  {
   "cell_type": "markdown",
   "metadata": {
    "id": "kd35mtWs74Su"
   },
   "source": [
    "This problem is about quadratic discriminant analysis (QDA).\n",
    "The observations within each class are modeled by a normal distribution with a class specific mean vector and a class specific covariance matrix. We consider the simple case where $p = 1$, (i.e., there is only one feature) and that we have $q = 2$ classes. Thus, for $j=0,1$, the conditional distribution $X\\mid Y=j$ of the $j$-th class is one-dimensional normal $N(\\mu_j, \\sigma^2_j)$. \n",
    "Show that in this case, the QDA classifier is not linear in $x$, but _quadratic_."
   ]
  }
 ],
 "metadata": {
  "colab": {
   "name": "Exercise_05 _corrigé.ipynb",
   "provenance": []
  },
  "kernelspec": {
   "display_name": "Python 3",
   "language": "python",
   "name": "python3"
  },
  "language_info": {
   "codemirror_mode": {
    "name": "ipython",
    "version": 3
   },
   "file_extension": ".py",
   "mimetype": "text/x-python",
   "name": "python",
   "nbconvert_exporter": "python",
   "pygments_lexer": "ipython3",
   "version": "3.8.5"
  },
  "toc": {
   "base_numbering": 1,
   "nav_menu": {},
   "number_sections": false,
   "sideBar": true,
   "skip_h1_title": true,
   "title_cell": "Table of Contents",
   "title_sidebar": "Contents",
   "toc_cell": false,
   "toc_position": {
    "height": "calc(100% - 180px)",
    "left": "10px",
    "top": "150px",
    "width": "216px"
   },
   "toc_section_display": true,
   "toc_window_display": true
  },
  "varInspector": {
   "cols": {
    "lenName": 16,
    "lenType": 16,
    "lenVar": 40
   },
   "kernels_config": {
    "python": {
     "delete_cmd_postfix": "",
     "delete_cmd_prefix": "del ",
     "library": "var_list.py",
     "varRefreshCmd": "print(var_dic_list())"
    },
    "r": {
     "delete_cmd_postfix": ") ",
     "delete_cmd_prefix": "rm(",
     "library": "var_list.r",
     "varRefreshCmd": "cat(var_dic_list()) "
    }
   },
   "types_to_exclude": [
    "module",
    "function",
    "builtin_function_or_method",
    "instance",
    "_Feature"
   ],
   "window_display": false
  }
 },
 "nbformat": 4,
 "nbformat_minor": 1
}
