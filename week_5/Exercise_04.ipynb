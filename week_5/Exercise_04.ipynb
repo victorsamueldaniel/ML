{
 "cells": [
  {
   "cell_type": "markdown",
   "metadata": {},
   "source": [
    "# Machine Learning: Exercise session 04"
   ]
  },
  {
   "cell_type": "markdown",
   "metadata": {},
   "source": [
    "In this exercise session we will focus on Ridge and Lasso regression. You will learn how to fit, predict, and cross-validate these models.\n",
    "\n",
    "In the first problem, we will continue using the housing dataset where we added several interaction terms, and one additional variable named `X1`. You can download the data from Moodle in this week's section.\n",
    "\n",
    "The second problem is theoretical and not due for hand-in. There, we will derive the closed-form solution for the Ridge regression (notice that Lasso regression has no closed-form solution)."
   ]
  },
  {
   "cell_type": "markdown",
   "metadata": {},
   "source": [
    "## Problem 1"
   ]
  },
  {
   "cell_type": "markdown",
   "metadata": {},
   "source": [
    "### 0. Load data and create a test set"
   ]
  },
  {
   "cell_type": "code",
   "execution_count": 1,
   "metadata": {},
   "outputs": [],
   "source": [
    "import matplotlib.pyplot as plt\n",
    "%matplotlib inline\n",
    "import numpy as np\n",
    "import pandas as pd"
   ]
  },
  {
   "cell_type": "markdown",
   "metadata": {},
   "source": [
    "* Import the clean housing dataset with `pd.read_csv` and take a quick look at it, to verify that it is in the desired shape (display the dataframe, check its \"infos\")."
   ]
  },
  {
   "cell_type": "code",
   "execution_count": 3,
   "metadata": {
    "ExecuteTime": {
     "end_time": "2021-03-11T17:40:07.020276Z",
     "start_time": "2021-03-11T17:40:05.837658Z"
    }
   },
   "outputs": [],
   "source": [
    "df=pd.read_csv(\"housing_clean.csv\")"
   ]
  },
  {
   "cell_type": "code",
   "execution_count": 5,
   "metadata": {},
   "outputs": [
    {
     "name": "stdout",
     "output_type": "stream",
     "text": [
      "<class 'pandas.core.frame.DataFrame'>\n",
      "RangeIndex: 20433 entries, 0 to 20432\n",
      "Data columns (total 9 columns):\n",
      " #   Column                Non-Null Count  Dtype  \n",
      "---  ------                --------------  -----  \n",
      " 0   longitude             20433 non-null  float64\n",
      " 1   latitude              20433 non-null  float64\n",
      " 2   housing_median_age    20433 non-null  float64\n",
      " 3   median_income         20433 non-null  float64\n",
      " 4   median_house_value    20433 non-null  float64\n",
      " 5   rooms_per_bedroom     20433 non-null  float64\n",
      " 6   rooms_per_household   20433 non-null  float64\n",
      " 7   people_per_household  20433 non-null  float64\n",
      " 8   ocean_proximity_enc   20433 non-null  float64\n",
      "dtypes: float64(9)\n",
      "memory usage: 1.4 MB\n"
     ]
    }
   ],
   "source": [
    "df\n",
    "df.info()"
   ]
  },
  {
   "cell_type": "markdown",
   "metadata": {},
   "source": [
    "* Separate the dataframe into the features `X` and the target variable `y`: (remember, we want to predict the median house value, given the other variables)"
   ]
  },
  {
   "cell_type": "code",
   "execution_count": 6,
   "metadata": {},
   "outputs": [],
   "source": [
    "X = df[[\"longitude\",\"latitude\", \"housing_median_age\",\"median_income\",\"rooms_per_bedroom\",\"rooms_per_household\",\"people_per_household\",\"ocean_proximity_enc\"]]\n",
    "Y = df[[\"median_house_value\"]]"
   ]
  },
  {
   "cell_type": "markdown",
   "metadata": {},
   "source": [
    "* Using the function `train_test_split`, split the dataset into training and test set. Set `test_size = 0.95` and `random_state = 12`. \n",
    "\n",
    "*Notice that we choose a very large fraction of test data because we want to see whether the Ridge and Lasso regression can handle the high-dimensional setting.*"
   ]
  },
  {
   "cell_type": "code",
   "execution_count": 11,
   "metadata": {
    "ExecuteTime": {
     "end_time": "2021-03-11T17:40:07.132428Z",
     "start_time": "2021-03-11T17:40:07.023280Z"
    }
   },
   "outputs": [],
   "source": [
    "from sklearn.model_selection import train_test_split\n",
    "x_train,x_test, y_train, y_test = train_test_split(X,Y, test_size=.95, random_state=12)"
   ]
  },
  {
   "cell_type": "markdown",
   "metadata": {},
   "source": [
    "### 1. Define models"
   ]
  },
  {
   "cell_type": "markdown",
   "metadata": {},
   "source": [
    "* Using the class `Ridge` from `sklearn.linear_model`, instantiate a ridge regression object with penalty parameter equal to 0.1. Furthermore, set `fit_intercept=True`, and `normalize=True`. Call this object `ridge_reg`."
   ]
  },
  {
   "cell_type": "code",
   "execution_count": 14,
   "metadata": {},
   "outputs": [],
   "source": [
    "from sklearn.linear_model import Ridge\n",
    "ridge_reg = Ridge(alpha=0.1, fit_intercept=True, normalize= True)\n"
   ]
  },
  {
   "cell_type": "markdown",
   "metadata": {},
   "source": [
    "* Using the class `Lasso` from `sklearn.linear_model`, instantiate a ridge regression object with penalty parameter equal to 0.1. Furthermore, set `fit_intercept=True`, `normalize=True`, and `max_iter=1e5`. Call this object `lasso_reg`."
   ]
  },
  {
   "cell_type": "code",
   "execution_count": 16,
   "metadata": {},
   "outputs": [],
   "source": [
    "from sklearn.linear_model import Lasso\n",
    "lasso_reg=Lasso(alpha=0.1, fit_intercept= True, normalize = True, max_iter=1e5)"
   ]
  },
  {
   "cell_type": "markdown",
   "metadata": {},
   "source": [
    "What is the role of the option `fit_intercept`?\n",
    "*The idea is too ask lasso to add the beta0 (the intercept) to its penality term*."
   ]
  },
  {
   "cell_type": "markdown",
   "metadata": {},
   "source": [
    "### 2. Fit Ridge regression"
   ]
  },
  {
   "cell_type": "markdown",
   "metadata": {},
   "source": [
    "* Fit the ridge regression on the training data previously created."
   ]
  },
  {
   "cell_type": "code",
   "execution_count": 17,
   "metadata": {},
   "outputs": [
    {
     "data": {
      "text/plain": [
       "Ridge(alpha=0.1, normalize=True)"
      ]
     },
     "execution_count": 17,
     "metadata": {},
     "output_type": "execute_result"
    }
   ],
   "source": [
    "ridge_reg.fit(x_train, y_train)"
   ]
  },
  {
   "cell_type": "code",
   "execution_count": null,
   "metadata": {},
   "outputs": [],
   "source": []
  },
  {
   "cell_type": "markdown",
   "metadata": {},
   "source": [
    "* Compute the root mean square error of the fitted model on both the training and test set. What do you observe?\n",
    "Plus grand erreur de prédiction sur le testing data set que le training. Mais pas égal à 0 pour le training, car ridge empêche overfitting."
   ]
  },
  {
   "cell_type": "code",
   "execution_count": 22,
   "metadata": {},
   "outputs": [
    {
     "data": {
      "text/plain": [
       "70989.23791611486"
      ]
     },
     "execution_count": 22,
     "metadata": {},
     "output_type": "execute_result"
    }
   ],
   "source": [
    "from sklearn.metrics import mean_squared_error\n",
    "mean_squared_error(y_train, ridge_reg.predict(x_train), squared=False)"
   ]
  },
  {
   "cell_type": "code",
   "execution_count": 23,
   "metadata": {},
   "outputs": [
    {
     "data": {
      "text/plain": [
       "106065.35468065333"
      ]
     },
     "execution_count": 23,
     "metadata": {},
     "output_type": "execute_result"
    }
   ],
   "source": [
    "mean_squared_error(y_test, ridge_reg.predict(x_test), squared=False)"
   ]
  },
  {
   "cell_type": "code",
   "execution_count": 24,
   "metadata": {},
   "outputs": [
    {
     "data": {
      "text/plain": [
       "median_house_value    0.154895\n",
       "dtype: float64"
      ]
     },
     "execution_count": 24,
     "metadata": {},
     "output_type": "execute_result"
    }
   ],
   "source": [
    "# R^2: 1 - E[(Y - Y_hat)^2]/E[(Y - E[Y])^2] \n",
    "# (proportion of variability of Y explained by fitted model)\n",
    "1 - mean_squared_error(y_test, ridge_reg.predict(x_test)) / np.var(y_test)"
   ]
  },
  {
   "cell_type": "markdown",
   "metadata": {},
   "source": [
    "### 4. Plot Ridge regression coefficients"
   ]
  },
  {
   "cell_type": "markdown",
   "metadata": {},
   "source": [
    "We now want to plot the coefficients of the ridge regression for different values of the penalty parameter."
   ]
  },
  {
   "cell_type": "markdown",
   "metadata": {},
   "source": [
    "* Create a grid, named `grid`, of penalty values ranging from `1e-4` to `1e4`."
   ]
  },
  {
   "cell_type": "code",
   "execution_count": 39,
   "metadata": {},
   "outputs": [
    {
     "data": {
      "text/plain": [
       "array([1.0000000e-04, 1.0000010e+02, 2.0000010e+02, 3.0000010e+02,\n",
       "       4.0000010e+02, 5.0000010e+02, 6.0000010e+02, 7.0000010e+02,\n",
       "       8.0000010e+02, 9.0000010e+02, 1.0000001e+03, 1.1000001e+03,\n",
       "       1.2000001e+03, 1.3000001e+03, 1.4000001e+03, 1.5000001e+03,\n",
       "       1.6000001e+03, 1.7000001e+03, 1.8000001e+03, 1.9000001e+03,\n",
       "       2.0000001e+03, 2.1000001e+03, 2.2000001e+03, 2.3000001e+03,\n",
       "       2.4000001e+03, 2.5000001e+03, 2.6000001e+03, 2.7000001e+03,\n",
       "       2.8000001e+03, 2.9000001e+03, 3.0000001e+03, 3.1000001e+03,\n",
       "       3.2000001e+03, 3.3000001e+03, 3.4000001e+03, 3.5000001e+03,\n",
       "       3.6000001e+03, 3.7000001e+03, 3.8000001e+03, 3.9000001e+03,\n",
       "       4.0000001e+03, 4.1000001e+03, 4.2000001e+03, 4.3000001e+03,\n",
       "       4.4000001e+03, 4.5000001e+03, 4.6000001e+03, 4.7000001e+03,\n",
       "       4.8000001e+03, 4.9000001e+03, 5.0000001e+03, 5.1000001e+03,\n",
       "       5.2000001e+03, 5.3000001e+03, 5.4000001e+03, 5.5000001e+03,\n",
       "       5.6000001e+03, 5.7000001e+03, 5.8000001e+03, 5.9000001e+03,\n",
       "       6.0000001e+03, 6.1000001e+03, 6.2000001e+03, 6.3000001e+03,\n",
       "       6.4000001e+03, 6.5000001e+03, 6.6000001e+03, 6.7000001e+03,\n",
       "       6.8000001e+03, 6.9000001e+03, 7.0000001e+03, 7.1000001e+03,\n",
       "       7.2000001e+03, 7.3000001e+03, 7.4000001e+03, 7.5000001e+03,\n",
       "       7.6000001e+03, 7.7000001e+03, 7.8000001e+03, 7.9000001e+03,\n",
       "       8.0000001e+03, 8.1000001e+03, 8.2000001e+03, 8.3000001e+03,\n",
       "       8.4000001e+03, 8.5000001e+03, 8.6000001e+03, 8.7000001e+03,\n",
       "       8.8000001e+03, 8.9000001e+03, 9.0000001e+03, 9.1000001e+03,\n",
       "       9.2000001e+03, 9.3000001e+03, 9.4000001e+03, 9.5000001e+03,\n",
       "       9.6000001e+03, 9.7000001e+03, 9.8000001e+03, 9.9000001e+03])"
      ]
     },
     "execution_count": 39,
     "metadata": {},
     "output_type": "execute_result"
    }
   ],
   "source": [
    "from sklearn.model_selection import GridSearchCV, KFold\n",
    "grid = np.arange(1e-4, 1e4, 100)\n",
    "grid"
   ]
  },
  {
   "cell_type": "markdown",
   "metadata": {},
   "source": [
    "* Fill in the `??` below."
   ]
  },
  {
   "cell_type": "code",
   "execution_count": 40,
   "metadata": {},
   "outputs": [],
   "source": [
    "coefs = []\n",
    "for alpha in grid:\n",
    "    ridge_reg.set_params(alpha= alpha)\n",
    "    ridge_reg.fit(x_train, y_train)\n",
    "    coefs.append(ridge_reg.coef_[0])"
   ]
  },
  {
   "cell_type": "code",
   "execution_count": 41,
   "metadata": {},
   "outputs": [
    {
     "data": {
      "image/png": "[encoded data removed]",
      "text/plain": [
       "<Figure size 432x288 with 1 Axes>"
      ]
     },
     "metadata": {
      "needs_background": "light"
     },
     "output_type": "display_data"
    }
   ],
   "source": [
    "plt.plot(np.log10(grid), coefs);"
   ]
  },
  {
   "cell_type": "markdown",
   "metadata": {},
   "source": [
    "### 5. Fit Lasso regression"
   ]
  },
  {
   "cell_type": "markdown",
   "metadata": {},
   "source": [
    "* Fit the lasso regression on the training data previously created."
   ]
  },
  {
   "cell_type": "code",
   "execution_count": null,
   "metadata": {
    "ExecuteTime": {
     "end_time": "2021-03-11T17:40:09.034119Z",
     "start_time": "2021-03-11T17:40:07.202128Z"
    }
   },
   "outputs": [],
   "source": []
  },
  {
   "cell_type": "markdown",
   "metadata": {},
   "source": [
    "* Compute the root mean square error of the fitted model on both the training and test set. What do you observe?"
   ]
  },
  {
   "cell_type": "code",
   "execution_count": null,
   "metadata": {},
   "outputs": [],
   "source": []
  },
  {
   "cell_type": "markdown",
   "metadata": {},
   "source": [
    "### 6. Plot Lasso coefficients"
   ]
  },
  {
   "cell_type": "markdown",
   "metadata": {},
   "source": [
    "As above, we want to plot the coefficients of the lasso regression for different values of the penalty parameter."
   ]
  },
  {
   "cell_type": "markdown",
   "metadata": {},
   "source": [
    "* Fill in the `??` below."
   ]
  },
  {
   "cell_type": "code",
   "execution_count": null,
   "metadata": {},
   "outputs": [],
   "source": [
    "coefs = []\n",
    "for ?? in grid:\n",
    "    lasso_reg.set_params(??=??)\n",
    "    lasso_reg.fit(??, ??)\n",
    "    coefs.append(lasso_reg.??)"
   ]
  },
  {
   "cell_type": "code",
   "execution_count": null,
   "metadata": {},
   "outputs": [],
   "source": [
    "plt.plot(np.log10(??), ??);"
   ]
  },
  {
   "cell_type": "markdown",
   "metadata": {},
   "source": [
    "### 7. Prepare CV"
   ]
  },
  {
   "cell_type": "markdown",
   "metadata": {},
   "source": [
    "At this point, we want to find the optimal penalty parameter for our models.\n",
    "We will use 10-fold cross-validation."
   ]
  },
  {
   "cell_type": "markdown",
   "metadata": {},
   "source": [
    "* Using the `KFold` class from `sklearn.model_selection` and instatiate an object named `folds`. Set the number of splits equal to 10, the random seed equal to 42, and make sure to shuffle the rows."
   ]
  },
  {
   "cell_type": "code",
   "execution_count": null,
   "metadata": {},
   "outputs": [],
   "source": []
  },
  {
   "cell_type": "markdown",
   "metadata": {},
   "source": [
    "### 8. CV for Ridge"
   ]
  },
  {
   "cell_type": "markdown",
   "metadata": {},
   "source": [
    "* Define a grid of penalty parameters for the ridge regression. You can use the same values used for the grid above. Name the object `ridge_grid`."
   ]
  },
  {
   "cell_type": "code",
   "execution_count": null,
   "metadata": {},
   "outputs": [],
   "source": []
  },
  {
   "cell_type": "markdown",
   "metadata": {},
   "source": [
    "* Create a dictionary with the key-value pair `\"alpha\"`, `ridge_grid`. What is the use of this object?"
   ]
  },
  {
   "cell_type": "code",
   "execution_count": null,
   "metadata": {
    "scrolled": true
   },
   "outputs": [],
   "source": []
  },
  {
   "cell_type": "markdown",
   "metadata": {},
   "source": [
    "* Import the class `GridSearchCV` from `sklearn.model_selection` and use it to instantiate a **cross-validation object** for the ridge regression. Make sure to include the following parameters: `estimator`, `param_grid`, `scoring`, `cv`."
   ]
  },
  {
   "cell_type": "code",
   "execution_count": null,
   "metadata": {},
   "outputs": [],
   "source": []
  },
  {
   "cell_type": "markdown",
   "metadata": {},
   "source": [
    "* Run the cross-validation by calling the `fit` method of the **cross-validation object** that you created at the point before."
   ]
  },
  {
   "cell_type": "code",
   "execution_count": null,
   "metadata": {},
   "outputs": [],
   "source": []
  },
  {
   "cell_type": "markdown",
   "metadata": {},
   "source": [
    "* We want to plot the cross-validation error against different values of the penalty parameter. Fill in the `??`."
   ]
  },
  {
   "cell_type": "code",
   "execution_count": null,
   "metadata": {},
   "outputs": [],
   "source": [
    "# Choose best model according to 1-se rule\n",
    "mean_scores = -??.cv_results_[\"mean_test_score\"]\n",
    "std_scores = ??.cv_results_[\"std_test_score\"]\n",
    "alphas = ??.cv_results_[\"param_alpha\"].data\n",
    "\n",
    "best_index = ??\n",
    "min_alpha_ridge = ??\n",
    "print(\"Minimum alpha:\", min_alpha_ridge)"
   ]
  },
  {
   "cell_type": "code",
   "execution_count": null,
   "metadata": {},
   "outputs": [],
   "source": [
    "plt.errorbar(x=np.log10(??), y=??, yerr = ??, fmt='o', capsize=3)\n",
    "\n",
    "plt.axvline(np.log10(??), ls='dotted', color=\"grey\")#vertical line at the k yielding minimum CV MSE\n",
    "\n",
    "plt.title(\"Ridge regressor CV error\")\n",
    "plt.xlabel('log(lambda)')\n",
    "plt.ylabel('Mean Squared Error')\n",
    "plt.show()"
   ]
  },
  {
   "cell_type": "markdown",
   "metadata": {},
   "source": [
    "### 9. CV for Lasso"
   ]
  },
  {
   "cell_type": "markdown",
   "metadata": {},
   "source": [
    "* Define a grid of penalty parameters for the lasso regression. You can use the same values used for the grid above. Name the object `lasso_grid`."
   ]
  },
  {
   "cell_type": "code",
   "execution_count": null,
   "metadata": {},
   "outputs": [],
   "source": []
  },
  {
   "cell_type": "markdown",
   "metadata": {},
   "source": [
    "* Create a dictionary with the key-value pair `\"alpha\"`, `lasso_grid`. What is the use of this object?"
   ]
  },
  {
   "cell_type": "code",
   "execution_count": null,
   "metadata": {},
   "outputs": [],
   "source": []
  },
  {
   "cell_type": "markdown",
   "metadata": {},
   "source": [
    "* Import the class `GridSearchCV` from `sklearn.model_selection` and use it to create a **cross-validation object** for the lasso regression. Make sure to include the following parameters: `estimator`, `param_grid`, `scoring`, `cv`."
   ]
  },
  {
   "cell_type": "code",
   "execution_count": null,
   "metadata": {},
   "outputs": [],
   "source": []
  },
  {
   "cell_type": "markdown",
   "metadata": {},
   "source": [
    "* Run the cross-validation by calling the `fit` method of the **cross-validation object** that you created at the point before."
   ]
  },
  {
   "cell_type": "code",
   "execution_count": null,
   "metadata": {},
   "outputs": [],
   "source": []
  },
  {
   "cell_type": "markdown",
   "metadata": {},
   "source": [
    "* We want to plot the cross-validation error against different values of the penalty parameter. Fill in the `??`."
   ]
  },
  {
   "cell_type": "code",
   "execution_count": null,
   "metadata": {},
   "outputs": [],
   "source": [
    "# Choose best model according to 1-se rule\n",
    "mean_scores = -??.cv_results_[\"mean_test_score\"]\n",
    "std_scores = ??.cv_results_[\"std_test_score\"]\n",
    "alphas = ??.cv_results_[\"param_alpha\"].data\n",
    "\n",
    "best_index = ??\n",
    "min_alpha_lasso = ??\n",
    "print(\"Minimum alpha:\", min_alpha_lasso)"
   ]
  },
  {
   "cell_type": "code",
   "execution_count": null,
   "metadata": {},
   "outputs": [],
   "source": [
    "plt.errorbar(x=np.log10(??), y=??, yerr = ??, fmt='o', capsize=3)\n",
    "\n",
    "plt.axvline(np.log10(??), ls='dotted', color=\"grey\")#vertical line at the k yielding minimum CV MSE\n",
    "\n",
    "plt.title(\"Lasso regressor CV error\")\n",
    "plt.xlabel('log(lambda)')\n",
    "plt.ylabel('Mean Squared Error')\n",
    "plt.show()"
   ]
  },
  {
   "cell_type": "markdown",
   "metadata": {},
   "source": [
    "### 10. Compute performance of the two best models"
   ]
  },
  {
   "cell_type": "markdown",
   "metadata": {},
   "source": [
    "* Given the optimal tuning parameter of the ridge and lasso regression, refit both models on the entire training data set. Furthermore, compute their root mean square error on the test set. How do they compare to the errors obtained before performing the cross-validation?\n",
    "\n",
    "_Hint_: As optimal tuning parameter, choose the one that minimizes the Mean Squared Error and not the one according to the 1-standard error rule."
   ]
  },
  {
   "cell_type": "code",
   "execution_count": null,
   "metadata": {},
   "outputs": [],
   "source": [
    "# Refit ridge on training and evaluate on test\n"
   ]
  },
  {
   "cell_type": "code",
   "execution_count": null,
   "metadata": {},
   "outputs": [],
   "source": [
    "# Refit lasso on training and evaluate on test\n"
   ]
  },
  {
   "cell_type": "markdown",
   "metadata": {},
   "source": [
    "## Problem 2"
   ]
  },
  {
   "cell_type": "markdown",
   "metadata": {},
   "source": [
    "In this problem, you are asked to derive the closed-form solution for the ridge regression coefficients.\n",
    "\n",
    "Let $\\mathbf{X}\\in\\mathbb{R}^{n\\times p}$ denote the matrix of predictors, and let $\\mathbf{y}\\in\\mathbb{R}^n$ denote the target vector.\n",
    "\n",
    "The optimal ridge regression coefficient vector $\\beta^*$, with parameter $\\lambda > 0$, is defined as\n",
    "\n",
    "$$\\beta^* := \\arg\\min_{\\beta\\in\\mathbb{R}^p} \\ (\\mathbf{y} - \\mathbf{X}\\beta)^T(\\mathbf{y} - \\mathbf{X}\\beta) + \\lambda \\beta ^T\\beta.$$\n",
    "\n",
    "Show that \n",
    "\n",
    "\n",
    "$$\\beta^*  = (\\mathbf{X}^T\\mathbf{X} + \\lambda \\mathbf{I}_p)^{-1} \\mathbf{X}^T \\mathbf{y},$$\n",
    "\n",
    "where $\\mathbf{I}_p$ denote the identity matrix of size $p\\times p$."
   ]
  }
 ],
 "metadata": {
  "kernelspec": {
   "display_name": "Python 3",
   "language": "python",
   "name": "python3"
  },
  "language_info": {
   "codemirror_mode": {
    "name": "ipython",
    "version": 3
   },
   "file_extension": ".py",
   "mimetype": "text/x-python",
   "name": "python",
   "nbconvert_exporter": "python",
   "pygments_lexer": "ipython3",
   "version": "3.8.5"
  },
  "toc": {
   "base_numbering": 1,
   "nav_menu": {},
   "number_sections": false,
   "sideBar": true,
   "skip_h1_title": true,
   "title_cell": "Table of Contents",
   "title_sidebar": "Contents",
   "toc_cell": false,
   "toc_position": {
    "height": "calc(100% - 180px)",
    "left": "10px",
    "top": "150px",
    "width": "216px"
   },
   "toc_section_display": true,
   "toc_window_display": true
  },
  "varInspector": {
   "cols": {
    "lenName": 16,
    "lenType": 16,
    "lenVar": 40
   },
   "kernels_config": {
    "python": {
     "delete_cmd_postfix": "",
     "delete_cmd_prefix": "del ",
     "library": "var_list.py",
     "varRefreshCmd": "print(var_dic_list())"
    },
    "r": {
     "delete_cmd_postfix": ") ",
     "delete_cmd_prefix": "rm(",
     "library": "var_list.r",
     "varRefreshCmd": "cat(var_dic_list()) "
    }
   },
   "types_to_exclude": [
    "module",
    "function",
    "builtin_function_or_method",
    "instance",
    "_Feature"
   ],
   "window_display": false
  }
 },
 "nbformat": 4,
 "nbformat_minor": 4
}
