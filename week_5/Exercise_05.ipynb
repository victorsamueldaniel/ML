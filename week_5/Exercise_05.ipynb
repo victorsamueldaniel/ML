<<<<<<< HEAD
{"cells":[{"cell_type":"markdown","metadata":{"id":"qewWu1w4r8yX"},"source":["# Machine Learning: Exercise session 05"]},{"cell_type":"markdown","metadata":{"id":"OtcuaVUur8yh"},"source":["In this exercise session we will focus on LDA and QDA.\n","\n","In the first problem, we will use the [MNIST dataset](https://en.wikipedia.org/wiki/MNIST_database) and fit LDA and QDA models.\n","\n","In the second problem, we show analytically that the QDA classifier is a quadratic function of the predictor values.\n","\n","**Note:** the second problem is theoretical and __not__ needed for the hand in.\n","\n","\n"]},{"cell_type":"code","source":[""],"metadata":{"id":"K-gKZTjs7xCx"},"execution_count":null,"outputs":[]},{"cell_type":"markdown","metadata":{"id":"qr4_ivwbr8yj"},"source":["## Problem 1"]},{"cell_type":"code","execution_count":5,"metadata":{"id":"eltKqk7Sr8yj","executionInfo":{"status":"ok","timestamp":1648544918507,"user_tz":-120,"elapsed":222,"user":{"displayName":"Murielle Furibond","userId":"08986639471398520603"}}},"outputs":[],"source":["# Import package/module for data\n","import matplotlib.pyplot as plt\n","%matplotlib inline\n","import numpy as np\n","import pandas as pd"]},{"cell_type":"code","execution_count":2,"metadata":{"ExecuteTime":{"end_time":"2021-03-11T17:40:07.020276Z","start_time":"2021-03-11T17:40:05.837658Z"},"id":"41NJ-I7Hr8yl","executionInfo":{"status":"ok","timestamp":1648540908075,"user_tz":-120,"elapsed":1355,"user":{"displayName":"Murielle Furibond","userId":"08986639471398520603"}}},"outputs":[],"source":["# Import modules for feature engineering and modelling\n","from sklearn.datasets import fetch_openml\n","from sklearn.model_selection import KFold, train_test_split, GridSearchCV\n","\n","from sklearn.base import BaseEstimator, TransformerMixin\n","\n","from sklearn.preprocessing import StandardScaler, PolynomialFeatures\n","from sklearn.impute import SimpleImputer\n","from sklearn.pipeline import Pipeline, FeatureUnion\n","from sklearn.compose import ColumnTransformer\n","\n","from sklearn.linear_model import LogisticRegression\n","from sklearn.discriminant_analysis import (\n","    LinearDiscriminantAnalysis,\n","    QuadraticDiscriminantAnalysis,\n",")\n","\n","from sklearn.metrics import accuracy_score"]},{"cell_type":"markdown","metadata":{"id":"6MpNALhQr8ym"},"source":["* Import the dataset `digits.csv`, separate the predictors and the target variable and split it into training and test set. When you perform the splitting, set `random_state=40` and `test_size=50`."]},{"cell_type":"code","execution_count":4,"metadata":{"colab":{"base_uri":"https://localhost:8080/","height":328},"id":"6DOv58uer8yn","executionInfo":{"status":"error","timestamp":1648541064880,"user_tz":-120,"elapsed":339,"user":{"displayName":"Murielle Furibond","userId":"08986639471398520603"}},"outputId":"2f26e6f8-3744-4318-dbd6-3626d1294a02"},"outputs":[{"output_type":"error","ename":"FileNotFoundError","evalue":"ignored","traceback":["\u001b[0;31m---------------------------------------------------------------------------\u001b[0m","\u001b[0;31mFileNotFoundError\u001b[0m                         Traceback (most recent call last)","\u001b[0;32m<ipython-input-4-650a436108a5>\u001b[0m in \u001b[0;36m<module>\u001b[0;34m()\u001b[0m\n\u001b[0;32m----> 1\u001b[0;31m \u001b[0mdf\u001b[0m\u001b[0;34m=\u001b[0m\u001b[0mpd\u001b[0m\u001b[0;34m.\u001b[0m\u001b[0mread_csv\u001b[0m\u001b[0;34m(\u001b[0m\u001b[0;34m\"C:/Users/Myriam/Desktop/digits.csv\"\u001b[0m\u001b[0;34m)\u001b[0m\u001b[0;34m\u001b[0m\u001b[0;34m\u001b[0m\u001b[0m\n\u001b[0m\u001b[1;32m      2\u001b[0m \u001b[0mdf\u001b[0m\u001b[0;34m\u001b[0m\u001b[0;34m\u001b[0m\u001b[0m\n","\u001b[0;32m/usr/local/lib/python3.7/dist-packages/pandas/util/_decorators.py\u001b[0m in \u001b[0;36mwrapper\u001b[0;34m(*args, **kwargs)\u001b[0m\n\u001b[1;32m    309\u001b[0m                     \u001b[0mstacklevel\u001b[0m\u001b[0;34m=\u001b[0m\u001b[0mstacklevel\u001b[0m\u001b[0;34m,\u001b[0m\u001b[0;34m\u001b[0m\u001b[0;34m\u001b[0m\u001b[0m\n\u001b[1;32m    310\u001b[0m                 )\n\u001b[0;32m--> 311\u001b[0;31m             \u001b[0;32mreturn\u001b[0m \u001b[0mfunc\u001b[0m\u001b[0;34m(\u001b[0m\u001b[0;34m*\u001b[0m\u001b[0margs\u001b[0m\u001b[0;34m,\u001b[0m \u001b[0;34m**\u001b[0m\u001b[0mkwargs\u001b[0m\u001b[0;34m)\u001b[0m\u001b[0;34m\u001b[0m\u001b[0;34m\u001b[0m\u001b[0m\n\u001b[0m\u001b[1;32m    312\u001b[0m \u001b[0;34m\u001b[0m\u001b[0m\n\u001b[1;32m    313\u001b[0m         \u001b[0;32mreturn\u001b[0m \u001b[0mwrapper\u001b[0m\u001b[0;34m\u001b[0m\u001b[0;34m\u001b[0m\u001b[0m\n","\u001b[0;32m/usr/local/lib/python3.7/dist-packages/pandas/io/parsers/readers.py\u001b[0m in \u001b[0;36mread_csv\u001b[0;34m(filepath_or_buffer, sep, delimiter, header, names, index_col, usecols, squeeze, prefix, mangle_dupe_cols, dtype, engine, converters, true_values, false_values, skipinitialspace, skiprows, skipfooter, nrows, na_values, keep_default_na, na_filter, verbose, skip_blank_lines, parse_dates, infer_datetime_format, keep_date_col, date_parser, dayfirst, cache_dates, iterator, chunksize, compression, thousands, decimal, lineterminator, quotechar, quoting, doublequote, escapechar, comment, encoding, encoding_errors, dialect, error_bad_lines, warn_bad_lines, on_bad_lines, delim_whitespace, low_memory, memory_map, float_precision, storage_options)\u001b[0m\n\u001b[1;32m    584\u001b[0m     \u001b[0mkwds\u001b[0m\u001b[0;34m.\u001b[0m\u001b[0mupdate\u001b[0m\u001b[0;34m(\u001b[0m\u001b[0mkwds_defaults\u001b[0m\u001b[0;34m)\u001b[0m\u001b[0;34m\u001b[0m\u001b[0;34m\u001b[0m\u001b[0m\n\u001b[1;32m    585\u001b[0m \u001b[0;34m\u001b[0m\u001b[0m\n\u001b[0;32m--> 586\u001b[0;31m     \u001b[0;32mreturn\u001b[0m \u001b[0m_read\u001b[0m\u001b[0;34m(\u001b[0m\u001b[0mfilepath_or_buffer\u001b[0m\u001b[0;34m,\u001b[0m \u001b[0mkwds\u001b[0m\u001b[0;34m)\u001b[0m\u001b[0;34m\u001b[0m\u001b[0;34m\u001b[0m\u001b[0m\n\u001b[0m\u001b[1;32m    587\u001b[0m \u001b[0;34m\u001b[0m\u001b[0m\n\u001b[1;32m    588\u001b[0m \u001b[0;34m\u001b[0m\u001b[0m\n","\u001b[0;32m/usr/local/lib/python3.7/dist-packages/pandas/io/parsers/readers.py\u001b[0m in \u001b[0;36m_read\u001b[0;34m(filepath_or_buffer, kwds)\u001b[0m\n\u001b[1;32m    480\u001b[0m \u001b[0;34m\u001b[0m\u001b[0m\n\u001b[1;32m    481\u001b[0m     \u001b[0;31m# Create the parser.\u001b[0m\u001b[0;34m\u001b[0m\u001b[0;34m\u001b[0m\u001b[0;34m\u001b[0m\u001b[0m\n\u001b[0;32m--> 482\u001b[0;31m     \u001b[0mparser\u001b[0m \u001b[0;34m=\u001b[0m \u001b[0mTextFileReader\u001b[0m\u001b[0;34m(\u001b[0m\u001b[0mfilepath_or_buffer\u001b[0m\u001b[0;34m,\u001b[0m \u001b[0;34m**\u001b[0m\u001b[0mkwds\u001b[0m\u001b[0;34m)\u001b[0m\u001b[0;34m\u001b[0m\u001b[0;34m\u001b[0m\u001b[0m\n\u001b[0m\u001b[1;32m    483\u001b[0m \u001b[0;34m\u001b[0m\u001b[0m\n\u001b[1;32m    484\u001b[0m     \u001b[0;32mif\u001b[0m \u001b[0mchunksize\u001b[0m \u001b[0;32mor\u001b[0m \u001b[0miterator\u001b[0m\u001b[0;34m:\u001b[0m\u001b[0;34m\u001b[0m\u001b[0;34m\u001b[0m\u001b[0m\n","\u001b[0;32m/usr/local/lib/python3.7/dist-packages/pandas/io/parsers/readers.py\u001b[0m in \u001b[0;36m__init__\u001b[0;34m(self, f, engine, **kwds)\u001b[0m\n\u001b[1;32m    809\u001b[0m             \u001b[0mself\u001b[0m\u001b[0;34m.\u001b[0m\u001b[0moptions\u001b[0m\u001b[0;34m[\u001b[0m\u001b[0;34m\"has_index_names\"\u001b[0m\u001b[0;34m]\u001b[0m \u001b[0;34m=\u001b[0m \u001b[0mkwds\u001b[0m\u001b[0;34m[\u001b[0m\u001b[0;34m\"has_index_names\"\u001b[0m\u001b[0;34m]\u001b[0m\u001b[0;34m\u001b[0m\u001b[0;34m\u001b[0m\u001b[0m\n\u001b[1;32m    810\u001b[0m \u001b[0;34m\u001b[0m\u001b[0m\n\u001b[0;32m--> 811\u001b[0;31m         \u001b[0mself\u001b[0m\u001b[0;34m.\u001b[0m\u001b[0m_engine\u001b[0m \u001b[0;34m=\u001b[0m \u001b[0mself\u001b[0m\u001b[0;34m.\u001b[0m\u001b[0m_make_engine\u001b[0m\u001b[0;34m(\u001b[0m\u001b[0mself\u001b[0m\u001b[0;34m.\u001b[0m\u001b[0mengine\u001b[0m\u001b[0;34m)\u001b[0m\u001b[0;34m\u001b[0m\u001b[0;34m\u001b[0m\u001b[0m\n\u001b[0m\u001b[1;32m    812\u001b[0m \u001b[0;34m\u001b[0m\u001b[0m\n\u001b[1;32m    813\u001b[0m     \u001b[0;32mdef\u001b[0m \u001b[0mclose\u001b[0m\u001b[0;34m(\u001b[0m\u001b[0mself\u001b[0m\u001b[0;34m)\u001b[0m\u001b[0;34m:\u001b[0m\u001b[0;34m\u001b[0m\u001b[0;34m\u001b[0m\u001b[0m\n","\u001b[0;32m/usr/local/lib/python3.7/dist-packages/pandas/io/parsers/readers.py\u001b[0m in \u001b[0;36m_make_engine\u001b[0;34m(self, engine)\u001b[0m\n\u001b[1;32m   1038\u001b[0m             )\n\u001b[1;32m   1039\u001b[0m         \u001b[0;31m# error: Too many arguments for \"ParserBase\"\u001b[0m\u001b[0;34m\u001b[0m\u001b[0;34m\u001b[0m\u001b[0;34m\u001b[0m\u001b[0m\n\u001b[0;32m-> 1040\u001b[0;31m         \u001b[0;32mreturn\u001b[0m \u001b[0mmapping\u001b[0m\u001b[0;34m[\u001b[0m\u001b[0mengine\u001b[0m\u001b[0;34m]\u001b[0m\u001b[0;34m(\u001b[0m\u001b[0mself\u001b[0m\u001b[0;34m.\u001b[0m\u001b[0mf\u001b[0m\u001b[0;34m,\u001b[0m \u001b[0;34m**\u001b[0m\u001b[0mself\u001b[0m\u001b[0;34m.\u001b[0m\u001b[0moptions\u001b[0m\u001b[0;34m)\u001b[0m  \u001b[0;31m# type: ignore[call-arg]\u001b[0m\u001b[0;34m\u001b[0m\u001b[0;34m\u001b[0m\u001b[0m\n\u001b[0m\u001b[1;32m   1041\u001b[0m \u001b[0;34m\u001b[0m\u001b[0m\n\u001b[1;32m   1042\u001b[0m     \u001b[0;32mdef\u001b[0m \u001b[0m_failover_to_python\u001b[0m\u001b[0;34m(\u001b[0m\u001b[0mself\u001b[0m\u001b[0;34m)\u001b[0m\u001b[0;34m:\u001b[0m\u001b[0;34m\u001b[0m\u001b[0;34m\u001b[0m\u001b[0m\n","\u001b[0;32m/usr/local/lib/python3.7/dist-packages/pandas/io/parsers/c_parser_wrapper.py\u001b[0m in \u001b[0;36m__init__\u001b[0;34m(self, src, **kwds)\u001b[0m\n\u001b[1;32m     49\u001b[0m \u001b[0;34m\u001b[0m\u001b[0m\n\u001b[1;32m     50\u001b[0m         \u001b[0;31m# open handles\u001b[0m\u001b[0;34m\u001b[0m\u001b[0;34m\u001b[0m\u001b[0;34m\u001b[0m\u001b[0m\n\u001b[0;32m---> 51\u001b[0;31m         \u001b[0mself\u001b[0m\u001b[0;34m.\u001b[0m\u001b[0m_open_handles\u001b[0m\u001b[0;34m(\u001b[0m\u001b[0msrc\u001b[0m\u001b[0;34m,\u001b[0m \u001b[0mkwds\u001b[0m\u001b[0;34m)\u001b[0m\u001b[0;34m\u001b[0m\u001b[0;34m\u001b[0m\u001b[0m\n\u001b[0m\u001b[1;32m     52\u001b[0m         \u001b[0;32massert\u001b[0m \u001b[0mself\u001b[0m\u001b[0;34m.\u001b[0m\u001b[0mhandles\u001b[0m \u001b[0;32mis\u001b[0m \u001b[0;32mnot\u001b[0m \u001b[0;32mNone\u001b[0m\u001b[0;34m\u001b[0m\u001b[0;34m\u001b[0m\u001b[0m\n\u001b[1;32m     53\u001b[0m \u001b[0;34m\u001b[0m\u001b[0m\n","\u001b[0;32m/usr/local/lib/python3.7/dist-packages/pandas/io/parsers/base_parser.py\u001b[0m in \u001b[0;36m_open_handles\u001b[0;34m(self, src, kwds)\u001b[0m\n\u001b[1;32m    227\u001b[0m             \u001b[0mmemory_map\u001b[0m\u001b[0;34m=\u001b[0m\u001b[0mkwds\u001b[0m\u001b[0;34m.\u001b[0m\u001b[0mget\u001b[0m\u001b[0;34m(\u001b[0m\u001b[0;34m\"memory_map\"\u001b[0m\u001b[0;34m,\u001b[0m \u001b[0;32mFalse\u001b[0m\u001b[0;34m)\u001b[0m\u001b[0;34m,\u001b[0m\u001b[0;34m\u001b[0m\u001b[0;34m\u001b[0m\u001b[0m\n\u001b[1;32m    228\u001b[0m             \u001b[0mstorage_options\u001b[0m\u001b[0;34m=\u001b[0m\u001b[0mkwds\u001b[0m\u001b[0;34m.\u001b[0m\u001b[0mget\u001b[0m\u001b[0;34m(\u001b[0m\u001b[0;34m\"storage_options\"\u001b[0m\u001b[0;34m,\u001b[0m \u001b[0;32mNone\u001b[0m\u001b[0;34m)\u001b[0m\u001b[0;34m,\u001b[0m\u001b[0;34m\u001b[0m\u001b[0;34m\u001b[0m\u001b[0m\n\u001b[0;32m--> 229\u001b[0;31m             \u001b[0merrors\u001b[0m\u001b[0;34m=\u001b[0m\u001b[0mkwds\u001b[0m\u001b[0;34m.\u001b[0m\u001b[0mget\u001b[0m\u001b[0;34m(\u001b[0m\u001b[0;34m\"encoding_errors\"\u001b[0m\u001b[0;34m,\u001b[0m \u001b[0;34m\"strict\"\u001b[0m\u001b[0;34m)\u001b[0m\u001b[0;34m,\u001b[0m\u001b[0;34m\u001b[0m\u001b[0;34m\u001b[0m\u001b[0m\n\u001b[0m\u001b[1;32m    230\u001b[0m         )\n\u001b[1;32m    231\u001b[0m \u001b[0;34m\u001b[0m\u001b[0m\n","\u001b[0;32m/usr/local/lib/python3.7/dist-packages/pandas/io/common.py\u001b[0m in \u001b[0;36mget_handle\u001b[0;34m(path_or_buf, mode, encoding, compression, memory_map, is_text, errors, storage_options)\u001b[0m\n\u001b[1;32m    705\u001b[0m                 \u001b[0mencoding\u001b[0m\u001b[0;34m=\u001b[0m\u001b[0mioargs\u001b[0m\u001b[0;34m.\u001b[0m\u001b[0mencoding\u001b[0m\u001b[0;34m,\u001b[0m\u001b[0;34m\u001b[0m\u001b[0;34m\u001b[0m\u001b[0m\n\u001b[1;32m    706\u001b[0m                 \u001b[0merrors\u001b[0m\u001b[0;34m=\u001b[0m\u001b[0merrors\u001b[0m\u001b[0;34m,\u001b[0m\u001b[0;34m\u001b[0m\u001b[0;34m\u001b[0m\u001b[0m\n\u001b[0;32m--> 707\u001b[0;31m                 \u001b[0mnewline\u001b[0m\u001b[0;34m=\u001b[0m\u001b[0;34m\"\"\u001b[0m\u001b[0;34m,\u001b[0m\u001b[0;34m\u001b[0m\u001b[0;34m\u001b[0m\u001b[0m\n\u001b[0m\u001b[1;32m    708\u001b[0m             )\n\u001b[1;32m    709\u001b[0m         \u001b[0;32melse\u001b[0m\u001b[0;34m:\u001b[0m\u001b[0;34m\u001b[0m\u001b[0;34m\u001b[0m\u001b[0m\n","\u001b[0;31mFileNotFoundError\u001b[0m: [Errno 2] No such file or directory: 'C:/Users/Myriam/Desktop/digits.csv'"]}],"source":["df=pd.read_csv(\"C:/Users/Myriam/Desktop/digits.csv\")\n","df"]},{"cell_type":"code","execution_count":null,"metadata":{"id":"K_tjy0-Ir8yp","outputId":"f0d1196b-d2af-44b5-b022-1bd4c768cad3"},"outputs":[{"data":{"text/html":["<div>\n","<style scoped>\n","    .dataframe tbody tr th:only-of-type {\n","        vertical-align: middle;\n","    }\n","\n","    .dataframe tbody tr th {\n","        vertical-align: top;\n","    }\n","\n","    .dataframe thead th {\n","        text-align: right;\n","    }\n","</style>\n","<table border=\"1\" class=\"dataframe\">\n","  <thead>\n","    <tr style=\"text-align: right;\">\n","      <th></th>\n","      <th>Y</th>\n","      <th>X1</th>\n","      <th>X2</th>\n","      <th>X3</th>\n","      <th>X4</th>\n","      <th>X5</th>\n","      <th>X6</th>\n","      <th>X7</th>\n","      <th>X8</th>\n","      <th>X9</th>\n","      <th>...</th>\n","      <th>X247</th>\n","      <th>X248</th>\n","      <th>X249</th>\n","      <th>X250</th>\n","      <th>X251</th>\n","      <th>X252</th>\n","      <th>X253</th>\n","      <th>X254</th>\n","      <th>X255</th>\n","      <th>X256</th>\n","    </tr>\n","  </thead>\n","  <tbody>\n","  </tbody>\n","</table>\n","<p>0 rows × 257 columns</p>\n","</div>"],"text/plain":["Empty DataFrame\n","Columns: [Y, X1, X2, X3, X4, X5, X6, X7, X8, X9, X10, X11, X12, X13, X14, X15, X16, X17, X18, X19, X20, X21, X22, X23, X24, X25, X26, X27, X28, X29, X30, X31, X32, X33, X34, X35, X36, X37, X38, X39, X40, X41, X42, X43, X44, X45, X46, X47, X48, X49, X50, X51, X52, X53, X54, X55, X56, X57, X58, X59, X60, X61, X62, X63, X64, X65, X66, X67, X68, X69, X70, X71, X72, X73, X74, X75, X76, X77, X78, X79, X80, X81, X82, X83, X84, X85, X86, X87, X88, X89, X90, X91, X92, X93, X94, X95, X96, X97, X98, X99, ...]\n","Index: []\n","\n","[0 rows x 257 columns]"]},"execution_count":16,"metadata":{},"output_type":"execute_result"}],"source":["df[df.isna().any(axis=1)]\n","#no missing values"]},{"cell_type":"code","execution_count":null,"metadata":{"id":"19JL55lTr8yr"},"outputs":[],"source":["X=df.drop('Y',axis=1).copy()\n","Y=df['Y']"]},{"cell_type":"code","execution_count":null,"metadata":{"id":"wdewIqQXr8ys"},"outputs":[],"source":["X_train,X_test, Y_train, Y_test = train_test_split(X,Y, test_size=50, random_state=40)"]},{"cell_type":"markdown","metadata":{"id":"QejXOdjLr8yt"},"source":["* We now want to plot some of the observations of the dataset. Each row of the predictor matrix is 256 vector corresponding to a 16 x 16 image. Fill in the `??`."]},{"cell_type":"code","execution_count":null,"metadata":{"id":"fD5IQXJLr8yt","outputId":"5e2868ec-7c69-40e8-f448-6bdc5e680fce"},"outputs":[{"data":{"image/png":"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","text/plain":["<Figure size 576x576 with 16 Axes>"]},"metadata":{},"output_type":"display_data"}],"source":["# Plot some figures\n","fig, ax = plt.subplots(4, 4, figsize=(8, 8))\n","for i in range(4):\n","    for j in range(4):\n","        ax[i, j].imshow(\n","            X_train.sample(random_state=2 * i + 10 * j).to_numpy().reshape(16, 16),\n","            cmap=\"gray\",\n","        )\n","        ax[i, j].set_title(\n","            \"Class = %s\" % (y_train.sample(random_state=2 * i + 10 * j).iloc[0])\n","        )\n","        ax[i, j].set_xticks([])\n","        ax[i, j].set_yticks([])\n","plt.show()"]},{"cell_type":"markdown","metadata":{"id":"FhA8tpG8r8yu"},"source":["* We now try to fit an LDA model. Before doing so, we need to rescale the data. Fill in the `??`."]},{"cell_type":"code","execution_count":null,"metadata":{"id":"bs7gSXiBr8yu","outputId":"edffa135-587d-4160-eefd-0d2738f4672e"},"outputs":[{"name":"stdout","output_type":"stream","text":["LDA --- Accuracy on training data: 0.939\n","LDA --- Accuracy on test data: 0.92\n"]}],"source":["# --- LDA ---\n","# Scale predictors\n","scaler = StandardScaler()\n","scaler.fit(X_train,Y_train)\n","X_train_scaled = scaler.transform(X_train) #not sure\n","\n","\n","# Fit lda\n","lda_class = LinearDiscriminantAnalysis()\n","lda_class.fit(X_train_scaled, Y_train) #not sure for Y_train\n","\n","# Predict on training data\n","Y_train_pred = lda_class.predict(X_train_scaled)\n","aycc = accuracy_score(Y_train, Y_train_pred)\n","print(\"LDA --- Accuracy on training data:\", np.round(aycc, 3))\n","\n","# Predict on test data\n","X_test_scaled = scaler.transform(X_test)\n","Y_test_pred = lda_class.predict(X_test_scaled)\n","acc = accuracy_score(Y_test, Y_test_pred)\n","print(\"LDA --- Accuracy on test data:\", np.round(acc, 3))"]},{"cell_type":"markdown","metadata":{"id":"HOL2gDMar8yv"},"source":["* What we did above works. However, you might have noticed that the code is quite repetitive. In fact, we need to rescale _both_ the training and the test dataset, and create intermediate variables. For this reason, we now introduce the `Pipeline` from `sklearn.pipeline`. This is a very convenient functionality that allows to chain several steps one after the other. Fill in the `??`."]},{"cell_type":"code","execution_count":null,"metadata":{"id":"MU0pJic4r8yw","outputId":"51b0ac1e-1dfa-42e3-d24b-7b7d2f68bdb4"},"outputs":[{"name":"stdout","output_type":"stream","text":["LDA --- Accuracy on training data: 0.939\n","LDA --- Accuracy on test data: 0.92\n"]}],"source":["# With the pipeline ...\n","# Define pipeline\n","pipe_lda = Pipeline(\n","    [(\"scaler\", scaler), (\"lda\", lda_class)]\n",")\n","\n","# Fit pipeline\n","pipe_lda.fit(X_train, Y_train)\n","\n","\n","# Predict on training data\n","Y_train_pred = pipe_lda.predict(X_train)\n","acc = accuracy_score(Y_train, Y_train_pred)\n","print(\"LDA --- Accuracy on training data:\", np.round(acc, 3))\n","\n","# Predict on test data\n","Y_test_pred = pipe_lda.predict(X_test)\n","acc = accuracy_score(Y_test, Y_test_pred)\n","print(\"LDA --- Accuracy on test data:\", np.round(acc, 3))\n"]},{"cell_type":"markdown","metadata":{"id":"5cRiVrHZr8yw"},"source":["* Since LDA estimates the class-conditional means, it is useful to try to understand qualitatively how these look like. Fill in the `??`. What do these mean correspond to?"]},{"cell_type":"code","execution_count":null,"metadata":{"id":"JV4k84iRr8yx"},"outputs":[],"source":["means = pipe_lda[\"lda\"].means_.copy() + pipe_lda[\"scaler\"].mean_.reshape(1, 256)"]},{"cell_type":"code","execution_count":null,"metadata":{"id":"eJcW1gSgr8yx","outputId":"4375aa0b-db01-447b-ed54-cb458d9996d2"},"outputs":[{"data":{"text/plain":["(256,)"]},"execution_count":55,"metadata":{},"output_type":"execute_result"}],"source":["means[3].shape"]},{"cell_type":"code","execution_count":null,"metadata":{"id":"k09KbqGBr8yy","outputId":"c3daef9c-b5c9-4367-f61d-d293332c8436"},"outputs":[{"data":{"text/plain":["(10, 256)"]},"execution_count":60,"metadata":{},"output_type":"execute_result"}],"source":["pipe_lda[\"lda\"].means_.copy().shape"]},{"cell_type":"code","execution_count":null,"metadata":{"id":"HIgIqU3Hr8yy","outputId":"bdd4b25e-eab2-4689-83e3-60c01f544561"},"outputs":[{"data":{"text/plain":["array([[ 0,  2,  4,  6,  8, 10, 12, 14],\n","       [ 8, 10, 12, 14, 16, 18, 20, 22],\n","       [16, 18, 20, 22, 24, 26, 28, 30]])"]},"execution_count":70,"metadata":{},"output_type":"execute_result"}],"source":[" np.array(np.arange(24)).reshape(3,8) + np.array(np.arange(8)).reshape(1,8)"]},{"cell_type":"code","execution_count":null,"metadata":{"id":"Qaxq-bzqr8yz","outputId":"c309e208-5db7-4a6a-e94b-4ad5e610a1bd"},"outputs":[{"data":{"image/png":"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","text/plain":["<Figure size 720x360 with 10 Axes>"]},"metadata":{},"output_type":"display_data"}],"source":["# Plot means\n","means = pipe_lda[\"lda\"].means_.copy() + pipe_lda[\"scaler\"].mean_.reshape(1, 256)\n","plt.figure(figsize=(10, 5))\n","scale = np.abs(means).max()\n","for i in range(10):\n","    l1_plot = plt.subplot(2, 5, i + 1)\n","    l1_plot.imshow(means[i].reshape(16, 16), cmap=\"gray\")\n","    l1_plot.set_xticks(())\n","    l1_plot.set_yticks(())\n","    l1_plot.set_xlabel(\"Class %i\" % i)\n","plt.suptitle(\"Means estimated by LDA\", color=\"orange\")\n","plt.show()"]},{"cell_type":"markdown","metadata":{"id":"GccBoh0Ur8yz"},"source":["*The LDA method predicts a category (here: the drawing of figures 0 to 9) for each element of ``X_train``. The means correspond to the mean value of each pixel (each pixel on the ``X_train`` has a brightness) in their category:*\n","$$means[i,j]=\\frac{\\Sigma_j x_j\\cdot1_{y_j=i}}{\\Sigma_j 1_{y_j=i} }$$"]},{"cell_type":"markdown","metadata":{"id":"4o2KbfUIr8y0"},"source":["* Repeat the same analysis as above but now using QDA. Fill in the `??`."]},{"cell_type":"code","execution_count":null,"metadata":{"id":"VexVIqxor8y0"},"outputs":[],"source":["# QDA\n","\n","# Define pipeline\n","pipe_qda = Pipeline(\n","    [(\"scaler\", scaler), (\"qda\", )]\n",")\n","\n","# Fit pipeline\n","pipe_qda.fit(??, ??)"]},{"cell_type":"markdown","metadata":{"id":"IW6zsDuZr8y0"},"source":["* Which warning did you get? Why do you think this happened?"]},{"cell_type":"markdown","metadata":{"id":"JeVDtdmhr8y0"},"source":["* To solve this, we need to add to each column of the training predictors some random noise. Why does this help? Fill in the `??`."]},{"cell_type":"code","execution_count":null,"metadata":{"id":"5lz5sUiyr8y1"},"outputs":[],"source":["# Add noise before fitting again\n","def add_noise(X, scale):\n","    \"\"\"\n","    DataFrame double -> ndarray\n","    produce DataFrame adding Gaussian with standard deviation = `scale` to each column of `X`.\n","    \"\"\"\n","    # transform to ndarray\n","    X_arr = ??.to_numpy()\n","\n","    # get shape\n","    n, d = ??.shape\n","\n","    # add Gaussian noise\n","    X_arr = ?? + np.random.normal(scale=scale, size=(n, d))\n","\n","    # back to DataFrame\n","    df = pd.DataFrame(X_arr, columns=[\"X\" + str(i) for i in range(1, d + 1)])\n","\n","    # return df\n","    return df\n","\n","\n","X_train_noise = add_noise(??, scale=0.1)\n","pipe_qda.fit(??, ??)"]},{"cell_type":"markdown","metadata":{"id":"bqDpTlrkr8y1"},"source":["* As we did for QDA, compute the training and test accuracy."]},{"cell_type":"code","execution_count":null,"metadata":{"id":"6NetK-Dnr8y1"},"outputs":[],"source":[""]},{"cell_type":"markdown","metadata":{"id":"nm4t2tdTr8y1"},"source":["* As we did for QDA, plot the means estimated by QDA. Instead of copy-paste the code from above, write a function that takes as inputs the matrix with the estimated __means__ and produces the desired plot."]},{"cell_type":"code","execution_count":null,"metadata":{"id":"Q2oR0wDnr8y2"},"outputs":[],"source":[""]},{"cell_type":"markdown","metadata":{"id":"s26wo96Cr8y2"},"source":["* Call the function by passing as an argument the matrix with the estimated means."]},{"cell_type":"code","execution_count":null,"metadata":{"id":"W8fQtkgVr8y2"},"outputs":[],"source":[""]},{"cell_type":"markdown","metadata":{"id":"e6aDzgwar8y2"},"source":["## Problem 2 (not to hand in)"]},{"cell_type":"markdown","metadata":{"id":"mMYX90rXr8y2"},"source":["This problem is about quadratic discriminant analysis (QDA).\n","The observations within each class are modeled by a normal distribution with a class specific mean vector and a class specific covariance matrix. We consider the simple case where $p = 1$, (i.e., there is only one feature) and that we have $q = 2$ classes. Thus, for $j=0,1$, the conditional distribution $X\\mid Y=j$ of the $j$-th class is one-dimensional normal $N(\\mu_j, \\sigma^2_j)$. \n","Show that in this case, the QDA classifier is not linear in $x$, but _quadratic_."]}],"metadata":{"kernelspec":{"display_name":"Python 3","language":"python","name":"python3"},"language_info":{"codemirror_mode":{"name":"ipython","version":3},"file_extension":".py","mimetype":"text/x-python","name":"python","nbconvert_exporter":"python","pygments_lexer":"ipython3","version":"3.9.0"},"toc":{"base_numbering":1,"nav_menu":{},"number_sections":false,"sideBar":true,"skip_h1_title":true,"title_cell":"Table of Contents","title_sidebar":"Contents","toc_cell":false,"toc_position":{"height":"calc(100% - 180px)","left":"10px","top":"150px","width":"216px"},"toc_section_display":true,"toc_window_display":true},"varInspector":{"cols":{"lenName":16,"lenType":16,"lenVar":40},"kernels_config":{"python":{"delete_cmd_postfix":"","delete_cmd_prefix":"del ","library":"var_list.py","varRefreshCmd":"print(var_dic_list())"},"r":{"delete_cmd_postfix":") ","delete_cmd_prefix":"rm(","library":"var_list.r","varRefreshCmd":"cat(var_dic_list()) "}},"types_to_exclude":["module","function","builtin_function_or_method","instance","_Feature"],"window_display":false},"colab":{"name":"Exercise_05.ipynb","provenance":[]}},"nbformat":4,"nbformat_minor":0}
=======
{
 "cells": [
  {
   "cell_type": "markdown",
   "metadata": {},
   "source": [
    "# Machine Learning: Exercise session 05"
   ]
  },
  {
   "cell_type": "markdown",
   "metadata": {},
   "source": [
    "In this exercise session we will focus on LDA and QDA.\n",
    "\n",
    "In the first problem, we will use the [MNIST dataset](https://en.wikipedia.org/wiki/MNIST_database) and fit LDA and QDA models.\n",
    "\n",
    "In the second problem, we show analytically that the QDA classifier is a quadratic function of the predictor values.\n",
    "\n",
    "**Note:** the second problem is theoretical and __not__ needed for the hand in."
   ]
  },
  {
   "cell_type": "markdown",
   "metadata": {},
   "source": [
    "## Problem 1"
   ]
  },
  {
   "cell_type": "code",
   "execution_count": 24,
   "metadata": {},
   "outputs": [],
   "source": [
    "# Import package/module for data\n",
    "import matplotlib.pyplot as plt\n",
    "%matplotlib inline\n",
    "import numpy as np\n",
    "import pandas as pd"
   ]
  },
  {
   "cell_type": "code",
   "execution_count": 25,
   "metadata": {
    "ExecuteTime": {
     "end_time": "2021-03-11T17:40:07.020276Z",
     "start_time": "2021-03-11T17:40:05.837658Z"
    }
   },
   "outputs": [],
   "source": [
    "# Import modules for feature engineering and modelling\n",
    "from sklearn.datasets import fetch_openml\n",
    "from sklearn.model_selection import KFold, train_test_split, GridSearchCV\n",
    "\n",
    "from sklearn.base import BaseEstimator, TransformerMixin\n",
    "\n",
    "from sklearn.preprocessing import StandardScaler, PolynomialFeatures\n",
    "from sklearn.impute import SimpleImputer\n",
    "from sklearn.pipeline import Pipeline, FeatureUnion\n",
    "from sklearn.compose import ColumnTransformer\n",
    "\n",
    "from sklearn.linear_model import LogisticRegression\n",
    "from sklearn.discriminant_analysis import (\n",
    "    LinearDiscriminantAnalysis,\n",
    "    QuadraticDiscriminantAnalysis,\n",
    ")\n",
    "\n",
    "from sklearn.metrics import accuracy_score"
   ]
  },
  {
   "cell_type": "markdown",
   "metadata": {},
   "source": [
    "* Import the dataset `digits.csv`, separate the predictors and the target variable and split it into training and test set. When you perform the splitting, set `random_state=40` and `test_size=50`."
   ]
  },
  {
   "cell_type": "code",
   "execution_count": 26,
   "metadata": {},
   "outputs": [
    {
     "data": {
      "text/html": [
       "<div>\n",
       "<style scoped>\n",
       "    .dataframe tbody tr th:only-of-type {\n",
       "        vertical-align: middle;\n",
       "    }\n",
       "\n",
       "    .dataframe tbody tr th {\n",
       "        vertical-align: top;\n",
       "    }\n",
       "\n",
       "    .dataframe thead th {\n",
       "        text-align: right;\n",
       "    }\n",
       "</style>\n",
       "<table border=\"1\" class=\"dataframe\">\n",
       "  <thead>\n",
       "    <tr style=\"text-align: right;\">\n",
       "      <th></th>\n",
       "      <th>Y</th>\n",
       "      <th>X1</th>\n",
       "      <th>X2</th>\n",
       "      <th>X3</th>\n",
       "      <th>X4</th>\n",
       "      <th>X5</th>\n",
       "      <th>X6</th>\n",
       "      <th>X7</th>\n",
       "      <th>X8</th>\n",
       "      <th>X9</th>\n",
       "      <th>...</th>\n",
       "      <th>X247</th>\n",
       "      <th>X248</th>\n",
       "      <th>X249</th>\n",
       "      <th>X250</th>\n",
       "      <th>X251</th>\n",
       "      <th>X252</th>\n",
       "      <th>X253</th>\n",
       "      <th>X254</th>\n",
       "      <th>X255</th>\n",
       "      <th>X256</th>\n",
       "    </tr>\n",
       "  </thead>\n",
       "  <tbody>\n",
       "    <tr>\n",
       "      <th>0</th>\n",
       "      <td>6</td>\n",
       "      <td>-1.0</td>\n",
       "      <td>-1.0</td>\n",
       "      <td>-1.0</td>\n",
       "      <td>-1.000</td>\n",
       "      <td>-1.000</td>\n",
       "      <td>-1.000</td>\n",
       "      <td>-1.000</td>\n",
       "      <td>-0.631</td>\n",
       "      <td>0.862</td>\n",
       "      <td>...</td>\n",
       "      <td>0.304</td>\n",
       "      <td>0.823</td>\n",
       "      <td>1.000</td>\n",
       "      <td>0.482</td>\n",
       "      <td>-0.474</td>\n",
       "      <td>-0.991</td>\n",
       "      <td>-1.000</td>\n",
       "      <td>-1.000</td>\n",
       "      <td>-1.000</td>\n",
       "      <td>-1.0</td>\n",
       "    </tr>\n",
       "    <tr>\n",
       "      <th>1</th>\n",
       "      <td>5</td>\n",
       "      <td>-1.0</td>\n",
       "      <td>-1.0</td>\n",
       "      <td>-1.0</td>\n",
       "      <td>-0.813</td>\n",
       "      <td>-0.671</td>\n",
       "      <td>-0.809</td>\n",
       "      <td>-0.887</td>\n",
       "      <td>-0.671</td>\n",
       "      <td>-0.853</td>\n",
       "      <td>...</td>\n",
       "      <td>-0.671</td>\n",
       "      <td>-0.671</td>\n",
       "      <td>-0.033</td>\n",
       "      <td>0.761</td>\n",
       "      <td>0.762</td>\n",
       "      <td>0.126</td>\n",
       "      <td>-0.095</td>\n",
       "      <td>-0.671</td>\n",
       "      <td>-0.828</td>\n",
       "      <td>-1.0</td>\n",
       "    </tr>\n",
       "    <tr>\n",
       "      <th>2</th>\n",
       "      <td>4</td>\n",
       "      <td>-1.0</td>\n",
       "      <td>-1.0</td>\n",
       "      <td>-1.0</td>\n",
       "      <td>-1.000</td>\n",
       "      <td>-1.000</td>\n",
       "      <td>-1.000</td>\n",
       "      <td>-1.000</td>\n",
       "      <td>-1.000</td>\n",
       "      <td>-1.000</td>\n",
       "      <td>...</td>\n",
       "      <td>-1.000</td>\n",
       "      <td>-1.000</td>\n",
       "      <td>-1.000</td>\n",
       "      <td>-0.109</td>\n",
       "      <td>1.000</td>\n",
       "      <td>-0.179</td>\n",
       "      <td>-1.000</td>\n",
       "      <td>-1.000</td>\n",
       "      <td>-1.000</td>\n",
       "      <td>-1.0</td>\n",
       "    </tr>\n",
       "    <tr>\n",
       "      <th>3</th>\n",
       "      <td>7</td>\n",
       "      <td>-1.0</td>\n",
       "      <td>-1.0</td>\n",
       "      <td>-1.0</td>\n",
       "      <td>-1.000</td>\n",
       "      <td>-1.000</td>\n",
       "      <td>-0.273</td>\n",
       "      <td>0.684</td>\n",
       "      <td>0.960</td>\n",
       "      <td>0.450</td>\n",
       "      <td>...</td>\n",
       "      <td>-0.318</td>\n",
       "      <td>1.000</td>\n",
       "      <td>0.536</td>\n",
       "      <td>-0.987</td>\n",
       "      <td>-1.000</td>\n",
       "      <td>-1.000</td>\n",
       "      <td>-1.000</td>\n",
       "      <td>-1.000</td>\n",
       "      <td>-1.000</td>\n",
       "      <td>-1.0</td>\n",
       "    </tr>\n",
       "    <tr>\n",
       "      <th>4</th>\n",
       "      <td>3</td>\n",
       "      <td>-1.0</td>\n",
       "      <td>-1.0</td>\n",
       "      <td>-1.0</td>\n",
       "      <td>-1.000</td>\n",
       "      <td>-1.000</td>\n",
       "      <td>-0.928</td>\n",
       "      <td>-0.204</td>\n",
       "      <td>0.751</td>\n",
       "      <td>0.466</td>\n",
       "      <td>...</td>\n",
       "      <td>0.466</td>\n",
       "      <td>0.639</td>\n",
       "      <td>1.000</td>\n",
       "      <td>1.000</td>\n",
       "      <td>0.791</td>\n",
       "      <td>0.439</td>\n",
       "      <td>-0.199</td>\n",
       "      <td>-0.883</td>\n",
       "      <td>-1.000</td>\n",
       "      <td>-1.0</td>\n",
       "    </tr>\n",
       "    <tr>\n",
       "      <th>...</th>\n",
       "      <td>...</td>\n",
       "      <td>...</td>\n",
       "      <td>...</td>\n",
       "      <td>...</td>\n",
       "      <td>...</td>\n",
       "      <td>...</td>\n",
       "      <td>...</td>\n",
       "      <td>...</td>\n",
       "      <td>...</td>\n",
       "      <td>...</td>\n",
       "      <td>...</td>\n",
       "      <td>...</td>\n",
       "      <td>...</td>\n",
       "      <td>...</td>\n",
       "      <td>...</td>\n",
       "      <td>...</td>\n",
       "      <td>...</td>\n",
       "      <td>...</td>\n",
       "      <td>...</td>\n",
       "      <td>...</td>\n",
       "      <td>...</td>\n",
       "    </tr>\n",
       "    <tr>\n",
       "      <th>7286</th>\n",
       "      <td>3</td>\n",
       "      <td>-1.0</td>\n",
       "      <td>-1.0</td>\n",
       "      <td>-1.0</td>\n",
       "      <td>-0.988</td>\n",
       "      <td>-0.527</td>\n",
       "      <td>-0.208</td>\n",
       "      <td>0.620</td>\n",
       "      <td>1.000</td>\n",
       "      <td>0.467</td>\n",
       "      <td>...</td>\n",
       "      <td>-0.116</td>\n",
       "      <td>0.899</td>\n",
       "      <td>0.416</td>\n",
       "      <td>-0.510</td>\n",
       "      <td>-1.000</td>\n",
       "      <td>-1.000</td>\n",
       "      <td>-1.000</td>\n",
       "      <td>-1.000</td>\n",
       "      <td>-1.000</td>\n",
       "      <td>-1.0</td>\n",
       "    </tr>\n",
       "    <tr>\n",
       "      <th>7287</th>\n",
       "      <td>3</td>\n",
       "      <td>-1.0</td>\n",
       "      <td>-1.0</td>\n",
       "      <td>-1.0</td>\n",
       "      <td>-0.990</td>\n",
       "      <td>0.708</td>\n",
       "      <td>0.557</td>\n",
       "      <td>0.347</td>\n",
       "      <td>-0.107</td>\n",
       "      <td>-0.758</td>\n",
       "      <td>...</td>\n",
       "      <td>0.697</td>\n",
       "      <td>0.636</td>\n",
       "      <td>0.167</td>\n",
       "      <td>-0.968</td>\n",
       "      <td>-1.000</td>\n",
       "      <td>-1.000</td>\n",
       "      <td>-1.000</td>\n",
       "      <td>-1.000</td>\n",
       "      <td>-1.000</td>\n",
       "      <td>-1.0</td>\n",
       "    </tr>\n",
       "    <tr>\n",
       "      <th>7288</th>\n",
       "      <td>3</td>\n",
       "      <td>-1.0</td>\n",
       "      <td>-1.0</td>\n",
       "      <td>-1.0</td>\n",
       "      <td>-0.783</td>\n",
       "      <td>-0.984</td>\n",
       "      <td>-0.827</td>\n",
       "      <td>0.068</td>\n",
       "      <td>1.000</td>\n",
       "      <td>1.000</td>\n",
       "      <td>...</td>\n",
       "      <td>0.805</td>\n",
       "      <td>1.000</td>\n",
       "      <td>1.000</td>\n",
       "      <td>0.727</td>\n",
       "      <td>-0.342</td>\n",
       "      <td>-0.933</td>\n",
       "      <td>-1.000</td>\n",
       "      <td>-1.000</td>\n",
       "      <td>-1.000</td>\n",
       "      <td>-1.0</td>\n",
       "    </tr>\n",
       "    <tr>\n",
       "      <th>7289</th>\n",
       "      <td>0</td>\n",
       "      <td>-1.0</td>\n",
       "      <td>-1.0</td>\n",
       "      <td>-1.0</td>\n",
       "      <td>-1.000</td>\n",
       "      <td>-1.000</td>\n",
       "      <td>-0.549</td>\n",
       "      <td>0.463</td>\n",
       "      <td>0.999</td>\n",
       "      <td>0.999</td>\n",
       "      <td>...</td>\n",
       "      <td>-0.231</td>\n",
       "      <td>0.621</td>\n",
       "      <td>0.999</td>\n",
       "      <td>-0.042</td>\n",
       "      <td>-0.231</td>\n",
       "      <td>-0.687</td>\n",
       "      <td>-1.000</td>\n",
       "      <td>-1.000</td>\n",
       "      <td>-1.000</td>\n",
       "      <td>-1.0</td>\n",
       "    </tr>\n",
       "    <tr>\n",
       "      <th>7290</th>\n",
       "      <td>1</td>\n",
       "      <td>-1.0</td>\n",
       "      <td>-1.0</td>\n",
       "      <td>-1.0</td>\n",
       "      <td>-1.000</td>\n",
       "      <td>-1.000</td>\n",
       "      <td>-0.108</td>\n",
       "      <td>1.000</td>\n",
       "      <td>0.616</td>\n",
       "      <td>-0.867</td>\n",
       "      <td>...</td>\n",
       "      <td>-0.634</td>\n",
       "      <td>0.803</td>\n",
       "      <td>0.589</td>\n",
       "      <td>-0.907</td>\n",
       "      <td>-1.000</td>\n",
       "      <td>-1.000</td>\n",
       "      <td>-1.000</td>\n",
       "      <td>-1.000</td>\n",
       "      <td>-1.000</td>\n",
       "      <td>-1.0</td>\n",
       "    </tr>\n",
       "  </tbody>\n",
       "</table>\n",
       "<p>7291 rows × 257 columns</p>\n",
       "</div>"
      ],
      "text/plain": [
       "      Y   X1   X2   X3     X4     X5     X6     X7     X8     X9  ...   X247  \\\n",
       "0     6 -1.0 -1.0 -1.0 -1.000 -1.000 -1.000 -1.000 -0.631  0.862  ...  0.304   \n",
       "1     5 -1.0 -1.0 -1.0 -0.813 -0.671 -0.809 -0.887 -0.671 -0.853  ... -0.671   \n",
       "2     4 -1.0 -1.0 -1.0 -1.000 -1.000 -1.000 -1.000 -1.000 -1.000  ... -1.000   \n",
       "3     7 -1.0 -1.0 -1.0 -1.000 -1.000 -0.273  0.684  0.960  0.450  ... -0.318   \n",
       "4     3 -1.0 -1.0 -1.0 -1.000 -1.000 -0.928 -0.204  0.751  0.466  ...  0.466   \n",
       "...  ..  ...  ...  ...    ...    ...    ...    ...    ...    ...  ...    ...   \n",
       "7286  3 -1.0 -1.0 -1.0 -0.988 -0.527 -0.208  0.620  1.000  0.467  ... -0.116   \n",
       "7287  3 -1.0 -1.0 -1.0 -0.990  0.708  0.557  0.347 -0.107 -0.758  ...  0.697   \n",
       "7288  3 -1.0 -1.0 -1.0 -0.783 -0.984 -0.827  0.068  1.000  1.000  ...  0.805   \n",
       "7289  0 -1.0 -1.0 -1.0 -1.000 -1.000 -0.549  0.463  0.999  0.999  ... -0.231   \n",
       "7290  1 -1.0 -1.0 -1.0 -1.000 -1.000 -0.108  1.000  0.616 -0.867  ... -0.634   \n",
       "\n",
       "       X248   X249   X250   X251   X252   X253   X254   X255  X256  \n",
       "0     0.823  1.000  0.482 -0.474 -0.991 -1.000 -1.000 -1.000  -1.0  \n",
       "1    -0.671 -0.033  0.761  0.762  0.126 -0.095 -0.671 -0.828  -1.0  \n",
       "2    -1.000 -1.000 -0.109  1.000 -0.179 -1.000 -1.000 -1.000  -1.0  \n",
       "3     1.000  0.536 -0.987 -1.000 -1.000 -1.000 -1.000 -1.000  -1.0  \n",
       "4     0.639  1.000  1.000  0.791  0.439 -0.199 -0.883 -1.000  -1.0  \n",
       "...     ...    ...    ...    ...    ...    ...    ...    ...   ...  \n",
       "7286  0.899  0.416 -0.510 -1.000 -1.000 -1.000 -1.000 -1.000  -1.0  \n",
       "7287  0.636  0.167 -0.968 -1.000 -1.000 -1.000 -1.000 -1.000  -1.0  \n",
       "7288  1.000  1.000  0.727 -0.342 -0.933 -1.000 -1.000 -1.000  -1.0  \n",
       "7289  0.621  0.999 -0.042 -0.231 -0.687 -1.000 -1.000 -1.000  -1.0  \n",
       "7290  0.803  0.589 -0.907 -1.000 -1.000 -1.000 -1.000 -1.000  -1.0  \n",
       "\n",
       "[7291 rows x 257 columns]"
      ]
     },
     "execution_count": 26,
     "metadata": {},
     "output_type": "execute_result"
    }
   ],
   "source": [
    "df=pd.read_csv(\"digits.csv\")\n",
    "df"
   ]
  },
  {
   "cell_type": "code",
   "execution_count": 27,
   "metadata": {},
   "outputs": [
    {
     "data": {
      "text/html": [
       "<div>\n",
       "<style scoped>\n",
       "    .dataframe tbody tr th:only-of-type {\n",
       "        vertical-align: middle;\n",
       "    }\n",
       "\n",
       "    .dataframe tbody tr th {\n",
       "        vertical-align: top;\n",
       "    }\n",
       "\n",
       "    .dataframe thead th {\n",
       "        text-align: right;\n",
       "    }\n",
       "</style>\n",
       "<table border=\"1\" class=\"dataframe\">\n",
       "  <thead>\n",
       "    <tr style=\"text-align: right;\">\n",
       "      <th></th>\n",
       "      <th>Y</th>\n",
       "      <th>X1</th>\n",
       "      <th>X2</th>\n",
       "      <th>X3</th>\n",
       "      <th>X4</th>\n",
       "      <th>X5</th>\n",
       "      <th>X6</th>\n",
       "      <th>X7</th>\n",
       "      <th>X8</th>\n",
       "      <th>X9</th>\n",
       "      <th>...</th>\n",
       "      <th>X247</th>\n",
       "      <th>X248</th>\n",
       "      <th>X249</th>\n",
       "      <th>X250</th>\n",
       "      <th>X251</th>\n",
       "      <th>X252</th>\n",
       "      <th>X253</th>\n",
       "      <th>X254</th>\n",
       "      <th>X255</th>\n",
       "      <th>X256</th>\n",
       "    </tr>\n",
       "  </thead>\n",
       "  <tbody>\n",
       "  </tbody>\n",
       "</table>\n",
       "<p>0 rows × 257 columns</p>\n",
       "</div>"
      ],
      "text/plain": [
       "Empty DataFrame\n",
       "Columns: [Y, X1, X2, X3, X4, X5, X6, X7, X8, X9, X10, X11, X12, X13, X14, X15, X16, X17, X18, X19, X20, X21, X22, X23, X24, X25, X26, X27, X28, X29, X30, X31, X32, X33, X34, X35, X36, X37, X38, X39, X40, X41, X42, X43, X44, X45, X46, X47, X48, X49, X50, X51, X52, X53, X54, X55, X56, X57, X58, X59, X60, X61, X62, X63, X64, X65, X66, X67, X68, X69, X70, X71, X72, X73, X74, X75, X76, X77, X78, X79, X80, X81, X82, X83, X84, X85, X86, X87, X88, X89, X90, X91, X92, X93, X94, X95, X96, X97, X98, X99, ...]\n",
       "Index: []\n",
       "\n",
       "[0 rows x 257 columns]"
      ]
     },
     "execution_count": 27,
     "metadata": {},
     "output_type": "execute_result"
    }
   ],
   "source": [
    "df[df.isna().any(axis=1)]\n",
    "#no missing values"
   ]
  },
  {
   "cell_type": "code",
   "execution_count": 28,
   "metadata": {},
   "outputs": [],
   "source": [
    "X=df.drop('Y',axis=1).copy()\n",
    "Y=df['Y']"
   ]
  },
  {
   "cell_type": "code",
   "execution_count": 29,
   "metadata": {},
   "outputs": [],
   "source": [
    "X_train,X_test, Y_train, Y_test = train_test_split(X,Y, test_size=50, random_state=40)"
   ]
  },
  {
   "cell_type": "markdown",
   "metadata": {},
   "source": [
    "* We now want to plot some of the observations of the dataset. Each row of the predictor matrix is 256 vector corresponding to a 16 x 16 image. Fill in the `??`."
   ]
  },
  {
   "cell_type": "code",
   "execution_count": 31,
   "metadata": {},
   "outputs": [
    {
     "data": {
      "image/png": "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\n",
      "text/plain": [
       "<Figure size 576x576 with 16 Axes>"
      ]
     },
     "metadata": {},
     "output_type": "display_data"
    }
   ],
   "source": [
    "# Plot some figures\n",
    "fig, ax = plt.subplots(4, 4, figsize=(8, 8))\n",
    "for i in range(4):\n",
    "    for j in range(4):\n",
    "        ax[i, j].imshow(\n",
    "            X_train.sample(random_state=2 * i + 10 * j).to_numpy().reshape(16, 16), #tellement chelou le random state, une idée pourquoi?\n",
    "            cmap=\"gray\",\n",
    "        )\n",
    "        ax[i, j].set_title(\n",
    "            \"Class = %s\" % (Y_train.sample(random_state=2 * i + 10 * j).iloc[0])\n",
    "        )\n",
    "        ax[i, j].set_xticks([])\n",
    "        ax[i, j].set_yticks([])\n",
    "plt.show()"
   ]
  },
  {
   "cell_type": "markdown",
   "metadata": {},
   "source": [
    "* We now try to fit an LDA model. Before doing so, we need to rescale the data. Fill in the `??`."
   ]
  },
  {
   "cell_type": "code",
   "execution_count": 32,
   "metadata": {},
   "outputs": [
    {
     "name": "stdout",
     "output_type": "stream",
     "text": [
      "LDA --- Accuracy on training data: 0.939\n",
      "LDA --- Accuracy on test data: 0.92\n"
     ]
    }
   ],
   "source": [
    "# --- LDA ---\n",
    "# Scale predictors\n",
    "scaler = StandardScaler()\n",
    "scaler.fit(X_train,Y_train)\n",
    "X_train_scaled = scaler.transform(X_train) \n",
    "\n",
    "\n",
    "# Fit lda\n",
    "lda_class = LinearDiscriminantAnalysis()\n",
    "lda_class.fit(X_train_scaled, Y_train) \n",
    "\n",
    "# Predict on training data\n",
    "Y_train_pred = lda_class.predict(X_train_scaled)\n",
    "aycc = accuracy_score(Y_train, Y_train_pred)\n",
    "print(\"LDA --- Accuracy on training data:\", np.round(aycc, 3))\n",
    "\n",
    "# Predict on test data\n",
    "X_test_scaled = scaler.transform(X_test)\n",
    "Y_test_pred = lda_class.predict(X_test_scaled)\n",
    "acc = accuracy_score(Y_test, Y_test_pred)\n",
    "print(\"LDA --- Accuracy on test data:\", np.round(acc, 3))"
   ]
  },
  {
   "cell_type": "markdown",
   "metadata": {},
   "source": [
    "* What we did above works. However, you might have noticed that the code is quite repetitive. In fact, we need to rescale _both_ the training and the test dataset, and create intermediate variables. For this reason, we now introduce the `Pipeline` from `sklearn.pipeline`. This is a very convenient functionality that allows to chain several steps one after the other. Fill in the `??`."
   ]
  },
  {
   "cell_type": "code",
   "execution_count": 33,
   "metadata": {},
   "outputs": [
    {
     "name": "stdout",
     "output_type": "stream",
     "text": [
      "LDA --- Accuracy on training data: 0.939\n",
      "LDA --- Accuracy on test data: 0.92\n"
     ]
    }
   ],
   "source": [
    "# With the pipeline ...\n",
    "# Define pipeline\n",
    "pipe_lda = Pipeline(\n",
    "    [(\"scaler\", scaler), (\"lda\", lda_class)]\n",
    ")\n",
    "\n",
    "# Fit pipeline\n",
    "pipe_lda.fit(X_train, Y_train)\n",
    "\n",
    "\n",
    "# Predict on training data\n",
    "Y_train_pred = pipe_lda.predict(X_train)\n",
    "acc = accuracy_score(Y_train, Y_train_pred)\n",
    "print(\"LDA --- Accuracy on training data:\", np.round(acc, 3))\n",
    "\n",
    "# Predict on test data\n",
    "Y_test_pred = pipe_lda.predict(X_test)\n",
    "acc = accuracy_score(Y_test, Y_test_pred)\n",
    "print(\"LDA --- Accuracy on test data:\", np.round(acc, 3))\n",
    "\n",
    "\n"
   ]
  },
  {
   "cell_type": "markdown",
   "metadata": {},
   "source": [
    "* Since LDA estimates the class-conditional means, it is useful to try to understand qualitatively how these look like. Fill in the `??`. What do these mean correspond to?"
   ]
  },
  {
   "cell_type": "code",
   "execution_count": 34,
   "metadata": {},
   "outputs": [],
   "source": [
    "means = pipe_lda[\"lda\"].means_.copy() + pipe_lda[\"scaler\"].mean_.reshape(1, 256)"
   ]
  },
  {
   "cell_type": "code",
   "execution_count": 35,
   "metadata": {},
   "outputs": [
    {
     "data": {
      "text/plain": [
       "(256,)"
      ]
     },
     "execution_count": 35,
     "metadata": {},
     "output_type": "execute_result"
    }
   ],
   "source": [
    "means[3].shape"
   ]
  },
  {
   "cell_type": "code",
   "execution_count": 36,
   "metadata": {},
   "outputs": [
    {
     "data": {
      "text/plain": [
       "(10, 256)"
      ]
     },
     "execution_count": 36,
     "metadata": {},
     "output_type": "execute_result"
    }
   ],
   "source": [
    "pipe_lda[\"lda\"].means_.copy().shape"
   ]
  },
  {
   "cell_type": "code",
   "execution_count": 37,
   "metadata": {},
   "outputs": [
    {
     "data": {
      "text/plain": [
       "array([[ 0,  2,  4,  6,  8, 10, 12, 14],\n",
       "       [ 8, 10, 12, 14, 16, 18, 20, 22],\n",
       "       [16, 18, 20, 22, 24, 26, 28, 30]])"
      ]
     },
     "execution_count": 37,
     "metadata": {},
     "output_type": "execute_result"
    }
   ],
   "source": [
    " np.array(np.arange(24)).reshape(3,8) + np.array(np.arange(8)).reshape(1,8)"
   ]
  },
  {
   "cell_type": "code",
   "execution_count": 38,
   "metadata": {},
   "outputs": [
    {
     "data": {
      "image/png": "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\n",
      "text/plain": [
       "<Figure size 720x360 with 10 Axes>"
      ]
     },
     "metadata": {},
     "output_type": "display_data"
    }
   ],
   "source": [
    "# Plot means\n",
    "means = pipe_lda[\"lda\"].means_.copy() + pipe_lda[\"scaler\"].mean_.reshape(1, 256)\n",
    "plt.figure(figsize=(10, 5))\n",
    "scale = np.abs(means).max()\n",
    "for i in range(10):\n",
    "    l1_plot = plt.subplot(2, 5, i + 1)\n",
    "    l1_plot.imshow(means[i].reshape(16, 16), cmap=\"gray\")\n",
    "    l1_plot.set_xticks(())\n",
    "    l1_plot.set_yticks(())\n",
    "    l1_plot.set_xlabel(\"Class %i\" % i)\n",
    "plt.suptitle(\"Means estimated by LDA\", color=\"orange\")\n",
    "plt.show()"
   ]
  },
  {
   "cell_type": "markdown",
   "metadata": {},
   "source": [
    "*The LDA method predicts a category (here: the drawing of figures 0 to 9) for each element of ``X_train``. The means correspond to the mean value of each pixel (each pixel on the ``X_train`` has a brightness) in their category:*\n",
    "$$means[i,j]=\\frac{\\Sigma_j x_j\\cdot1_{y_j=i}}{\\Sigma_j 1_{y_j=i} }$$"
   ]
  },
  {
   "cell_type": "markdown",
   "metadata": {},
   "source": [
    "* Repeat the same analysis as above but now using QDA. Fill in the `??`."
   ]
  },
  {
   "cell_type": "code",
   "execution_count": 39,
   "metadata": {
    "scrolled": true
   },
   "outputs": [
    {
     "name": "stderr",
     "output_type": "stream",
     "text": [
      "C:\\Users\\myria\\anaconda3\\lib\\site-packages\\sklearn\\discriminant_analysis.py:715: UserWarning: Variables are collinear\n",
      "  warnings.warn(\"Variables are collinear\")\n"
     ]
    },
    {
     "data": {
      "text/plain": [
       "Pipeline(steps=[('scaler', StandardScaler()),\n",
       "                ('qda', QuadraticDiscriminantAnalysis())])"
      ]
     },
     "execution_count": 39,
     "metadata": {},
     "output_type": "execute_result"
    }
   ],
   "source": [
    "# QDA\n",
    "qda_class = QuadraticDiscriminantAnalysis()\n",
    "# Define pipeline\n",
    "pipe_qda = Pipeline(\n",
    "    [(\"scaler\", scaler), (\"qda\",qda_class )]\n",
    ")\n",
    "\n",
    "# Fit pipeline\n",
    "pipe_qda.fit(X_train, Y_train)"
   ]
  },
  {
   "cell_type": "markdown",
   "metadata": {},
   "source": [
    "* Which warning did you get? Why do you think this happened?\n",
    "I got a warning about colinearity. It seems that some data are colinear. Indeed, two neighbooring pixel should have a high colinearity with each other, the independant assumption is violated."
   ]
  },
  {
   "cell_type": "markdown",
   "metadata": {},
   "source": [
    "* To solve this, we need to add to each column of the training predictors some random noise. Why does this help? Fill in the `??`. By adding noise, we resolve the problem of colinearity."
   ]
  },
  {
   "cell_type": "code",
   "execution_count": 40,
   "metadata": {},
   "outputs": [
    {
     "data": {
      "text/plain": [
       "Pipeline(steps=[('scaler', StandardScaler()),\n",
       "                ('qda', QuadraticDiscriminantAnalysis())])"
      ]
     },
     "execution_count": 40,
     "metadata": {},
     "output_type": "execute_result"
    }
   ],
   "source": [
    "# Add noise before fitting again\n",
    "def add_noise(X, scale):\n",
    "    \"\"\"\n",
    "    DataFrame double -> ndarray\n",
    "    produce DataFrame adding Gaussian with standard deviation = `scale` to each column of `X`.\n",
    "    \"\"\"\n",
    "    # transform to ndarray\n",
    "    X_arr = X.to_numpy()\n",
    "\n",
    "    # get shape\n",
    "    n, d = X_arr.shape\n",
    "\n",
    "    # add Gaussian noise\n",
    "    X_arr = X_arr + np.random.normal(scale=scale, size=(n, d))\n",
    "\n",
    "    # back to DataFrame\n",
    "    df = pd.DataFrame(X_arr, columns=[\"X\" + str(i) for i in range(1, d + 1)])\n",
    "\n",
    "    # return df\n",
    "    return df\n",
    "\n",
    "\n",
    "X_train_noise = add_noise(X_train, scale=0.1)\n",
    "pipe_qda.fit(X_train_noise, Y_train)"
   ]
  },
  {
   "cell_type": "markdown",
   "metadata": {},
   "source": [
    "* As we did for QDA, compute the training and test accuracy."
   ]
  },
  {
   "cell_type": "code",
   "execution_count": 41,
   "metadata": {},
   "outputs": [
    {
     "name": "stdout",
     "output_type": "stream",
     "text": [
      "QDA --- Accuracy on training data: 0.999\n",
      "QDA --- Accuracy on test data: 0.94\n"
     ]
    }
   ],
   "source": [
    "# Predict on training data\n",
    "Y_train_pred = pipe_qda.predict(X_train_noise)\n",
    "aycc = accuracy_score(Y_train, Y_train_pred)\n",
    "print(\"QDA --- Accuracy on training data:\", np.round(aycc, 3))\n",
    "\n",
    "# Predict on test data\n",
    "X_test_noise = add_noise(X_test, scale=0.1)\n",
    "Y_test_pred = pipe_qda.predict(X_test_noise)\n",
    "acc = accuracy_score(Y_test, Y_test_pred)\n",
    "print(\"QDA --- Accuracy on test data:\", np.round(acc, 3))"
   ]
  },
  {
   "cell_type": "markdown",
   "metadata": {},
   "source": [
    "* As we did for QDA, plot the means estimated by QDA. Instead of copy-paste the code from above, write a function that takes as inputs the matrix with the estimated __means__ and produces the desired plot."
   ]
  },
  {
   "cell_type": "code",
   "execution_count": 42,
   "metadata": {},
   "outputs": [],
   "source": [
    "def plot_mean (mean):\n",
    "  \n",
    "    plt.figure(figsize=(10, 5))\n",
    "    scale = np.abs(mean).max()\n",
    "    for i in range(10):\n",
    "        l1_plot = plt.subplot(2, 5, i + 1)\n",
    "        l1_plot.imshow(mean[i].reshape(16, 16), cmap=\"gray\")\n",
    "        l1_plot.set_xticks(())\n",
    "        l1_plot.set_yticks(())\n",
    "        l1_plot.set_xlabel(\"Class %i\" % i)\n",
    "    plt.suptitle(\"Means estimated by QDA\", color=\"orange\")\n",
    "    \n",
    "    return plt.show()  \n",
    "    \n",
    "\n"
   ]
  },
  {
   "cell_type": "markdown",
   "metadata": {},
   "source": [
    "* Call the function by passing as an argument the matrix with the estimated means."
   ]
  },
  {
   "cell_type": "code",
   "execution_count": 43,
   "metadata": {},
   "outputs": [
    {
     "data": {
      "image/png": "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\n",
      "text/plain": [
       "<Figure size 720x360 with 10 Axes>"
      ]
     },
     "metadata": {},
     "output_type": "display_data"
    }
   ],
   "source": [
    "means = pipe_qda[\"qda\"].means_.copy() + pipe_lda[\"scaler\"].mean_.reshape(1, 256)\n",
    "plot_mean(means)"
   ]
  },
  {
   "cell_type": "markdown",
   "metadata": {},
   "source": [
    "## Problem 2 (not to hand in)"
   ]
  },
  {
   "cell_type": "markdown",
   "metadata": {},
   "source": [
    "This problem is about quadratic discriminant analysis (QDA).\n",
    "The observations within each class are modeled by a normal distribution with a class specific mean vector and a class specific covariance matrix. We consider the simple case where $p = 1$, (i.e., there is only one feature) and that we have $q = 2$ classes. Thus, for $j=0,1$, the conditional distribution $X\\mid Y=j$ of the $j$-th class is one-dimensional normal $N(\\mu_j, \\sigma^2_j)$. \n",
    "Show that in this case, the QDA classifier is not linear in $x$, but _quadratic_."
   ]
  }
 ],
 "metadata": {
  "kernelspec": {
   "display_name": "Python 3",
   "language": "python",
   "name": "python3"
  },
  "language_info": {
   "codemirror_mode": {
    "name": "ipython",
    "version": 3
   },
   "file_extension": ".py",
   "mimetype": "text/x-python",
   "name": "python",
   "nbconvert_exporter": "python",
   "pygments_lexer": "ipython3",
   "version": "3.8.5"
  },
  "toc": {
   "base_numbering": 1,
   "nav_menu": {},
   "number_sections": false,
   "sideBar": true,
   "skip_h1_title": true,
   "title_cell": "Table of Contents",
   "title_sidebar": "Contents",
   "toc_cell": false,
   "toc_position": {
    "height": "calc(100% - 180px)",
    "left": "10px",
    "top": "150px",
    "width": "216px"
   },
   "toc_section_display": true,
   "toc_window_display": true
  },
  "varInspector": {
   "cols": {
    "lenName": 16,
    "lenType": 16,
    "lenVar": 40
   },
   "kernels_config": {
    "python": {
     "delete_cmd_postfix": "",
     "delete_cmd_prefix": "del ",
     "library": "var_list.py",
     "varRefreshCmd": "print(var_dic_list())"
    },
    "r": {
     "delete_cmd_postfix": ") ",
     "delete_cmd_prefix": "rm(",
     "library": "var_list.r",
     "varRefreshCmd": "cat(var_dic_list()) "
    }
   },
   "types_to_exclude": [
    "module",
    "function",
    "builtin_function_or_method",
    "instance",
    "_Feature"
   ],
   "window_display": false
  }
 },
 "nbformat": 4,
 "nbformat_minor": 4
}
>>>>>>> parent of 00d3c1e (yup)
